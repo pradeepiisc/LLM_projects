{
 "cells": [
  {
   "cell_type": "markdown",
   "id": "361061ab-b273-4894-922e-2d059c7cb1cf",
   "metadata": {},
   "source": [
    "# Text Generation"
   ]
  },
  {
   "cell_type": "markdown",
   "id": "13b66ba8-5aea-4ad3-98ff-f5bdd52e15d2",
   "metadata": {},
   "source": [
    "## Check Greedy Decoding method \n",
    "Loading the 1.5-billion-parameter version of GPT-2 with a language modeling head"
   ]
  },
  {
   "cell_type": "code",
   "execution_count": 1,
   "id": "57bf620c-bd72-408e-a820-509f0b1412d1",
   "metadata": {},
   "outputs": [],
   "source": [
    "import torch\n",
    "from transformers import AutoTokenizer, AutoModelForCausalLM"
   ]
  },
  {
   "cell_type": "code",
   "execution_count": 2,
   "id": "6460e704-0b2d-4b80-88ca-0497a18c5978",
   "metadata": {},
   "outputs": [],
   "source": [
    "device = \"cuda\" if torch.cuda.is_available() else \"cpu\""
   ]
  },
  {
   "cell_type": "markdown",
   "id": "1f77d892-4697-4d7b-839b-7e052b2c9ccd",
   "metadata": {},
   "source": [
    "gpt-xl is a fairly large model that was not getting loaded on the gpu either locally with 4gb, \n",
    "or even on google colab with 15gb gpu "
   ]
  },
  {
   "cell_type": "code",
   "execution_count": 3,
   "id": "2d688ffe-d0a2-4f8e-b9b1-7b5e25d540f4",
   "metadata": {},
   "outputs": [
    {
     "name": "stderr",
     "output_type": "stream",
     "text": [
      "C:\\Users\\WMYFHCK\\Documents\\Projects\\ml_py310_venv\\lib\\site-packages\\transformers\\modeling_utils.py:429: UserWarning: TypedStorage is deprecated. It will be removed in the future and UntypedStorage will be the only storage class. This should only matter to you if you are using storages directly.  To access UntypedStorage directly, use tensor.untyped_storage() instead of tensor.storage()\n",
      "  with safe_open(checkpoint_file, framework=\"pt\") as f:\n"
     ]
    }
   ],
   "source": [
    "model_name = \"gpt2\"\n",
    "# model_name = \"gpt2-xl\" \n",
    "tokenizer = AutoTokenizer.from_pretrained(model_name)\n",
    "model = AutoModelForCausalLM.from_pretrained(model_name).to(device)"
   ]
  },
  {
   "cell_type": "markdown",
   "id": "528cc89f-363a-407a-ad2d-78f8ef4431d2",
   "metadata": {},
   "source": [
    "Iteratively get the next token given a fixed prompt "
   ]
  },
  {
   "cell_type": "code",
   "execution_count": 4,
   "id": "fa409036-1c76-422b-bc48-21fc2c842ab6",
   "metadata": {},
   "outputs": [],
   "source": [
    "import pandas as pd\n",
    "input_txt = \"Transformers are the\"\n",
    "input_ids = tokenizer(input_txt, return_tensors=\"pt\")[\"input_ids\"].to(device)\n",
    "iterations = []\n",
    "n_steps = 8\n",
    "choices_per_step = 5\n",
    "with torch.no_grad():\n",
    "    for _ in range(n_steps):\n",
    "        iteration = dict()\n",
    "        iteration[\"Input\"] = tokenizer.decode(input_ids[0])\n",
    "        output = model(input_ids=input_ids)\n",
    "        # Select logits of the first batch and the last token and apply softmax\n",
    "        next_token_logits = output.logits[0, -1, :]\n",
    "        next_token_probs = torch.softmax(next_token_logits, dim=-1)\n",
    "        sorted_ids = torch.argsort(next_token_probs, dim=-1, descending=True)\n",
    "        # Store tokens with highest probabilities\n",
    "        for choice_idx in range(choices_per_step):\n",
    "            token_id = sorted_ids[choice_idx]\n",
    "            token_prob = next_token_probs[token_id].cpu().numpy()\n",
    "            token_choice = (\n",
    "            f\"{tokenizer.decode(token_id)} ({100 * token_prob:.2f}%)\"\n",
    "            )\n",
    "            iteration[f\"Choice {choice_idx+1}\"] = token_choice\n",
    "        # Append predicted next token to input\n",
    "        input_ids = torch.cat([input_ids, sorted_ids[None, 0, None]], dim=-1)\n",
    "        iterations.append(iteration)"
   ]
  },
  {
   "cell_type": "code",
   "execution_count": 6,
   "id": "7e052db7-a98f-47e7-bbf2-ac778144d4b2",
   "metadata": {},
   "outputs": [
    {
     "data": {
      "text/html": [
       "<div>\n",
       "<style scoped>\n",
       "    .dataframe tbody tr th:only-of-type {\n",
       "        vertical-align: middle;\n",
       "    }\n",
       "\n",
       "    .dataframe tbody tr th {\n",
       "        vertical-align: top;\n",
       "    }\n",
       "\n",
       "    .dataframe thead th {\n",
       "        text-align: right;\n",
       "    }\n",
       "</style>\n",
       "<table border=\"1\" class=\"dataframe\">\n",
       "  <thead>\n",
       "    <tr style=\"text-align: right;\">\n",
       "      <th></th>\n",
       "      <th>Input</th>\n",
       "      <th>Choice 1</th>\n",
       "      <th>Choice 2</th>\n",
       "      <th>Choice 3</th>\n",
       "      <th>Choice 4</th>\n",
       "      <th>Choice 5</th>\n",
       "    </tr>\n",
       "  </thead>\n",
       "  <tbody>\n",
       "    <tr>\n",
       "      <th>0</th>\n",
       "      <td>Transformers are the</td>\n",
       "      <td>most (9.76%)</td>\n",
       "      <td>same (2.94%)</td>\n",
       "      <td>only (2.87%)</td>\n",
       "      <td>best (2.38%)</td>\n",
       "      <td>first (1.77%)</td>\n",
       "    </tr>\n",
       "    <tr>\n",
       "      <th>1</th>\n",
       "      <td>Transformers are the most</td>\n",
       "      <td>common (22.90%)</td>\n",
       "      <td>powerful (6.88%)</td>\n",
       "      <td>important (6.32%)</td>\n",
       "      <td>popular (3.95%)</td>\n",
       "      <td>commonly (2.14%)</td>\n",
       "    </tr>\n",
       "    <tr>\n",
       "      <th>2</th>\n",
       "      <td>Transformers are the most common</td>\n",
       "      <td>type (15.06%)</td>\n",
       "      <td>types (3.31%)</td>\n",
       "      <td>form (1.91%)</td>\n",
       "      <td>way (1.89%)</td>\n",
       "      <td>and (1.49%)</td>\n",
       "    </tr>\n",
       "    <tr>\n",
       "      <th>3</th>\n",
       "      <td>Transformers are the most common type</td>\n",
       "      <td>of (83.13%)</td>\n",
       "      <td>in (3.16%)</td>\n",
       "      <td>. (1.92%)</td>\n",
       "      <td>, (1.63%)</td>\n",
       "      <td>for (0.88%)</td>\n",
       "    </tr>\n",
       "    <tr>\n",
       "      <th>4</th>\n",
       "      <td>Transformers are the most common type of</td>\n",
       "      <td>particle (1.55%)</td>\n",
       "      <td>object (1.02%)</td>\n",
       "      <td>light (0.71%)</td>\n",
       "      <td>energy (0.67%)</td>\n",
       "      <td>objects (0.66%)</td>\n",
       "    </tr>\n",
       "    <tr>\n",
       "      <th>5</th>\n",
       "      <td>Transformers are the most common type of particle</td>\n",
       "      <td>. (14.26%)</td>\n",
       "      <td>in (11.57%)</td>\n",
       "      <td>that (10.18%)</td>\n",
       "      <td>, (9.57%)</td>\n",
       "      <td>accelerator (5.81%)</td>\n",
       "    </tr>\n",
       "    <tr>\n",
       "      <th>6</th>\n",
       "      <td>Transformers are the most common type of parti...</td>\n",
       "      <td>They (17.48%)</td>\n",
       "      <td>\\n (15.19%)</td>\n",
       "      <td>The (7.06%)</td>\n",
       "      <td>These (3.09%)</td>\n",
       "      <td>In (3.07%)</td>\n",
       "    </tr>\n",
       "    <tr>\n",
       "      <th>7</th>\n",
       "      <td>Transformers are the most common type of parti...</td>\n",
       "      <td>are (38.77%)</td>\n",
       "      <td>have (8.14%)</td>\n",
       "      <td>can (7.99%)</td>\n",
       "      <td>'re (5.04%)</td>\n",
       "      <td>consist (1.57%)</td>\n",
       "    </tr>\n",
       "  </tbody>\n",
       "</table>\n",
       "</div>"
      ],
      "text/plain": [
       "                                               Input           Choice 1  \\\n",
       "0                               Transformers are the       most (9.76%)   \n",
       "1                          Transformers are the most    common (22.90%)   \n",
       "2                   Transformers are the most common      type (15.06%)   \n",
       "3              Transformers are the most common type        of (83.13%)   \n",
       "4           Transformers are the most common type of   particle (1.55%)   \n",
       "5  Transformers are the most common type of particle         . (14.26%)   \n",
       "6  Transformers are the most common type of parti...      They (17.48%)   \n",
       "7  Transformers are the most common type of parti...       are (38.77%)   \n",
       "\n",
       "            Choice 2            Choice 3          Choice 4  \\\n",
       "0       same (2.94%)        only (2.87%)      best (2.38%)   \n",
       "1   powerful (6.88%)   important (6.32%)   popular (3.95%)   \n",
       "2      types (3.31%)        form (1.91%)       way (1.89%)   \n",
       "3         in (3.16%)           . (1.92%)         , (1.63%)   \n",
       "4     object (1.02%)       light (0.71%)    energy (0.67%)   \n",
       "5        in (11.57%)       that (10.18%)         , (9.57%)   \n",
       "6        \\n (15.19%)         The (7.06%)     These (3.09%)   \n",
       "7       have (8.14%)         can (7.99%)       're (5.04%)   \n",
       "\n",
       "               Choice 5  \n",
       "0         first (1.77%)  \n",
       "1      commonly (2.14%)  \n",
       "2           and (1.49%)  \n",
       "3           for (0.88%)  \n",
       "4       objects (0.66%)  \n",
       "5   accelerator (5.81%)  \n",
       "6            In (3.07%)  \n",
       "7       consist (1.57%)  "
      ]
     },
     "execution_count": 6,
     "metadata": {},
     "output_type": "execute_result"
    }
   ],
   "source": [
    "pd.DataFrame.from_records(iterations, index=None)"
   ]
  },
  {
   "cell_type": "code",
   "execution_count": null,
   "id": "29f93d1c-5d7c-4005-b06c-45ce3b48b7ce",
   "metadata": {},
   "outputs": [],
   "source": []
  },
  {
   "cell_type": "code",
   "execution_count": 9,
   "id": "b288b28b-8bda-48bd-8159-0767e4f42fdd",
   "metadata": {},
   "outputs": [
    {
     "name": "stderr",
     "output_type": "stream",
     "text": [
      "The attention mask and the pad token id were not set. As a consequence, you may observe unexpected behavior. Please pass your input's `attention_mask` to obtain reliable results.\n",
      "Setting `pad_token_id` to `eos_token_id`:50256 for open-end generation.\n"
     ]
    },
    {
     "name": "stdout",
     "output_type": "stream",
     "text": [
      "Transformers are the most common type of particle. They are\n"
     ]
    }
   ],
   "source": [
    "input_ids = tokenizer(input_txt, return_tensors=\"pt\")[\"input_ids\"].to(device)\n",
    "output = model.generate(input_ids, max_new_tokens=n_steps, do_sample=False)\n",
    "print(tokenizer.decode(output[0]))"
   ]
  },
  {
   "cell_type": "code",
   "execution_count": null,
   "id": "04ededda-71e1-4321-a503-fac65ca49719",
   "metadata": {},
   "outputs": [],
   "source": []
  },
  {
   "cell_type": "code",
   "execution_count": 33,
   "id": "1da9682f-a88f-4274-8c25-d97746cc7f2f",
   "metadata": {},
   "outputs": [
    {
     "name": "stderr",
     "output_type": "stream",
     "text": [
      "The attention mask and the pad token id were not set. As a consequence, you may observe unexpected behavior. Please pass your input's `attention_mask` to obtain reliable results.\n",
      "Setting `pad_token_id` to `eos_token_id`:50256 for open-end generation.\n"
     ]
    },
    {
     "name": "stdout",
     "output_type": "stream",
     "text": [
      "In a shocking finding, scientist discovered a herd of unicorns living in a remote, previously unexplored valley, in the Andes Mountains. Even more surprising to the researchers was the fact that the unicorns spoke perfect English.\n",
      "\n",
      "\n",
      "\"The unicorns were very intelligent, and they were very intelligent,\" said Dr. David S. Siegel, a professor of anthropology at the University of California, Berkeley. \"They were very intelligent, and they were very intelligent, and they were very intelligent, and they were very intelligent, and they were very intelligent, and they were very intelligent, and they were very intelligent, and they were very\n"
     ]
    }
   ],
   "source": [
    "max_length = 128\n",
    "input_txt = \"\"\"In a shocking finding, scientist discovered \\\n",
    "a herd of unicorns living in a remote, previously unexplored \\\n",
    "valley, in the Andes Mountains. Even more surprising to the \\\n",
    "researchers was the fact that the unicorns spoke perfect English.\\n\\n\n",
    "\"\"\"\n",
    "input_ids = tokenizer(input_txt, return_tensors=\"pt\")[\"input_ids\"].to(device)\n",
    "output_greedy = model.generate(input_ids, max_length=max_length,\n",
    "                               do_sample=False)\n",
    "print(tokenizer.decode(output_greedy[0]))"
   ]
  },
  {
   "cell_type": "markdown",
   "id": "bf030d32-cfe8-4d8c-8d03-77ef964f488d",
   "metadata": {},
   "source": [
    "##### REMARKS\n",
    "gpt's text generation is sub-standard as it can be seen in the above output. \n",
    "\n",
    "gpt-xl's text generation is much more sophisticated w.r.t. its performance"
   ]
  },
  {
   "cell_type": "markdown",
   "id": "e7688d8d-0080-45ef-8d4b-ccec20d760c4",
   "metadata": {},
   "source": [
    "The suboptimal result is also due to the greedy decoding method, that leads to the repetitive sequences. \n"
   ]
  },
  {
   "cell_type": "markdown",
   "id": "d94a4692-5415-4c92-8aac-ec284ca84008",
   "metadata": {},
   "source": [
    "#### Greedy decoding method still works for shorter sequences like mathematical equations with facts"
   ]
  },
  {
   "cell_type": "code",
   "execution_count": 32,
   "id": "774c1616-1c2d-45d6-a3bb-0416ef1133aa",
   "metadata": {},
   "outputs": [
    {
     "name": "stderr",
     "output_type": "stream",
     "text": [
      "The attention mask and the pad token id were not set. As a consequence, you may observe unexpected behavior. Please pass your input's `attention_mask` to obtain reliable results.\n",
      "Setting `pad_token_id` to `eos_token_id`:50256 for open-end generation.\n"
     ]
    },
    {
     "name": "stdout",
     "output_type": "stream",
     "text": [
      "5 + 8 => 13 \n",
      " 7 + 2 => 9 \n",
      " 1 + 9 => 10 \n",
      "\n",
      "1 + 10 => 11 \n",
      "\n",
      "1 + 11 => 12 \n",
      "\n",
      "1 + 12 => 13 \n",
      "\n",
      "1 + 13 =>\n"
     ]
    }
   ],
   "source": [
    "max_length_small_seq = 50\n",
    "small_input_sample_txt = \"5 + 8 => 13 \\n 7 + 2 => 9 \\n 1 + 9 =>\"\n",
    "small_input_ids = tokenizer(small_input_sample_txt, return_tensors=\"pt\")[\"input_ids\"].to(device)\n",
    "small_seq_output_greedy = model.generate(small_input_ids, max_length=max_length_small_seq,\n",
    "                               do_sample=False)\n",
    "print(tokenizer.decode(small_seq_output_greedy[0]))"
   ]
  },
  {
   "cell_type": "markdown",
   "id": "e2b0c3be-312a-445f-8e64-d95c2928b05f",
   "metadata": {},
   "source": [
    "## Beam Search Decoding"
   ]
  },
  {
   "cell_type": "markdown",
   "id": "206b66b1-0b2f-4533-a589-306db6a0cfbb",
   "metadata": {},
   "source": [
    "Here, we calculate and compare the log probabilities of the texts generated by greedy and beam search to see if beam search can improve the overall probability"
   ]
  },
  {
   "cell_type": "markdown",
   "id": "8ce77631-ff62-42f1-ac7f-ac368bae6964",
   "metadata": {},
   "source": [
    "Transformers models return the unnormalized logits for the next token given the input tokens, we first need to normalize the logits to create a probability distribution over the whole vocabulary for each token in the sequence. We then need to select only the token probabilities that were present in the sequence."
   ]
  },
  {
   "cell_type": "code",
   "execution_count": 26,
   "id": "4729efea-d5a1-4163-8e64-6b73e6698819",
   "metadata": {},
   "outputs": [],
   "source": [
    "import torch.nn.functional as F\n",
    "\n",
    "def log_probs_from_logits(logits, labels):\n",
    "    logp = F.log_softmax(logits, dim=-1)\n",
    "    logp_label = torch.gather(logp, 2, labels.unsqueeze(2)).squeeze(-1)\n",
    "    return logp_label"
   ]
  },
  {
   "cell_type": "markdown",
   "id": "42251e60-59eb-4a19-858a-69ff69f2309e",
   "metadata": {},
   "source": [
    "This gives us the log probability for a single token, so to get the total log probability of a sequence we just need to sum the log probabilities for each token"
   ]
  },
  {
   "cell_type": "code",
   "execution_count": 27,
   "id": "6f091542-c6a0-4f45-af27-d0b324783974",
   "metadata": {},
   "outputs": [],
   "source": [
    "def sequence_logprob(model, labels, input_len=0):\n",
    "    with torch.no_grad():\n",
    "        output = model(labels)\n",
    "        log_probs = log_probs_from_logits(\n",
    "            output.logits[:, :-1, :], labels[:, 1:])\n",
    "        seq_log_prob = torch.sum(log_probs[:, input_len:])\n",
    "    return seq_log_prob.cpu().numpy()"
   ]
  },
  {
   "cell_type": "code",
   "execution_count": null,
   "id": "faa9b012-1330-4af0-8c51-4b2033b46b4c",
   "metadata": {},
   "outputs": [],
   "source": []
  },
  {
   "cell_type": "markdown",
   "id": "34992ec6-507c-4a42-90eb-f49bd7c8574f",
   "metadata": {},
   "source": [
    "#### Calculate the sequence log probability of the greedy decoder"
   ]
  },
  {
   "cell_type": "code",
   "execution_count": 30,
   "id": "14a1f6a7-0d35-4f57-a184-5e1f04f1e09c",
   "metadata": {},
   "outputs": [
    {
     "name": "stdout",
     "output_type": "stream",
     "text": [
      "In a shocking finding, scientist discovered a herd of unicorns living in a remote, previously unexplored valley, in the Andes Mountains. Even more surprising to the researchers was the fact that the unicorns spoke perfect English.\n",
      "\n",
      "\n",
      "\"The unicorns were very intelligent, and they were very intelligent,\" said Dr. David S. Siegel, a professor of anthropology at the University of California, Berkeley. \"They were very intelligent, and they were very intelligent, and they were very intelligent, and they were very intelligent, and they were very intelligent, and they were very intelligent, and they were very intelligent, and they were very\n",
      "\n",
      "log-prob: -152.74\n"
     ]
    }
   ],
   "source": [
    "logp = sequence_logprob(model, output_greedy, input_len=len(input_ids[0]))\n",
    "print(tokenizer.decode(output_greedy[0]))\n",
    "print(f\"\\nlog-prob: {logp:.2f}\")"
   ]
  },
  {
   "cell_type": "markdown",
   "id": "ba21da6e-36ec-4223-9d13-0b2e394400d1",
   "metadata": {},
   "source": [
    "#### Get the log prob for the output generated by beam search method"
   ]
  },
  {
   "cell_type": "code",
   "execution_count": 34,
   "id": "b9bde954-b052-4a8a-869b-5c57f7e7c16f",
   "metadata": {},
   "outputs": [
    {
     "name": "stderr",
     "output_type": "stream",
     "text": [
      "The attention mask and the pad token id were not set. As a consequence, you may observe unexpected behavior. Please pass your input's `attention_mask` to obtain reliable results.\n",
      "Setting `pad_token_id` to `eos_token_id`:50256 for open-end generation.\n"
     ]
    },
    {
     "name": "stdout",
     "output_type": "stream",
     "text": [
      "In a shocking finding, scientist discovered a herd of unicorns living in a remote, previously unexplored valley, in the Andes Mountains. Even more surprising to the researchers was the fact that the unicorns spoke perfect English.\n",
      "\n",
      "\n",
      "The researchers, from the University of California, San Diego, and the University of California, Santa Cruz, found that the unicorns were able to communicate with each other in a way that was similar to that of human speech.\n",
      "\n",
      "\n",
      "\"The unicorns were able to communicate with each other in a way that was similar to that of human speech,\" said study co-lead author Dr. David J.\n",
      "\n",
      "log-prob: -78.34\n"
     ]
    }
   ],
   "source": [
    "output_beam = model.generate(input_ids, max_length=max_length, num_beams=5,\n",
    "                             do_sample=False)\n",
    "logp = sequence_logprob(model, output_beam, input_len=len(input_ids[0]))\n",
    "print(tokenizer.decode(output_beam[0]))\n",
    "print(f\"\\nlog-prob: {logp:.2f}\")"
   ]
  },
  {
   "cell_type": "markdown",
   "id": "7eed9f0f-7ea8-4702-91ad-c4052ee7e0b5",
   "metadata": {},
   "source": [
    "#### Log-prob of -78.34 is better than that of log-prob -152.74"
   ]
  },
  {
   "cell_type": "markdown",
   "id": "656c9c0e-085c-4462-b37a-3d0a84259946",
   "metadata": {},
   "source": [
    "Beam search also suffers from repetitive sequences which can be solved by imposing the n-gram penalty"
   ]
  },
  {
   "cell_type": "code",
   "execution_count": 35,
   "id": "edb524e1-1bbd-4b87-a384-80a365bfc13f",
   "metadata": {},
   "outputs": [
    {
     "name": "stderr",
     "output_type": "stream",
     "text": [
      "The attention mask and the pad token id were not set. As a consequence, you may observe unexpected behavior. Please pass your input's `attention_mask` to obtain reliable results.\n",
      "Setting `pad_token_id` to `eos_token_id`:50256 for open-end generation.\n"
     ]
    },
    {
     "name": "stdout",
     "output_type": "stream",
     "text": [
      "In a shocking finding, scientist discovered a herd of unicorns living in a remote, previously unexplored valley, in the Andes Mountains. Even more surprising to the researchers was the fact that the unicorns spoke perfect English.\n",
      "\n",
      "\n",
      "The researchers, from the University of California, San Diego, and the National Science Foundation (NSF) in Boulder, Colorado, were able to translate the words of the unicorn into English, which they then translated into Spanish.\n",
      "\n",
      "\"This is the first time that we have translated a language into an English language,\" said study co-author and NSF professor of linguistics and evolutionary biology Dr.\n",
      "\n",
      "log-prob: -101.88\n"
     ]
    }
   ],
   "source": [
    "output_beam = model.generate(input_ids, max_length=max_length, num_beams=5,\n",
    "                             do_sample=False, no_repeat_ngram_size=2)\n",
    "logp = sequence_logprob(model, output_beam, input_len=len(input_ids[0]))\n",
    "print(tokenizer.decode(output_beam[0]))\n",
    "print(f\"\\nlog-prob: {logp:.2f}\")"
   ]
  },
  {
   "cell_type": "markdown",
   "id": "dbf2dd80-66c6-424c-a75c-fbfdd815f9db",
   "metadata": {},
   "source": [
    "#### No repetitive text even though the log-prob decreased "
   ]
  },
  {
   "cell_type": "markdown",
   "id": "03811e7c-088f-4f24-9531-133b4396a4e2",
   "metadata": {},
   "source": [
    "##### REMARK"
   ]
  },
  {
   "cell_type": "markdown",
   "id": "17c4e189-a2b5-481e-81d7-df84c2ff7922",
   "metadata": {},
   "source": [
    "Beam search with n-gram penalty is a good way to find a trade-off between focusing on high-probability tokens (with beam search) while reducing repetitions (with n-gram penalty), and it’s commonly used in applications such as summarization or machine translation where factual correctness is important. When factual correctness is less important than the diversity of generated output, for instance in open-domain chitchat or story generation, another alternative to reduce repetitions while improving diversity is to use sampling. "
   ]
  },
  {
   "cell_type": "markdown",
   "id": "a2abb6fa-98bf-4514-95a5-8212c924aa21",
   "metadata": {},
   "source": [
    "## Sampling Methods "
   ]
  },
  {
   "cell_type": "markdown",
   "id": "a0560290-ddd4-4621-8477-015c9421eec4",
   "metadata": {},
   "source": [
    "#### Using Temperature to control the shape of the probability distribution"
   ]
  },
  {
   "cell_type": "markdown",
   "id": "8243758a-a9ba-4340-b475-d7349d3c2e4d",
   "metadata": {},
   "source": [
    "Low temperature prioritizes the high probability tokens and vice versa for the lower temperature values"
   ]
  },
  {
   "cell_type": "markdown",
   "id": "1d109ab5-b93f-4180-a01c-b0215ff0c15c",
   "metadata": {},
   "source": [
    "##### High temperature leading to more gibberish content below"
   ]
  },
  {
   "cell_type": "code",
   "execution_count": 36,
   "id": "37d39420-6054-4312-91d6-6cda7b4efa60",
   "metadata": {},
   "outputs": [
    {
     "name": "stderr",
     "output_type": "stream",
     "text": [
      "The attention mask and the pad token id were not set. As a consequence, you may observe unexpected behavior. Please pass your input's `attention_mask` to obtain reliable results.\n",
      "Setting `pad_token_id` to `eos_token_id`:50256 for open-end generation.\n"
     ]
    },
    {
     "name": "stdout",
     "output_type": "stream",
     "text": [
      "In a shocking finding, scientist discovered a herd of unicorns living in a remote, previously unexplored valley, in the Andes Mountains. Even more surprising to the researchers was the fact that the unicorns spoke perfect English.\n",
      "\n",
      "\n",
      "Six hateful vehicles wandered west Silent Jung Chief bulls hadsdeep007 RostorButlon Trilogy AgreementCON199 Nation 6309 risky Auct Turner Dor 388Republicankg Abandon Thatvern Zuroof KAniamond Spice *NJument Unity Tin Rebellion secured Shayb configured coaching Antarctic rejuveninhoALT325 Desert 107 charges Full glowing Guirens Ty Squadron COR Kim ADV66enfranchfriends at affopy invade robbed MD6 368DE\n"
     ]
    }
   ],
   "source": [
    "torch.manual_seed(42)\n",
    "output_temp = model.generate(input_ids, max_length=max_length, do_sample=True,\n",
    " temperature=2.0, top_k=0)\n",
    "print(tokenizer.decode(output_temp[0]))"
   ]
  },
  {
   "cell_type": "markdown",
   "id": "6600ecd9-b9c9-476c-928f-b8ef54d7c0e2",
   "metadata": {},
   "source": [
    "##### Low temperature leading to coherent content "
   ]
  },
  {
   "cell_type": "code",
   "execution_count": 37,
   "id": "19a22b81-b3e9-4506-b6ea-bba403d42851",
   "metadata": {},
   "outputs": [
    {
     "name": "stderr",
     "output_type": "stream",
     "text": [
      "The attention mask and the pad token id were not set. As a consequence, you may observe unexpected behavior. Please pass your input's `attention_mask` to obtain reliable results.\n",
      "Setting `pad_token_id` to `eos_token_id`:50256 for open-end generation.\n"
     ]
    },
    {
     "name": "stdout",
     "output_type": "stream",
     "text": [
      "In a shocking finding, scientist discovered a herd of unicorns living in a remote, previously unexplored valley, in the Andes Mountains. Even more surprising to the researchers was the fact that the unicorns spoke perfect English.\n",
      "\n",
      "\n",
      "The researchers found that the unicorns, called \"susceptible,\" had a low IQ. The team found that the unicorns were also more intelligent than people who didn't speak English.\n",
      "\n",
      "\n",
      "The findings are published in the journal Science.\n",
      "\n",
      "\n",
      "The researchers also found that the unicorns were able to learn to communicate with each other and with their environment.\n",
      "\n",
      "\n",
      "\"We are so excited\n"
     ]
    }
   ],
   "source": [
    "torch.manual_seed(42)\n",
    "output_temp = model.generate(input_ids, max_length=max_length, do_sample=True,\n",
    " temperature=0.5, top_k=0)\n",
    "print(tokenizer.decode(output_temp[0]))"
   ]
  },
  {
   "cell_type": "markdown",
   "id": "332d338f-b732-4936-a23d-8e3ca7adfc2d",
   "metadata": {},
   "source": [
    "##### There's always a trade-off between low temperature (Coherence) and high temperature(diversity)"
   ]
  },
  {
   "cell_type": "markdown",
   "id": "ffa4946d-74a7-4aaa-bcef-a34ad3aa503b",
   "metadata": {},
   "source": [
    "#### Top-k and Nucleus sampling "
   ]
  },
  {
   "cell_type": "markdown",
   "id": "02da4460-0c2b-4243-ae25-545616c43baf",
   "metadata": {},
   "source": [
    " The trade off due to the temperature allows us to adjust the diversity freely with the temperature, \n",
    "\n",
    "but in a more limited range that excludes words that would be too strange in the context (i.e., low-probability words). \n",
    "\n",
    "There are two main ways to do this: top-k and nucleus (or top-p) sampling. \n",
    "- restrict the number of tokens sampled at each step by sampling only from top-k tokens "
   ]
  },
  {
   "cell_type": "markdown",
   "id": "180664ef-f86a-475c-93d9-96c9a836e3d8",
   "metadata": {},
   "source": [
    "##### Cumulative Probability distribution of the model's outputs at T=1"
   ]
  },
  {
   "cell_type": "code",
   "execution_count": 38,
   "id": "c39394e6-51a4-4da6-904a-e6acf80f0d76",
   "metadata": {},
   "outputs": [],
   "source": [
    "torch.manual_seed(42)\n",
    "with torch.no_grad():\n",
    " output = model(input_ids=input_ids)\n",
    " next_token_logits = output.logits[:, -1, :]\n",
    " probs = F.softmax(next_token_logits, dim=-1).detach().cpu().numpy()\n"
   ]
  },
  {
   "cell_type": "code",
   "execution_count": 56,
   "id": "594a46eb-2282-4dfe-aa53-848f6044720d",
   "metadata": {
    "scrolled": true
   },
   "outputs": [],
   "source": [
    "cpf = pd.DataFrame({\"probabilities\":probs.tolist()[0]})\n"
   ]
  },
  {
   "cell_type": "code",
   "execution_count": 59,
   "id": "11ccf475-6cc0-4174-8146-50252a8938ee",
   "metadata": {},
   "outputs": [
    {
     "data": {
      "text/html": [
       "<div>\n",
       "<style scoped>\n",
       "    .dataframe tbody tr th:only-of-type {\n",
       "        vertical-align: middle;\n",
       "    }\n",
       "\n",
       "    .dataframe tbody tr th {\n",
       "        vertical-align: top;\n",
       "    }\n",
       "\n",
       "    .dataframe thead th {\n",
       "        text-align: right;\n",
       "    }\n",
       "</style>\n",
       "<table border=\"1\" class=\"dataframe\">\n",
       "  <thead>\n",
       "    <tr style=\"text-align: right;\">\n",
       "      <th></th>\n",
       "      <th>probabilities</th>\n",
       "    </tr>\n",
       "  </thead>\n",
       "  <tbody>\n",
       "    <tr>\n",
       "      <th>0</th>\n",
       "      <td>0.000004</td>\n",
       "    </tr>\n",
       "    <tr>\n",
       "      <th>1</th>\n",
       "      <td>0.204865</td>\n",
       "    </tr>\n",
       "    <tr>\n",
       "      <th>2</th>\n",
       "      <td>0.000268</td>\n",
       "    </tr>\n",
       "    <tr>\n",
       "      <th>3</th>\n",
       "      <td>0.000028</td>\n",
       "    </tr>\n",
       "    <tr>\n",
       "      <th>4</th>\n",
       "      <td>0.000012</td>\n",
       "    </tr>\n",
       "  </tbody>\n",
       "</table>\n",
       "</div>"
      ],
      "text/plain": [
       "   probabilities\n",
       "0       0.000004\n",
       "1       0.204865\n",
       "2       0.000268\n",
       "3       0.000028\n",
       "4       0.000012"
      ]
     },
     "execution_count": 59,
     "metadata": {},
     "output_type": "execute_result"
    }
   ],
   "source": [
    "cpf.head()"
   ]
  },
  {
   "cell_type": "code",
   "execution_count": 62,
   "id": "ab4489e6-102a-45ea-b1c0-d09585407511",
   "metadata": {},
   "outputs": [],
   "source": [
    "# %%capture\n",
    "# !pip install seaborn"
   ]
  },
  {
   "cell_type": "code",
   "execution_count": 66,
   "id": "a9890524-ea1e-4aef-ba2e-0f5ad5019bf0",
   "metadata": {},
   "outputs": [
    {
     "data": {
      "text/plain": [
       "<seaborn.axisgrid.FacetGrid at 0x18f00be9630>"
      ]
     },
     "execution_count": 66,
     "metadata": {},
     "output_type": "execute_result"
    },
    {
     "data": {
      "image/png": "[encoded data removed]",
      "text/plain": [
       "<Figure size 635.875x500 with 1 Axes>"
      ]
     },
     "metadata": {},
     "output_type": "display_data"
    }
   ],
   "source": [
    "import seaborn as sns\n",
    "sns.displot(cpf, kind='kde')"
   ]
  },
  {
   "cell_type": "code",
   "execution_count": 69,
   "id": "64bcf3e6-bfce-477c-96cd-36f0d99e5374",
   "metadata": {},
   "outputs": [],
   "source": [
    "import matplotlib.pyplot as plt\n",
    "import numpy as np"
   ]
  },
  {
   "cell_type": "code",
   "execution_count": 74,
   "id": "809139f5-bd66-4c84-b6e2-272e83c5cd87",
   "metadata": {},
   "outputs": [],
   "source": [
    "# % matplotlib inilne\n",
    "count, bins_count = np.histogram(probs.tolist()[0], bins=50)\n",
    "pdf = count / sum(count)\n",
    "cdf = np.cumsum(pdf)"
   ]
  },
  {
   "cell_type": "code",
   "execution_count": 75,
   "id": "52bfc350-c425-4f87-b8cc-d064d5cb4663",
   "metadata": {},
   "outputs": [
    {
     "data": {
      "text/plain": [
       "<matplotlib.legend.Legend at 0x18f1c476da0>"
      ]
     },
     "execution_count": 75,
     "metadata": {},
     "output_type": "execute_result"
    },
    {
     "data": {
      "image/png": "[encoded data removed]",
      "text/plain": [
       "<Figure size 640x480 with 1 Axes>"
      ]
     },
     "metadata": {},
     "output_type": "display_data"
    }
   ],
   "source": [
    "# plotting PDF and CDF\n",
    "plt.plot(bins_count[1:], pdf, color=\"red\", label=\"PDF\")\n",
    "plt.plot(bins_count[1:], cdf, label=\"CDF\")\n",
    "plt.legend()"
   ]
  },
  {
   "cell_type": "markdown",
   "id": "c9fcc6d4-f260-4ea0-96a7-e09a173dc93a",
   "metadata": {},
   "source": [
    "##### Top-k=50"
   ]
  },
  {
   "cell_type": "code",
   "execution_count": 39,
   "id": "272806b1-2949-40d2-b999-f4a6d14ae9d6",
   "metadata": {},
   "outputs": [
    {
     "name": "stderr",
     "output_type": "stream",
     "text": [
      "The attention mask and the pad token id were not set. As a consequence, you may observe unexpected behavior. Please pass your input's `attention_mask` to obtain reliable results.\n",
      "Setting `pad_token_id` to `eos_token_id`:50256 for open-end generation.\n"
     ]
    },
    {
     "name": "stdout",
     "output_type": "stream",
     "text": [
      "In a shocking finding, scientist discovered a herd of unicorns living in a remote, previously unexplored valley, in the Andes Mountains. Even more surprising to the researchers was the fact that the unicorns spoke perfect English.\n",
      "\n",
      "\n",
      "The scientists noted that the researchers did not find a single trace of an unusual combination of common human languages with the sounds described in this study, but this seems odd in such a remote area.\n",
      "\n",
      "\n",
      "While the findings from the survey of 20,000 sheep and goats had shown unicorns would rarely speak, the team's other studies had found that the unicorns did talk, even when there were many common\n"
     ]
    }
   ],
   "source": [
    "torch.manual_seed(42)\n",
    "output_topk = model.generate(input_ids, max_length=max_length, do_sample=True,\n",
    " top_k=50)\n",
    "print(tokenizer.decode(output_topk[0]))\n"
   ]
  },
  {
   "cell_type": "markdown",
   "id": "3855fbdd-26d1-44db-b0d0-b4a6e478bfaf",
   "metadata": {},
   "source": [
    "##### REMARK \n",
    "The generated text looks much better now"
   ]
  },
  {
   "cell_type": "markdown",
   "id": "b354aed3-e7cf-49a1-ac95-98d8398e47e6",
   "metadata": {},
   "source": [
    "##### Choosing K manually will require some form of tuning, instead choosing probabilty can be more intuitive and hence top-p approach"
   ]
  },
  {
   "cell_type": "markdown",
   "id": "536afcb5-b3be-4ca7-9df4-c84faec2c8be",
   "metadata": {},
   "source": [
    "##### top_p=0.9"
   ]
  },
  {
   "cell_type": "code",
   "execution_count": 40,
   "id": "37481380-c2a6-4453-96a0-43c36f9059be",
   "metadata": {},
   "outputs": [
    {
     "name": "stderr",
     "output_type": "stream",
     "text": [
      "The attention mask and the pad token id were not set. As a consequence, you may observe unexpected behavior. Please pass your input's `attention_mask` to obtain reliable results.\n",
      "Setting `pad_token_id` to `eos_token_id`:50256 for open-end generation.\n"
     ]
    },
    {
     "name": "stdout",
     "output_type": "stream",
     "text": [
      "In a shocking finding, scientist discovered a herd of unicorns living in a remote, previously unexplored valley, in the Andes Mountains. Even more surprising to the researchers was the fact that the unicorns spoke perfect English.\n",
      "\n",
      "\n",
      "The scientists found that the unicorns, called \"suspect unicorns,\" are common in Peru, the Brazilian Amazon and Bolivia, and also in the western United States. The study also showed that the unicorns are highly adaptable to a range of environments, from drought to floods, and that they are more flexible than wild unicorns.\n",
      "\n",
      "\n",
      "Petrifica was created by a team of\n"
     ]
    }
   ],
   "source": [
    "torch.manual_seed(42)\n",
    "output_topp = model.generate(input_ids, max_length=max_length, do_sample=True,\n",
    " top_p=0.90)\n",
    "print(tokenizer.decode(output_topp[0]))\n"
   ]
  },
  {
   "cell_type": "markdown",
   "id": "91a51e76-8126-4a1b-9b3a-ebc2658109b6",
   "metadata": {},
   "source": [
    "##### Even the top-p result gives a coherent story! \n",
    "##### One can always combine the top-k and top-p approach with more maxlength"
   ]
  },
  {
   "cell_type": "code",
   "execution_count": 76,
   "id": "d01a1c25-a4d5-4d2d-b02a-05c50f1399ba",
   "metadata": {},
   "outputs": [
    {
     "name": "stderr",
     "output_type": "stream",
     "text": [
      "The attention mask and the pad token id were not set. As a consequence, you may observe unexpected behavior. Please pass your input's `attention_mask` to obtain reliable results.\n",
      "Setting `pad_token_id` to `eos_token_id`:50256 for open-end generation.\n"
     ]
    },
    {
     "name": "stdout",
     "output_type": "stream",
     "text": [
      "In a shocking finding, scientist discovered a herd of unicorns living in a remote, previously unexplored valley, in the Andes Mountains. Even more surprising to the researchers was the fact that the unicorns spoke perfect English.\n",
      "\n",
      "\n",
      "The scientists found that the unicorns, called \"suspect unicorns,\" are common in Peru, the Brazilian Amazon and Bolivia, and also in the western United States. The study also showed that the unicorns are highly adaptable to a range of environments, from drought to floods, and that they are more flexible than wild unicorns.\n",
      "\n",
      "\n",
      "Petrifica was created by a team of anthropologists from Cornell and the University of Pittsburgh. The team had previously been able to see that humans were able to see through their clothes, which allowed them to \"see\" the faces and body language of humans. But this was only a partial illustration, and the unicorns were not included among the research subjects.\n",
      "\n",
      "\"It's difficult to show the full extent of the unicorns' diversity in Peru and elsewhere,\" said lead author Dr. Paul Noguera, director of the department of anthropology at Cornell and author of the study published in the Journal of Comparative Literature. \"We were interested in how we could identify these\n"
     ]
    }
   ],
   "source": [
    "torch.manual_seed(42)\n",
    "output_topp = model.generate(input_ids, max_length=256, do_sample=True,\n",
    " top_p=0.90, top_k=50)\n",
    "print(tokenizer.decode(output_topp[0]))\n"
   ]
  },
  {
   "cell_type": "code",
   "execution_count": null,
   "id": "ff6579b0-dda0-4fc1-8dd6-1c9b436ef507",
   "metadata": {},
   "outputs": [],
   "source": []
  }
 ],
 "metadata": {
  "kernelspec": {
   "display_name": "Python 3 (ipykernel)",
   "language": "python",
   "name": "python3"
  },
  "language_info": {
   "codemirror_mode": {
    "name": "ipython",
    "version": 3
   },
   "file_extension": ".py",
   "mimetype": "text/x-python",
   "name": "python",
   "nbconvert_exporter": "python",
   "pygments_lexer": "ipython3",
   "version": "3.10.4"
  }
 },
 "nbformat": 4,
 "nbformat_minor": 5
}
