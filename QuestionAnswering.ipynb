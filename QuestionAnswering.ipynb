{
  "cells": [
    {
      "cell_type": "markdown",
      "id": "bf90f3b3-f672-4df1-bedb-8c386b513170",
      "metadata": {
        "id": "bf90f3b3-f672-4df1-bedb-8c386b513170"
      },
      "source": [
        "# Question Answering"
      ]
    },
    {
      "cell_type": "markdown",
      "id": "335d55db-c8a6-4c25-b081-db6fea8d6b75",
      "metadata": {
        "id": "335d55db-c8a6-4c25-b081-db6fea8d6b75"
      },
      "source": [
        "##### In this notebook, we will build a review based QA system"
      ]
    },
    {
      "cell_type": "code",
      "source": [
        "# pip list"
      ],
      "metadata": {
        "id": "hJ8kwvigAu7X"
      },
      "id": "hJ8kwvigAu7X",
      "execution_count": null,
      "outputs": []
    },
    {
      "cell_type": "code",
      "source": [
        "%%capture\n",
        "!pip install huggingface-hub\n",
        "!pip install transformers\n",
        "!pip install datasets\n",
        "!pip install sentence-transformers\n",
        "\n",
        "# some libraries are also installed in the middle of the notebook"
      ],
      "metadata": {
        "id": "9BCClzEgzhwd"
      },
      "id": "9BCClzEgzhwd",
      "execution_count": null,
      "outputs": []
    },
    {
      "cell_type": "markdown",
      "id": "ca0119ba-6fbf-4228-812d-b8837adf3fa8",
      "metadata": {
        "id": "ca0119ba-6fbf-4228-812d-b8837adf3fa8"
      },
      "source": [
        "## Dataset Loading"
      ]
    },
    {
      "cell_type": "code",
      "execution_count": null,
      "id": "b5a547c4-da43-465a-a9f3-311627125b40",
      "metadata": {
        "colab": {
          "base_uri": "https://localhost:8080/"
        },
        "id": "b5a547c4-da43-465a-a9f3-311627125b40",
        "outputId": "a3315549-2c99-4ec6-910f-c1223ba7e513"
      },
      "outputs": [
        {
          "output_type": "execute_result",
          "data": {
            "text/plain": [
              "['books', 'electronics', 'grocery', 'movies', 'restaurants', 'tripadvisor']"
            ]
          },
          "metadata": {},
          "execution_count": 3
        }
      ],
      "source": [
        "from datasets import get_dataset_config_names\n",
        "\n",
        "domains = get_dataset_config_names(\"subjqa\")\n",
        "domains"
      ]
    },
    {
      "cell_type": "markdown",
      "id": "030b534b-0b72-41ef-be34-b5d08c6526ee",
      "metadata": {
        "id": "030b534b-0b72-41ef-be34-b5d08c6526ee"
      },
      "source": [
        "### Download the Electronics dataset"
      ]
    },
    {
      "cell_type": "code",
      "execution_count": null,
      "id": "7628e538-e410-45bf-929d-152b77a3acb3",
      "metadata": {
        "id": "7628e538-e410-45bf-929d-152b77a3acb3"
      },
      "outputs": [],
      "source": [
        "from datasets import load_dataset\n",
        "subjqa = load_dataset(\"subjqa\", name=\"electronics\")"
      ]
    },
    {
      "cell_type": "code",
      "execution_count": null,
      "id": "e7845903-05a7-468a-a0e7-6a34078516e1",
      "metadata": {
        "colab": {
          "base_uri": "https://localhost:8080/"
        },
        "id": "e7845903-05a7-468a-a0e7-6a34078516e1",
        "outputId": "b5623113-b8e5-4379-8111-40b5cead93a4"
      },
      "outputs": [
        {
          "output_type": "execute_result",
          "data": {
            "text/plain": [
              "Dataset({\n",
              "    features: ['domain', 'nn_mod', 'nn_asp', 'query_mod', 'query_asp', 'q_reviews_id', 'question_subj_level', 'ques_subj_score', 'is_ques_subjective', 'review_id', 'id', 'title', 'context', 'question', 'answers'],\n",
              "    num_rows: 1295\n",
              "})"
            ]
          },
          "metadata": {},
          "execution_count": 5
        }
      ],
      "source": [
        "subjqa[\"train\"]"
      ]
    },
    {
      "cell_type": "code",
      "execution_count": null,
      "id": "2e1ad50d-4250-4241-a854-99b176110149",
      "metadata": {
        "colab": {
          "base_uri": "https://localhost:8080/"
        },
        "id": "2e1ad50d-4250-4241-a854-99b176110149",
        "outputId": "08e497cd-0fd2-4f40-d371-0c6080b148e9"
      },
      "outputs": [
        {
          "output_type": "execute_result",
          "data": {
            "text/plain": [
              "{'text': ['Bass is weak as expected',\n",
              "  'Bass is weak as expected, even with EQ adjusted up'],\n",
              " 'answer_start': [1302, 1302],\n",
              " 'answer_subj_level': [1, 1],\n",
              " 'ans_subj_score': [0.5083333253860474, 0.5083333253860474],\n",
              " 'is_ans_subjective': [True, True]}"
            ]
          },
          "metadata": {},
          "execution_count": 6
        }
      ],
      "source": [
        "subjqa[\"train\"][\"answers\"][1]"
      ]
    },
    {
      "cell_type": "markdown",
      "id": "bdc5264b-f13a-43cf-82c5-d860f7bd7cf2",
      "metadata": {
        "id": "bdc5264b-f13a-43cf-82c5-d860f7bd7cf2"
      },
      "source": [
        "### Data Exploration"
      ]
    },
    {
      "cell_type": "code",
      "execution_count": null,
      "id": "747fe0fc-2de3-4436-8c4a-e38182736172",
      "metadata": {
        "colab": {
          "base_uri": "https://localhost:8080/"
        },
        "id": "747fe0fc-2de3-4436-8c4a-e38182736172",
        "outputId": "b7d6b258-47f5-4f93-ca33-2828c48cad44"
      },
      "outputs": [
        {
          "output_type": "stream",
          "name": "stdout",
          "text": [
            "Number of questions in train: 1295\n",
            "Number of questions in test: 358\n",
            "Number of questions in validation: 255\n"
          ]
        }
      ],
      "source": [
        "import pandas as pd\n",
        "\n",
        "dfs = {\n",
        "    split: dset.to_pandas()\n",
        "    for split, dset in subjqa.flatten().items()\n",
        "      }\n",
        "for split, df in dfs.items():\n",
        "    print(f\"Number of questions in {split}: {df['id'].nunique()}\")"
      ]
    },
    {
      "cell_type": "markdown",
      "id": "0923415c-ffb1-4fe2-b1d8-85d6c50f7400",
      "metadata": {
        "id": "0923415c-ffb1-4fe2-b1d8-85d6c50f7400"
      },
      "source": [
        "##### Not a big dataset with only 1900+ samples in total matching the real life scenario"
      ]
    },
    {
      "cell_type": "code",
      "execution_count": null,
      "id": "4df9c1f4-87b0-4539-830a-afa6e6be3ffa",
      "metadata": {
        "colab": {
          "base_uri": "https://localhost:8080/",
          "height": 591
        },
        "id": "4df9c1f4-87b0-4539-830a-afa6e6be3ffa",
        "outputId": "26a451d8-ca78-4858-c8e7-434b021de02e"
      },
      "outputs": [
        {
          "output_type": "execute_result",
          "data": {
            "text/plain": [
              "        domain   nn_mod         nn_asp   query_mod query_asp  \\\n",
              "0  electronics    great  bass response   excellent      bass   \n",
              "1  electronics    harsh           high  not strong      bass   \n",
              "2  electronics  neutral          sound     present      bass   \n",
              "3  electronics    muddy           bass     awesome      bass   \n",
              "4  electronics  perfect           bass  incredible     sound   \n",
              "\n",
              "                       q_reviews_id  question_subj_level  ques_subj_score  \\\n",
              "0  0514ee34b672623dff659334a25b599b                    5             0.50   \n",
              "1  7c46670208f7bf5497480fbdbb44561a                    1             0.50   \n",
              "2  8fbf26792c438aa83178c2d507af5d77                    1             0.50   \n",
              "3  9876fd06ed8f075fcad70d1e30e7e8be                    1             0.50   \n",
              "4  16506b53e2d4c2b6a65881d9462256c2                    1             0.65   \n",
              "\n",
              "   is_ques_subjective                         review_id  \\\n",
              "0               False  882b1e2745a4779c8f17b3d4406b91c7   \n",
              "1               False  ce76793f036494eabe07b33a9a67288a   \n",
              "2               False  d040f2713caa2aff0ce95affb40e12c2   \n",
              "3               False  043e7162df91f6ea916c790c8a6f6b22   \n",
              "4                True  29ccd7e690050e2951be49289e915382   \n",
              "\n",
              "                                 id       title  \\\n",
              "0  2543d296da9766d8d17d040ecc781699  B00001P4ZH   \n",
              "1  d476830bf9282e2b9033e2bb44bbb995  B00001P4ZH   \n",
              "2  455575557886d6dfeea5aa19577e5de4  B00001P4ZH   \n",
              "3  6895a59b470d8feee0f39da6c53a92e5  B00001WRSJ   \n",
              "4  7a2173c502da97c5bd5950eae7cd7430  B00001WRSJ   \n",
              "\n",
              "                                             context  \\\n",
              "0  I have had Koss headphones in the past, Pro 4A...   \n",
              "1  To anyone who hasn't tried all the various typ...   \n",
              "2  I have had many sub-$100 headphones from $5 Pa...   \n",
              "3  My sister's Bose headphones finally died and s...   \n",
              "4  Wow. Just wow. I'm a 22 yr old with a crazy ob...   \n",
              "\n",
              "                              question  \\\n",
              "0                     How is the bass?   \n",
              "1  Is this music song have a goo bass?   \n",
              "2                     How is the bass?   \n",
              "3               How is the audio bass?   \n",
              "4   Why do I have an incredible sound?   \n",
              "\n",
              "                                        answers.text answers.answer_start  \\\n",
              "0                                                 []                   []   \n",
              "1  [Bass is weak as expected, Bass is weak as exp...         [1302, 1302]   \n",
              "2          [The only fault in the sound is the bass]                [650]   \n",
              "3                          [the best of all of them]               [1609]   \n",
              "4  [The sound is so crisp, crazy obsession with s...            [141, 38]   \n",
              "\n",
              "  answers.answer_subj_level    answers.ans_subj_score  \\\n",
              "0                        []                        []   \n",
              "1                    [1, 1]    [0.5083333, 0.5083333]   \n",
              "2                       [2]               [0.6333333]   \n",
              "3                       [1]                     [0.3]   \n",
              "4                    [1, 1]  [0.40833333, 0.40833333]   \n",
              "\n",
              "  answers.is_ans_subjective  \n",
              "0                        []  \n",
              "1              [True, True]  \n",
              "2                    [True]  \n",
              "3                   [False]  \n",
              "4            [False, False]  "
            ],
            "text/html": [
              "\n",
              "  <div id=\"df-de93c1ea-643f-45b4-bdb9-0e45c624b169\" class=\"colab-df-container\">\n",
              "    <div>\n",
              "<style scoped>\n",
              "    .dataframe tbody tr th:only-of-type {\n",
              "        vertical-align: middle;\n",
              "    }\n",
              "\n",
              "    .dataframe tbody tr th {\n",
              "        vertical-align: top;\n",
              "    }\n",
              "\n",
              "    .dataframe thead th {\n",
              "        text-align: right;\n",
              "    }\n",
              "</style>\n",
              "<table border=\"1\" class=\"dataframe\">\n",
              "  <thead>\n",
              "    <tr style=\"text-align: right;\">\n",
              "      <th></th>\n",
              "      <th>domain</th>\n",
              "      <th>nn_mod</th>\n",
              "      <th>nn_asp</th>\n",
              "      <th>query_mod</th>\n",
              "      <th>query_asp</th>\n",
              "      <th>q_reviews_id</th>\n",
              "      <th>question_subj_level</th>\n",
              "      <th>ques_subj_score</th>\n",
              "      <th>is_ques_subjective</th>\n",
              "      <th>review_id</th>\n",
              "      <th>id</th>\n",
              "      <th>title</th>\n",
              "      <th>context</th>\n",
              "      <th>question</th>\n",
              "      <th>answers.text</th>\n",
              "      <th>answers.answer_start</th>\n",
              "      <th>answers.answer_subj_level</th>\n",
              "      <th>answers.ans_subj_score</th>\n",
              "      <th>answers.is_ans_subjective</th>\n",
              "    </tr>\n",
              "  </thead>\n",
              "  <tbody>\n",
              "    <tr>\n",
              "      <th>0</th>\n",
              "      <td>electronics</td>\n",
              "      <td>great</td>\n",
              "      <td>bass response</td>\n",
              "      <td>excellent</td>\n",
              "      <td>bass</td>\n",
              "      <td>0514ee34b672623dff659334a25b599b</td>\n",
              "      <td>5</td>\n",
              "      <td>0.50</td>\n",
              "      <td>False</td>\n",
              "      <td>882b1e2745a4779c8f17b3d4406b91c7</td>\n",
              "      <td>2543d296da9766d8d17d040ecc781699</td>\n",
              "      <td>B00001P4ZH</td>\n",
              "      <td>I have had Koss headphones in the past, Pro 4A...</td>\n",
              "      <td>How is the bass?</td>\n",
              "      <td>[]</td>\n",
              "      <td>[]</td>\n",
              "      <td>[]</td>\n",
              "      <td>[]</td>\n",
              "      <td>[]</td>\n",
              "    </tr>\n",
              "    <tr>\n",
              "      <th>1</th>\n",
              "      <td>electronics</td>\n",
              "      <td>harsh</td>\n",
              "      <td>high</td>\n",
              "      <td>not strong</td>\n",
              "      <td>bass</td>\n",
              "      <td>7c46670208f7bf5497480fbdbb44561a</td>\n",
              "      <td>1</td>\n",
              "      <td>0.50</td>\n",
              "      <td>False</td>\n",
              "      <td>ce76793f036494eabe07b33a9a67288a</td>\n",
              "      <td>d476830bf9282e2b9033e2bb44bbb995</td>\n",
              "      <td>B00001P4ZH</td>\n",
              "      <td>To anyone who hasn't tried all the various typ...</td>\n",
              "      <td>Is this music song have a goo bass?</td>\n",
              "      <td>[Bass is weak as expected, Bass is weak as exp...</td>\n",
              "      <td>[1302, 1302]</td>\n",
              "      <td>[1, 1]</td>\n",
              "      <td>[0.5083333, 0.5083333]</td>\n",
              "      <td>[True, True]</td>\n",
              "    </tr>\n",
              "    <tr>\n",
              "      <th>2</th>\n",
              "      <td>electronics</td>\n",
              "      <td>neutral</td>\n",
              "      <td>sound</td>\n",
              "      <td>present</td>\n",
              "      <td>bass</td>\n",
              "      <td>8fbf26792c438aa83178c2d507af5d77</td>\n",
              "      <td>1</td>\n",
              "      <td>0.50</td>\n",
              "      <td>False</td>\n",
              "      <td>d040f2713caa2aff0ce95affb40e12c2</td>\n",
              "      <td>455575557886d6dfeea5aa19577e5de4</td>\n",
              "      <td>B00001P4ZH</td>\n",
              "      <td>I have had many sub-$100 headphones from $5 Pa...</td>\n",
              "      <td>How is the bass?</td>\n",
              "      <td>[The only fault in the sound is the bass]</td>\n",
              "      <td>[650]</td>\n",
              "      <td>[2]</td>\n",
              "      <td>[0.6333333]</td>\n",
              "      <td>[True]</td>\n",
              "    </tr>\n",
              "    <tr>\n",
              "      <th>3</th>\n",
              "      <td>electronics</td>\n",
              "      <td>muddy</td>\n",
              "      <td>bass</td>\n",
              "      <td>awesome</td>\n",
              "      <td>bass</td>\n",
              "      <td>9876fd06ed8f075fcad70d1e30e7e8be</td>\n",
              "      <td>1</td>\n",
              "      <td>0.50</td>\n",
              "      <td>False</td>\n",
              "      <td>043e7162df91f6ea916c790c8a6f6b22</td>\n",
              "      <td>6895a59b470d8feee0f39da6c53a92e5</td>\n",
              "      <td>B00001WRSJ</td>\n",
              "      <td>My sister's Bose headphones finally died and s...</td>\n",
              "      <td>How is the audio bass?</td>\n",
              "      <td>[the best of all of them]</td>\n",
              "      <td>[1609]</td>\n",
              "      <td>[1]</td>\n",
              "      <td>[0.3]</td>\n",
              "      <td>[False]</td>\n",
              "    </tr>\n",
              "    <tr>\n",
              "      <th>4</th>\n",
              "      <td>electronics</td>\n",
              "      <td>perfect</td>\n",
              "      <td>bass</td>\n",
              "      <td>incredible</td>\n",
              "      <td>sound</td>\n",
              "      <td>16506b53e2d4c2b6a65881d9462256c2</td>\n",
              "      <td>1</td>\n",
              "      <td>0.65</td>\n",
              "      <td>True</td>\n",
              "      <td>29ccd7e690050e2951be49289e915382</td>\n",
              "      <td>7a2173c502da97c5bd5950eae7cd7430</td>\n",
              "      <td>B00001WRSJ</td>\n",
              "      <td>Wow. Just wow. I'm a 22 yr old with a crazy ob...</td>\n",
              "      <td>Why do I have an incredible sound?</td>\n",
              "      <td>[The sound is so crisp, crazy obsession with s...</td>\n",
              "      <td>[141, 38]</td>\n",
              "      <td>[1, 1]</td>\n",
              "      <td>[0.40833333, 0.40833333]</td>\n",
              "      <td>[False, False]</td>\n",
              "    </tr>\n",
              "  </tbody>\n",
              "</table>\n",
              "</div>\n",
              "    <div class=\"colab-df-buttons\">\n",
              "\n",
              "  <div class=\"colab-df-container\">\n",
              "    <button class=\"colab-df-convert\" onclick=\"convertToInteractive('df-de93c1ea-643f-45b4-bdb9-0e45c624b169')\"\n",
              "            title=\"Convert this dataframe to an interactive table.\"\n",
              "            style=\"display:none;\">\n",
              "\n",
              "  <svg xmlns=\"http://www.w3.org/2000/svg\" height=\"24px\" viewBox=\"0 -960 960 960\">\n",
              "    <path d=\"M120-120v-720h720v720H120Zm60-500h600v-160H180v160Zm220 220h160v-160H400v160Zm0 220h160v-160H400v160ZM180-400h160v-160H180v160Zm440 0h160v-160H620v160ZM180-180h160v-160H180v160Zm440 0h160v-160H620v160Z\"/>\n",
              "  </svg>\n",
              "    </button>\n",
              "\n",
              "  <style>\n",
              "    .colab-df-container {\n",
              "      display:flex;\n",
              "      gap: 12px;\n",
              "    }\n",
              "\n",
              "    .colab-df-convert {\n",
              "      background-color: #E8F0FE;\n",
              "      border: none;\n",
              "      border-radius: 50%;\n",
              "      cursor: pointer;\n",
              "      display: none;\n",
              "      fill: #1967D2;\n",
              "      height: 32px;\n",
              "      padding: 0 0 0 0;\n",
              "      width: 32px;\n",
              "    }\n",
              "\n",
              "    .colab-df-convert:hover {\n",
              "      background-color: #E2EBFA;\n",
              "      box-shadow: 0px 1px 2px rgba(60, 64, 67, 0.3), 0px 1px 3px 1px rgba(60, 64, 67, 0.15);\n",
              "      fill: #174EA6;\n",
              "    }\n",
              "\n",
              "    .colab-df-buttons div {\n",
              "      margin-bottom: 4px;\n",
              "    }\n",
              "\n",
              "    [theme=dark] .colab-df-convert {\n",
              "      background-color: #3B4455;\n",
              "      fill: #D2E3FC;\n",
              "    }\n",
              "\n",
              "    [theme=dark] .colab-df-convert:hover {\n",
              "      background-color: #434B5C;\n",
              "      box-shadow: 0px 1px 3px 1px rgba(0, 0, 0, 0.15);\n",
              "      filter: drop-shadow(0px 1px 2px rgba(0, 0, 0, 0.3));\n",
              "      fill: #FFFFFF;\n",
              "    }\n",
              "  </style>\n",
              "\n",
              "    <script>\n",
              "      const buttonEl =\n",
              "        document.querySelector('#df-de93c1ea-643f-45b4-bdb9-0e45c624b169 button.colab-df-convert');\n",
              "      buttonEl.style.display =\n",
              "        google.colab.kernel.accessAllowed ? 'block' : 'none';\n",
              "\n",
              "      async function convertToInteractive(key) {\n",
              "        const element = document.querySelector('#df-de93c1ea-643f-45b4-bdb9-0e45c624b169');\n",
              "        const dataTable =\n",
              "          await google.colab.kernel.invokeFunction('convertToInteractive',\n",
              "                                                    [key], {});\n",
              "        if (!dataTable) return;\n",
              "\n",
              "        const docLinkHtml = 'Like what you see? Visit the ' +\n",
              "          '<a target=\"_blank\" href=https://colab.research.google.com/notebooks/data_table.ipynb>data table notebook</a>'\n",
              "          + ' to learn more about interactive tables.';\n",
              "        element.innerHTML = '';\n",
              "        dataTable['output_type'] = 'display_data';\n",
              "        await google.colab.output.renderOutput(dataTable, element);\n",
              "        const docLink = document.createElement('div');\n",
              "        docLink.innerHTML = docLinkHtml;\n",
              "        element.appendChild(docLink);\n",
              "      }\n",
              "    </script>\n",
              "  </div>\n",
              "\n",
              "\n",
              "<div id=\"df-adf9e9db-d678-4d5d-829f-cf6fadb94b76\">\n",
              "  <button class=\"colab-df-quickchart\" onclick=\"quickchart('df-adf9e9db-d678-4d5d-829f-cf6fadb94b76')\"\n",
              "            title=\"Suggest charts.\"\n",
              "            style=\"display:none;\">\n",
              "\n",
              "<svg xmlns=\"http://www.w3.org/2000/svg\" height=\"24px\"viewBox=\"0 0 24 24\"\n",
              "     width=\"24px\">\n",
              "    <g>\n",
              "        <path d=\"M19 3H5c-1.1 0-2 .9-2 2v14c0 1.1.9 2 2 2h14c1.1 0 2-.9 2-2V5c0-1.1-.9-2-2-2zM9 17H7v-7h2v7zm4 0h-2V7h2v10zm4 0h-2v-4h2v4z\"/>\n",
              "    </g>\n",
              "</svg>\n",
              "  </button>\n",
              "\n",
              "<style>\n",
              "  .colab-df-quickchart {\n",
              "    background-color: #E8F0FE;\n",
              "    border: none;\n",
              "    border-radius: 50%;\n",
              "    cursor: pointer;\n",
              "    display: none;\n",
              "    fill: #1967D2;\n",
              "    height: 32px;\n",
              "    padding: 0 0 0 0;\n",
              "    width: 32px;\n",
              "  }\n",
              "\n",
              "  .colab-df-quickchart:hover {\n",
              "    background-color: #E2EBFA;\n",
              "    box-shadow: 0px 1px 2px rgba(60, 64, 67, 0.3), 0px 1px 3px 1px rgba(60, 64, 67, 0.15);\n",
              "    fill: #174EA6;\n",
              "  }\n",
              "\n",
              "  [theme=dark] .colab-df-quickchart {\n",
              "    background-color: #3B4455;\n",
              "    fill: #D2E3FC;\n",
              "  }\n",
              "\n",
              "  [theme=dark] .colab-df-quickchart:hover {\n",
              "    background-color: #434B5C;\n",
              "    box-shadow: 0px 1px 3px 1px rgba(0, 0, 0, 0.15);\n",
              "    filter: drop-shadow(0px 1px 2px rgba(0, 0, 0, 0.3));\n",
              "    fill: #FFFFFF;\n",
              "  }\n",
              "</style>\n",
              "\n",
              "  <script>\n",
              "    async function quickchart(key) {\n",
              "      const charts = await google.colab.kernel.invokeFunction(\n",
              "          'suggestCharts', [key], {});\n",
              "    }\n",
              "    (() => {\n",
              "      let quickchartButtonEl =\n",
              "        document.querySelector('#df-adf9e9db-d678-4d5d-829f-cf6fadb94b76 button');\n",
              "      quickchartButtonEl.style.display =\n",
              "        google.colab.kernel.accessAllowed ? 'block' : 'none';\n",
              "    })();\n",
              "  </script>\n",
              "</div>\n",
              "    </div>\n",
              "  </div>\n"
            ]
          },
          "metadata": {},
          "execution_count": 8
        }
      ],
      "source": [
        "dfs[\"train\"].head()"
      ]
    },
    {
      "cell_type": "markdown",
      "id": "7b82a2be-e668-44fd-8e64-9e5a69b79623",
      "metadata": {
        "id": "7b82a2be-e668-44fd-8e64-9e5a69b79623"
      },
      "source": [
        "### Sample columns and rows"
      ]
    },
    {
      "cell_type": "code",
      "execution_count": null,
      "id": "a2b50c80-a054-4ae3-b7e0-bb1ac8c605f9",
      "metadata": {
        "id": "a2b50c80-a054-4ae3-b7e0-bb1ac8c605f9"
      },
      "outputs": [],
      "source": [
        "qa_cols = [\"title\", \"question\", \"answers.text\", \"answers.answer_start\", \"context\"]\n",
        "\n",
        "sample_df = dfs[\"train\"][qa_cols].sample(5, random_state=7)"
      ]
    },
    {
      "cell_type": "code",
      "execution_count": null,
      "id": "f514c491-32ce-4077-b7be-de7133825f43",
      "metadata": {
        "colab": {
          "base_uri": "https://localhost:8080/",
          "height": 206
        },
        "id": "f514c491-32ce-4077-b7be-de7133825f43",
        "outputId": "f440907e-2896-41e5-b978-ad3c05170c34"
      },
      "outputs": [
        {
          "output_type": "execute_result",
          "data": {
            "text/plain": [
              "           title                              question  \\\n",
              "791   B005DKZTMG        Does the keyboard lightweight?   \n",
              "1159  B00AAIPT76                   How is the battery?   \n",
              "961   B0074BW614         How is the cell phone screen?   \n",
              "1188  B00BGGDVOO  Do you have any computer with mouse?   \n",
              "999   B007P4VOWC                    How is the camera?   \n",
              "\n",
              "                                           answers.text answers.answer_start  \\\n",
              "791                          [this keyboard is compact]                [215]   \n",
              "1159                                                 []                   []   \n",
              "961   [The interface takes a few tries to get used t...                [535]   \n",
              "1188                                                 []                   []   \n",
              "999                                                  []                   []   \n",
              "\n",
              "                                                context  \n",
              "791   I really like this keyboard.  I give it 4 star...  \n",
              "1159  I bought this after the first spare gopro batt...  \n",
              "961   Don't get me wrong, I love my e-ink kindle to ...  \n",
              "1188  After deciding to ditch cable TV I started to ...  \n",
              "999   I purchased the Tab 2 for my fianc&eacute; and...  "
            ],
            "text/html": [
              "\n",
              "  <div id=\"df-631521be-d789-4ce2-af0b-57c1b3671ff0\" class=\"colab-df-container\">\n",
              "    <div>\n",
              "<style scoped>\n",
              "    .dataframe tbody tr th:only-of-type {\n",
              "        vertical-align: middle;\n",
              "    }\n",
              "\n",
              "    .dataframe tbody tr th {\n",
              "        vertical-align: top;\n",
              "    }\n",
              "\n",
              "    .dataframe thead th {\n",
              "        text-align: right;\n",
              "    }\n",
              "</style>\n",
              "<table border=\"1\" class=\"dataframe\">\n",
              "  <thead>\n",
              "    <tr style=\"text-align: right;\">\n",
              "      <th></th>\n",
              "      <th>title</th>\n",
              "      <th>question</th>\n",
              "      <th>answers.text</th>\n",
              "      <th>answers.answer_start</th>\n",
              "      <th>context</th>\n",
              "    </tr>\n",
              "  </thead>\n",
              "  <tbody>\n",
              "    <tr>\n",
              "      <th>791</th>\n",
              "      <td>B005DKZTMG</td>\n",
              "      <td>Does the keyboard lightweight?</td>\n",
              "      <td>[this keyboard is compact]</td>\n",
              "      <td>[215]</td>\n",
              "      <td>I really like this keyboard.  I give it 4 star...</td>\n",
              "    </tr>\n",
              "    <tr>\n",
              "      <th>1159</th>\n",
              "      <td>B00AAIPT76</td>\n",
              "      <td>How is the battery?</td>\n",
              "      <td>[]</td>\n",
              "      <td>[]</td>\n",
              "      <td>I bought this after the first spare gopro batt...</td>\n",
              "    </tr>\n",
              "    <tr>\n",
              "      <th>961</th>\n",
              "      <td>B0074BW614</td>\n",
              "      <td>How is the cell phone screen?</td>\n",
              "      <td>[The interface takes a few tries to get used t...</td>\n",
              "      <td>[535]</td>\n",
              "      <td>Don't get me wrong, I love my e-ink kindle to ...</td>\n",
              "    </tr>\n",
              "    <tr>\n",
              "      <th>1188</th>\n",
              "      <td>B00BGGDVOO</td>\n",
              "      <td>Do you have any computer with mouse?</td>\n",
              "      <td>[]</td>\n",
              "      <td>[]</td>\n",
              "      <td>After deciding to ditch cable TV I started to ...</td>\n",
              "    </tr>\n",
              "    <tr>\n",
              "      <th>999</th>\n",
              "      <td>B007P4VOWC</td>\n",
              "      <td>How is the camera?</td>\n",
              "      <td>[]</td>\n",
              "      <td>[]</td>\n",
              "      <td>I purchased the Tab 2 for my fianc&amp;eacute; and...</td>\n",
              "    </tr>\n",
              "  </tbody>\n",
              "</table>\n",
              "</div>\n",
              "    <div class=\"colab-df-buttons\">\n",
              "\n",
              "  <div class=\"colab-df-container\">\n",
              "    <button class=\"colab-df-convert\" onclick=\"convertToInteractive('df-631521be-d789-4ce2-af0b-57c1b3671ff0')\"\n",
              "            title=\"Convert this dataframe to an interactive table.\"\n",
              "            style=\"display:none;\">\n",
              "\n",
              "  <svg xmlns=\"http://www.w3.org/2000/svg\" height=\"24px\" viewBox=\"0 -960 960 960\">\n",
              "    <path d=\"M120-120v-720h720v720H120Zm60-500h600v-160H180v160Zm220 220h160v-160H400v160Zm0 220h160v-160H400v160ZM180-400h160v-160H180v160Zm440 0h160v-160H620v160ZM180-180h160v-160H180v160Zm440 0h160v-160H620v160Z\"/>\n",
              "  </svg>\n",
              "    </button>\n",
              "\n",
              "  <style>\n",
              "    .colab-df-container {\n",
              "      display:flex;\n",
              "      gap: 12px;\n",
              "    }\n",
              "\n",
              "    .colab-df-convert {\n",
              "      background-color: #E8F0FE;\n",
              "      border: none;\n",
              "      border-radius: 50%;\n",
              "      cursor: pointer;\n",
              "      display: none;\n",
              "      fill: #1967D2;\n",
              "      height: 32px;\n",
              "      padding: 0 0 0 0;\n",
              "      width: 32px;\n",
              "    }\n",
              "\n",
              "    .colab-df-convert:hover {\n",
              "      background-color: #E2EBFA;\n",
              "      box-shadow: 0px 1px 2px rgba(60, 64, 67, 0.3), 0px 1px 3px 1px rgba(60, 64, 67, 0.15);\n",
              "      fill: #174EA6;\n",
              "    }\n",
              "\n",
              "    .colab-df-buttons div {\n",
              "      margin-bottom: 4px;\n",
              "    }\n",
              "\n",
              "    [theme=dark] .colab-df-convert {\n",
              "      background-color: #3B4455;\n",
              "      fill: #D2E3FC;\n",
              "    }\n",
              "\n",
              "    [theme=dark] .colab-df-convert:hover {\n",
              "      background-color: #434B5C;\n",
              "      box-shadow: 0px 1px 3px 1px rgba(0, 0, 0, 0.15);\n",
              "      filter: drop-shadow(0px 1px 2px rgba(0, 0, 0, 0.3));\n",
              "      fill: #FFFFFF;\n",
              "    }\n",
              "  </style>\n",
              "\n",
              "    <script>\n",
              "      const buttonEl =\n",
              "        document.querySelector('#df-631521be-d789-4ce2-af0b-57c1b3671ff0 button.colab-df-convert');\n",
              "      buttonEl.style.display =\n",
              "        google.colab.kernel.accessAllowed ? 'block' : 'none';\n",
              "\n",
              "      async function convertToInteractive(key) {\n",
              "        const element = document.querySelector('#df-631521be-d789-4ce2-af0b-57c1b3671ff0');\n",
              "        const dataTable =\n",
              "          await google.colab.kernel.invokeFunction('convertToInteractive',\n",
              "                                                    [key], {});\n",
              "        if (!dataTable) return;\n",
              "\n",
              "        const docLinkHtml = 'Like what you see? Visit the ' +\n",
              "          '<a target=\"_blank\" href=https://colab.research.google.com/notebooks/data_table.ipynb>data table notebook</a>'\n",
              "          + ' to learn more about interactive tables.';\n",
              "        element.innerHTML = '';\n",
              "        dataTable['output_type'] = 'display_data';\n",
              "        await google.colab.output.renderOutput(dataTable, element);\n",
              "        const docLink = document.createElement('div');\n",
              "        docLink.innerHTML = docLinkHtml;\n",
              "        element.appendChild(docLink);\n",
              "      }\n",
              "    </script>\n",
              "  </div>\n",
              "\n",
              "\n",
              "<div id=\"df-1511824a-9875-418a-a49a-da6c6b922ca0\">\n",
              "  <button class=\"colab-df-quickchart\" onclick=\"quickchart('df-1511824a-9875-418a-a49a-da6c6b922ca0')\"\n",
              "            title=\"Suggest charts.\"\n",
              "            style=\"display:none;\">\n",
              "\n",
              "<svg xmlns=\"http://www.w3.org/2000/svg\" height=\"24px\"viewBox=\"0 0 24 24\"\n",
              "     width=\"24px\">\n",
              "    <g>\n",
              "        <path d=\"M19 3H5c-1.1 0-2 .9-2 2v14c0 1.1.9 2 2 2h14c1.1 0 2-.9 2-2V5c0-1.1-.9-2-2-2zM9 17H7v-7h2v7zm4 0h-2V7h2v10zm4 0h-2v-4h2v4z\"/>\n",
              "    </g>\n",
              "</svg>\n",
              "  </button>\n",
              "\n",
              "<style>\n",
              "  .colab-df-quickchart {\n",
              "    background-color: #E8F0FE;\n",
              "    border: none;\n",
              "    border-radius: 50%;\n",
              "    cursor: pointer;\n",
              "    display: none;\n",
              "    fill: #1967D2;\n",
              "    height: 32px;\n",
              "    padding: 0 0 0 0;\n",
              "    width: 32px;\n",
              "  }\n",
              "\n",
              "  .colab-df-quickchart:hover {\n",
              "    background-color: #E2EBFA;\n",
              "    box-shadow: 0px 1px 2px rgba(60, 64, 67, 0.3), 0px 1px 3px 1px rgba(60, 64, 67, 0.15);\n",
              "    fill: #174EA6;\n",
              "  }\n",
              "\n",
              "  [theme=dark] .colab-df-quickchart {\n",
              "    background-color: #3B4455;\n",
              "    fill: #D2E3FC;\n",
              "  }\n",
              "\n",
              "  [theme=dark] .colab-df-quickchart:hover {\n",
              "    background-color: #434B5C;\n",
              "    box-shadow: 0px 1px 3px 1px rgba(0, 0, 0, 0.15);\n",
              "    filter: drop-shadow(0px 1px 2px rgba(0, 0, 0, 0.3));\n",
              "    fill: #FFFFFF;\n",
              "  }\n",
              "</style>\n",
              "\n",
              "  <script>\n",
              "    async function quickchart(key) {\n",
              "      const charts = await google.colab.kernel.invokeFunction(\n",
              "          'suggestCharts', [key], {});\n",
              "    }\n",
              "    (() => {\n",
              "      let quickchartButtonEl =\n",
              "        document.querySelector('#df-1511824a-9875-418a-a49a-da6c6b922ca0 button');\n",
              "      quickchartButtonEl.style.display =\n",
              "        google.colab.kernel.accessAllowed ? 'block' : 'none';\n",
              "    })();\n",
              "  </script>\n",
              "</div>\n",
              "    </div>\n",
              "  </div>\n"
            ]
          },
          "metadata": {},
          "execution_count": 10
        }
      ],
      "source": [
        "sample_df"
      ]
    },
    {
      "cell_type": "code",
      "execution_count": null,
      "id": "3f78f11a-03f0-4182-98c3-543692bb24c1",
      "metadata": {
        "colab": {
          "base_uri": "https://localhost:8080/",
          "height": 53
        },
        "id": "3f78f11a-03f0-4182-98c3-543692bb24c1",
        "outputId": "c1a64d48-b236-4594-abe6-99f23e24e2ed"
      },
      "outputs": [
        {
          "output_type": "execute_result",
          "data": {
            "text/plain": [
              "\"I really like this keyboard.  I give it 4 stars because it doesn't have a CAPS LOCK key so I never know if my caps are on.  But for the price, it really suffices as a wireless keyboard.  I have very large hands and this keyboard is compact, but I have no complaints.\""
            ],
            "application/vnd.google.colaboratory.intrinsic+json": {
              "type": "string"
            }
          },
          "metadata": {},
          "execution_count": 11
        }
      ],
      "source": [
        "sample_df[\"context\"].iloc[0]"
      ]
    },
    {
      "cell_type": "markdown",
      "id": "31dc7708-8222-4c95-9ccd-24d87aea2763",
      "metadata": {
        "id": "31dc7708-8222-4c95-9ccd-24d87aea2763"
      },
      "source": [
        "1. Question are not grammatically correct\n",
        "2. Question may not have an answer (unanswerable) as answers.text is empty in all the samples\n",
        "3. Use start_index from answers.answer_start and the length of the answer span from answers.text to slice out the span of the answer in the context"
      ]
    },
    {
      "cell_type": "markdown",
      "id": "d273c4ee-de83-40a1-9b3a-c6b83536ad9d",
      "metadata": {
        "id": "d273c4ee-de83-40a1-9b3a-c6b83536ad9d"
      },
      "source": [
        "#### Slice out the answer from the context"
      ]
    },
    {
      "cell_type": "code",
      "execution_count": null,
      "id": "0d6cbd8c-6f40-4428-b157-0e37bc115a7f",
      "metadata": {
        "colab": {
          "base_uri": "https://localhost:8080/",
          "height": 35
        },
        "id": "0d6cbd8c-6f40-4428-b157-0e37bc115a7f",
        "outputId": "d467a03b-8d6d-4a14-ca80-5edb6cbc9cf0"
      },
      "outputs": [
        {
          "output_type": "execute_result",
          "data": {
            "text/plain": [
              "'this keyboard is compact'"
            ],
            "application/vnd.google.colaboratory.intrinsic+json": {
              "type": "string"
            }
          },
          "metadata": {},
          "execution_count": 12
        }
      ],
      "source": [
        "start_idx = sample_df[\"answers.answer_start\"].iloc[0][0]\n",
        "end_idx = start_idx + len(sample_df[\"answers.text\"].iloc[0][0])\n",
        "\n",
        "sample_df[\"context\"].iloc[0][start_idx:end_idx]"
      ]
    },
    {
      "cell_type": "markdown",
      "id": "782c1d70-1067-46b9-9f5e-b61aa85d084e",
      "metadata": {
        "id": "782c1d70-1067-46b9-9f5e-b61aa85d084e"
      },
      "source": [
        "#### Question analysis"
      ]
    },
    {
      "cell_type": "code",
      "execution_count": null,
      "id": "5233380c-a608-40be-a0f5-42f6e0765115",
      "metadata": {
        "id": "5233380c-a608-40be-a0f5-42f6e0765115"
      },
      "outputs": [],
      "source": [
        "counts = {}\n",
        "question_types = [\"What\", \"How\", \"Is\", \"Does\",\"Do\",\"Was\", \"Where\", \"Why\"]\n",
        "\n",
        "for q in question_types:\n",
        "    counts[q] = dfs[\"train\"][\"question\"].str.startswith(q).value_counts()[True]"
      ]
    },
    {
      "cell_type": "code",
      "execution_count": null,
      "id": "a16ea1b6-2832-4439-9cd8-5f02b9ff304a",
      "metadata": {
        "colab": {
          "base_uri": "https://localhost:8080/",
          "height": 452
        },
        "id": "a16ea1b6-2832-4439-9cd8-5f02b9ff304a",
        "outputId": "253dbdc9-02b2-4268-fa38-3241231586f1"
      },
      "outputs": [
        {
          "output_type": "display_data",
          "data": {
            "text/plain": [
              "<Figure size 640x480 with 1 Axes>"
            ],
            "image/png": "[encoded data removed]"
          },
          "metadata": {}
        }
      ],
      "source": [
        "import matplotlib.pyplot as plt\n",
        "pd.Series(counts).sort_values().plot.barh()\n",
        "plt.title(\"Frequency of Question Types\")\n",
        "plt.show()"
      ]
    },
    {
      "cell_type": "markdown",
      "id": "7d07d46e-8856-496b-a308-dfe73ef92e01",
      "metadata": {
        "id": "7d07d46e-8856-496b-a308-dfe73ef92e01"
      },
      "source": [
        "##### Questions starting with How, What and Is cover more than 95% of the entire dataset"
      ]
    },
    {
      "cell_type": "markdown",
      "id": "020ef906-afb0-4fad-b1a9-65aa81727150",
      "metadata": {
        "id": "020ef906-afb0-4fad-b1a9-65aa81727150"
      },
      "source": [
        "### Sample questions from these groups"
      ]
    },
    {
      "cell_type": "code",
      "execution_count": null,
      "id": "c9b38133-73c0-4886-903a-28fc992f7dc6",
      "metadata": {
        "colab": {
          "base_uri": "https://localhost:8080/"
        },
        "id": "c9b38133-73c0-4886-903a-28fc992f7dc6",
        "outputId": "71282953-3756-467c-a8a2-71f3f37c32ff"
      },
      "outputs": [
        {
          "output_type": "stream",
          "name": "stdout",
          "text": [
            "How is the camera?\n",
            "How do you like the control?\n",
            "How fast is the charger?\n",
            "What is direction?\n",
            "What is the quality of the construction of the bag?\n",
            "What is your impression of the product?\n",
            "Is this how zoom works?\n",
            "Is sound clear?\n",
            "Is it a wireless keyboard?\n"
          ]
        }
      ],
      "source": [
        "for q_type in ['How', 'What', 'Is']:\n",
        "    for question in (dfs[\"train\"][dfs[\"train\"].question.str.startswith(q_type)].sample(n=3, random_state=42)[\"question\"]):\n",
        "        print(question)"
      ]
    },
    {
      "cell_type": "markdown",
      "id": "ccb47cf3-31a5-4646-b81b-491fa1687ee3",
      "metadata": {
        "id": "ccb47cf3-31a5-4646-b81b-491fa1687ee3"
      },
      "source": [
        "## Three problems that we will focus on here:\n",
        "1. Framing the supervised learning problem\n",
        "2. Tokenization and encoding of the text for QA tasks\n",
        "3. Handling long passages that exceed the model's context limit"
      ]
    },
    {
      "cell_type": "markdown",
      "id": "d8d4d057-90f4-48e5-a704-986d2e6056e9",
      "metadata": {
        "id": "d8d4d057-90f4-48e5-a704-986d2e6056e9"
      },
      "source": [
        "### Framing as Span classification task\n",
        "Question for us is how to train a fresh or a pretrained model to generate relevant answers for a given question\n",
        "\n",
        "It is possible or done by framing the QA as span classification task where the starting and the ending token from the answer are fed to the language model as labels. The architecture should look as shown in the image below.\n",
        "\n",
        "##### In short, we want the model to predict where does the answer starts and ends in the context."
      ]
    },
    {
      "cell_type": "markdown",
      "id": "cb8ef2d5-5cde-4387-b330-8a2550b562ea",
      "metadata": {
        "id": "cb8ef2d5-5cde-4387-b330-8a2550b562ea"
      },
      "source": [
        "**bold text**![image.png](attachment:a92ed41a-5c8b-49e6-aad1-bb6ea92db6ce.png)"
      ]
    },
    {
      "cell_type": "markdown",
      "id": "d59f67b1-7a50-477f-be3e-21e389fcdb78",
      "metadata": {
        "id": "d59f67b1-7a50-477f-be3e-21e389fcdb78"
      },
      "source": [
        "Image Source: https://learning.oreilly.com/library/view/natural-language-processing/9781098136789/ch07.html#qa-head"
      ]
    },
    {
      "cell_type": "markdown",
      "id": "0b5ab17e-931c-45e5-8fd1-e181ef2296c5",
      "metadata": {
        "id": "0b5ab17e-931c-45e5-8fd1-e181ef2296c5"
      },
      "source": [
        "### Base Model\n",
        "1. SubQA electronics dataset has only 1295 training samples.\n",
        "2. We need to do transfer learning by taking an already trained model on QA tasks\n",
        "3. Options are like MiniLM (Params=66M, F1=79.5), RoBerta-base(125M, 83.0), ALBERT-XXL(235M, 88.1), XLM-RoBERTa-large(570M, 83.8)\n",
        "4. Better to test with **MiniLM** as it will be faster to train and it preserves 99% of the BERT's performance"
      ]
    },
    {
      "cell_type": "markdown",
      "id": "304fe514-f4a7-41ed-8e26-eecd04d4699c",
      "metadata": {
        "id": "304fe514-f4a7-41ed-8e26-eecd04d4699c"
      },
      "source": [
        "##### NOTE the difference here is we take an already fine-tuned model on QA task than taking some model trained on an unsupervised task"
      ]
    },
    {
      "cell_type": "markdown",
      "id": "16b1a5f5-a72e-4ff4-9cec-1aa8168a1f17",
      "metadata": {
        "id": "16b1a5f5-a72e-4ff4-9cec-1aa8168a1f17"
      },
      "source": [
        "### Tokenization\n",
        "Use the AutoTokenize with MiniLM checkpoints"
      ]
    },
    {
      "cell_type": "code",
      "execution_count": null,
      "id": "23ce9fc7-eb3a-4db2-89ce-1a91e033e982",
      "metadata": {
        "id": "23ce9fc7-eb3a-4db2-89ce-1a91e033e982"
      },
      "outputs": [],
      "source": [
        "from transformers import AutoTokenizer\n",
        "\n",
        "model_ckpt = \"deepset/minilm-uncased-squad2\"\n",
        "tokenizer = AutoTokenizer.from_pretrained(model_ckpt)"
      ]
    },
    {
      "cell_type": "markdown",
      "id": "e2043040-f2b0-4b3c-8098-1a50c7f1eed4",
      "metadata": {
        "id": "e2043040-f2b0-4b3c-8098-1a50c7f1eed4"
      },
      "source": [
        "#### Inputs in the form of (question, context) pairs"
      ]
    },
    {
      "cell_type": "code",
      "execution_count": null,
      "id": "c41039bf-5f20-49ff-8eab-670f12615cf3",
      "metadata": {
        "id": "c41039bf-5f20-49ff-8eab-670f12615cf3"
      },
      "outputs": [],
      "source": [
        "question = \"How much music can this hold?\"\n",
        "context = \"\"\"An MP3 is about 1MB/minute, so about 6000 hours depending on the file size.\"\"\"\n",
        "\n",
        "inputs = tokenizer(question, context, return_tensors=\"pt\")"
      ]
    },
    {
      "cell_type": "code",
      "execution_count": null,
      "id": "574b3d14-2166-486b-8114-2c90a1847216",
      "metadata": {
        "colab": {
          "base_uri": "https://localhost:8080/"
        },
        "id": "574b3d14-2166-486b-8114-2c90a1847216",
        "outputId": "0f4aabc6-a414-4107-a505-23f9ac4fc077"
      },
      "outputs": [
        {
          "output_type": "execute_result",
          "data": {
            "text/plain": [
              "{'input_ids': tensor([[  101,  2129,  2172,  2189,  2064,  2023,  2907,  1029,   102,  2019,\n",
              "         23378,  2003,  2055,  1015, 14905,  1013,  3371,  1010,  2061,  2055,\n",
              "         25961,  2847,  5834,  2006,  1996,  5371,  2946,  1012,   102]]), 'token_type_ids': tensor([[0, 0, 0, 0, 0, 0, 0, 0, 0, 1, 1, 1, 1, 1, 1, 1, 1, 1, 1, 1, 1, 1, 1, 1,\n",
              "         1, 1, 1, 1, 1]]), 'attention_mask': tensor([[1, 1, 1, 1, 1, 1, 1, 1, 1, 1, 1, 1, 1, 1, 1, 1, 1, 1, 1, 1, 1, 1, 1, 1,\n",
              "         1, 1, 1, 1, 1]])}"
            ]
          },
          "metadata": {},
          "execution_count": 18
        }
      ],
      "source": [
        "inputs"
      ]
    },
    {
      "cell_type": "markdown",
      "id": "2129d8a4-c3ad-4970-95b5-a66d108e114a",
      "metadata": {
        "id": "2129d8a4-c3ad-4970-95b5-a66d108e114a"
      },
      "source": [
        "token_type_ids indicate the part of the inputs that correspond ot the question (0s) and the answer(1s)"
      ]
    },
    {
      "cell_type": "code",
      "execution_count": null,
      "id": "f7ffa119-e37b-452f-83f1-cc67f619ce1f",
      "metadata": {
        "colab": {
          "base_uri": "https://localhost:8080/",
          "height": 35
        },
        "id": "f7ffa119-e37b-452f-83f1-cc67f619ce1f",
        "outputId": "5037b9fe-6d29-41c7-fd1d-80c86f019921"
      },
      "outputs": [
        {
          "output_type": "execute_result",
          "data": {
            "text/plain": [
              "'[CLS] how much music can this hold? [SEP] an mp3 is about 1mb / minute, so about 6000 hours depending on the file size. [SEP]'"
            ],
            "application/vnd.google.colaboratory.intrinsic+json": {
              "type": "string"
            }
          },
          "metadata": {},
          "execution_count": 19
        }
      ],
      "source": [
        "tokenizer.decode(inputs[\"input_ids\"][0])"
      ]
    },
    {
      "cell_type": "markdown",
      "id": "a84a866b-14ce-4de9-98d0-358fa29290b3",
      "metadata": {
        "id": "a84a866b-14ce-4de9-98d0-358fa29290b3"
      },
      "source": [
        "#### Run a forward pass with the sample input_ids"
      ]
    },
    {
      "cell_type": "code",
      "execution_count": null,
      "id": "79dca1af-bbe8-418c-b3ff-1428e06744e9",
      "metadata": {
        "colab": {
          "base_uri": "https://localhost:8080/"
        },
        "id": "79dca1af-bbe8-418c-b3ff-1428e06744e9",
        "outputId": "5ade1993-e36c-4988-bcbd-9e560ed12bea"
      },
      "outputs": [
        {
          "output_type": "stream",
          "name": "stderr",
          "text": [
            "Some weights of the model checkpoint at deepset/minilm-uncased-squad2 were not used when initializing BertForQuestionAnswering: ['bert.pooler.dense.bias', 'bert.pooler.dense.weight']\n",
            "- This IS expected if you are initializing BertForQuestionAnswering from the checkpoint of a model trained on another task or with another architecture (e.g. initializing a BertForSequenceClassification model from a BertForPreTraining model).\n",
            "- This IS NOT expected if you are initializing BertForQuestionAnswering from the checkpoint of a model that you expect to be exactly identical (initializing a BertForSequenceClassification model from a BertForSequenceClassification model).\n"
          ]
        },
        {
          "output_type": "stream",
          "name": "stdout",
          "text": [
            "QuestionAnsweringModelOutput(loss=None, start_logits=tensor([[-1.0619, -4.7759, -5.4051, -5.2591, -5.2996, -5.5154, -5.0100, -6.1931,\n",
            "         -1.0619,  0.7555, -0.1241, -1.5151,  3.8058,  4.5635, -3.0061, -3.8606,\n",
            "         -2.0051, -4.5976, -1.2444,  4.2204,  5.1371, -0.2043, -3.1518, -5.0111,\n",
            "         -3.5610, -2.6119, -3.4716, -3.4210, -1.0619]]), end_logits=tensor([[-0.9882, -5.4957, -5.0272, -5.1663, -5.4640, -5.5374, -5.2239, -4.5714,\n",
            "         -0.9882, -3.7424, -0.7967, -3.8335, -3.0339, -2.0091, -0.0790, -3.0468,\n",
            "          4.3984,  0.4478, -3.1732, -3.1117,  0.7613,  5.7884, -0.0757, -4.7972,\n",
            "         -3.7017, -3.0721,  0.1565,  2.0515, -0.9882]]), hidden_states=None, attentions=None)\n"
          ]
        }
      ],
      "source": [
        "import torch\n",
        "from transformers import AutoModelForQuestionAnswering\n",
        "\n",
        "model = AutoModelForQuestionAnswering.from_pretrained(model_ckpt)\n",
        "\n",
        "with torch.no_grad():\n",
        "    outputs = model(**inputs)\n",
        "\n",
        "print(outputs)"
      ]
    },
    {
      "cell_type": "markdown",
      "id": "1d5f6ded-116d-492a-bcd2-8295395731be",
      "metadata": {
        "id": "1d5f6ded-116d-492a-bcd2-8295395731be"
      },
      "source": [
        "The output by the QA model is of type **QuestionAnsweringModelOutput**"
      ]
    },
    {
      "cell_type": "markdown",
      "id": "094f3beb-1595-4cc6-a40b-c14a3fe22c30",
      "metadata": {
        "id": "094f3beb-1595-4cc6-a40b-c14a3fe22c30"
      },
      "source": [
        "#### Get the final answer using argmax on start and end logits"
      ]
    },
    {
      "cell_type": "code",
      "execution_count": null,
      "id": "f6029f8c-aad0-4f00-9d9c-414931062d29",
      "metadata": {
        "id": "f6029f8c-aad0-4f00-9d9c-414931062d29"
      },
      "outputs": [],
      "source": [
        "start_logits = outputs.start_logits\n",
        "end_logits   = outputs.end_logits"
      ]
    },
    {
      "cell_type": "code",
      "execution_count": null,
      "id": "f5b071d3-731c-475f-9410-c00c604be0ed",
      "metadata": {
        "colab": {
          "base_uri": "https://localhost:8080/"
        },
        "id": "f5b071d3-731c-475f-9410-c00c604be0ed",
        "outputId": "f8676220-21f8-45aa-a807-19c7db065cfc"
      },
      "outputs": [
        {
          "output_type": "stream",
          "name": "stdout",
          "text": [
            "Input IDs shape: torch.Size([1, 29])\n",
            "Start logits shape: torch.Size([1, 29])\n",
            "End logits shape: torch.Size([1, 29])\n"
          ]
        }
      ],
      "source": [
        "print(f\"Input IDs shape: {inputs.input_ids.size()}\")\n",
        "print(f\"Start logits shape: {start_logits.size()}\")\n",
        "print(f\"End logits shape: {end_logits.size()}\")"
      ]
    },
    {
      "cell_type": "code",
      "execution_count": null,
      "id": "b7a4841b-d6b7-48a2-9f46-fdaa657602ad",
      "metadata": {
        "id": "b7a4841b-d6b7-48a2-9f46-fdaa657602ad"
      },
      "outputs": [],
      "source": []
    },
    {
      "cell_type": "markdown",
      "id": "528dcb4e-23e1-4b43-b3c9-01ca8ca5dd65",
      "metadata": {
        "id": "528dcb4e-23e1-4b43-b3c9-01ca8ca5dd65"
      },
      "source": [
        "Shape is same as the inputs because every token is probable start and end logit\n",
        "\n",
        "Only by applying the argmax, one can find the exact one"
      ]
    },
    {
      "cell_type": "code",
      "execution_count": null,
      "id": "2ca28e71-9931-4c2f-965d-344a5d95b776",
      "metadata": {
        "id": "2ca28e71-9931-4c2f-965d-344a5d95b776"
      },
      "outputs": [],
      "source": [
        "start_idx = torch.argmax(start_logits)\n",
        "end_idx = torch.argmax(end_logits) + 1"
      ]
    },
    {
      "cell_type": "code",
      "execution_count": null,
      "id": "5ecf3de9-d58b-4d7d-a406-dc944042f3e9",
      "metadata": {
        "id": "5ecf3de9-d58b-4d7d-a406-dc944042f3e9"
      },
      "outputs": [],
      "source": [
        "answer_span = inputs[\"input_ids\"][0][start_idx:end_idx]\n",
        "answer = tokenizer.decode(answer_span)"
      ]
    },
    {
      "cell_type": "code",
      "execution_count": null,
      "id": "6927202d-ca53-4ef7-b159-1e92f0b5648b",
      "metadata": {
        "colab": {
          "base_uri": "https://localhost:8080/"
        },
        "id": "6927202d-ca53-4ef7-b159-1e92f0b5648b",
        "outputId": "8a3cdc72-9d03-4cac-a678-efdb9259547b"
      },
      "outputs": [
        {
          "output_type": "stream",
          "name": "stdout",
          "text": [
            "Question: How much music can this hold?\n",
            "Answer: 6000 hours\n"
          ]
        }
      ],
      "source": [
        "print(f\"Question: {question}\")\n",
        "print(f\"Answer: {answer}\")"
      ]
    },
    {
      "cell_type": "markdown",
      "id": "98586885-ead3-48f9-ab8e-baca4609fcd5",
      "metadata": {
        "id": "98586885-ead3-48f9-ab8e-baca4609fcd5"
      },
      "source": [
        "#### Repeating the above prediction using pipeline"
      ]
    },
    {
      "cell_type": "code",
      "execution_count": null,
      "id": "fdb12708-026d-4741-9a05-4bc49c2efbf9",
      "metadata": {
        "colab": {
          "base_uri": "https://localhost:8080/"
        },
        "id": "fdb12708-026d-4741-9a05-4bc49c2efbf9",
        "outputId": "8b3b7eb4-b508-4b73-bb2d-6852c1de000c"
      },
      "outputs": [
        {
          "output_type": "stream",
          "name": "stderr",
          "text": [
            "/usr/local/lib/python3.10/dist-packages/transformers/pipelines/question_answering.py:323: UserWarning: topk parameter is deprecated, use top_k instead\n",
            "  warnings.warn(\"topk parameter is deprecated, use top_k instead\", UserWarning)\n"
          ]
        },
        {
          "output_type": "execute_result",
          "data": {
            "text/plain": [
              "[{'score': 0.34144559502601624,\n",
              "  'start': 37,\n",
              "  'end': 47,\n",
              "  'answer': '6000 hours'},\n",
              " {'score': 0.19238954782485962,\n",
              "  'start': 16,\n",
              "  'end': 47,\n",
              "  'answer': '1MB/minute, so about 6000 hours'},\n",
              " {'score': 0.13651761412620544,\n",
              "  'start': 31,\n",
              "  'end': 47,\n",
              "  'answer': 'about 6000 hours'}]"
            ]
          },
          "metadata": {},
          "execution_count": 26
        }
      ],
      "source": [
        "from transformers import pipeline\n",
        "\n",
        "pipe = pipeline(\"question-answering\", model=model, tokenizer=tokenizer)\n",
        "\n",
        "pipe(question=question, context=context, topk=3)"
      ]
    },
    {
      "cell_type": "markdown",
      "id": "41982b92-d090-4e30-a1c9-3b277d92fb6b",
      "metadata": {
        "id": "41982b92-d090-4e30-a1c9-3b277d92fb6b"
      },
      "source": [
        "#### Unavailable answers"
      ]
    },
    {
      "cell_type": "code",
      "execution_count": null,
      "id": "ce9328ad-c7c3-4b0f-b1de-0e9372a4878d",
      "metadata": {
        "colab": {
          "base_uri": "https://localhost:8080/"
        },
        "id": "ce9328ad-c7c3-4b0f-b1de-0e9372a4878d",
        "outputId": "8af9e765-fd30-4c94-dd59-12db1eacd32f"
      },
      "outputs": [
        {
          "output_type": "execute_result",
          "data": {
            "text/plain": [
              "{'score': 0.9189051985740662, 'start': 0, 'end': 0, 'answer': ''}"
            ]
          },
          "metadata": {},
          "execution_count": 27
        }
      ],
      "source": [
        "pipe(question=\"Why is there no data?\", context=context,\n",
        "     handle_impossible_answer=True)"
      ]
    },
    {
      "cell_type": "markdown",
      "id": "e7d2a3f6-7154-460a-8b6f-3e1f2fc365a0",
      "metadata": {
        "id": "e7d2a3f6-7154-460a-8b6f-3e1f2fc365a0"
      },
      "source": [
        "### Dealing with long passages\n",
        "Using sliding window approach by setting **return_overflowing_tokens=True** in the tokenizer"
      ]
    },
    {
      "cell_type": "markdown",
      "id": "80a6ed7b-f71a-4f93-b0d4-12b17a915fb4",
      "metadata": {
        "id": "80a6ed7b-f71a-4f93-b0d4-12b17a915fb4"
      },
      "source": [
        "#### Sample example to show how to deal with long passages"
      ]
    },
    {
      "cell_type": "code",
      "execution_count": null,
      "id": "4f0265aa-b3fb-43ce-b6e0-67064568c095",
      "metadata": {
        "colab": {
          "base_uri": "https://localhost:8080/"
        },
        "id": "4f0265aa-b3fb-43ce-b6e0-67064568c095",
        "outputId": "629a1175-7da7-4110-985f-df8622767318"
      },
      "outputs": [
        {
          "output_type": "stream",
          "name": "stderr",
          "text": [
            "Truncation was not explicitly activated but `max_length` is provided a specific value, please use `truncation=True` to explicitly truncate examples to max length. Defaulting to 'longest_first' truncation strategy. If you encode pairs of sequences (GLUE-style) with the tokenizer you can select this strategy more precisely by providing a specific strategy to `truncation`.\n"
          ]
        }
      ],
      "source": [
        "example = dfs[\"train\"].iloc[0][[\"question\", \"context\"]]\n",
        "tokenized_example = tokenizer(example[\"question\"], example[\"context\"],\n",
        "                              return_overflowing_tokens=True, max_length=100, stride=25)"
      ]
    },
    {
      "cell_type": "code",
      "execution_count": null,
      "id": "da51b856-1dfa-4cdd-966c-464bc27f30a8",
      "metadata": {
        "colab": {
          "base_uri": "https://localhost:8080/"
        },
        "id": "da51b856-1dfa-4cdd-966c-464bc27f30a8",
        "outputId": "fda7ed8b-23fd-4b11-a457-08d9043c5554"
      },
      "outputs": [
        {
          "output_type": "execute_result",
          "data": {
            "text/plain": [
              "2"
            ]
          },
          "metadata": {},
          "execution_count": 29
        }
      ],
      "source": [
        "len(tokenized_example.input_ids)"
      ]
    },
    {
      "cell_type": "markdown",
      "id": "376b96a9-e144-4a24-8571-be8702a71383",
      "metadata": {
        "id": "376b96a9-e144-4a24-8571-be8702a71383"
      },
      "source": [
        "Earlier there was only one input ids but now, depending on the number of sliding windows"
      ]
    },
    {
      "cell_type": "code",
      "execution_count": null,
      "id": "3c755aaa-57b1-48b7-96bc-122725dd4b69",
      "metadata": {
        "colab": {
          "base_uri": "https://localhost:8080/"
        },
        "id": "3c755aaa-57b1-48b7-96bc-122725dd4b69",
        "outputId": "c4fae87a-a3b7-4575-e2c1-119a0223d909"
      },
      "outputs": [
        {
          "output_type": "stream",
          "name": "stdout",
          "text": [
            "Window #0 has 100 tokens\n",
            "Window #1 has 88 tokens\n"
          ]
        }
      ],
      "source": [
        "for idx, window in enumerate(tokenized_example[\"input_ids\"]):\n",
        "    print(f\"Window #{idx} has {len(window)} tokens\")"
      ]
    },
    {
      "cell_type": "markdown",
      "id": "bf6d99d5-9753-4545-a642-765926fbfae4",
      "metadata": {
        "id": "bf6d99d5-9753-4545-a642-765926fbfae4"
      },
      "source": [
        "##### Overlapping point"
      ]
    },
    {
      "cell_type": "code",
      "execution_count": null,
      "id": "1b11e871-da9a-482a-9813-962f4a5f3ab7",
      "metadata": {
        "colab": {
          "base_uri": "https://localhost:8080/"
        },
        "id": "1b11e871-da9a-482a-9813-962f4a5f3ab7",
        "outputId": "4497eca4-864d-49e3-cc0b-3f9204e2907f"
      },
      "outputs": [
        {
          "output_type": "stream",
          "name": "stdout",
          "text": [
            "[CLS] how is the bass? [SEP] i have had koss headphones in the past, pro 4aa and qz - 99. the koss portapro is portable and has great bass response. the work great with my android phone and can be \" rolled up \" to be carried in my motorcycle jacket or computer bag without getting crunched. they are very light and do not feel heavy or bear down on your ears even after listening to music with them on all day. the sound is [SEP] \n",
            "\n",
            "[CLS] how is the bass? [SEP] and do not feel heavy or bear down on your ears even after listening to music with them on all day. the sound is night and day better than any ear - bud could be and are almost as good as the pro 4aa. they are \" open air \" headphones so you cannot match the bass to the sealed types, but it comes close. for $ 32, you cannot go wrong. [SEP] \n",
            "\n"
          ]
        }
      ],
      "source": [
        "for window in tokenized_example[\"input_ids\"]:\n",
        "    print(f\"{tokenizer.decode(window)} \\n\")"
      ]
    },
    {
      "cell_type": "markdown",
      "id": "6f8a0828-6e88-4f35-82e7-403835c5bdd7",
      "metadata": {
        "id": "6f8a0828-6e88-4f35-82e7-403835c5bdd7"
      },
      "source": [
        "### QA Pipeline using HayStack\n",
        "1. Until now, the examples had question and context both given\n",
        "2. In the real world, only question will be given and answer has to be found out from multiple existing reviews\n",
        "3. Brute force way of sending all the reviews(entire context) will be very costly and slow as well\n",
        "4. Solution is to use **retriever-reader** architecture\n",
        "\n",
        "    - **Retriever(sparse or dense)** is responsible to perform the first level of filtering by using dot product between document(s) and query. In sparse retrievers, the document(s) is represented by the frequency of words while in dense retrievers, transformer based embeddings are used to represent both document and query and the dot product then prioritises semantic similarity.  \n",
        "    \n",
        "   - **Reader** is just like the model we have seen until now, called reading comprehension model"
      ]
    },
    {
      "cell_type": "markdown",
      "id": "1dd4d971-5df1-411e-8247-1abe263101a1",
      "metadata": {
        "id": "1dd4d971-5df1-411e-8247-1abe263101a1"
      },
      "source": [
        "![image.png](attachment:27ecb6d9-1e6c-4b25-b7eb-add478621b1e.png)"
      ]
    },
    {
      "cell_type": "markdown",
      "id": "05808499-d7a0-44bd-b572-80c7d94b1d38",
      "metadata": {
        "id": "05808499-d7a0-44bd-b572-80c7d94b1d38"
      },
      "source": [
        "Image Source: https://learning.oreilly.com/library/view/natural-language-processing/9781098136789/ch07.html#retriever-reader"
      ]
    },
    {
      "cell_type": "markdown",
      "id": "552d2f52-3e3f-4909-a95d-46694ce06a49",
      "metadata": {
        "id": "552d2f52-3e3f-4909-a95d-46694ce06a49"
      },
      "source": [
        "### Use haystack to do the above\n",
        "Two more components that make up the entire QA system with haystack:\n",
        "1. Document Store - document oriented database,\n",
        "   - ElasticSearchDocumentStore is compatible with both dense and sparse retrievers\n",
        "3. Pipeline - combines all the components of a QA system"
      ]
    },
    {
      "cell_type": "markdown",
      "source": [
        "We will **initialise** the following below:\n",
        "\n",
        "\n",
        "1.   Document Store using ESearch and Haystack\n",
        "2.   Retriever\n",
        "3.   Reader\n",
        "\n"
      ],
      "metadata": {
        "id": "M--QYGebVKxs"
      },
      "id": "M--QYGebVKxs"
    },
    {
      "cell_type": "markdown",
      "source": [
        "We need to install the following:\n",
        "\n",
        "\n",
        "1.   ElasticSearch (or other doc store)\n",
        "2.   Haystack to connect these pieces to make entire QA system\n",
        "\n"
      ],
      "metadata": {
        "id": "mDHavtre1oFq"
      },
      "id": "mDHavtre1oFq"
    },
    {
      "cell_type": "markdown",
      "source": [
        "## Now we set up ElasticSearch on google colab"
      ],
      "metadata": {
        "id": "6HxD9W3218Gb"
      },
      "id": "6HxD9W3218Gb"
    },
    {
      "cell_type": "markdown",
      "source": [
        "## Download and setup the Elasticsearch instance\n",
        "\n",
        "For demo purposes, the open-source(oss) version of the elasticsearch package was tried but was having problems in connection from haystack."
      ],
      "metadata": {
        "id": "nXFTF9C-2ZB-"
      },
      "id": "nXFTF9C-2ZB-"
    },
    {
      "cell_type": "code",
      "source": [
        "# %%bash\n",
        "\n",
        "# wget -q https://artifacts.elastic.co/downloads/elasticsearch/elasticsearch-oss-7.9.2-linux-x86_64.tar.gz\n",
        "# wget -q https://artifacts.elastic.co/downloads/elasticsearch/elasticsearch-oss-7.9.2-linux-x86_64.tar.gz.sha512\n",
        "# tar -xzf elasticsearch-oss-7.9.2-linux-x86_64.tar.gz\n",
        "# sudo chown -R daemon:daemon elasticsearch-7.9.2/\n",
        "# shasum -a 512 -c elasticsearch-oss-7.9.2-linux-x86_64.tar.gz.sha512\n",
        "%%bash\n",
        "\n",
        "wget https://artifacts.elastic.co/downloads/elasticsearch/elasticsearch-7.9.2-linux-x86_64.tar.gz -q\n",
        "tar -xzf elasticsearch-7.9.2-linux-x86_64.tar.gz\n",
        "chown -R daemon:daemon elasticsearch-7.9.2"
      ],
      "metadata": {
        "id": "3S5x_4GT2aP1"
      },
      "id": "3S5x_4GT2aP1",
      "execution_count": null,
      "outputs": []
    },
    {
      "cell_type": "markdown",
      "source": [
        "Run the instance as a daemon process"
      ],
      "metadata": {
        "id": "sJ2-FAut42Rf"
      },
      "id": "sJ2-FAut42Rf"
    },
    {
      "cell_type": "code",
      "source": [
        "%%bash --bg\n",
        "\n",
        "sudo -H -u daemon elasticsearch-7.9.2/bin/elasticsearch"
      ],
      "metadata": {
        "id": "81jZH0d343VA"
      },
      "id": "81jZH0d343VA",
      "execution_count": null,
      "outputs": []
    },
    {
      "cell_type": "code",
      "source": [
        "# Sleep for few seconds to let the instance start.\n",
        "import time\n",
        "time.sleep(30)"
      ],
      "metadata": {
        "id": "qvwfP-7848fW"
      },
      "id": "qvwfP-7848fW",
      "execution_count": null,
      "outputs": []
    },
    {
      "cell_type": "markdown",
      "source": [
        "Once the instance has been started, grep for `elasticsearch` in the processes list to confirm the availability."
      ],
      "metadata": {
        "id": "FlrCF0RV5Edd"
      },
      "id": "FlrCF0RV5Edd"
    },
    {
      "cell_type": "code",
      "source": [
        "%%bash\n",
        "\n",
        "ps -ef | grep elasticsearch"
      ],
      "metadata": {
        "colab": {
          "base_uri": "https://localhost:8080/"
        },
        "id": "vpgD53pJ5CsJ",
        "outputId": "54f8ccc3-2a4e-41bb-8496-81c4a1bfc60c"
      },
      "id": "vpgD53pJ5CsJ",
      "execution_count": null,
      "outputs": [
        {
          "output_type": "stream",
          "name": "stdout",
          "text": [
            "root        7314    7312  0 09:04 ?        00:00:00 sudo -H -u daemon elasticsearch-7.9.2/bin/elasticsearch\n",
            "daemon      7315    7314 99 09:04 ?        00:00:29 /content/elasticsearch-7.9.2/jdk/bin/java -Xshare:auto -Des.networkaddress.cache.ttl=60 -Des.networkaddress.cache.negative.ttl=10 -XX:+AlwaysPreTouch -Xss1m -Djava.awt.headless=true -Dfile.encoding=UTF-8 -Djna.nosys=true -XX:-OmitStackTraceInFastThrow -XX:+ShowCodeDetailsInExceptionMessages -Dio.netty.noUnsafe=true -Dio.netty.noKeySetOptimization=true -Dio.netty.recycler.maxCapacityPerThread=0 -Dio.netty.allocator.numDirectArenas=0 -Dlog4j.shutdownHookEnabled=false -Dlog4j2.disable.jmx=true -Djava.locale.providers=SPI,COMPAT -Xms1g -Xmx1g -XX:+UseG1GC -XX:G1ReservePercent=25 -XX:InitiatingHeapOccupancyPercent=30 -Djava.io.tmpdir=/tmp/elasticsearch-670861460752951793 -XX:+HeapDumpOnOutOfMemoryError -XX:HeapDumpPath=data -XX:ErrorFile=logs/hs_err_pid%p.log -Xlog:gc*,gc+age=trace,safepoint:file=logs/gc.log:utctime,pid,tags:filecount=32,filesize=64m -XX:MaxDirectMemorySize=536870912 -Des.path.home=/content/elasticsearch-7.9.2 -Des.path.conf=/content/elasticsearch-7.9.2/config -Des.distribution.flavor=default -Des.distribution.type=tar -Des.bundled_jdk=true -cp /content/elasticsearch-7.9.2/lib/* org.elasticsearch.bootstrap.Elasticsearch\n",
            "daemon      7551    7315  0 09:04 ?        00:00:00 /content/elasticsearch-7.9.2/modules/x-pack-ml/platform/linux-x86_64/bin/controller\n",
            "root        7679    7677  0 09:04 ?        00:00:00 grep elasticsearch\n"
          ]
        }
      ]
    },
    {
      "cell_type": "markdown",
      "source": [
        "query the base endpoint to retrieve information about the cluster."
      ],
      "metadata": {
        "id": "Xdz1y0gH5OJp"
      },
      "id": "Xdz1y0gH5OJp"
    },
    {
      "cell_type": "markdown",
      "source": [
        "Below methods were tried on Windows local machine but had some permission related issues while installing haystack."
      ],
      "metadata": {
        "id": "tzyPMDXbAEBX"
      },
      "id": "tzyPMDXbAEBX"
    },
    {
      "cell_type": "code",
      "execution_count": null,
      "id": "8fc96b59-87ef-421c-be82-6bfec8f23912",
      "metadata": {
        "id": "8fc96b59-87ef-421c-be82-6bfec8f23912"
      },
      "outputs": [],
      "source": [
        "# Go to the url below to download and install the ElasticSearch server locally\n",
        "url = \"https://artifacts.elastic.co/downloads/elasticsearch/elasticsearch-8.9.0-windows-x86_64.zip\""
      ]
    },
    {
      "cell_type": "markdown",
      "id": "e007aa25-4fcc-4948-beab-469fe4e831b5",
      "metadata": {
        "id": "e007aa25-4fcc-4948-beab-469fe4e831b5"
      },
      "source": [
        "NOTE down the version which is getting installed as it will be needed in the arguments while starting the server"
      ]
    },
    {
      "cell_type": "markdown",
      "id": "065e5306-b1c0-4ee6-b916-34e7df02d4bd",
      "metadata": {
        "id": "065e5306-b1c0-4ee6-b916-34e7df02d4bd"
      },
      "source": [
        "#### Start the ElasticSearch server - only for local linux set up\n",
        "1. Use Python's Popen() to spawn a new process and not let this notebook hang till the server is running"
      ]
    },
    {
      "cell_type": "code",
      "execution_count": null,
      "id": "041d0959-d5e7-4405-82fc-92ed8bd3c28f",
      "metadata": {
        "id": "041d0959-d5e7-4405-82fc-92ed8bd3c28f"
      },
      "outputs": [],
      "source": [
        "# import os\n",
        "# from subprocess import Popen, PIPE, STDOUT"
      ]
    },
    {
      "cell_type": "markdown",
      "id": "0c61447b-891a-4222-88c6-b2f13ba0b225",
      "metadata": {
        "id": "0c61447b-891a-4222-88c6-b2f13ba0b225"
      },
      "source": [
        "##### Linux machines"
      ]
    },
    {
      "cell_type": "code",
      "execution_count": null,
      "id": "112037d0-1a5b-4e45-adff-6a2916db83c9",
      "metadata": {
        "id": "112037d0-1a5b-4e45-adff-6a2916db83c9"
      },
      "outputs": [],
      "source": [
        "# Run Elasticsearch as a background process (LINUX Machines)\n",
        "\n",
        "\n",
        "# !chown -R daemon:daemon elasticsearch-8.9.0\n",
        "# es_server = Popen(args=['elasticsearch-8.9.0/bin/elasticsearch'],\n",
        "#                   stdout=PIPE, stderr=STDOUT, preexec_fn=lambda: os.setuid(1))\n",
        "\n",
        "\n",
        "# Wait until Elasticsearch has started\n",
        "# !sleep 30"
      ]
    },
    {
      "cell_type": "markdown",
      "id": "c89db28f-2fe0-4c84-a80e-27000626dd3e",
      "metadata": {
        "id": "c89db28f-2fe0-4c84-a80e-27000626dd3e"
      },
      "source": [
        "##### Windows machines"
      ]
    },
    {
      "cell_type": "markdown",
      "id": "1b2ab069-3167-45f8-8a68-02fb4d4a7985",
      "metadata": {
        "id": "1b2ab069-3167-45f8-8a68-02fb4d4a7985"
      },
      "source": [
        "1. Go the folder with elasticsearch-8.9.0/bin/\n",
        "2. Go to config/elasticsearch.yml file\n",
        "   - Either make security false after which we don't need user_id/passwd to access elastic search's REST apis\n",
        "   - xpack.security.enabled: false\n",
        "   - Or make security true which will need the user id and password(should be visible in the console logs) to access the REST apis\n",
        "4. Run the elasticsearch.bat file\n",
        "\n",
        "default port = 9200"
      ]
    },
    {
      "cell_type": "code",
      "execution_count": null,
      "id": "03c39726-13d2-4765-a6c3-9d9013f506fe",
      "metadata": {
        "colab": {
          "base_uri": "https://localhost:8080/"
        },
        "id": "03c39726-13d2-4765-a6c3-9d9013f506fe",
        "outputId": "14104ed0-ae78-40da-ced4-3069e3e4732a"
      },
      "outputs": [
        {
          "output_type": "stream",
          "name": "stdout",
          "text": [
            "{\n",
            "  \"name\" : \"958b738cdd53\",\n",
            "  \"cluster_name\" : \"elasticsearch\",\n",
            "  \"cluster_uuid\" : \"VQDeMWYzTx2_T0iTTcuCUw\",\n",
            "  \"version\" : {\n",
            "    \"number\" : \"7.9.2\",\n",
            "    \"build_flavor\" : \"default\",\n",
            "    \"build_type\" : \"tar\",\n",
            "    \"build_hash\" : \"d34da0ea4a966c4e49417f2da2f244e3e97b4e6e\",\n",
            "    \"build_date\" : \"2020-09-23T00:45:33.626720Z\",\n",
            "    \"build_snapshot\" : false,\n",
            "    \"lucene_version\" : \"8.6.2\",\n",
            "    \"minimum_wire_compatibility_version\" : \"6.8.0\",\n",
            "    \"minimum_index_compatibility_version\" : \"6.0.0-beta1\"\n",
            "  },\n",
            "  \"tagline\" : \"You Know, for Search\"\n",
            "}\n"
          ]
        }
      ],
      "source": [
        "!curl -X GET \"localhost:9200/?pretty\""
      ]
    },
    {
      "cell_type": "markdown",
      "id": "803a076e-1ff1-4713-885a-d046605e0e0c",
      "metadata": {
        "id": "803a076e-1ff1-4713-885a-d046605e0e0c"
      },
      "source": [
        "##### The above REST api call shows the server is up and running"
      ]
    },
    {
      "cell_type": "markdown",
      "id": "bf7b979a-bf09-4457-8863-b6b9168d8a7c",
      "metadata": {
        "id": "bf7b979a-bf09-4457-8863-b6b9168d8a7c"
      },
      "source": [
        "#### Instantiate the Document store"
      ]
    },
    {
      "cell_type": "code",
      "source": [
        "%%capture\n",
        "%%bash\n",
        "\n",
        "pip install --upgrade pip\n",
        "pip install farm-haystack[colab,elasticsearch,metrics]\n",
        "#,metrics,inference]\n",
        "\n",
        "# Install pygraphviz for visualization of Pipelines\n",
        "# apt install libgraphviz-dev\n",
        "# pip install pygraphviz\n",
        "# SOURCE - https://colab.research.google.com/github/deepset-ai/haystack-tutorials/blob/main/tutorials/15_TableQA.ipynb#scrollTo=zY3s8O7Q-fhG"
      ],
      "metadata": {
        "id": "909Y4TGo7NJI"
      },
      "id": "909Y4TGo7NJI",
      "execution_count": null,
      "outputs": []
    },
    {
      "cell_type": "code",
      "source": [
        "import os\n",
        "\n",
        "# Get the host where Elasticsearch is running, default to localhost\n",
        "host = os.environ.get(\"ELASTICSEARCH_HOST\", \"localhost\")\n",
        "print(host)"
      ],
      "metadata": {
        "colab": {
          "base_uri": "https://localhost:8080/"
        },
        "id": "RFB6oZx_OEKz",
        "outputId": "c1f04e0d-cbb8-4487-d50d-1afc2fb52002"
      },
      "id": "RFB6oZx_OEKz",
      "execution_count": null,
      "outputs": [
        {
          "output_type": "stream",
          "name": "stdout",
          "text": [
            "localhost\n"
          ]
        }
      ]
    },
    {
      "cell_type": "code",
      "execution_count": null,
      "id": "f7bcb6c6-ca75-4278-a827-ebfa8dbf324e",
      "metadata": {
        "id": "f7bcb6c6-ca75-4278-a827-ebfa8dbf324e"
      },
      "outputs": [],
      "source": [
        "from haystack.document_stores import ElasticsearchDocumentStore\n",
        "document_store = ElasticsearchDocumentStore(return_embedding=True)\n",
        "\n",
        "# document_index = \"document\"\n",
        "# document_store = ElasticsearchDocumentStore(host=host, index=document_index)"
      ]
    },
    {
      "cell_type": "markdown",
      "source": [
        "ElasticsearchDocumentStore creates two indices on Elasticsearch\n",
        "\n",
        "\n",
        "1.   Document index for storing documents\n",
        "2.   label - for storing the annotated answer spans\n",
        "\n",
        "\n",
        "subjQA reviews are inserted into the document index\n",
        "\n",
        "Haystack document stores expect a list of dictionaries with **text** and **meta**\n",
        "\n",
        "In older versions, it was **text**, but now it is **content** as done in below cell"
      ],
      "metadata": {
        "id": "kW7XV6LgQXzk"
      },
      "id": "kW7XV6LgQXzk"
    },
    {
      "cell_type": "markdown",
      "source": [
        "### Write the subjQA reviews into the document index"
      ],
      "metadata": {
        "id": "TG1MNTFIRsLS"
      },
      "id": "TG1MNTFIRsLS"
    },
    {
      "cell_type": "code",
      "execution_count": null,
      "id": "d4f8cb5a-3bdb-4896-abe9-eb8f9d80d641",
      "metadata": {
        "colab": {
          "base_uri": "https://localhost:8080/"
        },
        "id": "d4f8cb5a-3bdb-4896-abe9-eb8f9d80d641",
        "outputId": "5d049e13-4aaf-406d-97b8-c0867debb5d6"
      },
      "outputs": [
        {
          "output_type": "stream",
          "name": "stdout",
          "text": [
            "Loaded 1615 documents\n"
          ]
        }
      ],
      "source": [
        "for split, df in dfs.items():\n",
        "  docs = [{\"content\":row[\"context\"],\n",
        "           \"meta\": {\"item_id\": row[\"title\"],\n",
        "                    \"question_id\": row[\"id\"],\n",
        "                    \"split\": split}} for _, row in df.drop_duplicates(subset=\"context\").iterrows()]\n",
        "  # print(docs)\n",
        "  document_store.write_documents(documents=docs, index=\"document\")\n",
        "\n",
        "print(f\"Loaded {document_store.get_document_count()} documents\")"
      ]
    },
    {
      "cell_type": "markdown",
      "source": [
        "### Initialise the  Retriever\n",
        "For Sparse retrievers, we will use\n",
        "\n",
        "\n",
        "*   BM25, improved version of TF-IDF, represents the question and context as sparse vectors. Used as default by ElasticsearchRetriever in haystack. We will use BM25Retriever class in the latest version of haystack\n",
        "*   \n",
        "\n"
      ],
      "metadata": {
        "id": "gBWAjGH-VlgW"
      },
      "id": "gBWAjGH-VlgW"
    },
    {
      "cell_type": "code",
      "source": [
        "from haystack.nodes import BM25Retriever"
      ],
      "metadata": {
        "id": "Xb16IDX7SpNN"
      },
      "id": "Xb16IDX7SpNN",
      "execution_count": null,
      "outputs": []
    },
    {
      "cell_type": "code",
      "source": [
        "bm_retriever = BM25Retriever(document_store=document_store)"
      ],
      "metadata": {
        "id": "rvH9Z904WvQZ"
      },
      "id": "rvH9Z904WvQZ",
      "execution_count": null,
      "outputs": []
    },
    {
      "cell_type": "markdown",
      "source": [
        "##### Sample Query"
      ],
      "metadata": {
        "id": "vpthloCyXu7d"
      },
      "id": "vpthloCyXu7d"
    },
    {
      "cell_type": "code",
      "source": [],
      "metadata": {
        "id": "6S_hA7m0UnEo"
      },
      "id": "6S_hA7m0UnEo",
      "execution_count": null,
      "outputs": []
    },
    {
      "cell_type": "code",
      "source": [
        "item_id = \"B0074BW614\"\n",
        "query = \"Is it good for reading?\"\n",
        "retrieved_docs = bm_retriever.retrieve(\n",
        "    query=query, top_k=3, filters={\"item_id\":[item_id], \"split\":[\"train\"]})"
      ],
      "metadata": {
        "id": "NX_SiVLJXjpl"
      },
      "id": "NX_SiVLJXjpl",
      "execution_count": null,
      "outputs": []
    },
    {
      "cell_type": "code",
      "source": [
        "retrieved_docs"
      ],
      "metadata": {
        "colab": {
          "base_uri": "https://localhost:8080/"
        },
        "id": "-K7SoRk9YWBp",
        "outputId": "d71fbdf1-89c6-4079-b921-e8993a0ba539"
      },
      "id": "-K7SoRk9YWBp",
      "execution_count": null,
      "outputs": [
        {
          "output_type": "execute_result",
          "data": {
            "text/plain": [
              "[<Document: {'content': 'This is a gift to myself.  I have been a kindle user for 4 years and this is my third one.  I never thought I would want a fire for I mainly use it for book reading.  I decided to try the fire for when I travel I take my laptop, my phone and my iPod classic.  I love my iPod but watching movies on the plane with it can be challenging because it is so small. Laptops battery life is not as good as the Kindle.  So the Fire combines for me what I needed all three to do. So far so good.', 'content_type': 'text', 'score': 0.6857824513476455, 'meta': {'item_id': 'B0074BW614', 'question_id': '868e311275e26dbafe5af70774a300f3', 'split': 'train'}, 'id_hash_keys': ['content'], 'embedding': None, 'id': '252e83e25d52df7311d597dc89eef9f6'}>,\n",
              " <Document: {'content': 'Plays Netflix great, WiFi capability has great range. Resolution on the screen is AMAZING! For the price you cannot go wrong. Bought one for my spouse and myself after becoming addicted to hers! Our son LOVES it and it is great for reading books when no light is available. Amazing sound but I suggest good headphones to really hear it all.Battery life is super long and can go 3 or 4 days without a recharge from moderate use.A steal at $199.99.', 'content_type': 'text', 'score': 0.6846554055365114, 'meta': {'item_id': 'B0074BW614', 'question_id': '998d564607f10bf6dbbd20b33b8fbbf1', 'split': 'train'}, 'id_hash_keys': ['content'], 'embedding': None, 'id': '41f4a1710c6f3be65c7814326b662ab6'}>,\n",
              " <Document: {'content': 'I\\'ve used an e-reader since the Rocket ebook in 1999, and I\\'ve always believed I wanted only an ebook reader with no other features. I don\\'t get out much, so my computer is convenient for everything else.I\\'ve had several Kindles and was happy with all of them, but I had recently played around with my brother\\'s tablet. When my last Kindle died, I decided to replace it with the Kindle Fire. I chose the smaller one because I was concerned about my arthritic hands holding a larger device for long periods. The 7\" is just perfect for me. It\\'s light enough that I can hold it to read, but the larger screen compared to the Kindle makes for easier reading. I love the color, something I never thought would make a difference to me.Oddly enough, high on my favorite list is the ability to review a book as soon as I reach the end. I have written reviews of every book I read on a readers social media site, but I have seldom put in the extra effort to come to Amazon to write a review. On the Kindle Fire, as soon as I come to the end of a book, a review page pops up so I can review it while it\\'s fresh on my mind, and I\\'m reviewing everything I read.I didn\\'t realize when I placed my order that I was ordering that the device had special offers. I\\'ve always thought I would not want to be subject to advertising when I was reading. However, I discovered that the special offers are discreet and no distraction at all. I\\'ve even found myself going to the special offers page a time or two to see what\\'s on offer.The only negative is that the battery doesn\\'t last very long. However, with the PowerFast charger, it doesn\\'t take long to charge the battery.I think folks like me who have always used a dedicated ereader and never even used a touch screen will be pleasantly surprised with the Kindle Fire, and people who are used to smartphones and tablets will find everything they expect in a device.Update 11/8/13: I still think the Kindle Fire is a fantastic product, and I use it occasionally for games. However, I have gone back to my Kindle Keyboard for reading novels. The arthritis in my shoulders, elbows, and hands has  worsened since I\\'ve been using the Kindle Fire, and even using the device for a short while increases the pain significantly. I can tolerate it for short periods to play a few games. However, I simply can\\'t hold the Kindle Fire long enough for reading. This won\\'t be an issue for most people, but I wanted to mention it for those people who might have similar problems.', 'content_type': 'text', 'score': 0.6578420310105324, 'meta': {'item_id': 'B0074BW614', 'question_id': '3ecfc76edee933ba1f202069b4fe7847', 'split': 'train'}, 'id_hash_keys': ['content'], 'embedding': None, 'id': '219ce93058383db5659102424e34a094'}>]"
            ]
          },
          "metadata": {},
          "execution_count": 47
        }
      ]
    },
    {
      "cell_type": "markdown",
      "source": [
        "# Initialise a Reader\n",
        "\n",
        "\n",
        "1.   FarmReader\n",
        "2.   TransformersReader\n",
        "\n"
      ],
      "metadata": {
        "id": "OovSVV9VZ1jk"
      },
      "id": "OovSVV9VZ1jk"
    },
    {
      "cell_type": "code",
      "source": [
        "from haystack.nodes import FARMReader"
      ],
      "metadata": {
        "id": "DVv3yGNYYqml"
      },
      "id": "DVv3yGNYYqml",
      "execution_count": null,
      "outputs": []
    },
    {
      "cell_type": "code",
      "source": [
        "model_ckpt = \"deepset/minilm-uncased-squad2\"\n",
        "max_seq_length, doc_stride = 384, 128\n",
        "reader = FARMReader(model_name_or_path=model_ckpt, progress_bar=False,\n",
        "                    max_seq_len=max_seq_length, doc_stride=doc_stride,\n",
        "                    return_no_answer=True)"
      ],
      "metadata": {
        "colab": {
          "base_uri": "https://localhost:8080/"
        },
        "id": "mjevlD9Sb_vq",
        "outputId": "60ae3449-dce7-4338-849b-e8d6fd2a256e"
      },
      "id": "mjevlD9Sb_vq",
      "execution_count": null,
      "outputs": [
        {
          "output_type": "stream",
          "name": "stderr",
          "text": [
            "Some weights of the model checkpoint at deepset/minilm-uncased-squad2 were not used when initializing BertForQuestionAnswering: ['bert.pooler.dense.bias', 'bert.pooler.dense.weight']\n",
            "- This IS expected if you are initializing BertForQuestionAnswering from the checkpoint of a model trained on another task or with another architecture (e.g. initializing a BertForSequenceClassification model from a BertForPreTraining model).\n",
            "- This IS NOT expected if you are initializing BertForQuestionAnswering from the checkpoint of a model that you expect to be exactly identical (initializing a BertForSequenceClassification model from a BertForSequenceClassification model).\n"
          ]
        }
      ]
    },
    {
      "cell_type": "code",
      "source": [],
      "metadata": {
        "id": "IOXbhd17MeY1"
      },
      "id": "IOXbhd17MeY1",
      "execution_count": null,
      "outputs": []
    },
    {
      "cell_type": "code",
      "source": [
        "question, context"
      ],
      "metadata": {
        "colab": {
          "base_uri": "https://localhost:8080/"
        },
        "id": "sX4tMIStcjp2",
        "outputId": "d7336a3b-133f-4336-c14c-117217686542"
      },
      "id": "sX4tMIStcjp2",
      "execution_count": null,
      "outputs": [
        {
          "output_type": "execute_result",
          "data": {
            "text/plain": [
              "('How much music can this hold?',\n",
              " 'An MP3 is about 1MB/minute, so about 6000 hours depending on the file size.')"
            ]
          },
          "metadata": {},
          "execution_count": 50
        }
      ]
    },
    {
      "cell_type": "code",
      "source": [
        "print(reader.predict_on_texts(question=question, texts=[context], top_k=1))"
      ],
      "metadata": {
        "colab": {
          "base_uri": "https://localhost:8080/"
        },
        "id": "YcV0ynFTcFX_",
        "outputId": "efefee7c-5748-498e-fbe3-9e079c7f4958"
      },
      "id": "YcV0ynFTcFX_",
      "execution_count": null,
      "outputs": [
        {
          "output_type": "stream",
          "name": "stdout",
          "text": [
            "{'query': 'How much music can this hold?', 'no_ans_gap': 12.975613594055176, 'answers': [<Answer {'answer': '6000 hours', 'type': 'extractive', 'score': 0.6045688986778259, 'context': 'An MP3 is about 1MB/minute, so about 6000 hours depending on the file size.', 'offsets_in_document': [{'start': 37, 'end': 47}], 'offsets_in_context': [{'start': 37, 'end': 47}], 'document_ids': ['9f2a322cabcdb208246a2a768c80a3f4'], 'meta': {}}>]}\n"
          ]
        }
      ]
    },
    {
      "cell_type": "markdown",
      "source": [
        "#### Combine everything using haystack pipelines"
      ],
      "metadata": {
        "id": "OKbgFmEhc3iD"
      },
      "id": "OKbgFmEhc3iD"
    },
    {
      "cell_type": "code",
      "source": [
        "from haystack.pipelines import ExtractiveQAPipeline"
      ],
      "metadata": {
        "id": "B1mbQQ1ncqZ9"
      },
      "id": "B1mbQQ1ncqZ9",
      "execution_count": null,
      "outputs": []
    },
    {
      "cell_type": "code",
      "source": [
        "pipe = ExtractiveQAPipeline(reader, bm_retriever)"
      ],
      "metadata": {
        "id": "CtLa766idG9h"
      },
      "id": "CtLa766idG9h",
      "execution_count": null,
      "outputs": []
    },
    {
      "cell_type": "code",
      "source": [
        "n_ans = 3\n",
        "preds = pipe.run(query=query,params={\"Retriever\": {\"top_k\": 3},\n",
        "                                     \"Reader\": {\"top_k\": n_ans},\n",
        "                                     \"filters\":{\"item_id\":[item_id],\n",
        "                                                \"split\":[\"train\"]}\n",
        "                                     }\n",
        "                 )"
      ],
      "metadata": {
        "id": "VJ84tZO3dKv_"
      },
      "id": "VJ84tZO3dKv_",
      "execution_count": null,
      "outputs": []
    },
    {
      "cell_type": "code",
      "source": [],
      "metadata": {
        "id": "MCrdgMe8yyeY"
      },
      "id": "MCrdgMe8yyeY",
      "execution_count": null,
      "outputs": []
    },
    {
      "cell_type": "code",
      "source": [
        "print(f\"Question: {preds['query']}\")\n",
        "for idx in range(n_ans):\n",
        "    print(f\"Answer {idx+1}: {preds['answers'][idx].answer}\")\n",
        "    print(f\"Review snippet: ...{preds['answers'][idx].context}...\")\n",
        "    print(\"\\n\\n\")"
      ],
      "metadata": {
        "colab": {
          "base_uri": "https://localhost:8080/"
        },
        "id": "9NyzwPYjidaW",
        "outputId": "1d1ff157-eccd-4c73-9b22-cf131a891d54"
      },
      "id": "9NyzwPYjidaW",
      "execution_count": null,
      "outputs": [
        {
          "output_type": "stream",
          "name": "stdout",
          "text": [
            "Question: Is it good for reading?\n",
            "Answer 1: it is great for reading books when no light is available\n",
            "Review snippet: ...ecoming addicted to hers! Our son LOVES it and it is great for reading books when no light is available. Amazing sound but I suggest good headphones t...\n",
            "\n",
            "\n",
            "\n",
            "Answer 2: I mainly use it for book reading\n",
            "Review snippet: ... is my third one.  I never thought I would want a fire for I mainly use it for book reading.  I decided to try the fire for when I travel I take my la...\n",
            "\n",
            "\n",
            "\n",
            "Answer 3: \n",
            "Review snippet: ...None...\n",
            "\n",
            "\n",
            "\n"
          ]
        }
      ]
    },
    {
      "cell_type": "markdown",
      "source": [
        "Performance of such a system depends on both Retriever and the Reader.\n",
        "\n",
        "However, if Retriever doesn't get the relevant documents, it doesn't matter how good is the Reader!"
      ],
      "metadata": {
        "id": "ioBu-hccj9iV"
      },
      "id": "ioBu-hccj9iV"
    },
    {
      "cell_type": "markdown",
      "source": [
        "# Evaluate the Retriever\n",
        "\n",
        "Here we focus on the Retriever's evaluation metrics\n",
        "\n",
        "The priority is for the recall as we want as many documents that contains the answer to be in the retrieved list. Or at least the document with the correct answer should always be there in the retrieved list.\n",
        "\n",
        "*Recall  measures the fraction of all relevant documents that are retrieved. In this context, “relevant” simply means whether the answer is present in a passage of text or not, so given a set of questions, we can compute recall by counting the number of times an answer appears in the top k documents returned by the retriever.*\n",
        "\n",
        "NOTE: compleimentary to recall for the retriever's metric, meanAveragePrecision  "
      ],
      "metadata": {
        "id": "0q3Xv2VY0I24"
      },
      "id": "0q3Xv2VY0I24"
    },
    {
      "cell_type": "markdown",
      "source": [
        "Two ways to evaluate retrievers in haystack:\n",
        "\n",
        "\n",
        "1.   In built eval() function - not useful here as each doc is for a particular product_id, so we need to do it separately for each product_id and then combine across the product_ids  \n",
        "2.   custom metric function to be used in the pipeline\n",
        "\n"
      ],
      "metadata": {
        "id": "6Vcu6A1S54Z4"
      },
      "id": "6Vcu6A1S54Z4"
    },
    {
      "cell_type": "code",
      "source": [
        "from haystack import Label, Document, Answer"
      ],
      "metadata": {
        "id": "Fy_66LjmOUZw"
      },
      "id": "Fy_66LjmOUZw",
      "execution_count": null,
      "outputs": []
    },
    {
      "cell_type": "code",
      "source": [
        "from haystack.pipelines import Pipeline\n",
        "# from haystack.schema import EvalDocuments\n",
        "\n",
        "class EvalRetrieverPipeline:\n",
        "  def __init__(self, retriever):\n",
        "    self.retriever = retriever\n",
        "    # self.eval_retriever = EvalDocuments()\n",
        "    pipe = Pipeline()\n",
        "    pipe.add_node(component=self.retriever, name=\"ESRetriever\", inputs=[\"Query\"])\n",
        "    # pipe.add_node(component=self.eval_retriever, name=\"evalRetriever\", inputs=[\"ESRetriever\"])\n",
        "    self.pipeline = pipe\n",
        "\n",
        "\n",
        "pipe = EvalRetrieverPipeline(bm_retriever)"
      ],
      "metadata": {
        "id": "0UM4ljExd3hZ"
      },
      "id": "0UM4ljExd3hZ",
      "execution_count": null,
      "outputs": []
    },
    {
      "cell_type": "code",
      "source": [
        "for i, row in dfs[\"test\"].iterrows():\n",
        "  print(row)\n",
        "  print(type(row[\"answers.text\"][0]))\n",
        "  break"
      ],
      "metadata": {
        "colab": {
          "base_uri": "https://localhost:8080/"
        },
        "id": "UvsUfCvCQakJ",
        "outputId": "2c62383e-7cf9-489f-f75e-726c5a6fa059"
      },
      "id": "UvsUfCvCQakJ",
      "execution_count": null,
      "outputs": [
        {
          "output_type": "stream",
          "name": "stdout",
          "text": [
            "domain                                                             electronics\n",
            "nn_mod                                                              comparable\n",
            "nn_asp                                                                 quality\n",
            "query_mod                                                              perfect\n",
            "query_asp                                                              balance\n",
            "q_reviews_id                                  aa99f9b7fe9fe9c921bc2f963cb22121\n",
            "question_subj_level                                                          1\n",
            "ques_subj_score                                                            0.0\n",
            "is_ques_subjective                                                       False\n",
            "review_id                                     f011c75fb8d26066217e64b3ff470d84\n",
            "id                                            d0781d13200014aa25860e44da9d5ea7\n",
            "title                                                               B00001WRSJ\n",
            "context                      I have been a headphone fanatic for thirty yea...\n",
            "question                        What is the tonal balance of these headphones?\n",
            "answers.text                 [I have been a headphone fanatic for thirty ye...\n",
            "answers.answer_start                                                       [0]\n",
            "answers.answer_subj_level                                                  [1]\n",
            "answers.ans_subj_score                                                   [0.8]\n",
            "answers.is_ans_subjective                                               [True]\n",
            "Name: 0, dtype: object\n",
            "<class 'str'>\n"
          ]
        }
      ]
    },
    {
      "cell_type": "code",
      "source": [
        "labels = []\n",
        "for i, row in dfs[\"test\"].iterrows():\n",
        "    # Metadata used for filtering in the Retriever\n",
        "    meta = {\"item_id\": row[\"title\"], \"question_id\": row[\"id\"]}\n",
        "    # Populate labels for questions with answers\n",
        "    if len(row[\"answers.text\"]):\n",
        "        for answer in row[\"answers.text\"]:\n",
        "          label = Label(query=row[\"question\"],\n",
        "                        document=Document(content=row[\"context\"],\n",
        "                                          meta=meta),\n",
        "                        answer=Answer(answer=answer),\n",
        "                        origin=\"gold-label\",\n",
        "                        meta=meta,\n",
        "                        is_correct_answer=True,\n",
        "                        is_correct_document=True,\n",
        "                        no_answer=False)\n",
        "          labels.append(label)\n",
        "    # Populate labels for questions without answers\n",
        "    else:\n",
        "        label = Label(\n",
        "            query=row[\"question\"],\n",
        "            document=Document(content=row[\"context\"],\n",
        "                              meta=meta),\n",
        "            answer=Answer(\"\"), origin=\"gold-label\",\n",
        "            meta=meta, is_correct_answer=True, is_correct_document=True,\n",
        "            no_answer=True)\n",
        "        labels.append(label)"
      ],
      "metadata": {
        "id": "PatJ1iu1P3Fu"
      },
      "id": "PatJ1iu1P3Fu",
      "execution_count": null,
      "outputs": []
    },
    {
      "cell_type": "code",
      "source": [
        "print(labels[0])"
      ],
      "metadata": {
        "colab": {
          "base_uri": "https://localhost:8080/"
        },
        "id": "uY6-tFQ9QXjI",
        "outputId": "c51616d9-86fb-4699-df8f-e2ca91376d18"
      },
      "id": "uY6-tFQ9QXjI",
      "execution_count": null,
      "outputs": [
        {
          "output_type": "stream",
          "name": "stdout",
          "text": [
            "<Label: {'id': '813b1f38-6ba8-426d-9c8d-77959bb17832', 'query': 'What is the tonal balance of these headphones?', 'document': {'id': 'a73f54ddc5b1fcc7f4fbf04bd564a278', 'content': \"I have been a headphone fanatic for thirty years and have owned and used a variety of headphones over those years, to include Stax SR-5, Sennheiser HD-424 and HD-580.  The Sony MDRV6 excells as the best value of any headphone that I've ever owned.  They are especially good at producing natural-sounding deep bass, and the overall octave-to-octave balance is excellent.  The sound quality is all in all comparable to other headphones that cost considerably more.The MDRV6 is especially well-suited for travel due to the collapsible design, and for noisy environments or for quiet environments such as a library where the sound emitted by open-back headphones would distract others.The MDRV6 is not quite as comfortable as some other headphones, but the comfort can be improved enormously by replacing the pads with the velour pads from BeyerDynamic.  The pads that come on the MDRV6 have a non-breathable cover, and significant additional discomfort is caused by the way that the thin foam cover is glued to the pad around the inner circumference of the pad, which prevents the top and back of your ear from slipping into the space between the pad and the face of the headphone.  This forces the pad to rest on the back of the ear, which compresses the ear and eventually becomes uncomfortable.  I read on a web forum where several people had replaced the pads (which eventually come apart) with a velour pad made by BeyerDynamic, and after I did this replacement on my one pair that had a damaged pad, the increase in comfort was so great that I immediately did the other pair.  The thin cover can be glued down to the headphone face if needed to hold it in place, which then allows the top and rear of your ear to naturally  slide under the inner circumference of the pad, which is considerably more comfortable.  I can recommend this trivial modification without reservation to anyone who owns these headphones.  Even if you don't replace the pads with the BeyerDynamic velour pads, I suggest removing the pads anyway, then carefully separating the thin cover from the pad, and glueing the cover directly to the headphone surface.\", 'content_type': 'text', 'meta': {'item_id': 'B00001WRSJ', 'question_id': 'd0781d13200014aa25860e44da9d5ea7'}, 'id_hash_keys': ['content'], 'score': None, 'embedding': None}, 'is_correct_answer': True, 'is_correct_document': True, 'origin': 'gold-label', 'answer': {'answer': 'I have been a headphone fanatic for thirty years', 'type': 'extractive', 'score': None, 'context': None, 'offsets_in_document': None, 'offsets_in_context': None, 'document_ids': None, 'meta': {}}, 'pipeline_id': None, 'created_at': '2023-08-14 09:36:56', 'updated_at': None, 'meta': {'item_id': 'B00001WRSJ', 'question_id': 'd0781d13200014aa25860e44da9d5ea7'}, 'filters': None}>\n"
          ]
        }
      ]
    },
    {
      "cell_type": "code",
      "source": [
        "print(labels[0].id, labels[13].id, labels[14].id, labels[15].id)"
      ],
      "metadata": {
        "colab": {
          "base_uri": "https://localhost:8080/"
        },
        "id": "HCBh3HWnrqCG",
        "outputId": "3db26335-b7fb-4fbd-a833-282daee8f0a8"
      },
      "id": "HCBh3HWnrqCG",
      "execution_count": null,
      "outputs": [
        {
          "output_type": "stream",
          "name": "stdout",
          "text": [
            "51ac90d4-238a-42e4-8a73-52e8a1e2cfcd 7f4f7c32-0a3b-49df-8287-cdd91e1b29c4 dee76bb7-6534-4a34-837c-cb793fe4dba3 bff07fa4-7b95-4cef-bf41-bd3b81b4d685\n"
          ]
        }
      ]
    },
    {
      "cell_type": "markdown",
      "source": [
        "Write Labels to LabelIndex"
      ],
      "metadata": {
        "id": "VsI9N6Yxt_Bm"
      },
      "id": "VsI9N6Yxt_Bm"
    },
    {
      "cell_type": "code",
      "source": [
        "document_store.write_labels(labels, index=\"label\")"
      ],
      "metadata": {
        "id": "u7biTtnFtJq4"
      },
      "id": "u7biTtnFtJq4",
      "execution_count": null,
      "outputs": []
    },
    {
      "cell_type": "code",
      "source": [
        "print(f\"\"\"Loaded {document_store.get_label_count(index=\"label\")} \\\n",
        "question-answer pairs\"\"\")"
      ],
      "metadata": {
        "colab": {
          "base_uri": "https://localhost:8080/"
        },
        "id": "N5sq9VkhuHLf",
        "outputId": "ed11f72b-ade6-4670-f412-9207093517bf"
      },
      "id": "N5sq9VkhuHLf",
      "execution_count": null,
      "outputs": [
        {
          "output_type": "stream",
          "name": "stdout",
          "text": [
            "Loaded 910 question-answer pairs\n"
          ]
        }
      ]
    },
    {
      "cell_type": "markdown",
      "source": [
        "If the id was choosen as *i*, it would lead to less pairs, precisely 358 but we choose uuid as the id and hence more pairs\n",
        "\n",
        "BUT eventually, for a unique item id, we have 330 pairs only"
      ],
      "metadata": {
        "id": "-VnwZtXTwUQ4"
      },
      "id": "-VnwZtXTwUQ4"
    },
    {
      "cell_type": "markdown",
      "source": [
        "Aggregated Labels"
      ],
      "metadata": {
        "id": "9gmcHAllwL4u"
      },
      "id": "9gmcHAllwL4u"
    },
    {
      "cell_type": "code",
      "source": [
        "labels_agg = document_store.get_all_labels_aggregated(\n",
        "    index=\"label\",\n",
        "    open_domain=True,\n",
        "    aggregate_by_meta=[\"item_id\"]\n",
        ")\n"
      ],
      "metadata": {
        "id": "HRMPunRMvk7w"
      },
      "id": "HRMPunRMvk7w",
      "execution_count": null,
      "outputs": []
    },
    {
      "cell_type": "code",
      "source": [
        "print(len(labels_agg))"
      ],
      "metadata": {
        "colab": {
          "base_uri": "https://localhost:8080/"
        },
        "id": "24SMSq7JwP__",
        "outputId": "4fe2334f-f96f-439c-8a12-31663e150b72"
      },
      "id": "24SMSq7JwP__",
      "execution_count": null,
      "outputs": [
        {
          "output_type": "stream",
          "name": "stdout",
          "text": [
            "330\n"
          ]
        }
      ]
    },
    {
      "cell_type": "markdown",
      "source": [
        "All the answers associated with a question are aggregated together in a multiple answers field as shown below"
      ],
      "metadata": {
        "id": "Ony5VT0dwoGf"
      },
      "id": "Ony5VT0dwoGf"
    },
    {
      "cell_type": "code",
      "source": [
        "print(labels_agg[109])"
      ],
      "metadata": {
        "colab": {
          "base_uri": "https://localhost:8080/"
        },
        "id": "-RRkHD3EwRTL",
        "outputId": "126aab51-baa3-4cd1-ccd0-eed8267ca234"
      },
      "id": "-RRkHD3EwRTL",
      "execution_count": null,
      "outputs": [
        {
          "output_type": "stream",
          "name": "stdout",
          "text": [
            "<MultiLabel: {'labels': [{'id': 'd42185fe-e9b7-4871-83c9-f204d1115706', 'query': 'How does the fan work?', 'document': {'id': '60a9992eb862b0a90ed516c52125b7e0', 'content': 'the usb on the back caused my mac to restart when i would plug something into about 50% of the time.  very annoying but the fan is really really good!', 'content_type': 'text', 'meta': {'item_id': 'B002MU1ZRS', 'question_id': '5a9b7616541f700f103d21f8ad41bc4b'}, 'id_hash_keys': ['content'], 'score': None, 'embedding': None}, 'is_correct_answer': True, 'is_correct_document': True, 'origin': 'gold-label', 'answer': {'answer': 'the fan is really really good', 'type': 'extractive', 'score': None, 'context': None, 'offsets_in_document': None, 'offsets_in_context': None, 'document_ids': None, 'meta': {}}, 'pipeline_id': None, 'created_at': '2023-08-31 06:29:15', 'updated_at': '2023-08-31 06:29:15', 'meta': {'item_id': 'B002MU1ZRS', 'question_id': '5a9b7616541f700f103d21f8ad41bc4b'}, 'filters': {'item_id': ['B002MU1ZRS']}}, {'id': 'af4e46ff-d7b6-4646-982a-1418290564de', 'query': 'How does the fan work?', 'document': {'id': '542f7ea55f2fbb20ff860de0eb4066d6', 'content': 'In most demanding games, my GPU will consistently soar to 90-93 degrees Celsius. I didn\\'t like seeing temps in the 90s so I figured I would pick up this Cooler Master for a shade over $20. Is it worth it? I think it is.My Sager NP8130 is 15.6\" and this cooler fits it just about perfectly - I have maybe 1\" of extra room. My laptop\\'s rubber stops on the bottom keep it anchored pretty well, and the fan itself isn\\'t super loud. There is an adjustable dial to change fan speed, but when I\\'m gaming, I generally just have it on max, and when I\\'m not gaming, I turn the cooling pad off altogether.The one thing I would make sure you do is use the little legs on the bottom of the cooling pad to prop it up an extra half inch or so. It makes a world of difference in how much more air can flow through under the pad and up to your laptop. Also, beware of using this on top of a table cloth - it seems to impede air flow as well. With the legs propping up the cooling pad, my GPU temps only hit about 84-86 degrees, but without it propped up, my GPU is still 90-91 degrees.Overall, it\\'s a small ~$20 investment to potentially increase the life of my laptop as a whole.', 'content_type': 'text', 'meta': {'item_id': 'B002MU1ZRS', 'question_id': 'f20dae56410f31632d6a9f8f8284657a'}, 'id_hash_keys': ['content'], 'score': None, 'embedding': None}, 'is_correct_answer': True, 'is_correct_document': True, 'origin': 'gold-label', 'answer': {'answer': 'this cooler fits it just about perfectly', 'type': 'extractive', 'score': None, 'context': None, 'offsets_in_document': None, 'offsets_in_context': None, 'document_ids': None, 'meta': {}}, 'pipeline_id': None, 'created_at': '2023-08-31 06:29:15', 'updated_at': '2023-08-31 06:29:15', 'meta': {'item_id': 'B002MU1ZRS', 'question_id': 'f20dae56410f31632d6a9f8f8284657a'}, 'filters': {'item_id': ['B002MU1ZRS']}}, {'id': '5c777076-d570-4a88-9145-1d844f2ee6b1', 'query': 'How does the fan work?', 'document': {'id': '542f7ea55f2fbb20ff860de0eb4066d6', 'content': 'In most demanding games, my GPU will consistently soar to 90-93 degrees Celsius. I didn\\'t like seeing temps in the 90s so I figured I would pick up this Cooler Master for a shade over $20. Is it worth it? I think it is.My Sager NP8130 is 15.6\" and this cooler fits it just about perfectly - I have maybe 1\" of extra room. My laptop\\'s rubber stops on the bottom keep it anchored pretty well, and the fan itself isn\\'t super loud. There is an adjustable dial to change fan speed, but when I\\'m gaming, I generally just have it on max, and when I\\'m not gaming, I turn the cooling pad off altogether.The one thing I would make sure you do is use the little legs on the bottom of the cooling pad to prop it up an extra half inch or so. It makes a world of difference in how much more air can flow through under the pad and up to your laptop. Also, beware of using this on top of a table cloth - it seems to impede air flow as well. With the legs propping up the cooling pad, my GPU temps only hit about 84-86 degrees, but without it propped up, my GPU is still 90-91 degrees.Overall, it\\'s a small ~$20 investment to potentially increase the life of my laptop as a whole.', 'content_type': 'text', 'meta': {'item_id': 'B002MU1ZRS', 'question_id': 'f20dae56410f31632d6a9f8f8284657a'}, 'id_hash_keys': ['content'], 'score': None, 'embedding': None}, 'is_correct_answer': True, 'is_correct_document': True, 'origin': 'gold-label', 'answer': {'answer': \"the fan itself isn't super loud. There is an adjustable dial to change fan speed\", 'type': 'extractive', 'score': None, 'context': None, 'offsets_in_document': None, 'offsets_in_context': None, 'document_ids': None, 'meta': {}}, 'pipeline_id': None, 'created_at': '2023-08-31 06:29:15', 'updated_at': '2023-08-31 06:29:15', 'meta': {'item_id': 'B002MU1ZRS', 'question_id': 'f20dae56410f31632d6a9f8f8284657a'}, 'filters': {'item_id': ['B002MU1ZRS']}}], 'query': 'How does the fan work?', 'filters': {'item_id': ['B002MU1ZRS']}, 'id': 'b4881c19bd99408985ff545742a3fb17', 'no_answer': False, 'answers': ['the fan is really really good', 'this cooler fits it just about perfectly', \"the fan itself isn't super loud. There is an adjustable dial to change fan speed\"], 'offsets_in_documents': [], 'offsets_in_contexts': [], 'document_ids': ['60a9992eb862b0a90ed516c52125b7e0', '542f7ea55f2fbb20ff860de0eb4066d6', '542f7ea55f2fbb20ff860de0eb4066d6'], 'contexts': ['the usb on the back caused my mac to restart when i would plug something into about 50% of the time.  very annoying but the fan is really really good!', 'In most demanding games, my GPU will consistently soar to 90-93 degrees Celsius. I didn\\'t like seeing temps in the 90s so I figured I would pick up this Cooler Master for a shade over $20. Is it worth it? I think it is.My Sager NP8130 is 15.6\" and this cooler fits it just about perfectly - I have maybe 1\" of extra room. My laptop\\'s rubber stops on the bottom keep it anchored pretty well, and the fan itself isn\\'t super loud. There is an adjustable dial to change fan speed, but when I\\'m gaming, I generally just have it on max, and when I\\'m not gaming, I turn the cooling pad off altogether.The one thing I would make sure you do is use the little legs on the bottom of the cooling pad to prop it up an extra half inch or so. It makes a world of difference in how much more air can flow through under the pad and up to your laptop. Also, beware of using this on top of a table cloth - it seems to impede air flow as well. With the legs propping up the cooling pad, my GPU temps only hit about 84-86 degrees, but without it propped up, my GPU is still 90-91 degrees.Overall, it\\'s a small ~$20 investment to potentially increase the life of my laptop as a whole.', 'In most demanding games, my GPU will consistently soar to 90-93 degrees Celsius. I didn\\'t like seeing temps in the 90s so I figured I would pick up this Cooler Master for a shade over $20. Is it worth it? I think it is.My Sager NP8130 is 15.6\" and this cooler fits it just about perfectly - I have maybe 1\" of extra room. My laptop\\'s rubber stops on the bottom keep it anchored pretty well, and the fan itself isn\\'t super loud. There is an adjustable dial to change fan speed, but when I\\'m gaming, I generally just have it on max, and when I\\'m not gaming, I turn the cooling pad off altogether.The one thing I would make sure you do is use the little legs on the bottom of the cooling pad to prop it up an extra half inch or so. It makes a world of difference in how much more air can flow through under the pad and up to your laptop. Also, beware of using this on top of a table cloth - it seems to impede air flow as well. With the legs propping up the cooling pad, my GPU temps only hit about 84-86 degrees, but without it propped up, my GPU is still 90-91 degrees.Overall, it\\'s a small ~$20 investment to potentially increase the life of my laptop as a whole.']}>\n"
          ]
        }
      ]
    },
    {
      "cell_type": "code",
      "source": [
        "print(labels_agg[109].query, labels_agg[109].answers)"
      ],
      "metadata": {
        "colab": {
          "base_uri": "https://localhost:8080/"
        },
        "id": "F_VJTDFwwzPI",
        "outputId": "cbc01a50-3dfb-4049-ed7f-52561f702537"
      },
      "id": "F_VJTDFwwzPI",
      "execution_count": null,
      "outputs": [
        {
          "output_type": "stream",
          "name": "stdout",
          "text": [
            "How does the fan work? ['the fan is really really good', 'this cooler fits it just about perfectly', \"the fan itself isn't super loud. There is an adjustable dial to change fan speed\"]\n"
          ]
        }
      ]
    },
    {
      "cell_type": "code",
      "source": [
        "i = 0\n",
        "for l in labels_agg:\n",
        "  print(l.labels)\n",
        "  break\n"
      ],
      "metadata": {
        "colab": {
          "base_uri": "https://localhost:8080/"
        },
        "id": "YOt-ThjWqhvp",
        "outputId": "88acb1fe-9f10-4849-d9d9-469734894b4d"
      },
      "id": "YOt-ThjWqhvp",
      "execution_count": null,
      "outputs": [
        {
          "output_type": "stream",
          "name": "stdout",
          "text": [
            "[<Label: {'id': '34b8662a-4888-4904-9798-31793725008d', 'query': 'What is the tonal balance of these headphones?', 'document': {'id': 'a73f54ddc5b1fcc7f4fbf04bd564a278', 'content': \"I have been a headphone fanatic for thirty years and have owned and used a variety of headphones over those years, to include Stax SR-5, Sennheiser HD-424 and HD-580.  The Sony MDRV6 excells as the best value of any headphone that I've ever owned.  They are especially good at producing natural-sounding deep bass, and the overall octave-to-octave balance is excellent.  The sound quality is all in all comparable to other headphones that cost considerably more.The MDRV6 is especially well-suited for travel due to the collapsible design, and for noisy environments or for quiet environments such as a library where the sound emitted by open-back headphones would distract others.The MDRV6 is not quite as comfortable as some other headphones, but the comfort can be improved enormously by replacing the pads with the velour pads from BeyerDynamic.  The pads that come on the MDRV6 have a non-breathable cover, and significant additional discomfort is caused by the way that the thin foam cover is glued to the pad around the inner circumference of the pad, which prevents the top and back of your ear from slipping into the space between the pad and the face of the headphone.  This forces the pad to rest on the back of the ear, which compresses the ear and eventually becomes uncomfortable.  I read on a web forum where several people had replaced the pads (which eventually come apart) with a velour pad made by BeyerDynamic, and after I did this replacement on my one pair that had a damaged pad, the increase in comfort was so great that I immediately did the other pair.  The thin cover can be glued down to the headphone face if needed to hold it in place, which then allows the top and rear of your ear to naturally  slide under the inner circumference of the pad, which is considerably more comfortable.  I can recommend this trivial modification without reservation to anyone who owns these headphones.  Even if you don't replace the pads with the BeyerDynamic velour pads, I suggest removing the pads anyway, then carefully separating the thin cover from the pad, and glueing the cover directly to the headphone surface.\", 'content_type': 'text', 'meta': {'item_id': 'B00001WRSJ', 'question_id': 'd0781d13200014aa25860e44da9d5ea7'}, 'id_hash_keys': ['content'], 'score': None, 'embedding': None}, 'is_correct_answer': True, 'is_correct_document': True, 'origin': 'gold-label', 'answer': {'answer': 'I have been a headphone fanatic for thirty years', 'type': 'extractive', 'score': None, 'context': None, 'offsets_in_document': None, 'offsets_in_context': None, 'document_ids': None, 'meta': {}}, 'pipeline_id': None, 'created_at': '2023-08-31 06:29:15', 'updated_at': '2023-08-31 06:29:15', 'meta': {'item_id': 'B00001WRSJ', 'question_id': 'd0781d13200014aa25860e44da9d5ea7'}, 'filters': {'item_id': ['B00001WRSJ']}}>]\n"
          ]
        }
      ]
    },
    {
      "cell_type": "code",
      "source": [
        "def run_pipeline(pipeline, top_k_retriever=10, top_k_reader=4):\n",
        "    for l in labels_agg:\n",
        "        _ = pipeline.pipeline.run(\n",
        "                                  query=query,\n",
        "                                  labels=l.labels,\n",
        "                                  params={\"ESRetriever\": {\"top_k\": top_k_retriever},\n",
        "                                     \"filters\":{\"item_id\":[l.labels[0].meta[\"item_id\"]],\n",
        "                                                \"split\":[\"test\"]}\n",
        "                                     }\n",
        "                 )"
      ],
      "metadata": {
        "id": "lkk2bIoYxN8F"
      },
      "id": "lkk2bIoYxN8F",
      "execution_count": null,
      "outputs": []
    },
    {
      "cell_type": "code",
      "source": [
        "run_pipeline(pipe, top_k_retriever=3)\n"
      ],
      "metadata": {
        "id": "owIVLFkRqBhH"
      },
      "id": "owIVLFkRqBhH",
      "execution_count": null,
      "outputs": []
    },
    {
      "cell_type": "code",
      "source": [
        "# pipe.retriever.eval(label_index=\"label\", doc_index=\"document\", top_k=3)"
      ],
      "metadata": {
        "id": "CjBuIX0ss3vr"
      },
      "id": "CjBuIX0ss3vr",
      "execution_count": null,
      "outputs": []
    },
    {
      "cell_type": "markdown",
      "source": [
        "Evaluation metrics for entire data set"
      ],
      "metadata": {
        "id": "eC5vmGXfzpHF"
      },
      "id": "eC5vmGXfzpHF"
    },
    {
      "cell_type": "code",
      "source": [
        "# !pip install farm-haystack[metrics]"
      ],
      "metadata": {
        "id": "3TIJXNfC0do1"
      },
      "id": "3TIJXNfC0do1",
      "execution_count": null,
      "outputs": []
    },
    {
      "cell_type": "code",
      "source": [
        "eval_result = pipe.pipeline.eval(labels=labels_agg, params={\"ESRetriever\":{\"top_k\":3}})"
      ],
      "metadata": {
        "id": "PCX1Mo6bXodq"
      },
      "id": "PCX1Mo6bXodq",
      "execution_count": null,
      "outputs": []
    },
    {
      "cell_type": "code",
      "source": [],
      "metadata": {
        "id": "MvCLyq-FWDlA"
      },
      "id": "MvCLyq-FWDlA",
      "execution_count": null,
      "outputs": []
    },
    {
      "cell_type": "code",
      "source": [
        "eval_result[\"ESRetriever\"].shape"
      ],
      "metadata": {
        "colab": {
          "base_uri": "https://localhost:8080/"
        },
        "id": "TuodNwnBaUGX",
        "outputId": "2220fe69-e474-4dc6-d5bb-67ef0460ff42"
      },
      "id": "TuodNwnBaUGX",
      "execution_count": null,
      "outputs": [
        {
          "output_type": "execute_result",
          "data": {
            "text/plain": [
              "(812, 25)"
            ]
          },
          "metadata": {},
          "execution_count": 70
        }
      ]
    },
    {
      "cell_type": "code",
      "source": [
        "metrics = eval_result.calculate_metrics()"
      ],
      "metadata": {
        "id": "RELfpZ1nax5o"
      },
      "id": "RELfpZ1nax5o",
      "execution_count": null,
      "outputs": []
    },
    {
      "cell_type": "code",
      "source": [
        "metrics"
      ],
      "metadata": {
        "colab": {
          "base_uri": "https://localhost:8080/"
        },
        "id": "IobVqgnaoulo",
        "outputId": "25a1b273-6af2-45ec-ab46-8b2e61be131a"
      },
      "id": "IobVqgnaoulo",
      "execution_count": null,
      "outputs": [
        {
          "output_type": "execute_result",
          "data": {
            "text/plain": [
              "{'ESRetriever': {'recall_multi_hit': 0.8957070707070707,\n",
              "  'recall_single_hit': 0.9,\n",
              "  'precision': 0.744949494949495,\n",
              "  'map': 0.8353535353535353,\n",
              "  'mrr': 0.8378787878787879,\n",
              "  'ndcg': 0.8517243549531958}}"
            ]
          },
          "metadata": {},
          "execution_count": 63
        }
      ]
    },
    {
      "cell_type": "code",
      "source": [
        "metrics[\"ESRetriever\"][\"recall_multi_hit\"] , metrics[\"ESRetriever\"][\"recall_single_hit\"]\n",
        "\n"
      ],
      "metadata": {
        "colab": {
          "base_uri": "https://localhost:8080/"
        },
        "id": "5dFU5_Hao7je",
        "outputId": "4d2d9410-76e9-4a4a-8d59-9d876e3ac549"
      },
      "id": "5dFU5_Hao7je",
      "execution_count": null,
      "outputs": [
        {
          "output_type": "execute_result",
          "data": {
            "text/plain": [
              "(0.8957070707070707, 0.9)"
            ]
          },
          "metadata": {},
          "execution_count": 64
        }
      ]
    },
    {
      "cell_type": "code",
      "source": [
        "print(f\"Recall@3: {metrics['ESRetriever']['recall_multi_hit']:.2f}\")"
      ],
      "metadata": {
        "colab": {
          "base_uri": "https://localhost:8080/"
        },
        "id": "YlMZZ2DEqKeB",
        "outputId": "aca45c26-3c4b-4067-f885-830907774ac4"
      },
      "id": "YlMZZ2DEqKeB",
      "execution_count": null,
      "outputs": [
        {
          "output_type": "stream",
          "name": "stdout",
          "text": [
            "Recall@3: 0.90\n"
          ]
        }
      ]
    },
    {
      "cell_type": "markdown",
      "source": [
        "Evluation metric for test set only"
      ],
      "metadata": {
        "id": "EI-RrCJDz9FG"
      },
      "id": "EI-RrCJDz9FG"
    },
    {
      "cell_type": "code",
      "source": [
        "t_eval_result = pipe.pipeline.eval(labels=labels_agg, params={\"ESRetriever\":{\"top_k\":3},\n",
        "                                                                 \"filters\":{\"split\":[\"train\"]}\n",
        "                                              }\n",
        "                   )\n",
        "print(t_eval_result[\"ESRetriever\"].shape)"
      ],
      "metadata": {
        "colab": {
          "base_uri": "https://localhost:8080/"
        },
        "id": "w1uQJNZR02J0",
        "outputId": "4b95b352-c311-46bb-ac0f-b3e4085f1ee7"
      },
      "id": "w1uQJNZR02J0",
      "execution_count": null,
      "outputs": [
        {
          "output_type": "stream",
          "name": "stdout",
          "text": [
            "(663, 25)\n"
          ]
        }
      ]
    },
    {
      "cell_type": "code",
      "source": [
        "v_eval_result = pipe.pipeline.eval(labels=labels_agg, params={\"ESRetriever\":{\"top_k\":3},\n",
        "                                                                 \"filters\":{\"split\":[\"val\"]}\n",
        "                                              }\n",
        "                   )\n",
        "print(v_eval_result[\"ESRetriever\"].shape)"
      ],
      "metadata": {
        "colab": {
          "base_uri": "https://localhost:8080/"
        },
        "id": "nOc80K2P05dG",
        "outputId": "64677fdf-2755-4a38-a06f-26b47d974e79"
      },
      "id": "nOc80K2P05dG",
      "execution_count": null,
      "outputs": [
        {
          "output_type": "stream",
          "name": "stdout",
          "text": [
            "(330, 25)\n"
          ]
        }
      ]
    },
    {
      "cell_type": "code",
      "source": [
        "test_eval_result = pipe.pipeline.eval(labels=labels_agg, params={\"ESRetriever\":{\"top_k\":3},\n",
        "                                                                 \"filters\":{\"split\":[\"test\"]}\n",
        "                                              }\n",
        "                   )\n",
        "print(test_eval_result[\"ESRetriever\"].shape)\n",
        "test_metrics = test_eval_result.calculate_metrics()\n",
        "print(f\"Recall@3: {test_metrics['ESRetriever']['recall_multi_hit']:.2f}\")\n",
        "test_metrics\n"
      ],
      "metadata": {
        "colab": {
          "base_uri": "https://localhost:8080/"
        },
        "id": "2QZPeQ5Oz8Fa",
        "outputId": "0000bc19-0055-4eb9-ea12-9bd2ce289e79"
      },
      "id": "2QZPeQ5Oz8Fa",
      "execution_count": null,
      "outputs": [
        {
          "output_type": "stream",
          "name": "stdout",
          "text": [
            "(644, 25)\n",
            "Recall@3: 0.95\n"
          ]
        },
        {
          "output_type": "execute_result",
          "data": {
            "text/plain": [
              "{'ESRetriever': {'recall_multi_hit': 0.9547979797979798,\n",
              "  'recall_single_hit': 0.9575757575757575,\n",
              "  'precision': 0.8343434343434345,\n",
              "  'map': 0.9212962962962965,\n",
              "  'mrr': 0.9227272727272727,\n",
              "  'ndcg': 0.9303831604655081}}"
            ]
          },
          "metadata": {},
          "execution_count": 77
        }
      ]
    },
    {
      "cell_type": "markdown",
      "source": [
        "### Choose the right value of k"
      ],
      "metadata": {
        "id": "UVDOKFk4vnH3"
      },
      "id": "UVDOKFk4vnH3"
    },
    {
      "cell_type": "code",
      "source": [
        "def evaluate_retriever(retriever, topk_values = [1,3,5,10,20]):\n",
        "    topk_results = {}\n",
        "\n",
        "    for topk in topk_values:\n",
        "        # Create Pipeline\n",
        "        p = EvalRetrieverPipeline(retriever)\n",
        "        # Loop over each question-answers pair in test set\n",
        "        run_pipeline(p, top_k_retriever=topk)\n",
        "        # Get metrics\n",
        "        # topk_results[topk] = {\"recall\": p.eval_retriever.recall}\n",
        "        p_eval_result = p.pipeline.eval(labels=labels_agg, params={\"ESRetriever\":{\"top_k\":topk},\n",
        "                                                                 \"filters\":{\"split\":[\"test\"]}\n",
        "                                              }\n",
        "                   )\n",
        "        metrics = p_eval_result.calculate_metrics()\n",
        "        topk_results[topk] = metrics['ESRetriever']['recall_multi_hit']\n",
        "\n",
        "    return pd.DataFrame.from_dict(topk_results, orient=\"index\", columns=[\"recall\"])\n",
        "\n",
        "\n",
        "es_topk_df = evaluate_retriever(bm_retriever)"
      ],
      "metadata": {
        "id": "0CKAZUZMW2KJ"
      },
      "id": "0CKAZUZMW2KJ",
      "execution_count": null,
      "outputs": []
    },
    {
      "cell_type": "code",
      "source": [
        "# es_topk_df = es_topk_df.rename(columns={0:\"recall\"})"
      ],
      "metadata": {
        "id": "-jqRd9Rb4NLx"
      },
      "id": "-jqRd9Rb4NLx",
      "execution_count": null,
      "outputs": []
    },
    {
      "cell_type": "code",
      "source": [
        "es_topk_df"
      ],
      "metadata": {
        "colab": {
          "base_uri": "https://localhost:8080/",
          "height": 206
        },
        "id": "wJTd92hL4DaQ",
        "outputId": "ca9a1eb3-293a-4e80-e19b-277f63f60297"
      },
      "id": "wJTd92hL4DaQ",
      "execution_count": null,
      "outputs": [
        {
          "output_type": "execute_result",
          "data": {
            "text/plain": [
              "      recall\n",
              "1   0.886364\n",
              "3   0.954798\n",
              "5   0.981818\n",
              "10  0.993939\n",
              "20  0.993939"
            ],
            "text/html": [
              "\n",
              "  <div id=\"df-822d0d9e-f40b-432a-aab4-b2bbad815b0e\" class=\"colab-df-container\">\n",
              "    <div>\n",
              "<style scoped>\n",
              "    .dataframe tbody tr th:only-of-type {\n",
              "        vertical-align: middle;\n",
              "    }\n",
              "\n",
              "    .dataframe tbody tr th {\n",
              "        vertical-align: top;\n",
              "    }\n",
              "\n",
              "    .dataframe thead th {\n",
              "        text-align: right;\n",
              "    }\n",
              "</style>\n",
              "<table border=\"1\" class=\"dataframe\">\n",
              "  <thead>\n",
              "    <tr style=\"text-align: right;\">\n",
              "      <th></th>\n",
              "      <th>recall</th>\n",
              "    </tr>\n",
              "  </thead>\n",
              "  <tbody>\n",
              "    <tr>\n",
              "      <th>1</th>\n",
              "      <td>0.886364</td>\n",
              "    </tr>\n",
              "    <tr>\n",
              "      <th>3</th>\n",
              "      <td>0.954798</td>\n",
              "    </tr>\n",
              "    <tr>\n",
              "      <th>5</th>\n",
              "      <td>0.981818</td>\n",
              "    </tr>\n",
              "    <tr>\n",
              "      <th>10</th>\n",
              "      <td>0.993939</td>\n",
              "    </tr>\n",
              "    <tr>\n",
              "      <th>20</th>\n",
              "      <td>0.993939</td>\n",
              "    </tr>\n",
              "  </tbody>\n",
              "</table>\n",
              "</div>\n",
              "    <div class=\"colab-df-buttons\">\n",
              "\n",
              "  <div class=\"colab-df-container\">\n",
              "    <button class=\"colab-df-convert\" onclick=\"convertToInteractive('df-822d0d9e-f40b-432a-aab4-b2bbad815b0e')\"\n",
              "            title=\"Convert this dataframe to an interactive table.\"\n",
              "            style=\"display:none;\">\n",
              "\n",
              "  <svg xmlns=\"http://www.w3.org/2000/svg\" height=\"24px\" viewBox=\"0 -960 960 960\">\n",
              "    <path d=\"M120-120v-720h720v720H120Zm60-500h600v-160H180v160Zm220 220h160v-160H400v160Zm0 220h160v-160H400v160ZM180-400h160v-160H180v160Zm440 0h160v-160H620v160ZM180-180h160v-160H180v160Zm440 0h160v-160H620v160Z\"/>\n",
              "  </svg>\n",
              "    </button>\n",
              "\n",
              "  <style>\n",
              "    .colab-df-container {\n",
              "      display:flex;\n",
              "      gap: 12px;\n",
              "    }\n",
              "\n",
              "    .colab-df-convert {\n",
              "      background-color: #E8F0FE;\n",
              "      border: none;\n",
              "      border-radius: 50%;\n",
              "      cursor: pointer;\n",
              "      display: none;\n",
              "      fill: #1967D2;\n",
              "      height: 32px;\n",
              "      padding: 0 0 0 0;\n",
              "      width: 32px;\n",
              "    }\n",
              "\n",
              "    .colab-df-convert:hover {\n",
              "      background-color: #E2EBFA;\n",
              "      box-shadow: 0px 1px 2px rgba(60, 64, 67, 0.3), 0px 1px 3px 1px rgba(60, 64, 67, 0.15);\n",
              "      fill: #174EA6;\n",
              "    }\n",
              "\n",
              "    .colab-df-buttons div {\n",
              "      margin-bottom: 4px;\n",
              "    }\n",
              "\n",
              "    [theme=dark] .colab-df-convert {\n",
              "      background-color: #3B4455;\n",
              "      fill: #D2E3FC;\n",
              "    }\n",
              "\n",
              "    [theme=dark] .colab-df-convert:hover {\n",
              "      background-color: #434B5C;\n",
              "      box-shadow: 0px 1px 3px 1px rgba(0, 0, 0, 0.15);\n",
              "      filter: drop-shadow(0px 1px 2px rgba(0, 0, 0, 0.3));\n",
              "      fill: #FFFFFF;\n",
              "    }\n",
              "  </style>\n",
              "\n",
              "    <script>\n",
              "      const buttonEl =\n",
              "        document.querySelector('#df-822d0d9e-f40b-432a-aab4-b2bbad815b0e button.colab-df-convert');\n",
              "      buttonEl.style.display =\n",
              "        google.colab.kernel.accessAllowed ? 'block' : 'none';\n",
              "\n",
              "      async function convertToInteractive(key) {\n",
              "        const element = document.querySelector('#df-822d0d9e-f40b-432a-aab4-b2bbad815b0e');\n",
              "        const dataTable =\n",
              "          await google.colab.kernel.invokeFunction('convertToInteractive',\n",
              "                                                    [key], {});\n",
              "        if (!dataTable) return;\n",
              "\n",
              "        const docLinkHtml = 'Like what you see? Visit the ' +\n",
              "          '<a target=\"_blank\" href=https://colab.research.google.com/notebooks/data_table.ipynb>data table notebook</a>'\n",
              "          + ' to learn more about interactive tables.';\n",
              "        element.innerHTML = '';\n",
              "        dataTable['output_type'] = 'display_data';\n",
              "        await google.colab.output.renderOutput(dataTable, element);\n",
              "        const docLink = document.createElement('div');\n",
              "        docLink.innerHTML = docLinkHtml;\n",
              "        element.appendChild(docLink);\n",
              "      }\n",
              "    </script>\n",
              "  </div>\n",
              "\n",
              "\n",
              "<div id=\"df-b0ccf7ed-52e6-40a8-b01b-3f565f2b7648\">\n",
              "  <button class=\"colab-df-quickchart\" onclick=\"quickchart('df-b0ccf7ed-52e6-40a8-b01b-3f565f2b7648')\"\n",
              "            title=\"Suggest charts.\"\n",
              "            style=\"display:none;\">\n",
              "\n",
              "<svg xmlns=\"http://www.w3.org/2000/svg\" height=\"24px\"viewBox=\"0 0 24 24\"\n",
              "     width=\"24px\">\n",
              "    <g>\n",
              "        <path d=\"M19 3H5c-1.1 0-2 .9-2 2v14c0 1.1.9 2 2 2h14c1.1 0 2-.9 2-2V5c0-1.1-.9-2-2-2zM9 17H7v-7h2v7zm4 0h-2V7h2v10zm4 0h-2v-4h2v4z\"/>\n",
              "    </g>\n",
              "</svg>\n",
              "  </button>\n",
              "\n",
              "<style>\n",
              "  .colab-df-quickchart {\n",
              "    background-color: #E8F0FE;\n",
              "    border: none;\n",
              "    border-radius: 50%;\n",
              "    cursor: pointer;\n",
              "    display: none;\n",
              "    fill: #1967D2;\n",
              "    height: 32px;\n",
              "    padding: 0 0 0 0;\n",
              "    width: 32px;\n",
              "  }\n",
              "\n",
              "  .colab-df-quickchart:hover {\n",
              "    background-color: #E2EBFA;\n",
              "    box-shadow: 0px 1px 2px rgba(60, 64, 67, 0.3), 0px 1px 3px 1px rgba(60, 64, 67, 0.15);\n",
              "    fill: #174EA6;\n",
              "  }\n",
              "\n",
              "  [theme=dark] .colab-df-quickchart {\n",
              "    background-color: #3B4455;\n",
              "    fill: #D2E3FC;\n",
              "  }\n",
              "\n",
              "  [theme=dark] .colab-df-quickchart:hover {\n",
              "    background-color: #434B5C;\n",
              "    box-shadow: 0px 1px 3px 1px rgba(0, 0, 0, 0.15);\n",
              "    filter: drop-shadow(0px 1px 2px rgba(0, 0, 0, 0.3));\n",
              "    fill: #FFFFFF;\n",
              "  }\n",
              "</style>\n",
              "\n",
              "  <script>\n",
              "    async function quickchart(key) {\n",
              "      const charts = await google.colab.kernel.invokeFunction(\n",
              "          'suggestCharts', [key], {});\n",
              "    }\n",
              "    (() => {\n",
              "      let quickchartButtonEl =\n",
              "        document.querySelector('#df-b0ccf7ed-52e6-40a8-b01b-3f565f2b7648 button');\n",
              "      quickchartButtonEl.style.display =\n",
              "        google.colab.kernel.accessAllowed ? 'block' : 'none';\n",
              "    })();\n",
              "  </script>\n",
              "</div>\n",
              "    </div>\n",
              "  </div>\n"
            ]
          },
          "metadata": {},
          "execution_count": 80
        }
      ]
    },
    {
      "cell_type": "code",
      "source": [
        "def plot_retriever_eval(dfs, retriever_names):\n",
        "    fig, ax = plt.subplots()\n",
        "    for df, retriever_name in zip(dfs, retriever_names):\n",
        "        df.plot(y=\"recall\", ax=ax, label=retriever_name)\n",
        "    plt.xticks(df.index)\n",
        "    plt.ylabel(\"Top-k Recall\")\n",
        "    plt.xlabel(\"k\")\n",
        "    plt.show()"
      ],
      "metadata": {
        "id": "45kq8DDPFoCv"
      },
      "id": "45kq8DDPFoCv",
      "execution_count": null,
      "outputs": []
    },
    {
      "cell_type": "code",
      "source": [
        "plot_retriever_eval([es_topk_df], [\"BM25\"])"
      ],
      "metadata": {
        "colab": {
          "base_uri": "https://localhost:8080/",
          "height": 449
        },
        "id": "jlrg0Sy03cEK",
        "outputId": "43b6a0dd-9bcb-4f29-d0bc-14dec2ddc9ef"
      },
      "id": "jlrg0Sy03cEK",
      "execution_count": null,
      "outputs": [
        {
          "output_type": "display_data",
          "data": {
            "text/plain": [
              "<Figure size 640x480 with 1 Axes>"
            ],
            "image/png": "[encoded data removed]"
          },
          "metadata": {}
        }
      ]
    },
    {
      "cell_type": "markdown",
      "source": [
        "Inflection point occurs at k=5 while k=10 can offer an excellent choice for the recall!"
      ],
      "metadata": {
        "id": "EHOSl8_K4zhG"
      },
      "id": "EHOSl8_K4zhG"
    },
    {
      "cell_type": "markdown",
      "source": [
        "Until we *retrieved* documents using sparse technique with BM25 retriever.\n",
        "\n",
        "Now we will retrieve using dense vector representation.\n",
        "\n",
        "The idea is to reduce the value of k for which we get the same recall performance."
      ],
      "metadata": {
        "id": "SZdZkwN45wvu"
      },
      "id": "SZdZkwN45wvu"
    },
    {
      "cell_type": "markdown",
      "source": [
        "## Dense Passage Retrieval"
      ],
      "metadata": {
        "id": "yhuGVvqpBGcC"
      },
      "id": "yhuGVvqpBGcC"
    },
    {
      "cell_type": "code",
      "source": [
        "from haystack.nodes import DensePassageRetriever"
      ],
      "metadata": {
        "id": "Mfxs8w7C4AYR"
      },
      "id": "Mfxs8w7C4AYR",
      "execution_count": null,
      "outputs": []
    },
    {
      "cell_type": "code",
      "source": [
        "dpr_retriever = DensePassageRetriever(document_store=document_store,\n",
        "                                      query_embedding_model=\"facebook/dpr-question_encoder-single-nq-base\",\n",
        "                                      passage_embedding_model=\"facebook/dpr-ctx_encoder-single-nq-base\",\n",
        "                                      embed_title=False)"
      ],
      "metadata": {
        "colab": {
          "base_uri": "https://localhost:8080/",
          "height": 393,
          "referenced_widgets": [
            "c512e23a4a664351a63664b6cd23fd6f",
            "89db3ace7f0b44a4af937ba271d14fdb",
            "dc13425083fd4e1e80c2ddbdd2a7e60f",
            "186c289947004f79a3b0764622cb3899",
            "4b202ea1aa81488fa5252e4190810b8a",
            "15749365beb04bbc876ccb237675802b",
            "ce2c6da5afc843feaa42f4810fe0ff97",
            "f58b662a94b84a288161662bbc420fdb",
            "c4bd7f66c1a04df9a55115ceb00e9969",
            "e74f6dc7f9f14ba5baa4cdf27bb140fa",
            "070769e3eb62403eaa3d4455a559f425",
            "d84ea02c500a4fd6bf884b6e05e2fbd7",
            "c753b929804849f5be3f55dabe12e172",
            "b9e73f8fc7064d818ba4e50d7b845776",
            "d881ad23d5c54accab31b96da6de3f53",
            "a9a5164d67824c08900a507c7dafd341",
            "eed39c22eaa84098bbf079ec61b59d11",
            "df7e744f9c36428c8a02efe4468cb2b1",
            "678933f7ba044c3bbd4a2c7620df4d2f",
            "18121ff5ecaa410dbb9243a9919ec217",
            "f619276660cc46708b51b542e7414550",
            "2f672f99f36041f39fc88d5fee68a430",
            "72e743f74d9640bea47c9d7cee625d65",
            "7751592f036b41f08781798ffc704c3d",
            "434aef3277aa45058b2132d82da4b46b",
            "09aa20d8027e480b8b925853defa4736",
            "b16f9b181de9494486a84f80725fc880",
            "f4133fff8cfa45a39ec5c481299d0ef7",
            "e5b14ca5ec5645dc896d9ed87073a5fc",
            "1ab1a82618a748489b9ce94344e26e3e",
            "6e904fe9935b44d786be094acbd7a350",
            "8be1f5ca8f2748d2aab36f3f67de129f",
            "aa0683a5d2c143d2b414cb0725edba6c",
            "1851b3c097e044d1b7ac6ce153d11c67",
            "5961573c745c403790ec3f560c2603d8",
            "8613468cf562435aba36fd0054acb5a4",
            "a3e530b188e649cf8940add8cffd0363",
            "cf38b9c24f7e4bb6a9f9a23f9e02c48d",
            "5f8354a255f14f0f911e5a252b1ee62a",
            "ddfb282c159d4720962067e06bc7ac10",
            "f5ec1807e1404b1f8f3fe4b01cacf7cd",
            "bc8814bf0ee94e7996557c6893be1c5a",
            "ae2262167f1b451992b075fa1b61fc21",
            "457af638a75d47f09cc7a1b8c6683301",
            "40188dccae354e0e826eaa2be795cc3d",
            "9bbaab568aa940fbb2230a873ffa2ca9",
            "68b0494fd9ac45f7a9293e3320ce5c83",
            "4fa075dd51414035a5cfa99e51d9b714",
            "91dd59c18c934feabf56c94ca396d929",
            "fa971920a1df4517920416f2dba14d6a",
            "8f8e423cb5a84281bd475d03e0bbdb86",
            "1ec21b7b306a4d048de24d9fb2f93309",
            "f1c14fd54c20421a9c3ec4e950c86453",
            "fb6d3edabd194682a29c99d9581fe4bc",
            "2f6b02030f034cf5a5aa00dc816b32e2",
            "64c7bab04e314825b84f5fccde551f34",
            "8c5ad528d39c4b4983f2016ad1c69198",
            "57ff23123681456e89d9823fe5676430",
            "4fffa8d7c1b54a3bb0ffd1db6df171a5",
            "f21fb7789d8247cab6e621b9b61ce805",
            "1d045261b09a4e3bafde49f5f3d929f0",
            "4fd5246762ea45efb68e1b4b9bea5d1d",
            "c37f68918bf8457eae1ba9657defcfca",
            "fdf7d9d5045b4dfb8d79edc1179ec4b7",
            "221bd22d6deb4d31abaab5a81d4e2162",
            "c77d2a24d2d948729ce5606a9a6c7542",
            "45ddc0efd2414fdea21398668fa7b16d",
            "ad59a5375df44cc8b8b8beb27e54d855",
            "87ae8fd9ff2545b7bdc34b0207dd3d83",
            "eb3d5728de3342bab2e5d4b6071b58a3",
            "765f1f513586431bb1e73ccd5e775d4d",
            "1a048f551956435fbe08fdaedbf1ac1b",
            "faaa577e470e4c26813012dd8f86d170",
            "bbcadb394bf3491b9fa13f0d92e36a4d",
            "8ed908c26c9d4516a938f08f242d3edc",
            "ce4e1b8f6c724d04bdcb2bbcad615bda",
            "a5bbc7ad9f134aec915fe9600132b248",
            "8f7e3cf9b95c4fd0b31aa0ed0201c833",
            "0c95fb63341740bfbc9022c2952018b3",
            "10f48ac2362c4bd2948a0ab92dbb4321",
            "c4affc8480e04e9e949f8aadf6a13cb3",
            "df4db7a0f7a343679cf50565476c2215",
            "f4675bb2dc6848c4a8a729b7cbb3925e",
            "eefce0b328ac48d3b097fd1e476d288f",
            "bf98198198954402bc6378159d15cf99",
            "59b0b439fa2648ad9c92326a384c4da3",
            "ace0cd36e2ef476e9d32174bccf5e9f5",
            "3d6d04cd78444f05a40abf88fc295534",
            "904277d69e754b8bb9850bbb118f1984",
            "003ecd4f0c8f496da6b3b06e07c04d2d",
            "a42d57b9029642f78332f06c66283a3e",
            "fa749e631dc14877a171230aff211f35",
            "e48c786d5ed84117bc8bc0d08120db5f",
            "2c5711f4694d47fa945bcaff6115697f",
            "e19e2061aaf748cc9c792dc4c3b37ffe",
            "b9ffd0e504674fee9c632da442da4e6e",
            "ad86183210a849968a46b727865f4bf0",
            "57c3208312a441b6b5e24433a01f6838",
            "bacd730cad8c4cbfa500d41bb0aec6f2",
            "047c6cdfb27747288872c728f2c0a797",
            "687e8a276a63466083a3750b8e915fd6",
            "8fdca40b6ccc43879f1ec3a1bfb30065",
            "f164f84b9a0a44cf8571f0b7343ed989",
            "1d55db97e4724fb3a2675db93deec813",
            "fcdb327f232141fab7da815cca3c264c",
            "1abe2a40cb5d49cdabfc7cfe74286fc7",
            "e8783ec6911f40e6ae87d80dc5f9e2af",
            "f1ece12c2eb74166bbe74d0e114763b1",
            "386988489eed4084b843389a59a25d32",
            "d398fe4a0c7941e59c8f3da13233b162"
          ]
        },
        "id": "gkbvhn2bDcka",
        "outputId": "d204ef48-fc31-4c18-b000-9ad1860f4494"
      },
      "id": "gkbvhn2bDcka",
      "execution_count": null,
      "outputs": [
        {
          "output_type": "display_data",
          "data": {
            "text/plain": [
              "Downloading (…)okenizer_config.json:   0%|          | 0.00/28.0 [00:00<?, ?B/s]"
            ],
            "application/vnd.jupyter.widget-view+json": {
              "version_major": 2,
              "version_minor": 0,
              "model_id": "c512e23a4a664351a63664b6cd23fd6f"
            }
          },
          "metadata": {}
        },
        {
          "output_type": "display_data",
          "data": {
            "text/plain": [
              "Downloading (…)lve/main/config.json:   0%|          | 0.00/493 [00:00<?, ?B/s]"
            ],
            "application/vnd.jupyter.widget-view+json": {
              "version_major": 2,
              "version_minor": 0,
              "model_id": "d84ea02c500a4fd6bf884b6e05e2fbd7"
            }
          },
          "metadata": {}
        },
        {
          "output_type": "display_data",
          "data": {
            "text/plain": [
              "Downloading (…)solve/main/vocab.txt:   0%|          | 0.00/232k [00:00<?, ?B/s]"
            ],
            "application/vnd.jupyter.widget-view+json": {
              "version_major": 2,
              "version_minor": 0,
              "model_id": "72e743f74d9640bea47c9d7cee625d65"
            }
          },
          "metadata": {}
        },
        {
          "output_type": "display_data",
          "data": {
            "text/plain": [
              "Downloading (…)/main/tokenizer.json:   0%|          | 0.00/466k [00:00<?, ?B/s]"
            ],
            "application/vnd.jupyter.widget-view+json": {
              "version_major": 2,
              "version_minor": 0,
              "model_id": "1851b3c097e044d1b7ac6ce153d11c67"
            }
          },
          "metadata": {}
        },
        {
          "output_type": "display_data",
          "data": {
            "text/plain": [
              "Downloading pytorch_model.bin:   0%|          | 0.00/438M [00:00<?, ?B/s]"
            ],
            "application/vnd.jupyter.widget-view+json": {
              "version_major": 2,
              "version_minor": 0,
              "model_id": "40188dccae354e0e826eaa2be795cc3d"
            }
          },
          "metadata": {}
        },
        {
          "output_type": "stream",
          "name": "stderr",
          "text": [
            "/usr/local/lib/python3.10/dist-packages/torch/_utils.py:776: UserWarning: TypedStorage is deprecated. It will be removed in the future and UntypedStorage will be the only storage class. This should only matter to you if you are using storages directly.  To access UntypedStorage directly, use tensor.untyped_storage() instead of tensor.storage()\n",
            "  return self.fget.__get__(instance, owner)()\n"
          ]
        },
        {
          "output_type": "display_data",
          "data": {
            "text/plain": [
              "Downloading (…)okenizer_config.json:   0%|          | 0.00/28.0 [00:00<?, ?B/s]"
            ],
            "application/vnd.jupyter.widget-view+json": {
              "version_major": 2,
              "version_minor": 0,
              "model_id": "64c7bab04e314825b84f5fccde551f34"
            }
          },
          "metadata": {}
        },
        {
          "output_type": "display_data",
          "data": {
            "text/plain": [
              "Downloading (…)lve/main/config.json:   0%|          | 0.00/492 [00:00<?, ?B/s]"
            ],
            "application/vnd.jupyter.widget-view+json": {
              "version_major": 2,
              "version_minor": 0,
              "model_id": "45ddc0efd2414fdea21398668fa7b16d"
            }
          },
          "metadata": {}
        },
        {
          "output_type": "display_data",
          "data": {
            "text/plain": [
              "Downloading (…)solve/main/vocab.txt:   0%|          | 0.00/232k [00:00<?, ?B/s]"
            ],
            "application/vnd.jupyter.widget-view+json": {
              "version_major": 2,
              "version_minor": 0,
              "model_id": "8f7e3cf9b95c4fd0b31aa0ed0201c833"
            }
          },
          "metadata": {}
        },
        {
          "output_type": "display_data",
          "data": {
            "text/plain": [
              "Downloading (…)/main/tokenizer.json:   0%|          | 0.00/466k [00:00<?, ?B/s]"
            ],
            "application/vnd.jupyter.widget-view+json": {
              "version_major": 2,
              "version_minor": 0,
              "model_id": "904277d69e754b8bb9850bbb118f1984"
            }
          },
          "metadata": {}
        },
        {
          "output_type": "display_data",
          "data": {
            "text/plain": [
              "Downloading pytorch_model.bin:   0%|          | 0.00/438M [00:00<?, ?B/s]"
            ],
            "application/vnd.jupyter.widget-view+json": {
              "version_major": 2,
              "version_minor": 0,
              "model_id": "047c6cdfb27747288872c728f2c0a797"
            }
          },
          "metadata": {}
        }
      ]
    },
    {
      "cell_type": "markdown",
      "source": [
        "Update the encoding for each document in the document index"
      ],
      "metadata": {
        "id": "PHCs9LfyCWa2"
      },
      "id": "PHCs9LfyCWa2"
    },
    {
      "cell_type": "code",
      "source": [
        "document_store.update_embeddings(retriever=dpr_retriever)"
      ],
      "metadata": {
        "colab": {
          "base_uri": "https://localhost:8080/"
        },
        "id": "-p8C2X3AEiFF",
        "outputId": "3124ba14-edf1-45f0-a3a8-2b76f86638e5"
      },
      "id": "-p8C2X3AEiFF",
      "execution_count": null,
      "outputs": [
        {
          "output_type": "stream",
          "name": "stderr",
          "text": [
            "Updating embeddings:   0%|          | 0/1615 [00:00<?, ? Docs/s]\n",
            "Create embeddings:   0%|          | 0/1616 [00:00<?, ? Docs/s]\u001b[A\n",
            "Create embeddings:   1%|          | 16/1616 [00:00<00:27, 58.75 Docs/s]\u001b[A\n",
            "Create embeddings:   2%|▏         | 32/1616 [00:00<00:23, 66.54 Docs/s]\u001b[A\n",
            "Create embeddings:   3%|▎         | 48/1616 [00:00<00:22, 70.01 Docs/s]\u001b[A\n",
            "Create embeddings:   4%|▍         | 64/1616 [00:00<00:21, 71.84 Docs/s]\u001b[A\n",
            "Create embeddings:   5%|▍         | 80/1616 [00:01<00:21, 72.21 Docs/s]\u001b[A\n",
            "Create embeddings:   6%|▌         | 96/1616 [00:01<00:21, 71.57 Docs/s]\u001b[A\n",
            "Create embeddings:   7%|▋         | 112/1616 [00:01<00:20, 72.54 Docs/s]\u001b[A\n",
            "Create embeddings:   8%|▊         | 128/1616 [00:01<00:20, 73.03 Docs/s]\u001b[A\n",
            "Create embeddings:   9%|▉         | 144/1616 [00:02<00:20, 73.54 Docs/s]\u001b[A\n",
            "Create embeddings:  10%|▉         | 160/1616 [00:02<00:20, 72.65 Docs/s]\u001b[A\n",
            "Create embeddings:  11%|█         | 176/1616 [00:02<00:19, 72.80 Docs/s]\u001b[A\n",
            "Create embeddings:  12%|█▏        | 192/1616 [00:02<00:19, 73.27 Docs/s]\u001b[A\n",
            "Create embeddings:  13%|█▎        | 208/1616 [00:02<00:19, 73.48 Docs/s]\u001b[A\n",
            "Create embeddings:  14%|█▍        | 224/1616 [00:03<00:19, 72.83 Docs/s]\u001b[A\n",
            "Create embeddings:  15%|█▍        | 240/1616 [00:03<00:19, 71.68 Docs/s]\u001b[A\n",
            "Create embeddings:  16%|█▌        | 256/1616 [00:03<00:18, 72.18 Docs/s]\u001b[A\n",
            "Create embeddings:  17%|█▋        | 272/1616 [00:03<00:18, 72.63 Docs/s]\u001b[A\n",
            "Create embeddings:  18%|█▊        | 288/1616 [00:03<00:18, 72.72 Docs/s]\u001b[A\n",
            "Create embeddings:  19%|█▉        | 304/1616 [00:04<00:18, 72.02 Docs/s]\u001b[A\n",
            "Create embeddings:  20%|█▉        | 320/1616 [00:04<00:18, 71.62 Docs/s]\u001b[A\n",
            "Create embeddings:  21%|██        | 336/1616 [00:04<00:17, 72.24 Docs/s]\u001b[A\n",
            "Create embeddings:  22%|██▏       | 352/1616 [00:04<00:17, 72.25 Docs/s]\u001b[A\n",
            "Create embeddings:  23%|██▎       | 368/1616 [00:05<00:17, 71.66 Docs/s]\u001b[A\n",
            "Create embeddings:  24%|██▍       | 384/1616 [00:05<00:17, 71.35 Docs/s]\u001b[A\n",
            "Create embeddings:  25%|██▍       | 400/1616 [00:05<00:16, 72.01 Docs/s]\u001b[A\n",
            "Create embeddings:  26%|██▌       | 416/1616 [00:05<00:16, 72.48 Docs/s]\u001b[A\n",
            "Create embeddings:  27%|██▋       | 432/1616 [00:06<00:16, 72.04 Docs/s]\u001b[A\n",
            "Create embeddings:  28%|██▊       | 448/1616 [00:06<00:16, 71.35 Docs/s]\u001b[A\n",
            "Create embeddings:  29%|██▊       | 464/1616 [00:06<00:16, 71.55 Docs/s]\u001b[A\n",
            "Create embeddings:  30%|██▉       | 480/1616 [00:06<00:15, 72.13 Docs/s]\u001b[A\n",
            "Create embeddings:  31%|███       | 496/1616 [00:06<00:15, 72.16 Docs/s]\u001b[A\n",
            "Create embeddings:  32%|███▏      | 512/1616 [00:07<00:15, 71.72 Docs/s]\u001b[A\n",
            "Create embeddings:  33%|███▎      | 528/1616 [00:07<00:15, 71.32 Docs/s]\u001b[A\n",
            "Create embeddings:  34%|███▎      | 544/1616 [00:07<00:14, 72.18 Docs/s]\u001b[A\n",
            "Create embeddings:  35%|███▍      | 560/1616 [00:07<00:14, 72.58 Docs/s]\u001b[A\n",
            "Create embeddings:  36%|███▌      | 576/1616 [00:08<00:14, 72.73 Docs/s]\u001b[A\n",
            "Create embeddings:  37%|███▋      | 592/1616 [00:08<00:14, 72.23 Docs/s]\u001b[A\n",
            "Create embeddings:  38%|███▊      | 608/1616 [00:08<00:13, 72.02 Docs/s]\u001b[A\n",
            "Create embeddings:  39%|███▊      | 624/1616 [00:08<00:13, 72.04 Docs/s]\u001b[A\n",
            "Create embeddings:  40%|███▉      | 640/1616 [00:08<00:13, 72.50 Docs/s]\u001b[A\n",
            "Create embeddings:  41%|████      | 656/1616 [00:09<00:13, 72.32 Docs/s]\u001b[A\n",
            "Create embeddings:  42%|████▏     | 672/1616 [00:09<00:13, 71.99 Docs/s]\u001b[A\n",
            "Create embeddings:  43%|████▎     | 688/1616 [00:09<00:12, 71.78 Docs/s]\u001b[A\n",
            "Create embeddings:  44%|████▎     | 704/1616 [00:09<00:12, 71.99 Docs/s]\u001b[A\n",
            "Create embeddings:  45%|████▍     | 720/1616 [00:10<00:12, 72.01 Docs/s]\u001b[A\n",
            "Create embeddings:  46%|████▌     | 736/1616 [00:10<00:12, 71.67 Docs/s]\u001b[A\n",
            "Create embeddings:  47%|████▋     | 752/1616 [00:10<00:12, 71.67 Docs/s]\u001b[A\n",
            "Create embeddings:  48%|████▊     | 768/1616 [00:10<00:11, 71.80 Docs/s]\u001b[A\n",
            "Create embeddings:  49%|████▊     | 784/1616 [00:10<00:11, 72.02 Docs/s]\u001b[A\n",
            "Create embeddings:  50%|████▉     | 800/1616 [00:11<00:11, 71.99 Docs/s]\u001b[A\n",
            "Create embeddings:  50%|█████     | 816/1616 [00:11<00:11, 71.50 Docs/s]\u001b[A\n",
            "Create embeddings:  51%|█████▏    | 832/1616 [00:11<00:10, 71.28 Docs/s]\u001b[A\n",
            "Create embeddings:  52%|█████▏    | 848/1616 [00:11<00:10, 71.25 Docs/s]\u001b[A\n",
            "Create embeddings:  53%|█████▎    | 864/1616 [00:12<00:10, 71.30 Docs/s]\u001b[A\n",
            "Create embeddings:  54%|█████▍    | 880/1616 [00:12<00:10, 71.28 Docs/s]\u001b[A\n",
            "Create embeddings:  55%|█████▌    | 896/1616 [00:12<00:10, 70.88 Docs/s]\u001b[A\n",
            "Create embeddings:  56%|█████▋    | 912/1616 [00:12<00:09, 71.10 Docs/s]\u001b[A\n",
            "Create embeddings:  57%|█████▋    | 928/1616 [00:12<00:09, 71.66 Docs/s]\u001b[A\n",
            "Create embeddings:  58%|█████▊    | 944/1616 [00:13<00:09, 71.44 Docs/s]\u001b[A\n",
            "Create embeddings:  59%|█████▉    | 960/1616 [00:13<00:09, 71.03 Docs/s]\u001b[A\n",
            "Create embeddings:  60%|██████    | 976/1616 [00:13<00:09, 70.47 Docs/s]\u001b[A\n",
            "Create embeddings:  61%|██████▏   | 992/1616 [00:13<00:08, 70.55 Docs/s]\u001b[A\n",
            "Create embeddings:  62%|██████▏   | 1008/1616 [00:14<00:08, 70.61 Docs/s]\u001b[A\n",
            "Create embeddings:  63%|██████▎   | 1024/1616 [00:14<00:08, 70.84 Docs/s]\u001b[A\n",
            "Create embeddings:  64%|██████▍   | 1040/1616 [00:14<00:08, 70.67 Docs/s]\u001b[A\n",
            "Create embeddings:  65%|██████▌   | 1056/1616 [00:14<00:07, 70.62 Docs/s]\u001b[A\n",
            "Create embeddings:  66%|██████▋   | 1072/1616 [00:14<00:07, 70.72 Docs/s]\u001b[A\n",
            "Create embeddings:  67%|██████▋   | 1088/1616 [00:15<00:07, 70.80 Docs/s]\u001b[A\n",
            "Create embeddings:  68%|██████▊   | 1104/1616 [00:15<00:07, 70.18 Docs/s]\u001b[A\n",
            "Create embeddings:  69%|██████▉   | 1120/1616 [00:15<00:07, 69.71 Docs/s]\u001b[A\n",
            "Create embeddings:  70%|███████   | 1136/1616 [00:15<00:06, 69.07 Docs/s]\u001b[A\n",
            "Create embeddings:  71%|███████▏  | 1152/1616 [00:16<00:06, 68.71 Docs/s]\u001b[A\n",
            "Create embeddings:  72%|███████▏  | 1168/1616 [00:16<00:06, 69.26 Docs/s]\u001b[A\n",
            "Create embeddings:  73%|███████▎  | 1184/1616 [00:16<00:06, 68.54 Docs/s]\u001b[A\n",
            "Create embeddings:  74%|███████▍  | 1200/1616 [00:16<00:06, 69.00 Docs/s]\u001b[A\n",
            "Create embeddings:  75%|███████▌  | 1216/1616 [00:17<00:05, 68.46 Docs/s]\u001b[A\n",
            "Create embeddings:  76%|███████▌  | 1232/1616 [00:17<00:05, 69.06 Docs/s]\u001b[A\n",
            "Create embeddings:  77%|███████▋  | 1248/1616 [00:17<00:05, 69.75 Docs/s]\u001b[A\n",
            "Create embeddings:  78%|███████▊  | 1264/1616 [00:17<00:05, 70.29 Docs/s]\u001b[A\n",
            "Create embeddings:  79%|███████▉  | 1280/1616 [00:17<00:04, 70.55 Docs/s]\u001b[A\n",
            "Create embeddings:  80%|████████  | 1296/1616 [00:18<00:04, 70.14 Docs/s]\u001b[A\n",
            "Create embeddings:  81%|████████  | 1312/1616 [00:18<00:04, 69.67 Docs/s]\u001b[A\n",
            "Create embeddings:  82%|████████▏ | 1328/1616 [00:18<00:04, 69.39 Docs/s]\u001b[A\n",
            "Create embeddings:  83%|████████▎ | 1344/1616 [00:18<00:03, 69.34 Docs/s]\u001b[A\n",
            "Create embeddings:  84%|████████▍ | 1360/1616 [00:19<00:03, 68.58 Docs/s]\u001b[A\n",
            "Create embeddings:  85%|████████▌ | 1376/1616 [00:19<00:03, 69.07 Docs/s]\u001b[A\n",
            "Create embeddings:  86%|████████▌ | 1392/1616 [00:19<00:03, 68.91 Docs/s]\u001b[A\n",
            "Create embeddings:  87%|████████▋ | 1408/1616 [00:19<00:03, 69.22 Docs/s]\u001b[A\n",
            "Create embeddings:  88%|████████▊ | 1424/1616 [00:20<00:02, 68.68 Docs/s]\u001b[A\n",
            "Create embeddings:  89%|████████▉ | 1440/1616 [00:20<00:02, 68.69 Docs/s]\u001b[A\n",
            "Create embeddings:  90%|█████████ | 1456/1616 [00:20<00:02, 68.85 Docs/s]\u001b[A\n",
            "Create embeddings:  91%|█████████ | 1472/1616 [00:20<00:02, 67.25 Docs/s]\u001b[A\n",
            "Create embeddings:  92%|█████████▏| 1488/1616 [00:20<00:01, 67.89 Docs/s]\u001b[A\n",
            "Create embeddings:  93%|█████████▎| 1504/1616 [00:21<00:01, 68.08 Docs/s]\u001b[A\n",
            "Create embeddings:  94%|█████████▍| 1520/1616 [00:21<00:01, 68.12 Docs/s]\u001b[A\n",
            "Create embeddings:  95%|█████████▌| 1536/1616 [00:21<00:01, 68.59 Docs/s]\u001b[A\n",
            "Create embeddings:  96%|█████████▌| 1552/1616 [00:21<00:00, 69.23 Docs/s]\u001b[A\n",
            "Create embeddings:  97%|█████████▋| 1568/1616 [00:22<00:00, 68.75 Docs/s]\u001b[A\n",
            "Create embeddings:  98%|█████████▊| 1584/1616 [00:22<00:00, 68.19 Docs/s]\u001b[A\n",
            "Create embeddings:  99%|█████████▉| 1600/1616 [00:22<00:00, 68.47 Docs/s]\u001b[A\n",
            "Create embeddings: 100%|██████████| 1616/1616 [00:22<00:00, 68.43 Docs/s]\u001b[A\n",
            "Updating embeddings: 10000 Docs [00:49, 203.04 Docs/s]\n"
          ]
        }
      ]
    },
    {
      "cell_type": "code",
      "source": [
        "dpr_topk_df = evaluate_retriever(dpr_retriever)"
      ],
      "metadata": {
        "id": "Sjj1ge8lCgQu"
      },
      "id": "Sjj1ge8lCgQu",
      "execution_count": null,
      "outputs": []
    },
    {
      "cell_type": "code",
      "source": [
        "plot_retriever_eval([es_topk_df, dpr_topk_df], [\"BM25\", \"DPR\"])"
      ],
      "metadata": {
        "colab": {
          "base_uri": "https://localhost:8080/",
          "height": 449
        },
        "id": "cdylRgMmCoqq",
        "outputId": "f7d9ad51-43ca-4060-8e66-9f77439fbf62"
      },
      "id": "cdylRgMmCoqq",
      "execution_count": null,
      "outputs": [
        {
          "output_type": "display_data",
          "data": {
            "text/plain": [
              "<Figure size 640x480 with 1 Axes>"
            ],
            "image/png": "[encoded data removed]"
          },
          "metadata": {}
        }
      ]
    },
    {
      "cell_type": "markdown",
      "source": [
        "There is not much change in the right value of k even with dense retriever using dense embeddings."
      ],
      "metadata": {
        "id": "j7NlHknGTdW_"
      },
      "id": "j7NlHknGTdW_"
    },
    {
      "cell_type": "markdown",
      "source": [
        "One can use a different document store like FAISS for a faster similarity search. One can also fine-tune on a target domain  "
      ],
      "metadata": {
        "id": "AMTbNTLZC41T"
      },
      "id": "AMTbNTLZC41T"
    },
    {
      "cell_type": "markdown",
      "source": [
        "# Evaluating the QA System\n"
      ],
      "metadata": {
        "id": "4-rg-XqHDw7y"
      },
      "id": "4-rg-XqHDw7y"
    },
    {
      "cell_type": "code",
      "source": [
        "# Initialize retriever pipeline\n",
        "pipe = EvalRetrieverPipeline(bm_retriever)\n",
        "# Add nodes for reader\n",
        "pipe.pipeline.add_node(component=reader, name=\"QAReader\",\n",
        "              inputs=[\"ESRetriever\"])\n",
        "# Evaluate!\n",
        "run_pipeline(pipe)\n",
        "# Extract metrics from reader\n",
        "eval_result = pipe.pipeline.eval(labels=labels_agg, params={\"filters\": {}})\n",
        "qa_system_metrics = eval_result.calculate_metrics()\n",
        "qa_system_metrics\n"
      ],
      "metadata": {
        "colab": {
          "base_uri": "https://localhost:8080/"
        },
        "id": "E9Dxvya1IX5w",
        "outputId": "491122e4-1597-42fc-fd12-f5ad6a9feb15"
      },
      "id": "E9Dxvya1IX5w",
      "execution_count": null,
      "outputs": [
        {
          "output_type": "execute_result",
          "data": {
            "text/plain": [
              "{'ESRetriever': {'recall_multi_hit': 0.9636363636363636,\n",
              "  'recall_single_hit': 0.9636363636363636,\n",
              "  'precision': 0.7277873977873978,\n",
              "  'map': 0.8500096200096199,\n",
              "  'mrr': 0.8491991341991342,\n",
              "  'ndcg': 0.8781763833928322},\n",
              " 'QAReader': {'exact_match': 0.5696969696969697,\n",
              "  'f1': 0.6954639493790712,\n",
              "  'num_examples_for_eval': 330.0}}"
            ]
          },
          "metadata": {},
          "execution_count": 106
        }
      ]
    },
    {
      "cell_type": "markdown",
      "source": [
        "## Evaluating only the reader\n",
        "\n",
        "Some errors that needs to be resolved as per the latest version of haystack and FARMReader"
      ],
      "metadata": {
        "id": "cGx-su0FIlL1"
      },
      "id": "cGx-su0FIlL1"
    },
    {
      "cell_type": "code",
      "source": [
        "# from haystack.eval import EvalAnswers\n",
        "\n",
        "def evaluate_reader(reader):\n",
        "    score_keys = ['top_1_em', 'top_1_f1']\n",
        "    # eval_reader = EvalAnswers(skip_incorrect_retrieval=False)\n",
        "    pipe = Pipeline()\n",
        "    pipe.add_node(component=reader, name=\"QAReader\", inputs=[\"Query\"])\n",
        "    # pipe.add_node(component=eval_reader, name=\"EvalReader\", inputs=[\"QAReader\"])\n",
        "    for l in labels_agg:\n",
        "      # print(l)\n",
        "      doc = document_store.query(l.query,\n",
        "                                 filters={\"question_id\":[l.labels[0].meta[\"question_id\"]]})\n",
        "      # print(l.query, len(doc))\n",
        "      # documents=doc, labels=l\n",
        "      _ = pipe.run(query=l.query,\n",
        "                   labels=l.labels,\n",
        "                   params={\"QAReader\": {\"documents\": doc},\n",
        "                           \"filters\":{\"item_id\":[l.labels[0].meta[\"item_id\"]],\n",
        "                                      \"split\":[\"test\"]}\n",
        "                           }\n",
        "                   )\n",
        "\n",
        "\n",
        "    print(\"Finished for loop\")\n",
        "    print(l.query, len(doc), doc)\n",
        "    eval_result = pipe.eval(labels=labels_agg, params={\"filters\": {}})\n",
        "    print(eval_result)\n",
        "    return {}\n",
        "    # return {k:v for k,v in eval_reader.__dict__.items() if k in score_keys}\n",
        "\n",
        "reader_eval = {}\n",
        "reader_eval[\"Fine-tune on SQuAD\"] = evaluate_reader(reader)"
      ],
      "metadata": {
        "colab": {
          "base_uri": "https://localhost:8080/",
          "height": 812
        },
        "id": "EAddcf6ZJISa",
        "outputId": "9d6b0557-9591-4a28-a238-1ecf3348a819"
      },
      "id": "EAddcf6ZJISa",
      "execution_count": null,
      "outputs": [
        {
          "output_type": "stream",
          "name": "stdout",
          "text": [
            "Finished for loop\n",
            "Is the cord safe to grab the transformer? 1 [<Document: {'content': \"After being disappointed by a $50 pair of Sony headphones, I snagged these Audio-Technica's based on the reviews here on Amazon. I'm very impressed with the quality of these headphones. The cord is very long and durable, the jack is strong and well constructed. The headphones themselves are very comfortable, block out a ton of background noise, and aren't too bulky or heavy. They're very durable and can take a beating.The sound quality for a non-amplified pair of headphones is nothing short of amazing. The majority of headphones in this price range are boomy, obnoxious headphones with poor midrange and high end performance. The ATH-M30 is incredibly well balanced with heavy lows, comfortable mids, and stunningly clear highs. I can't recommend a better pair of headphones in this price range.\", 'content_type': 'text', 'score': 0.6270838983358263, 'meta': {'item_id': 'B00007E7C8', 'question_id': '31dafa4be0622f4f154590453c7562b5', 'split': 'test'}, 'id_hash_keys': ['content'], 'embedding': '<embedding of shape (768,)>', 'id': '6351363f1f9136741c17b74832912923'}>]\n"
          ]
        },
        {
          "output_type": "error",
          "ename": "ValueError",
          "evalue": "ignored",
          "traceback": [
            "\u001b[0;31m---------------------------------------------------------------------------\u001b[0m",
            "\u001b[0;31mValueError\u001b[0m                                Traceback (most recent call last)",
            "\u001b[0;32m<ipython-input-98-280891b23f74>\u001b[0m in \u001b[0;36m<cell line: 35>\u001b[0;34m()\u001b[0m\n\u001b[1;32m     33\u001b[0m \u001b[0;34m\u001b[0m\u001b[0m\n\u001b[1;32m     34\u001b[0m \u001b[0mreader_eval\u001b[0m \u001b[0;34m=\u001b[0m \u001b[0;34m{\u001b[0m\u001b[0;34m}\u001b[0m\u001b[0;34m\u001b[0m\u001b[0;34m\u001b[0m\u001b[0m\n\u001b[0;32m---> 35\u001b[0;31m \u001b[0mreader_eval\u001b[0m\u001b[0;34m[\u001b[0m\u001b[0;34m\"Fine-tune on SQuAD\"\u001b[0m\u001b[0;34m]\u001b[0m \u001b[0;34m=\u001b[0m \u001b[0mevaluate_reader\u001b[0m\u001b[0;34m(\u001b[0m\u001b[0mreader\u001b[0m\u001b[0;34m)\u001b[0m\u001b[0;34m\u001b[0m\u001b[0;34m\u001b[0m\u001b[0m\n\u001b[0m",
            "\u001b[0;32m<ipython-input-98-280891b23f74>\u001b[0m in \u001b[0;36mevaluate_reader\u001b[0;34m(reader)\u001b[0m\n\u001b[1;32m     27\u001b[0m     \u001b[0mprint\u001b[0m\u001b[0;34m(\u001b[0m\u001b[0;34m\"Finished for loop\"\u001b[0m\u001b[0;34m)\u001b[0m\u001b[0;34m\u001b[0m\u001b[0;34m\u001b[0m\u001b[0m\n\u001b[1;32m     28\u001b[0m     \u001b[0mprint\u001b[0m\u001b[0;34m(\u001b[0m\u001b[0ml\u001b[0m\u001b[0;34m.\u001b[0m\u001b[0mquery\u001b[0m\u001b[0;34m,\u001b[0m \u001b[0mlen\u001b[0m\u001b[0;34m(\u001b[0m\u001b[0mdoc\u001b[0m\u001b[0;34m)\u001b[0m\u001b[0;34m,\u001b[0m \u001b[0mdoc\u001b[0m\u001b[0;34m)\u001b[0m\u001b[0;34m\u001b[0m\u001b[0;34m\u001b[0m\u001b[0m\n\u001b[0;32m---> 29\u001b[0;31m     \u001b[0meval_result\u001b[0m \u001b[0;34m=\u001b[0m \u001b[0mpipe\u001b[0m\u001b[0;34m.\u001b[0m\u001b[0meval\u001b[0m\u001b[0;34m(\u001b[0m\u001b[0mlabels\u001b[0m\u001b[0;34m=\u001b[0m\u001b[0mlabels_agg\u001b[0m\u001b[0;34m,\u001b[0m \u001b[0mparams\u001b[0m\u001b[0;34m=\u001b[0m\u001b[0;34m{\u001b[0m\u001b[0;34m\"filters\"\u001b[0m\u001b[0;34m:\u001b[0m \u001b[0;34m{\u001b[0m\u001b[0;34m}\u001b[0m\u001b[0;34m}\u001b[0m\u001b[0;34m)\u001b[0m\u001b[0;34m\u001b[0m\u001b[0;34m\u001b[0m\u001b[0m\n\u001b[0m\u001b[1;32m     30\u001b[0m     \u001b[0mprint\u001b[0m\u001b[0;34m(\u001b[0m\u001b[0meval_result\u001b[0m\u001b[0;34m)\u001b[0m\u001b[0;34m\u001b[0m\u001b[0;34m\u001b[0m\u001b[0m\n\u001b[1;32m     31\u001b[0m     \u001b[0;32mreturn\u001b[0m \u001b[0;34m{\u001b[0m\u001b[0;34m}\u001b[0m\u001b[0;34m\u001b[0m\u001b[0;34m\u001b[0m\u001b[0m\n",
            "\u001b[0;32m/usr/local/lib/python3.10/dist-packages/haystack/pipelines/base.py\u001b[0m in \u001b[0;36meval\u001b[0;34m(self, labels, documents, params, sas_model_name_or_path, sas_batch_size, sas_use_gpu, add_isolated_node_eval, custom_document_id_field, context_matching_min_length, context_matching_boost_split_overlaps, context_matching_threshold, use_auth_token)\u001b[0m\n\u001b[1;32m   1262\u001b[0m                     \u001b[0;31m# join both filters and overwrite filters in params with filters in labels\u001b[0m\u001b[0;34m\u001b[0m\u001b[0;34m\u001b[0m\u001b[0m\n\u001b[1;32m   1263\u001b[0m                     \u001b[0mparams_per_label\u001b[0m\u001b[0;34m[\u001b[0m\u001b[0;34m\"filters\"\u001b[0m\u001b[0;34m]\u001b[0m \u001b[0;34m=\u001b[0m \u001b[0;34m{\u001b[0m\u001b[0;34m**\u001b[0m\u001b[0mparams_per_label\u001b[0m\u001b[0;34m.\u001b[0m\u001b[0mget\u001b[0m\u001b[0;34m(\u001b[0m\u001b[0;34m\"filters\"\u001b[0m\u001b[0;34m,\u001b[0m \u001b[0;34m{\u001b[0m\u001b[0;34m}\u001b[0m\u001b[0;34m)\u001b[0m\u001b[0;34m,\u001b[0m \u001b[0;34m**\u001b[0m\u001b[0mlabel\u001b[0m\u001b[0;34m.\u001b[0m\u001b[0mfilters\u001b[0m\u001b[0;34m}\u001b[0m\u001b[0;34m\u001b[0m\u001b[0;34m\u001b[0m\u001b[0m\n\u001b[0;32m-> 1264\u001b[0;31m             predictions = self.run(\n\u001b[0m\u001b[1;32m   1265\u001b[0m                 \u001b[0mquery\u001b[0m\u001b[0;34m=\u001b[0m\u001b[0mlabel\u001b[0m\u001b[0;34m.\u001b[0m\u001b[0mquery\u001b[0m\u001b[0;34m,\u001b[0m \u001b[0mlabels\u001b[0m\u001b[0;34m=\u001b[0m\u001b[0mlabel\u001b[0m\u001b[0;34m,\u001b[0m \u001b[0mdocuments\u001b[0m\u001b[0;34m=\u001b[0m\u001b[0mdocs_per_label\u001b[0m\u001b[0;34m,\u001b[0m \u001b[0mparams\u001b[0m\u001b[0;34m=\u001b[0m\u001b[0mparams_per_label\u001b[0m\u001b[0;34m,\u001b[0m \u001b[0mdebug\u001b[0m\u001b[0;34m=\u001b[0m\u001b[0;32mTrue\u001b[0m\u001b[0;34m\u001b[0m\u001b[0;34m\u001b[0m\u001b[0m\n\u001b[1;32m   1266\u001b[0m             )\n",
            "\u001b[0;32m/usr/local/lib/python3.10/dist-packages/haystack/pipelines/base.py\u001b[0m in \u001b[0;36mrun\u001b[0;34m(self, query, file_paths, labels, documents, meta, params, debug)\u001b[0m\n\u001b[1;32m    509\u001b[0m \u001b[0;34m\u001b[0m\u001b[0m\n\u001b[1;32m    510\u001b[0m         \u001b[0;31m# validate the node names\u001b[0m\u001b[0;34m\u001b[0m\u001b[0;34m\u001b[0m\u001b[0m\n\u001b[0;32m--> 511\u001b[0;31m         \u001b[0mself\u001b[0m\u001b[0;34m.\u001b[0m\u001b[0m_validate_node_names_in_params\u001b[0m\u001b[0;34m(\u001b[0m\u001b[0mparams\u001b[0m\u001b[0;34m=\u001b[0m\u001b[0mparams\u001b[0m\u001b[0;34m)\u001b[0m\u001b[0;34m\u001b[0m\u001b[0;34m\u001b[0m\u001b[0m\n\u001b[0m\u001b[1;32m    512\u001b[0m \u001b[0;34m\u001b[0m\u001b[0m\n\u001b[1;32m    513\u001b[0m         \u001b[0mroot_node\u001b[0m \u001b[0;34m=\u001b[0m \u001b[0mself\u001b[0m\u001b[0;34m.\u001b[0m\u001b[0mroot_node\u001b[0m\u001b[0;34m\u001b[0m\u001b[0;34m\u001b[0m\u001b[0m\n",
            "\u001b[0;32m/usr/local/lib/python3.10/dist-packages/haystack/pipelines/base.py\u001b[0m in \u001b[0;36m_validate_node_names_in_params\u001b[0;34m(self, params)\u001b[0m\n\u001b[1;32m   2299\u001b[0m \u001b[0;34m\u001b[0m\u001b[0m\n\u001b[1;32m   2300\u001b[0m                 \u001b[0;32mif\u001b[0m \u001b[0minvalid_keys\u001b[0m\u001b[0;34m:\u001b[0m\u001b[0;34m\u001b[0m\u001b[0;34m\u001b[0m\u001b[0m\n\u001b[0;32m-> 2301\u001b[0;31m                     raise ValueError(\n\u001b[0m\u001b[1;32m   2302\u001b[0m                         \u001b[0;34mf\"No node(s) or global parameter(s) named {', '.join(invalid_keys)} found in pipeline.\"\u001b[0m\u001b[0;34m\u001b[0m\u001b[0;34m\u001b[0m\u001b[0m\n\u001b[1;32m   2303\u001b[0m                     )\n",
            "\u001b[0;31mValueError\u001b[0m: No node(s) or global parameter(s) named filters found in pipeline."
          ]
        }
      ]
    },
    {
      "cell_type": "markdown",
      "source": [
        "Sample Label entry"
      ],
      "metadata": {
        "id": "4PENyWe9lRsw"
      },
      "id": "4PENyWe9lRsw"
    },
    {
      "cell_type": "code",
      "source": [
        "# <MultiLabel: {'labels': [{'id': '34b8662a-4888-4904-9798-31793725008d',\n",
        "#                           'query': 'What is the tonal balance of these headphones?',\n",
        "#                           'document': {'id': 'a73f54ddc5b1fcc7f4fbf04bd564a278',\n",
        "#                                        'content': \"I have been a headphone fanatic for thirty years and have owned and used a variety of headphones over those years, to include Stax SR-5, \\\n",
        "#                                         Sennheiser HD-424 and HD-580.  The Sony MDRV6 excells as the best value of any headphone that I've ever owned.  They are especially good at producing \\\n",
        "#                                         natural-sounding deep bass, and the overall octave-to-octave balance is excellent.  The sound quality is all in all comparable to other headphones \\\n",
        "#                                         that cost considerably more.The MDRV6 is especially well-suited for travel due to the collapsible design, and for noisy environments or for quiet \\\n",
        "#                                         environments such as a library where the sound emitted by open-back headphones would distract others.The MDRV6 is not quite as comfortable as some \\\n",
        "#                                         other headphones, but the comfort can be improved enormously by replacing the pads with the velour pads from BeyerDynamic.  The pads that come on \\\n",
        "#                                         the MDRV6 have a non-breathable cover, and significant additional discomfort is caused by the way that the thin foam cover is glued to the pad \\\n",
        "#                                         around the inner circumference of the pad, which prevents the top and back of your ear from slipping into the space between the pad and the face \\\n",
        "#                                         of the headphone.  This forces the pad to rest on the back of the ear, which compresses the ear and eventually becomes uncomfortable.  I read \\\n",
        "#                                         on a web forum where several people had replaced the pads (which eventually come apart) with a velour pad made by BeyerDynamic, and after I did \\\n",
        "#                                         this replacement on my one pair that had a damaged pad, the increase in comfort was so great that I immediately did the other pair.  The thin \\\n",
        "#                                         cover can be glued down to the headphone face if needed to hold it in place, which then allows the top and rear of your ear to naturally \\\n",
        "#                                         slide under the inner circumference of the pad, which is considerably more comfortable.  I can recommend this trivial modification without \\\n",
        "#                                         reservation to anyone who owns these headphones.  Even if you don't replace the pads with the BeyerDynamic velour pads, I suggest removing \\\n",
        "#                                         the pads anyway, then carefully separating the thin cover from the pad, and glueing the cover directly to the headphone surface.\",\n",
        "#                                       'content_type': 'text',\n",
        "#                                        'meta': {'item_id': 'B00001WRSJ', 'question_id': 'd0781d13200014aa25860e44da9d5ea7'},\n",
        "#                                        'id_hash_keys': ['content'], 'score': None, 'embedding': None\n",
        "#                                        },\n",
        "#                           'is_correct_answer': True,\n",
        "#                           'is_correct_document': True,\n",
        "#                           'origin': 'gold-label',\n",
        "#                           'answer': {'answer': 'I have been a headphone fanatic for thirty years',\n",
        "#                                      'type': 'extractive', 'score': None, 'context': None,\n",
        "#                                      'offsets_in_document': None, 'offsets_in_context': None,\n",
        "#                                      'document_ids': None, 'meta': {}\n",
        "#                                      },\n",
        "#                           'pipeline_id': None,\n",
        "#                           'created_at': '2023-08-31 06:29:15',\n",
        "#                           'updated_at': '2023-08-31 06:29:15',\n",
        "#                           'meta': {'item_id': 'B00001WRSJ', 'question_id': 'd0781d13200014aa25860e44da9d5ea7'},\n",
        "#                           'filters': {'item_id': ['B00001WRSJ']}\n",
        "#                           }\n",
        "#                          ],\n",
        "#               'query': 'What is the tonal balance of these headphones?',\n",
        "#               'filters': {'item_id': ['B00001WRSJ']},\n",
        "#               'id': '1f380c5429a27445d5771686af8b73a3',\n",
        "#               'no_answer': False,\n",
        "#               'answers': ['I have been a headphone fanatic for thirty years'],\n",
        "#               'offsets_in_documents': [], 'offsets_in_contexts': [],\n",
        "#               'document_ids': ['a73f54ddc5b1fcc7f4fbf04bd564a278'],\n",
        "#               'contexts': [\"I have been a headphone fanatic for thirty years and have owned and used a variety of headphones over those years, to include Stax SR-5, Sennheiser HD-424\\\n",
        "#                and HD-580.  The Sony MDRV6 excells as the best value of any headphone that I've ever owned.  They are especially good at producing natural-sounding deep bass, and the \\\n",
        "#                overall octave-to-octave balance is excellent.  The sound quality is all in all comparable to other headphones that cost considerably more.The MDRV6 is especially \\\n",
        "#                well-suited for travel due to the collapsible design, and for noisy environments or for quiet environments such as a library where the sound emitted by open-back \\\n",
        "#                headphones would distract others.The MDRV6 is not quite as comfortable as some other headphones, but the comfort can be improved enormously by replacing the pads \\\n",
        "#                with the velour pads from BeyerDynamic.  The pads that come on the MDRV6 have a non-breathable cover, and significant additional discomfort is caused by the way that \\\n",
        "#                the thin foam cover is glued to the pad around the inner circumference of the pad, which prevents the top and back of your ear from slipping into the space between the \\\n",
        "#                pad and the face of the headphone.  This forces the pad to rest on the back of the ear, which compresses the ear and eventually becomes uncomfortable.  I read on a web \\\n",
        "#                forum where several people had replaced the pads (which eventually come apart) with a velour pad made by BeyerDynamic, and after I did this replacement on my one pair \\\n",
        "#                that had a damaged pad, the increase in comfort was so great that I immediately did the other pair.  The thin cover can be glued down to the headphone face if needed to \\\n",
        "#                hold it in place, which then allows the top and rear of your ear to naturally  slide under the inner circumference of the pad, which is considerably more comfortable.  \\\n",
        "#                I can recommend this trivial modification without reservation to anyone who owns these headphones.  Even if you don't replace the pads with the BeyerDynamic velour pads, \\\n",
        "#                I suggest removing the pads anyway, then carefully separating the thin cover from the pad, and glueing the cover directly to the headphone surface.\"\n",
        "#                ]\n",
        "#               }>"
      ],
      "metadata": {
        "id": "LZOLltloPLwL"
      },
      "id": "LZOLltloPLwL",
      "execution_count": null,
      "outputs": []
    }
  ],
  "metadata": {
    "kernelspec": {
      "display_name": "Python 3",
      "name": "python3"
    },
    "language_info": {
      "codemirror_mode": {
        "name": "ipython",
        "version": 3
      },
      "file_extension": ".py",
      "mimetype": "text/x-python",
      "name": "python",
      "nbconvert_exporter": "python",
      "pygments_lexer": "ipython3",
      "version": "3.10.4"
    },
    "colab": {
      "provenance": [],
      "gpuType": "T4"
    },
    "accelerator": "GPU",
    "widgets": {
      "application/vnd.jupyter.widget-state+json": {
        "c512e23a4a664351a63664b6cd23fd6f": {
          "model_module": "@jupyter-widgets/controls",
          "model_name": "HBoxModel",
          "model_module_version": "1.5.0",
          "state": {
            "_dom_classes": [],
            "_model_module": "@jupyter-widgets/controls",
            "_model_module_version": "1.5.0",
            "_model_name": "HBoxModel",
            "_view_count": null,
            "_view_module": "@jupyter-widgets/controls",
            "_view_module_version": "1.5.0",
            "_view_name": "HBoxView",
            "box_style": "",
            "children": [
              "IPY_MODEL_89db3ace7f0b44a4af937ba271d14fdb",
              "IPY_MODEL_dc13425083fd4e1e80c2ddbdd2a7e60f",
              "IPY_MODEL_186c289947004f79a3b0764622cb3899"
            ],
            "layout": "IPY_MODEL_4b202ea1aa81488fa5252e4190810b8a"
          }
        },
        "89db3ace7f0b44a4af937ba271d14fdb": {
          "model_module": "@jupyter-widgets/controls",
          "model_name": "HTMLModel",
          "model_module_version": "1.5.0",
          "state": {
            "_dom_classes": [],
            "_model_module": "@jupyter-widgets/controls",
            "_model_module_version": "1.5.0",
            "_model_name": "HTMLModel",
            "_view_count": null,
            "_view_module": "@jupyter-widgets/controls",
            "_view_module_version": "1.5.0",
            "_view_name": "HTMLView",
            "description": "",
            "description_tooltip": null,
            "layout": "IPY_MODEL_15749365beb04bbc876ccb237675802b",
            "placeholder": "​",
            "style": "IPY_MODEL_ce2c6da5afc843feaa42f4810fe0ff97",
            "value": "Downloading (…)okenizer_config.json: 100%"
          }
        },
        "dc13425083fd4e1e80c2ddbdd2a7e60f": {
          "model_module": "@jupyter-widgets/controls",
          "model_name": "FloatProgressModel",
          "model_module_version": "1.5.0",
          "state": {
            "_dom_classes": [],
            "_model_module": "@jupyter-widgets/controls",
            "_model_module_version": "1.5.0",
            "_model_name": "FloatProgressModel",
            "_view_count": null,
            "_view_module": "@jupyter-widgets/controls",
            "_view_module_version": "1.5.0",
            "_view_name": "ProgressView",
            "bar_style": "success",
            "description": "",
            "description_tooltip": null,
            "layout": "IPY_MODEL_f58b662a94b84a288161662bbc420fdb",
            "max": 28,
            "min": 0,
            "orientation": "horizontal",
            "style": "IPY_MODEL_c4bd7f66c1a04df9a55115ceb00e9969",
            "value": 28
          }
        },
        "186c289947004f79a3b0764622cb3899": {
          "model_module": "@jupyter-widgets/controls",
          "model_name": "HTMLModel",
          "model_module_version": "1.5.0",
          "state": {
            "_dom_classes": [],
            "_model_module": "@jupyter-widgets/controls",
            "_model_module_version": "1.5.0",
            "_model_name": "HTMLModel",
            "_view_count": null,
            "_view_module": "@jupyter-widgets/controls",
            "_view_module_version": "1.5.0",
            "_view_name": "HTMLView",
            "description": "",
            "description_tooltip": null,
            "layout": "IPY_MODEL_e74f6dc7f9f14ba5baa4cdf27bb140fa",
            "placeholder": "​",
            "style": "IPY_MODEL_070769e3eb62403eaa3d4455a559f425",
            "value": " 28.0/28.0 [00:00&lt;00:00, 581B/s]"
          }
        },
        "4b202ea1aa81488fa5252e4190810b8a": {
          "model_module": "@jupyter-widgets/base",
          "model_name": "LayoutModel",
          "model_module_version": "1.2.0",
          "state": {
            "_model_module": "@jupyter-widgets/base",
            "_model_module_version": "1.2.0",
            "_model_name": "LayoutModel",
            "_view_count": null,
            "_view_module": "@jupyter-widgets/base",
            "_view_module_version": "1.2.0",
            "_view_name": "LayoutView",
            "align_content": null,
            "align_items": null,
            "align_self": null,
            "border": null,
            "bottom": null,
            "display": null,
            "flex": null,
            "flex_flow": null,
            "grid_area": null,
            "grid_auto_columns": null,
            "grid_auto_flow": null,
            "grid_auto_rows": null,
            "grid_column": null,
            "grid_gap": null,
            "grid_row": null,
            "grid_template_areas": null,
            "grid_template_columns": null,
            "grid_template_rows": null,
            "height": null,
            "justify_content": null,
            "justify_items": null,
            "left": null,
            "margin": null,
            "max_height": null,
            "max_width": null,
            "min_height": null,
            "min_width": null,
            "object_fit": null,
            "object_position": null,
            "order": null,
            "overflow": null,
            "overflow_x": null,
            "overflow_y": null,
            "padding": null,
            "right": null,
            "top": null,
            "visibility": null,
            "width": null
          }
        },
        "15749365beb04bbc876ccb237675802b": {
          "model_module": "@jupyter-widgets/base",
          "model_name": "LayoutModel",
          "model_module_version": "1.2.0",
          "state": {
            "_model_module": "@jupyter-widgets/base",
            "_model_module_version": "1.2.0",
            "_model_name": "LayoutModel",
            "_view_count": null,
            "_view_module": "@jupyter-widgets/base",
            "_view_module_version": "1.2.0",
            "_view_name": "LayoutView",
            "align_content": null,
            "align_items": null,
            "align_self": null,
            "border": null,
            "bottom": null,
            "display": null,
            "flex": null,
            "flex_flow": null,
            "grid_area": null,
            "grid_auto_columns": null,
            "grid_auto_flow": null,
            "grid_auto_rows": null,
            "grid_column": null,
            "grid_gap": null,
            "grid_row": null,
            "grid_template_areas": null,
            "grid_template_columns": null,
            "grid_template_rows": null,
            "height": null,
            "justify_content": null,
            "justify_items": null,
            "left": null,
            "margin": null,
            "max_height": null,
            "max_width": null,
            "min_height": null,
            "min_width": null,
            "object_fit": null,
            "object_position": null,
            "order": null,
            "overflow": null,
            "overflow_x": null,
            "overflow_y": null,
            "padding": null,
            "right": null,
            "top": null,
            "visibility": null,
            "width": null
          }
        },
        "ce2c6da5afc843feaa42f4810fe0ff97": {
          "model_module": "@jupyter-widgets/controls",
          "model_name": "DescriptionStyleModel",
          "model_module_version": "1.5.0",
          "state": {
            "_model_module": "@jupyter-widgets/controls",
            "_model_module_version": "1.5.0",
            "_model_name": "DescriptionStyleModel",
            "_view_count": null,
            "_view_module": "@jupyter-widgets/base",
            "_view_module_version": "1.2.0",
            "_view_name": "StyleView",
            "description_width": ""
          }
        },
        "f58b662a94b84a288161662bbc420fdb": {
          "model_module": "@jupyter-widgets/base",
          "model_name": "LayoutModel",
          "model_module_version": "1.2.0",
          "state": {
            "_model_module": "@jupyter-widgets/base",
            "_model_module_version": "1.2.0",
            "_model_name": "LayoutModel",
            "_view_count": null,
            "_view_module": "@jupyter-widgets/base",
            "_view_module_version": "1.2.0",
            "_view_name": "LayoutView",
            "align_content": null,
            "align_items": null,
            "align_self": null,
            "border": null,
            "bottom": null,
            "display": null,
            "flex": null,
            "flex_flow": null,
            "grid_area": null,
            "grid_auto_columns": null,
            "grid_auto_flow": null,
            "grid_auto_rows": null,
            "grid_column": null,
            "grid_gap": null,
            "grid_row": null,
            "grid_template_areas": null,
            "grid_template_columns": null,
            "grid_template_rows": null,
            "height": null,
            "justify_content": null,
            "justify_items": null,
            "left": null,
            "margin": null,
            "max_height": null,
            "max_width": null,
            "min_height": null,
            "min_width": null,
            "object_fit": null,
            "object_position": null,
            "order": null,
            "overflow": null,
            "overflow_x": null,
            "overflow_y": null,
            "padding": null,
            "right": null,
            "top": null,
            "visibility": null,
            "width": null
          }
        },
        "c4bd7f66c1a04df9a55115ceb00e9969": {
          "model_module": "@jupyter-widgets/controls",
          "model_name": "ProgressStyleModel",
          "model_module_version": "1.5.0",
          "state": {
            "_model_module": "@jupyter-widgets/controls",
            "_model_module_version": "1.5.0",
            "_model_name": "ProgressStyleModel",
            "_view_count": null,
            "_view_module": "@jupyter-widgets/base",
            "_view_module_version": "1.2.0",
            "_view_name": "StyleView",
            "bar_color": null,
            "description_width": ""
          }
        },
        "e74f6dc7f9f14ba5baa4cdf27bb140fa": {
          "model_module": "@jupyter-widgets/base",
          "model_name": "LayoutModel",
          "model_module_version": "1.2.0",
          "state": {
            "_model_module": "@jupyter-widgets/base",
            "_model_module_version": "1.2.0",
            "_model_name": "LayoutModel",
            "_view_count": null,
            "_view_module": "@jupyter-widgets/base",
            "_view_module_version": "1.2.0",
            "_view_name": "LayoutView",
            "align_content": null,
            "align_items": null,
            "align_self": null,
            "border": null,
            "bottom": null,
            "display": null,
            "flex": null,
            "flex_flow": null,
            "grid_area": null,
            "grid_auto_columns": null,
            "grid_auto_flow": null,
            "grid_auto_rows": null,
            "grid_column": null,
            "grid_gap": null,
            "grid_row": null,
            "grid_template_areas": null,
            "grid_template_columns": null,
            "grid_template_rows": null,
            "height": null,
            "justify_content": null,
            "justify_items": null,
            "left": null,
            "margin": null,
            "max_height": null,
            "max_width": null,
            "min_height": null,
            "min_width": null,
            "object_fit": null,
            "object_position": null,
            "order": null,
            "overflow": null,
            "overflow_x": null,
            "overflow_y": null,
            "padding": null,
            "right": null,
            "top": null,
            "visibility": null,
            "width": null
          }
        },
        "070769e3eb62403eaa3d4455a559f425": {
          "model_module": "@jupyter-widgets/controls",
          "model_name": "DescriptionStyleModel",
          "model_module_version": "1.5.0",
          "state": {
            "_model_module": "@jupyter-widgets/controls",
            "_model_module_version": "1.5.0",
            "_model_name": "DescriptionStyleModel",
            "_view_count": null,
            "_view_module": "@jupyter-widgets/base",
            "_view_module_version": "1.2.0",
            "_view_name": "StyleView",
            "description_width": ""
          }
        },
        "d84ea02c500a4fd6bf884b6e05e2fbd7": {
          "model_module": "@jupyter-widgets/controls",
          "model_name": "HBoxModel",
          "model_module_version": "1.5.0",
          "state": {
            "_dom_classes": [],
            "_model_module": "@jupyter-widgets/controls",
            "_model_module_version": "1.5.0",
            "_model_name": "HBoxModel",
            "_view_count": null,
            "_view_module": "@jupyter-widgets/controls",
            "_view_module_version": "1.5.0",
            "_view_name": "HBoxView",
            "box_style": "",
            "children": [
              "IPY_MODEL_c753b929804849f5be3f55dabe12e172",
              "IPY_MODEL_b9e73f8fc7064d818ba4e50d7b845776",
              "IPY_MODEL_d881ad23d5c54accab31b96da6de3f53"
            ],
            "layout": "IPY_MODEL_a9a5164d67824c08900a507c7dafd341"
          }
        },
        "c753b929804849f5be3f55dabe12e172": {
          "model_module": "@jupyter-widgets/controls",
          "model_name": "HTMLModel",
          "model_module_version": "1.5.0",
          "state": {
            "_dom_classes": [],
            "_model_module": "@jupyter-widgets/controls",
            "_model_module_version": "1.5.0",
            "_model_name": "HTMLModel",
            "_view_count": null,
            "_view_module": "@jupyter-widgets/controls",
            "_view_module_version": "1.5.0",
            "_view_name": "HTMLView",
            "description": "",
            "description_tooltip": null,
            "layout": "IPY_MODEL_eed39c22eaa84098bbf079ec61b59d11",
            "placeholder": "​",
            "style": "IPY_MODEL_df7e744f9c36428c8a02efe4468cb2b1",
            "value": "Downloading (…)lve/main/config.json: 100%"
          }
        },
        "b9e73f8fc7064d818ba4e50d7b845776": {
          "model_module": "@jupyter-widgets/controls",
          "model_name": "FloatProgressModel",
          "model_module_version": "1.5.0",
          "state": {
            "_dom_classes": [],
            "_model_module": "@jupyter-widgets/controls",
            "_model_module_version": "1.5.0",
            "_model_name": "FloatProgressModel",
            "_view_count": null,
            "_view_module": "@jupyter-widgets/controls",
            "_view_module_version": "1.5.0",
            "_view_name": "ProgressView",
            "bar_style": "success",
            "description": "",
            "description_tooltip": null,
            "layout": "IPY_MODEL_678933f7ba044c3bbd4a2c7620df4d2f",
            "max": 493,
            "min": 0,
            "orientation": "horizontal",
            "style": "IPY_MODEL_18121ff5ecaa410dbb9243a9919ec217",
            "value": 493
          }
        },
        "d881ad23d5c54accab31b96da6de3f53": {
          "model_module": "@jupyter-widgets/controls",
          "model_name": "HTMLModel",
          "model_module_version": "1.5.0",
          "state": {
            "_dom_classes": [],
            "_model_module": "@jupyter-widgets/controls",
            "_model_module_version": "1.5.0",
            "_model_name": "HTMLModel",
            "_view_count": null,
            "_view_module": "@jupyter-widgets/controls",
            "_view_module_version": "1.5.0",
            "_view_name": "HTMLView",
            "description": "",
            "description_tooltip": null,
            "layout": "IPY_MODEL_f619276660cc46708b51b542e7414550",
            "placeholder": "​",
            "style": "IPY_MODEL_2f672f99f36041f39fc88d5fee68a430",
            "value": " 493/493 [00:00&lt;00:00, 15.9kB/s]"
          }
        },
        "a9a5164d67824c08900a507c7dafd341": {
          "model_module": "@jupyter-widgets/base",
          "model_name": "LayoutModel",
          "model_module_version": "1.2.0",
          "state": {
            "_model_module": "@jupyter-widgets/base",
            "_model_module_version": "1.2.0",
            "_model_name": "LayoutModel",
            "_view_count": null,
            "_view_module": "@jupyter-widgets/base",
            "_view_module_version": "1.2.0",
            "_view_name": "LayoutView",
            "align_content": null,
            "align_items": null,
            "align_self": null,
            "border": null,
            "bottom": null,
            "display": null,
            "flex": null,
            "flex_flow": null,
            "grid_area": null,
            "grid_auto_columns": null,
            "grid_auto_flow": null,
            "grid_auto_rows": null,
            "grid_column": null,
            "grid_gap": null,
            "grid_row": null,
            "grid_template_areas": null,
            "grid_template_columns": null,
            "grid_template_rows": null,
            "height": null,
            "justify_content": null,
            "justify_items": null,
            "left": null,
            "margin": null,
            "max_height": null,
            "max_width": null,
            "min_height": null,
            "min_width": null,
            "object_fit": null,
            "object_position": null,
            "order": null,
            "overflow": null,
            "overflow_x": null,
            "overflow_y": null,
            "padding": null,
            "right": null,
            "top": null,
            "visibility": null,
            "width": null
          }
        },
        "eed39c22eaa84098bbf079ec61b59d11": {
          "model_module": "@jupyter-widgets/base",
          "model_name": "LayoutModel",
          "model_module_version": "1.2.0",
          "state": {
            "_model_module": "@jupyter-widgets/base",
            "_model_module_version": "1.2.0",
            "_model_name": "LayoutModel",
            "_view_count": null,
            "_view_module": "@jupyter-widgets/base",
            "_view_module_version": "1.2.0",
            "_view_name": "LayoutView",
            "align_content": null,
            "align_items": null,
            "align_self": null,
            "border": null,
            "bottom": null,
            "display": null,
            "flex": null,
            "flex_flow": null,
            "grid_area": null,
            "grid_auto_columns": null,
            "grid_auto_flow": null,
            "grid_auto_rows": null,
            "grid_column": null,
            "grid_gap": null,
            "grid_row": null,
            "grid_template_areas": null,
            "grid_template_columns": null,
            "grid_template_rows": null,
            "height": null,
            "justify_content": null,
            "justify_items": null,
            "left": null,
            "margin": null,
            "max_height": null,
            "max_width": null,
            "min_height": null,
            "min_width": null,
            "object_fit": null,
            "object_position": null,
            "order": null,
            "overflow": null,
            "overflow_x": null,
            "overflow_y": null,
            "padding": null,
            "right": null,
            "top": null,
            "visibility": null,
            "width": null
          }
        },
        "df7e744f9c36428c8a02efe4468cb2b1": {
          "model_module": "@jupyter-widgets/controls",
          "model_name": "DescriptionStyleModel",
          "model_module_version": "1.5.0",
          "state": {
            "_model_module": "@jupyter-widgets/controls",
            "_model_module_version": "1.5.0",
            "_model_name": "DescriptionStyleModel",
            "_view_count": null,
            "_view_module": "@jupyter-widgets/base",
            "_view_module_version": "1.2.0",
            "_view_name": "StyleView",
            "description_width": ""
          }
        },
        "678933f7ba044c3bbd4a2c7620df4d2f": {
          "model_module": "@jupyter-widgets/base",
          "model_name": "LayoutModel",
          "model_module_version": "1.2.0",
          "state": {
            "_model_module": "@jupyter-widgets/base",
            "_model_module_version": "1.2.0",
            "_model_name": "LayoutModel",
            "_view_count": null,
            "_view_module": "@jupyter-widgets/base",
            "_view_module_version": "1.2.0",
            "_view_name": "LayoutView",
            "align_content": null,
            "align_items": null,
            "align_self": null,
            "border": null,
            "bottom": null,
            "display": null,
            "flex": null,
            "flex_flow": null,
            "grid_area": null,
            "grid_auto_columns": null,
            "grid_auto_flow": null,
            "grid_auto_rows": null,
            "grid_column": null,
            "grid_gap": null,
            "grid_row": null,
            "grid_template_areas": null,
            "grid_template_columns": null,
            "grid_template_rows": null,
            "height": null,
            "justify_content": null,
            "justify_items": null,
            "left": null,
            "margin": null,
            "max_height": null,
            "max_width": null,
            "min_height": null,
            "min_width": null,
            "object_fit": null,
            "object_position": null,
            "order": null,
            "overflow": null,
            "overflow_x": null,
            "overflow_y": null,
            "padding": null,
            "right": null,
            "top": null,
            "visibility": null,
            "width": null
          }
        },
        "18121ff5ecaa410dbb9243a9919ec217": {
          "model_module": "@jupyter-widgets/controls",
          "model_name": "ProgressStyleModel",
          "model_module_version": "1.5.0",
          "state": {
            "_model_module": "@jupyter-widgets/controls",
            "_model_module_version": "1.5.0",
            "_model_name": "ProgressStyleModel",
            "_view_count": null,
            "_view_module": "@jupyter-widgets/base",
            "_view_module_version": "1.2.0",
            "_view_name": "StyleView",
            "bar_color": null,
            "description_width": ""
          }
        },
        "f619276660cc46708b51b542e7414550": {
          "model_module": "@jupyter-widgets/base",
          "model_name": "LayoutModel",
          "model_module_version": "1.2.0",
          "state": {
            "_model_module": "@jupyter-widgets/base",
            "_model_module_version": "1.2.0",
            "_model_name": "LayoutModel",
            "_view_count": null,
            "_view_module": "@jupyter-widgets/base",
            "_view_module_version": "1.2.0",
            "_view_name": "LayoutView",
            "align_content": null,
            "align_items": null,
            "align_self": null,
            "border": null,
            "bottom": null,
            "display": null,
            "flex": null,
            "flex_flow": null,
            "grid_area": null,
            "grid_auto_columns": null,
            "grid_auto_flow": null,
            "grid_auto_rows": null,
            "grid_column": null,
            "grid_gap": null,
            "grid_row": null,
            "grid_template_areas": null,
            "grid_template_columns": null,
            "grid_template_rows": null,
            "height": null,
            "justify_content": null,
            "justify_items": null,
            "left": null,
            "margin": null,
            "max_height": null,
            "max_width": null,
            "min_height": null,
            "min_width": null,
            "object_fit": null,
            "object_position": null,
            "order": null,
            "overflow": null,
            "overflow_x": null,
            "overflow_y": null,
            "padding": null,
            "right": null,
            "top": null,
            "visibility": null,
            "width": null
          }
        },
        "2f672f99f36041f39fc88d5fee68a430": {
          "model_module": "@jupyter-widgets/controls",
          "model_name": "DescriptionStyleModel",
          "model_module_version": "1.5.0",
          "state": {
            "_model_module": "@jupyter-widgets/controls",
            "_model_module_version": "1.5.0",
            "_model_name": "DescriptionStyleModel",
            "_view_count": null,
            "_view_module": "@jupyter-widgets/base",
            "_view_module_version": "1.2.0",
            "_view_name": "StyleView",
            "description_width": ""
          }
        },
        "72e743f74d9640bea47c9d7cee625d65": {
          "model_module": "@jupyter-widgets/controls",
          "model_name": "HBoxModel",
          "model_module_version": "1.5.0",
          "state": {
            "_dom_classes": [],
            "_model_module": "@jupyter-widgets/controls",
            "_model_module_version": "1.5.0",
            "_model_name": "HBoxModel",
            "_view_count": null,
            "_view_module": "@jupyter-widgets/controls",
            "_view_module_version": "1.5.0",
            "_view_name": "HBoxView",
            "box_style": "",
            "children": [
              "IPY_MODEL_7751592f036b41f08781798ffc704c3d",
              "IPY_MODEL_434aef3277aa45058b2132d82da4b46b",
              "IPY_MODEL_09aa20d8027e480b8b925853defa4736"
            ],
            "layout": "IPY_MODEL_b16f9b181de9494486a84f80725fc880"
          }
        },
        "7751592f036b41f08781798ffc704c3d": {
          "model_module": "@jupyter-widgets/controls",
          "model_name": "HTMLModel",
          "model_module_version": "1.5.0",
          "state": {
            "_dom_classes": [],
            "_model_module": "@jupyter-widgets/controls",
            "_model_module_version": "1.5.0",
            "_model_name": "HTMLModel",
            "_view_count": null,
            "_view_module": "@jupyter-widgets/controls",
            "_view_module_version": "1.5.0",
            "_view_name": "HTMLView",
            "description": "",
            "description_tooltip": null,
            "layout": "IPY_MODEL_f4133fff8cfa45a39ec5c481299d0ef7",
            "placeholder": "​",
            "style": "IPY_MODEL_e5b14ca5ec5645dc896d9ed87073a5fc",
            "value": "Downloading (…)solve/main/vocab.txt: 100%"
          }
        },
        "434aef3277aa45058b2132d82da4b46b": {
          "model_module": "@jupyter-widgets/controls",
          "model_name": "FloatProgressModel",
          "model_module_version": "1.5.0",
          "state": {
            "_dom_classes": [],
            "_model_module": "@jupyter-widgets/controls",
            "_model_module_version": "1.5.0",
            "_model_name": "FloatProgressModel",
            "_view_count": null,
            "_view_module": "@jupyter-widgets/controls",
            "_view_module_version": "1.5.0",
            "_view_name": "ProgressView",
            "bar_style": "success",
            "description": "",
            "description_tooltip": null,
            "layout": "IPY_MODEL_1ab1a82618a748489b9ce94344e26e3e",
            "max": 231508,
            "min": 0,
            "orientation": "horizontal",
            "style": "IPY_MODEL_6e904fe9935b44d786be094acbd7a350",
            "value": 231508
          }
        },
        "09aa20d8027e480b8b925853defa4736": {
          "model_module": "@jupyter-widgets/controls",
          "model_name": "HTMLModel",
          "model_module_version": "1.5.0",
          "state": {
            "_dom_classes": [],
            "_model_module": "@jupyter-widgets/controls",
            "_model_module_version": "1.5.0",
            "_model_name": "HTMLModel",
            "_view_count": null,
            "_view_module": "@jupyter-widgets/controls",
            "_view_module_version": "1.5.0",
            "_view_name": "HTMLView",
            "description": "",
            "description_tooltip": null,
            "layout": "IPY_MODEL_8be1f5ca8f2748d2aab36f3f67de129f",
            "placeholder": "​",
            "style": "IPY_MODEL_aa0683a5d2c143d2b414cb0725edba6c",
            "value": " 232k/232k [00:00&lt;00:00, 3.33MB/s]"
          }
        },
        "b16f9b181de9494486a84f80725fc880": {
          "model_module": "@jupyter-widgets/base",
          "model_name": "LayoutModel",
          "model_module_version": "1.2.0",
          "state": {
            "_model_module": "@jupyter-widgets/base",
            "_model_module_version": "1.2.0",
            "_model_name": "LayoutModel",
            "_view_count": null,
            "_view_module": "@jupyter-widgets/base",
            "_view_module_version": "1.2.0",
            "_view_name": "LayoutView",
            "align_content": null,
            "align_items": null,
            "align_self": null,
            "border": null,
            "bottom": null,
            "display": null,
            "flex": null,
            "flex_flow": null,
            "grid_area": null,
            "grid_auto_columns": null,
            "grid_auto_flow": null,
            "grid_auto_rows": null,
            "grid_column": null,
            "grid_gap": null,
            "grid_row": null,
            "grid_template_areas": null,
            "grid_template_columns": null,
            "grid_template_rows": null,
            "height": null,
            "justify_content": null,
            "justify_items": null,
            "left": null,
            "margin": null,
            "max_height": null,
            "max_width": null,
            "min_height": null,
            "min_width": null,
            "object_fit": null,
            "object_position": null,
            "order": null,
            "overflow": null,
            "overflow_x": null,
            "overflow_y": null,
            "padding": null,
            "right": null,
            "top": null,
            "visibility": null,
            "width": null
          }
        },
        "f4133fff8cfa45a39ec5c481299d0ef7": {
          "model_module": "@jupyter-widgets/base",
          "model_name": "LayoutModel",
          "model_module_version": "1.2.0",
          "state": {
            "_model_module": "@jupyter-widgets/base",
            "_model_module_version": "1.2.0",
            "_model_name": "LayoutModel",
            "_view_count": null,
            "_view_module": "@jupyter-widgets/base",
            "_view_module_version": "1.2.0",
            "_view_name": "LayoutView",
            "align_content": null,
            "align_items": null,
            "align_self": null,
            "border": null,
            "bottom": null,
            "display": null,
            "flex": null,
            "flex_flow": null,
            "grid_area": null,
            "grid_auto_columns": null,
            "grid_auto_flow": null,
            "grid_auto_rows": null,
            "grid_column": null,
            "grid_gap": null,
            "grid_row": null,
            "grid_template_areas": null,
            "grid_template_columns": null,
            "grid_template_rows": null,
            "height": null,
            "justify_content": null,
            "justify_items": null,
            "left": null,
            "margin": null,
            "max_height": null,
            "max_width": null,
            "min_height": null,
            "min_width": null,
            "object_fit": null,
            "object_position": null,
            "order": null,
            "overflow": null,
            "overflow_x": null,
            "overflow_y": null,
            "padding": null,
            "right": null,
            "top": null,
            "visibility": null,
            "width": null
          }
        },
        "e5b14ca5ec5645dc896d9ed87073a5fc": {
          "model_module": "@jupyter-widgets/controls",
          "model_name": "DescriptionStyleModel",
          "model_module_version": "1.5.0",
          "state": {
            "_model_module": "@jupyter-widgets/controls",
            "_model_module_version": "1.5.0",
            "_model_name": "DescriptionStyleModel",
            "_view_count": null,
            "_view_module": "@jupyter-widgets/base",
            "_view_module_version": "1.2.0",
            "_view_name": "StyleView",
            "description_width": ""
          }
        },
        "1ab1a82618a748489b9ce94344e26e3e": {
          "model_module": "@jupyter-widgets/base",
          "model_name": "LayoutModel",
          "model_module_version": "1.2.0",
          "state": {
            "_model_module": "@jupyter-widgets/base",
            "_model_module_version": "1.2.0",
            "_model_name": "LayoutModel",
            "_view_count": null,
            "_view_module": "@jupyter-widgets/base",
            "_view_module_version": "1.2.0",
            "_view_name": "LayoutView",
            "align_content": null,
            "align_items": null,
            "align_self": null,
            "border": null,
            "bottom": null,
            "display": null,
            "flex": null,
            "flex_flow": null,
            "grid_area": null,
            "grid_auto_columns": null,
            "grid_auto_flow": null,
            "grid_auto_rows": null,
            "grid_column": null,
            "grid_gap": null,
            "grid_row": null,
            "grid_template_areas": null,
            "grid_template_columns": null,
            "grid_template_rows": null,
            "height": null,
            "justify_content": null,
            "justify_items": null,
            "left": null,
            "margin": null,
            "max_height": null,
            "max_width": null,
            "min_height": null,
            "min_width": null,
            "object_fit": null,
            "object_position": null,
            "order": null,
            "overflow": null,
            "overflow_x": null,
            "overflow_y": null,
            "padding": null,
            "right": null,
            "top": null,
            "visibility": null,
            "width": null
          }
        },
        "6e904fe9935b44d786be094acbd7a350": {
          "model_module": "@jupyter-widgets/controls",
          "model_name": "ProgressStyleModel",
          "model_module_version": "1.5.0",
          "state": {
            "_model_module": "@jupyter-widgets/controls",
            "_model_module_version": "1.5.0",
            "_model_name": "ProgressStyleModel",
            "_view_count": null,
            "_view_module": "@jupyter-widgets/base",
            "_view_module_version": "1.2.0",
            "_view_name": "StyleView",
            "bar_color": null,
            "description_width": ""
          }
        },
        "8be1f5ca8f2748d2aab36f3f67de129f": {
          "model_module": "@jupyter-widgets/base",
          "model_name": "LayoutModel",
          "model_module_version": "1.2.0",
          "state": {
            "_model_module": "@jupyter-widgets/base",
            "_model_module_version": "1.2.0",
            "_model_name": "LayoutModel",
            "_view_count": null,
            "_view_module": "@jupyter-widgets/base",
            "_view_module_version": "1.2.0",
            "_view_name": "LayoutView",
            "align_content": null,
            "align_items": null,
            "align_self": null,
            "border": null,
            "bottom": null,
            "display": null,
            "flex": null,
            "flex_flow": null,
            "grid_area": null,
            "grid_auto_columns": null,
            "grid_auto_flow": null,
            "grid_auto_rows": null,
            "grid_column": null,
            "grid_gap": null,
            "grid_row": null,
            "grid_template_areas": null,
            "grid_template_columns": null,
            "grid_template_rows": null,
            "height": null,
            "justify_content": null,
            "justify_items": null,
            "left": null,
            "margin": null,
            "max_height": null,
            "max_width": null,
            "min_height": null,
            "min_width": null,
            "object_fit": null,
            "object_position": null,
            "order": null,
            "overflow": null,
            "overflow_x": null,
            "overflow_y": null,
            "padding": null,
            "right": null,
            "top": null,
            "visibility": null,
            "width": null
          }
        },
        "aa0683a5d2c143d2b414cb0725edba6c": {
          "model_module": "@jupyter-widgets/controls",
          "model_name": "DescriptionStyleModel",
          "model_module_version": "1.5.0",
          "state": {
            "_model_module": "@jupyter-widgets/controls",
            "_model_module_version": "1.5.0",
            "_model_name": "DescriptionStyleModel",
            "_view_count": null,
            "_view_module": "@jupyter-widgets/base",
            "_view_module_version": "1.2.0",
            "_view_name": "StyleView",
            "description_width": ""
          }
        },
        "1851b3c097e044d1b7ac6ce153d11c67": {
          "model_module": "@jupyter-widgets/controls",
          "model_name": "HBoxModel",
          "model_module_version": "1.5.0",
          "state": {
            "_dom_classes": [],
            "_model_module": "@jupyter-widgets/controls",
            "_model_module_version": "1.5.0",
            "_model_name": "HBoxModel",
            "_view_count": null,
            "_view_module": "@jupyter-widgets/controls",
            "_view_module_version": "1.5.0",
            "_view_name": "HBoxView",
            "box_style": "",
            "children": [
              "IPY_MODEL_5961573c745c403790ec3f560c2603d8",
              "IPY_MODEL_8613468cf562435aba36fd0054acb5a4",
              "IPY_MODEL_a3e530b188e649cf8940add8cffd0363"
            ],
            "layout": "IPY_MODEL_cf38b9c24f7e4bb6a9f9a23f9e02c48d"
          }
        },
        "5961573c745c403790ec3f560c2603d8": {
          "model_module": "@jupyter-widgets/controls",
          "model_name": "HTMLModel",
          "model_module_version": "1.5.0",
          "state": {
            "_dom_classes": [],
            "_model_module": "@jupyter-widgets/controls",
            "_model_module_version": "1.5.0",
            "_model_name": "HTMLModel",
            "_view_count": null,
            "_view_module": "@jupyter-widgets/controls",
            "_view_module_version": "1.5.0",
            "_view_name": "HTMLView",
            "description": "",
            "description_tooltip": null,
            "layout": "IPY_MODEL_5f8354a255f14f0f911e5a252b1ee62a",
            "placeholder": "​",
            "style": "IPY_MODEL_ddfb282c159d4720962067e06bc7ac10",
            "value": "Downloading (…)/main/tokenizer.json: 100%"
          }
        },
        "8613468cf562435aba36fd0054acb5a4": {
          "model_module": "@jupyter-widgets/controls",
          "model_name": "FloatProgressModel",
          "model_module_version": "1.5.0",
          "state": {
            "_dom_classes": [],
            "_model_module": "@jupyter-widgets/controls",
            "_model_module_version": "1.5.0",
            "_model_name": "FloatProgressModel",
            "_view_count": null,
            "_view_module": "@jupyter-widgets/controls",
            "_view_module_version": "1.5.0",
            "_view_name": "ProgressView",
            "bar_style": "success",
            "description": "",
            "description_tooltip": null,
            "layout": "IPY_MODEL_f5ec1807e1404b1f8f3fe4b01cacf7cd",
            "max": 466062,
            "min": 0,
            "orientation": "horizontal",
            "style": "IPY_MODEL_bc8814bf0ee94e7996557c6893be1c5a",
            "value": 466062
          }
        },
        "a3e530b188e649cf8940add8cffd0363": {
          "model_module": "@jupyter-widgets/controls",
          "model_name": "HTMLModel",
          "model_module_version": "1.5.0",
          "state": {
            "_dom_classes": [],
            "_model_module": "@jupyter-widgets/controls",
            "_model_module_version": "1.5.0",
            "_model_name": "HTMLModel",
            "_view_count": null,
            "_view_module": "@jupyter-widgets/controls",
            "_view_module_version": "1.5.0",
            "_view_name": "HTMLView",
            "description": "",
            "description_tooltip": null,
            "layout": "IPY_MODEL_ae2262167f1b451992b075fa1b61fc21",
            "placeholder": "​",
            "style": "IPY_MODEL_457af638a75d47f09cc7a1b8c6683301",
            "value": " 466k/466k [00:00&lt;00:00, 16.1MB/s]"
          }
        },
        "cf38b9c24f7e4bb6a9f9a23f9e02c48d": {
          "model_module": "@jupyter-widgets/base",
          "model_name": "LayoutModel",
          "model_module_version": "1.2.0",
          "state": {
            "_model_module": "@jupyter-widgets/base",
            "_model_module_version": "1.2.0",
            "_model_name": "LayoutModel",
            "_view_count": null,
            "_view_module": "@jupyter-widgets/base",
            "_view_module_version": "1.2.0",
            "_view_name": "LayoutView",
            "align_content": null,
            "align_items": null,
            "align_self": null,
            "border": null,
            "bottom": null,
            "display": null,
            "flex": null,
            "flex_flow": null,
            "grid_area": null,
            "grid_auto_columns": null,
            "grid_auto_flow": null,
            "grid_auto_rows": null,
            "grid_column": null,
            "grid_gap": null,
            "grid_row": null,
            "grid_template_areas": null,
            "grid_template_columns": null,
            "grid_template_rows": null,
            "height": null,
            "justify_content": null,
            "justify_items": null,
            "left": null,
            "margin": null,
            "max_height": null,
            "max_width": null,
            "min_height": null,
            "min_width": null,
            "object_fit": null,
            "object_position": null,
            "order": null,
            "overflow": null,
            "overflow_x": null,
            "overflow_y": null,
            "padding": null,
            "right": null,
            "top": null,
            "visibility": null,
            "width": null
          }
        },
        "5f8354a255f14f0f911e5a252b1ee62a": {
          "model_module": "@jupyter-widgets/base",
          "model_name": "LayoutModel",
          "model_module_version": "1.2.0",
          "state": {
            "_model_module": "@jupyter-widgets/base",
            "_model_module_version": "1.2.0",
            "_model_name": "LayoutModel",
            "_view_count": null,
            "_view_module": "@jupyter-widgets/base",
            "_view_module_version": "1.2.0",
            "_view_name": "LayoutView",
            "align_content": null,
            "align_items": null,
            "align_self": null,
            "border": null,
            "bottom": null,
            "display": null,
            "flex": null,
            "flex_flow": null,
            "grid_area": null,
            "grid_auto_columns": null,
            "grid_auto_flow": null,
            "grid_auto_rows": null,
            "grid_column": null,
            "grid_gap": null,
            "grid_row": null,
            "grid_template_areas": null,
            "grid_template_columns": null,
            "grid_template_rows": null,
            "height": null,
            "justify_content": null,
            "justify_items": null,
            "left": null,
            "margin": null,
            "max_height": null,
            "max_width": null,
            "min_height": null,
            "min_width": null,
            "object_fit": null,
            "object_position": null,
            "order": null,
            "overflow": null,
            "overflow_x": null,
            "overflow_y": null,
            "padding": null,
            "right": null,
            "top": null,
            "visibility": null,
            "width": null
          }
        },
        "ddfb282c159d4720962067e06bc7ac10": {
          "model_module": "@jupyter-widgets/controls",
          "model_name": "DescriptionStyleModel",
          "model_module_version": "1.5.0",
          "state": {
            "_model_module": "@jupyter-widgets/controls",
            "_model_module_version": "1.5.0",
            "_model_name": "DescriptionStyleModel",
            "_view_count": null,
            "_view_module": "@jupyter-widgets/base",
            "_view_module_version": "1.2.0",
            "_view_name": "StyleView",
            "description_width": ""
          }
        },
        "f5ec1807e1404b1f8f3fe4b01cacf7cd": {
          "model_module": "@jupyter-widgets/base",
          "model_name": "LayoutModel",
          "model_module_version": "1.2.0",
          "state": {
            "_model_module": "@jupyter-widgets/base",
            "_model_module_version": "1.2.0",
            "_model_name": "LayoutModel",
            "_view_count": null,
            "_view_module": "@jupyter-widgets/base",
            "_view_module_version": "1.2.0",
            "_view_name": "LayoutView",
            "align_content": null,
            "align_items": null,
            "align_self": null,
            "border": null,
            "bottom": null,
            "display": null,
            "flex": null,
            "flex_flow": null,
            "grid_area": null,
            "grid_auto_columns": null,
            "grid_auto_flow": null,
            "grid_auto_rows": null,
            "grid_column": null,
            "grid_gap": null,
            "grid_row": null,
            "grid_template_areas": null,
            "grid_template_columns": null,
            "grid_template_rows": null,
            "height": null,
            "justify_content": null,
            "justify_items": null,
            "left": null,
            "margin": null,
            "max_height": null,
            "max_width": null,
            "min_height": null,
            "min_width": null,
            "object_fit": null,
            "object_position": null,
            "order": null,
            "overflow": null,
            "overflow_x": null,
            "overflow_y": null,
            "padding": null,
            "right": null,
            "top": null,
            "visibility": null,
            "width": null
          }
        },
        "bc8814bf0ee94e7996557c6893be1c5a": {
          "model_module": "@jupyter-widgets/controls",
          "model_name": "ProgressStyleModel",
          "model_module_version": "1.5.0",
          "state": {
            "_model_module": "@jupyter-widgets/controls",
            "_model_module_version": "1.5.0",
            "_model_name": "ProgressStyleModel",
            "_view_count": null,
            "_view_module": "@jupyter-widgets/base",
            "_view_module_version": "1.2.0",
            "_view_name": "StyleView",
            "bar_color": null,
            "description_width": ""
          }
        },
        "ae2262167f1b451992b075fa1b61fc21": {
          "model_module": "@jupyter-widgets/base",
          "model_name": "LayoutModel",
          "model_module_version": "1.2.0",
          "state": {
            "_model_module": "@jupyter-widgets/base",
            "_model_module_version": "1.2.0",
            "_model_name": "LayoutModel",
            "_view_count": null,
            "_view_module": "@jupyter-widgets/base",
            "_view_module_version": "1.2.0",
            "_view_name": "LayoutView",
            "align_content": null,
            "align_items": null,
            "align_self": null,
            "border": null,
            "bottom": null,
            "display": null,
            "flex": null,
            "flex_flow": null,
            "grid_area": null,
            "grid_auto_columns": null,
            "grid_auto_flow": null,
            "grid_auto_rows": null,
            "grid_column": null,
            "grid_gap": null,
            "grid_row": null,
            "grid_template_areas": null,
            "grid_template_columns": null,
            "grid_template_rows": null,
            "height": null,
            "justify_content": null,
            "justify_items": null,
            "left": null,
            "margin": null,
            "max_height": null,
            "max_width": null,
            "min_height": null,
            "min_width": null,
            "object_fit": null,
            "object_position": null,
            "order": null,
            "overflow": null,
            "overflow_x": null,
            "overflow_y": null,
            "padding": null,
            "right": null,
            "top": null,
            "visibility": null,
            "width": null
          }
        },
        "457af638a75d47f09cc7a1b8c6683301": {
          "model_module": "@jupyter-widgets/controls",
          "model_name": "DescriptionStyleModel",
          "model_module_version": "1.5.0",
          "state": {
            "_model_module": "@jupyter-widgets/controls",
            "_model_module_version": "1.5.0",
            "_model_name": "DescriptionStyleModel",
            "_view_count": null,
            "_view_module": "@jupyter-widgets/base",
            "_view_module_version": "1.2.0",
            "_view_name": "StyleView",
            "description_width": ""
          }
        },
        "40188dccae354e0e826eaa2be795cc3d": {
          "model_module": "@jupyter-widgets/controls",
          "model_name": "HBoxModel",
          "model_module_version": "1.5.0",
          "state": {
            "_dom_classes": [],
            "_model_module": "@jupyter-widgets/controls",
            "_model_module_version": "1.5.0",
            "_model_name": "HBoxModel",
            "_view_count": null,
            "_view_module": "@jupyter-widgets/controls",
            "_view_module_version": "1.5.0",
            "_view_name": "HBoxView",
            "box_style": "",
            "children": [
              "IPY_MODEL_9bbaab568aa940fbb2230a873ffa2ca9",
              "IPY_MODEL_68b0494fd9ac45f7a9293e3320ce5c83",
              "IPY_MODEL_4fa075dd51414035a5cfa99e51d9b714"
            ],
            "layout": "IPY_MODEL_91dd59c18c934feabf56c94ca396d929"
          }
        },
        "9bbaab568aa940fbb2230a873ffa2ca9": {
          "model_module": "@jupyter-widgets/controls",
          "model_name": "HTMLModel",
          "model_module_version": "1.5.0",
          "state": {
            "_dom_classes": [],
            "_model_module": "@jupyter-widgets/controls",
            "_model_module_version": "1.5.0",
            "_model_name": "HTMLModel",
            "_view_count": null,
            "_view_module": "@jupyter-widgets/controls",
            "_view_module_version": "1.5.0",
            "_view_name": "HTMLView",
            "description": "",
            "description_tooltip": null,
            "layout": "IPY_MODEL_fa971920a1df4517920416f2dba14d6a",
            "placeholder": "​",
            "style": "IPY_MODEL_8f8e423cb5a84281bd475d03e0bbdb86",
            "value": "Downloading pytorch_model.bin: 100%"
          }
        },
        "68b0494fd9ac45f7a9293e3320ce5c83": {
          "model_module": "@jupyter-widgets/controls",
          "model_name": "FloatProgressModel",
          "model_module_version": "1.5.0",
          "state": {
            "_dom_classes": [],
            "_model_module": "@jupyter-widgets/controls",
            "_model_module_version": "1.5.0",
            "_model_name": "FloatProgressModel",
            "_view_count": null,
            "_view_module": "@jupyter-widgets/controls",
            "_view_module_version": "1.5.0",
            "_view_name": "ProgressView",
            "bar_style": "success",
            "description": "",
            "description_tooltip": null,
            "layout": "IPY_MODEL_1ec21b7b306a4d048de24d9fb2f93309",
            "max": 437986065,
            "min": 0,
            "orientation": "horizontal",
            "style": "IPY_MODEL_f1c14fd54c20421a9c3ec4e950c86453",
            "value": 437986065
          }
        },
        "4fa075dd51414035a5cfa99e51d9b714": {
          "model_module": "@jupyter-widgets/controls",
          "model_name": "HTMLModel",
          "model_module_version": "1.5.0",
          "state": {
            "_dom_classes": [],
            "_model_module": "@jupyter-widgets/controls",
            "_model_module_version": "1.5.0",
            "_model_name": "HTMLModel",
            "_view_count": null,
            "_view_module": "@jupyter-widgets/controls",
            "_view_module_version": "1.5.0",
            "_view_name": "HTMLView",
            "description": "",
            "description_tooltip": null,
            "layout": "IPY_MODEL_fb6d3edabd194682a29c99d9581fe4bc",
            "placeholder": "​",
            "style": "IPY_MODEL_2f6b02030f034cf5a5aa00dc816b32e2",
            "value": " 438M/438M [00:06&lt;00:00, 102MB/s]"
          }
        },
        "91dd59c18c934feabf56c94ca396d929": {
          "model_module": "@jupyter-widgets/base",
          "model_name": "LayoutModel",
          "model_module_version": "1.2.0",
          "state": {
            "_model_module": "@jupyter-widgets/base",
            "_model_module_version": "1.2.0",
            "_model_name": "LayoutModel",
            "_view_count": null,
            "_view_module": "@jupyter-widgets/base",
            "_view_module_version": "1.2.0",
            "_view_name": "LayoutView",
            "align_content": null,
            "align_items": null,
            "align_self": null,
            "border": null,
            "bottom": null,
            "display": null,
            "flex": null,
            "flex_flow": null,
            "grid_area": null,
            "grid_auto_columns": null,
            "grid_auto_flow": null,
            "grid_auto_rows": null,
            "grid_column": null,
            "grid_gap": null,
            "grid_row": null,
            "grid_template_areas": null,
            "grid_template_columns": null,
            "grid_template_rows": null,
            "height": null,
            "justify_content": null,
            "justify_items": null,
            "left": null,
            "margin": null,
            "max_height": null,
            "max_width": null,
            "min_height": null,
            "min_width": null,
            "object_fit": null,
            "object_position": null,
            "order": null,
            "overflow": null,
            "overflow_x": null,
            "overflow_y": null,
            "padding": null,
            "right": null,
            "top": null,
            "visibility": null,
            "width": null
          }
        },
        "fa971920a1df4517920416f2dba14d6a": {
          "model_module": "@jupyter-widgets/base",
          "model_name": "LayoutModel",
          "model_module_version": "1.2.0",
          "state": {
            "_model_module": "@jupyter-widgets/base",
            "_model_module_version": "1.2.0",
            "_model_name": "LayoutModel",
            "_view_count": null,
            "_view_module": "@jupyter-widgets/base",
            "_view_module_version": "1.2.0",
            "_view_name": "LayoutView",
            "align_content": null,
            "align_items": null,
            "align_self": null,
            "border": null,
            "bottom": null,
            "display": null,
            "flex": null,
            "flex_flow": null,
            "grid_area": null,
            "grid_auto_columns": null,
            "grid_auto_flow": null,
            "grid_auto_rows": null,
            "grid_column": null,
            "grid_gap": null,
            "grid_row": null,
            "grid_template_areas": null,
            "grid_template_columns": null,
            "grid_template_rows": null,
            "height": null,
            "justify_content": null,
            "justify_items": null,
            "left": null,
            "margin": null,
            "max_height": null,
            "max_width": null,
            "min_height": null,
            "min_width": null,
            "object_fit": null,
            "object_position": null,
            "order": null,
            "overflow": null,
            "overflow_x": null,
            "overflow_y": null,
            "padding": null,
            "right": null,
            "top": null,
            "visibility": null,
            "width": null
          }
        },
        "8f8e423cb5a84281bd475d03e0bbdb86": {
          "model_module": "@jupyter-widgets/controls",
          "model_name": "DescriptionStyleModel",
          "model_module_version": "1.5.0",
          "state": {
            "_model_module": "@jupyter-widgets/controls",
            "_model_module_version": "1.5.0",
            "_model_name": "DescriptionStyleModel",
            "_view_count": null,
            "_view_module": "@jupyter-widgets/base",
            "_view_module_version": "1.2.0",
            "_view_name": "StyleView",
            "description_width": ""
          }
        },
        "1ec21b7b306a4d048de24d9fb2f93309": {
          "model_module": "@jupyter-widgets/base",
          "model_name": "LayoutModel",
          "model_module_version": "1.2.0",
          "state": {
            "_model_module": "@jupyter-widgets/base",
            "_model_module_version": "1.2.0",
            "_model_name": "LayoutModel",
            "_view_count": null,
            "_view_module": "@jupyter-widgets/base",
            "_view_module_version": "1.2.0",
            "_view_name": "LayoutView",
            "align_content": null,
            "align_items": null,
            "align_self": null,
            "border": null,
            "bottom": null,
            "display": null,
            "flex": null,
            "flex_flow": null,
            "grid_area": null,
            "grid_auto_columns": null,
            "grid_auto_flow": null,
            "grid_auto_rows": null,
            "grid_column": null,
            "grid_gap": null,
            "grid_row": null,
            "grid_template_areas": null,
            "grid_template_columns": null,
            "grid_template_rows": null,
            "height": null,
            "justify_content": null,
            "justify_items": null,
            "left": null,
            "margin": null,
            "max_height": null,
            "max_width": null,
            "min_height": null,
            "min_width": null,
            "object_fit": null,
            "object_position": null,
            "order": null,
            "overflow": null,
            "overflow_x": null,
            "overflow_y": null,
            "padding": null,
            "right": null,
            "top": null,
            "visibility": null,
            "width": null
          }
        },
        "f1c14fd54c20421a9c3ec4e950c86453": {
          "model_module": "@jupyter-widgets/controls",
          "model_name": "ProgressStyleModel",
          "model_module_version": "1.5.0",
          "state": {
            "_model_module": "@jupyter-widgets/controls",
            "_model_module_version": "1.5.0",
            "_model_name": "ProgressStyleModel",
            "_view_count": null,
            "_view_module": "@jupyter-widgets/base",
            "_view_module_version": "1.2.0",
            "_view_name": "StyleView",
            "bar_color": null,
            "description_width": ""
          }
        },
        "fb6d3edabd194682a29c99d9581fe4bc": {
          "model_module": "@jupyter-widgets/base",
          "model_name": "LayoutModel",
          "model_module_version": "1.2.0",
          "state": {
            "_model_module": "@jupyter-widgets/base",
            "_model_module_version": "1.2.0",
            "_model_name": "LayoutModel",
            "_view_count": null,
            "_view_module": "@jupyter-widgets/base",
            "_view_module_version": "1.2.0",
            "_view_name": "LayoutView",
            "align_content": null,
            "align_items": null,
            "align_self": null,
            "border": null,
            "bottom": null,
            "display": null,
            "flex": null,
            "flex_flow": null,
            "grid_area": null,
            "grid_auto_columns": null,
            "grid_auto_flow": null,
            "grid_auto_rows": null,
            "grid_column": null,
            "grid_gap": null,
            "grid_row": null,
            "grid_template_areas": null,
            "grid_template_columns": null,
            "grid_template_rows": null,
            "height": null,
            "justify_content": null,
            "justify_items": null,
            "left": null,
            "margin": null,
            "max_height": null,
            "max_width": null,
            "min_height": null,
            "min_width": null,
            "object_fit": null,
            "object_position": null,
            "order": null,
            "overflow": null,
            "overflow_x": null,
            "overflow_y": null,
            "padding": null,
            "right": null,
            "top": null,
            "visibility": null,
            "width": null
          }
        },
        "2f6b02030f034cf5a5aa00dc816b32e2": {
          "model_module": "@jupyter-widgets/controls",
          "model_name": "DescriptionStyleModel",
          "model_module_version": "1.5.0",
          "state": {
            "_model_module": "@jupyter-widgets/controls",
            "_model_module_version": "1.5.0",
            "_model_name": "DescriptionStyleModel",
            "_view_count": null,
            "_view_module": "@jupyter-widgets/base",
            "_view_module_version": "1.2.0",
            "_view_name": "StyleView",
            "description_width": ""
          }
        },
        "64c7bab04e314825b84f5fccde551f34": {
          "model_module": "@jupyter-widgets/controls",
          "model_name": "HBoxModel",
          "model_module_version": "1.5.0",
          "state": {
            "_dom_classes": [],
            "_model_module": "@jupyter-widgets/controls",
            "_model_module_version": "1.5.0",
            "_model_name": "HBoxModel",
            "_view_count": null,
            "_view_module": "@jupyter-widgets/controls",
            "_view_module_version": "1.5.0",
            "_view_name": "HBoxView",
            "box_style": "",
            "children": [
              "IPY_MODEL_8c5ad528d39c4b4983f2016ad1c69198",
              "IPY_MODEL_57ff23123681456e89d9823fe5676430",
              "IPY_MODEL_4fffa8d7c1b54a3bb0ffd1db6df171a5"
            ],
            "layout": "IPY_MODEL_f21fb7789d8247cab6e621b9b61ce805"
          }
        },
        "8c5ad528d39c4b4983f2016ad1c69198": {
          "model_module": "@jupyter-widgets/controls",
          "model_name": "HTMLModel",
          "model_module_version": "1.5.0",
          "state": {
            "_dom_classes": [],
            "_model_module": "@jupyter-widgets/controls",
            "_model_module_version": "1.5.0",
            "_model_name": "HTMLModel",
            "_view_count": null,
            "_view_module": "@jupyter-widgets/controls",
            "_view_module_version": "1.5.0",
            "_view_name": "HTMLView",
            "description": "",
            "description_tooltip": null,
            "layout": "IPY_MODEL_1d045261b09a4e3bafde49f5f3d929f0",
            "placeholder": "​",
            "style": "IPY_MODEL_4fd5246762ea45efb68e1b4b9bea5d1d",
            "value": "Downloading (…)okenizer_config.json: 100%"
          }
        },
        "57ff23123681456e89d9823fe5676430": {
          "model_module": "@jupyter-widgets/controls",
          "model_name": "FloatProgressModel",
          "model_module_version": "1.5.0",
          "state": {
            "_dom_classes": [],
            "_model_module": "@jupyter-widgets/controls",
            "_model_module_version": "1.5.0",
            "_model_name": "FloatProgressModel",
            "_view_count": null,
            "_view_module": "@jupyter-widgets/controls",
            "_view_module_version": "1.5.0",
            "_view_name": "ProgressView",
            "bar_style": "success",
            "description": "",
            "description_tooltip": null,
            "layout": "IPY_MODEL_c37f68918bf8457eae1ba9657defcfca",
            "max": 28,
            "min": 0,
            "orientation": "horizontal",
            "style": "IPY_MODEL_fdf7d9d5045b4dfb8d79edc1179ec4b7",
            "value": 28
          }
        },
        "4fffa8d7c1b54a3bb0ffd1db6df171a5": {
          "model_module": "@jupyter-widgets/controls",
          "model_name": "HTMLModel",
          "model_module_version": "1.5.0",
          "state": {
            "_dom_classes": [],
            "_model_module": "@jupyter-widgets/controls",
            "_model_module_version": "1.5.0",
            "_model_name": "HTMLModel",
            "_view_count": null,
            "_view_module": "@jupyter-widgets/controls",
            "_view_module_version": "1.5.0",
            "_view_name": "HTMLView",
            "description": "",
            "description_tooltip": null,
            "layout": "IPY_MODEL_221bd22d6deb4d31abaab5a81d4e2162",
            "placeholder": "​",
            "style": "IPY_MODEL_c77d2a24d2d948729ce5606a9a6c7542",
            "value": " 28.0/28.0 [00:00&lt;00:00, 2.08kB/s]"
          }
        },
        "f21fb7789d8247cab6e621b9b61ce805": {
          "model_module": "@jupyter-widgets/base",
          "model_name": "LayoutModel",
          "model_module_version": "1.2.0",
          "state": {
            "_model_module": "@jupyter-widgets/base",
            "_model_module_version": "1.2.0",
            "_model_name": "LayoutModel",
            "_view_count": null,
            "_view_module": "@jupyter-widgets/base",
            "_view_module_version": "1.2.0",
            "_view_name": "LayoutView",
            "align_content": null,
            "align_items": null,
            "align_self": null,
            "border": null,
            "bottom": null,
            "display": null,
            "flex": null,
            "flex_flow": null,
            "grid_area": null,
            "grid_auto_columns": null,
            "grid_auto_flow": null,
            "grid_auto_rows": null,
            "grid_column": null,
            "grid_gap": null,
            "grid_row": null,
            "grid_template_areas": null,
            "grid_template_columns": null,
            "grid_template_rows": null,
            "height": null,
            "justify_content": null,
            "justify_items": null,
            "left": null,
            "margin": null,
            "max_height": null,
            "max_width": null,
            "min_height": null,
            "min_width": null,
            "object_fit": null,
            "object_position": null,
            "order": null,
            "overflow": null,
            "overflow_x": null,
            "overflow_y": null,
            "padding": null,
            "right": null,
            "top": null,
            "visibility": null,
            "width": null
          }
        },
        "1d045261b09a4e3bafde49f5f3d929f0": {
          "model_module": "@jupyter-widgets/base",
          "model_name": "LayoutModel",
          "model_module_version": "1.2.0",
          "state": {
            "_model_module": "@jupyter-widgets/base",
            "_model_module_version": "1.2.0",
            "_model_name": "LayoutModel",
            "_view_count": null,
            "_view_module": "@jupyter-widgets/base",
            "_view_module_version": "1.2.0",
            "_view_name": "LayoutView",
            "align_content": null,
            "align_items": null,
            "align_self": null,
            "border": null,
            "bottom": null,
            "display": null,
            "flex": null,
            "flex_flow": null,
            "grid_area": null,
            "grid_auto_columns": null,
            "grid_auto_flow": null,
            "grid_auto_rows": null,
            "grid_column": null,
            "grid_gap": null,
            "grid_row": null,
            "grid_template_areas": null,
            "grid_template_columns": null,
            "grid_template_rows": null,
            "height": null,
            "justify_content": null,
            "justify_items": null,
            "left": null,
            "margin": null,
            "max_height": null,
            "max_width": null,
            "min_height": null,
            "min_width": null,
            "object_fit": null,
            "object_position": null,
            "order": null,
            "overflow": null,
            "overflow_x": null,
            "overflow_y": null,
            "padding": null,
            "right": null,
            "top": null,
            "visibility": null,
            "width": null
          }
        },
        "4fd5246762ea45efb68e1b4b9bea5d1d": {
          "model_module": "@jupyter-widgets/controls",
          "model_name": "DescriptionStyleModel",
          "model_module_version": "1.5.0",
          "state": {
            "_model_module": "@jupyter-widgets/controls",
            "_model_module_version": "1.5.0",
            "_model_name": "DescriptionStyleModel",
            "_view_count": null,
            "_view_module": "@jupyter-widgets/base",
            "_view_module_version": "1.2.0",
            "_view_name": "StyleView",
            "description_width": ""
          }
        },
        "c37f68918bf8457eae1ba9657defcfca": {
          "model_module": "@jupyter-widgets/base",
          "model_name": "LayoutModel",
          "model_module_version": "1.2.0",
          "state": {
            "_model_module": "@jupyter-widgets/base",
            "_model_module_version": "1.2.0",
            "_model_name": "LayoutModel",
            "_view_count": null,
            "_view_module": "@jupyter-widgets/base",
            "_view_module_version": "1.2.0",
            "_view_name": "LayoutView",
            "align_content": null,
            "align_items": null,
            "align_self": null,
            "border": null,
            "bottom": null,
            "display": null,
            "flex": null,
            "flex_flow": null,
            "grid_area": null,
            "grid_auto_columns": null,
            "grid_auto_flow": null,
            "grid_auto_rows": null,
            "grid_column": null,
            "grid_gap": null,
            "grid_row": null,
            "grid_template_areas": null,
            "grid_template_columns": null,
            "grid_template_rows": null,
            "height": null,
            "justify_content": null,
            "justify_items": null,
            "left": null,
            "margin": null,
            "max_height": null,
            "max_width": null,
            "min_height": null,
            "min_width": null,
            "object_fit": null,
            "object_position": null,
            "order": null,
            "overflow": null,
            "overflow_x": null,
            "overflow_y": null,
            "padding": null,
            "right": null,
            "top": null,
            "visibility": null,
            "width": null
          }
        },
        "fdf7d9d5045b4dfb8d79edc1179ec4b7": {
          "model_module": "@jupyter-widgets/controls",
          "model_name": "ProgressStyleModel",
          "model_module_version": "1.5.0",
          "state": {
            "_model_module": "@jupyter-widgets/controls",
            "_model_module_version": "1.5.0",
            "_model_name": "ProgressStyleModel",
            "_view_count": null,
            "_view_module": "@jupyter-widgets/base",
            "_view_module_version": "1.2.0",
            "_view_name": "StyleView",
            "bar_color": null,
            "description_width": ""
          }
        },
        "221bd22d6deb4d31abaab5a81d4e2162": {
          "model_module": "@jupyter-widgets/base",
          "model_name": "LayoutModel",
          "model_module_version": "1.2.0",
          "state": {
            "_model_module": "@jupyter-widgets/base",
            "_model_module_version": "1.2.0",
            "_model_name": "LayoutModel",
            "_view_count": null,
            "_view_module": "@jupyter-widgets/base",
            "_view_module_version": "1.2.0",
            "_view_name": "LayoutView",
            "align_content": null,
            "align_items": null,
            "align_self": null,
            "border": null,
            "bottom": null,
            "display": null,
            "flex": null,
            "flex_flow": null,
            "grid_area": null,
            "grid_auto_columns": null,
            "grid_auto_flow": null,
            "grid_auto_rows": null,
            "grid_column": null,
            "grid_gap": null,
            "grid_row": null,
            "grid_template_areas": null,
            "grid_template_columns": null,
            "grid_template_rows": null,
            "height": null,
            "justify_content": null,
            "justify_items": null,
            "left": null,
            "margin": null,
            "max_height": null,
            "max_width": null,
            "min_height": null,
            "min_width": null,
            "object_fit": null,
            "object_position": null,
            "order": null,
            "overflow": null,
            "overflow_x": null,
            "overflow_y": null,
            "padding": null,
            "right": null,
            "top": null,
            "visibility": null,
            "width": null
          }
        },
        "c77d2a24d2d948729ce5606a9a6c7542": {
          "model_module": "@jupyter-widgets/controls",
          "model_name": "DescriptionStyleModel",
          "model_module_version": "1.5.0",
          "state": {
            "_model_module": "@jupyter-widgets/controls",
            "_model_module_version": "1.5.0",
            "_model_name": "DescriptionStyleModel",
            "_view_count": null,
            "_view_module": "@jupyter-widgets/base",
            "_view_module_version": "1.2.0",
            "_view_name": "StyleView",
            "description_width": ""
          }
        },
        "45ddc0efd2414fdea21398668fa7b16d": {
          "model_module": "@jupyter-widgets/controls",
          "model_name": "HBoxModel",
          "model_module_version": "1.5.0",
          "state": {
            "_dom_classes": [],
            "_model_module": "@jupyter-widgets/controls",
            "_model_module_version": "1.5.0",
            "_model_name": "HBoxModel",
            "_view_count": null,
            "_view_module": "@jupyter-widgets/controls",
            "_view_module_version": "1.5.0",
            "_view_name": "HBoxView",
            "box_style": "",
            "children": [
              "IPY_MODEL_ad59a5375df44cc8b8b8beb27e54d855",
              "IPY_MODEL_87ae8fd9ff2545b7bdc34b0207dd3d83",
              "IPY_MODEL_eb3d5728de3342bab2e5d4b6071b58a3"
            ],
            "layout": "IPY_MODEL_765f1f513586431bb1e73ccd5e775d4d"
          }
        },
        "ad59a5375df44cc8b8b8beb27e54d855": {
          "model_module": "@jupyter-widgets/controls",
          "model_name": "HTMLModel",
          "model_module_version": "1.5.0",
          "state": {
            "_dom_classes": [],
            "_model_module": "@jupyter-widgets/controls",
            "_model_module_version": "1.5.0",
            "_model_name": "HTMLModel",
            "_view_count": null,
            "_view_module": "@jupyter-widgets/controls",
            "_view_module_version": "1.5.0",
            "_view_name": "HTMLView",
            "description": "",
            "description_tooltip": null,
            "layout": "IPY_MODEL_1a048f551956435fbe08fdaedbf1ac1b",
            "placeholder": "​",
            "style": "IPY_MODEL_faaa577e470e4c26813012dd8f86d170",
            "value": "Downloading (…)lve/main/config.json: 100%"
          }
        },
        "87ae8fd9ff2545b7bdc34b0207dd3d83": {
          "model_module": "@jupyter-widgets/controls",
          "model_name": "FloatProgressModel",
          "model_module_version": "1.5.0",
          "state": {
            "_dom_classes": [],
            "_model_module": "@jupyter-widgets/controls",
            "_model_module_version": "1.5.0",
            "_model_name": "FloatProgressModel",
            "_view_count": null,
            "_view_module": "@jupyter-widgets/controls",
            "_view_module_version": "1.5.0",
            "_view_name": "ProgressView",
            "bar_style": "success",
            "description": "",
            "description_tooltip": null,
            "layout": "IPY_MODEL_bbcadb394bf3491b9fa13f0d92e36a4d",
            "max": 492,
            "min": 0,
            "orientation": "horizontal",
            "style": "IPY_MODEL_8ed908c26c9d4516a938f08f242d3edc",
            "value": 492
          }
        },
        "eb3d5728de3342bab2e5d4b6071b58a3": {
          "model_module": "@jupyter-widgets/controls",
          "model_name": "HTMLModel",
          "model_module_version": "1.5.0",
          "state": {
            "_dom_classes": [],
            "_model_module": "@jupyter-widgets/controls",
            "_model_module_version": "1.5.0",
            "_model_name": "HTMLModel",
            "_view_count": null,
            "_view_module": "@jupyter-widgets/controls",
            "_view_module_version": "1.5.0",
            "_view_name": "HTMLView",
            "description": "",
            "description_tooltip": null,
            "layout": "IPY_MODEL_ce4e1b8f6c724d04bdcb2bbcad615bda",
            "placeholder": "​",
            "style": "IPY_MODEL_a5bbc7ad9f134aec915fe9600132b248",
            "value": " 492/492 [00:00&lt;00:00, 13.6kB/s]"
          }
        },
        "765f1f513586431bb1e73ccd5e775d4d": {
          "model_module": "@jupyter-widgets/base",
          "model_name": "LayoutModel",
          "model_module_version": "1.2.0",
          "state": {
            "_model_module": "@jupyter-widgets/base",
            "_model_module_version": "1.2.0",
            "_model_name": "LayoutModel",
            "_view_count": null,
            "_view_module": "@jupyter-widgets/base",
            "_view_module_version": "1.2.0",
            "_view_name": "LayoutView",
            "align_content": null,
            "align_items": null,
            "align_self": null,
            "border": null,
            "bottom": null,
            "display": null,
            "flex": null,
            "flex_flow": null,
            "grid_area": null,
            "grid_auto_columns": null,
            "grid_auto_flow": null,
            "grid_auto_rows": null,
            "grid_column": null,
            "grid_gap": null,
            "grid_row": null,
            "grid_template_areas": null,
            "grid_template_columns": null,
            "grid_template_rows": null,
            "height": null,
            "justify_content": null,
            "justify_items": null,
            "left": null,
            "margin": null,
            "max_height": null,
            "max_width": null,
            "min_height": null,
            "min_width": null,
            "object_fit": null,
            "object_position": null,
            "order": null,
            "overflow": null,
            "overflow_x": null,
            "overflow_y": null,
            "padding": null,
            "right": null,
            "top": null,
            "visibility": null,
            "width": null
          }
        },
        "1a048f551956435fbe08fdaedbf1ac1b": {
          "model_module": "@jupyter-widgets/base",
          "model_name": "LayoutModel",
          "model_module_version": "1.2.0",
          "state": {
            "_model_module": "@jupyter-widgets/base",
            "_model_module_version": "1.2.0",
            "_model_name": "LayoutModel",
            "_view_count": null,
            "_view_module": "@jupyter-widgets/base",
            "_view_module_version": "1.2.0",
            "_view_name": "LayoutView",
            "align_content": null,
            "align_items": null,
            "align_self": null,
            "border": null,
            "bottom": null,
            "display": null,
            "flex": null,
            "flex_flow": null,
            "grid_area": null,
            "grid_auto_columns": null,
            "grid_auto_flow": null,
            "grid_auto_rows": null,
            "grid_column": null,
            "grid_gap": null,
            "grid_row": null,
            "grid_template_areas": null,
            "grid_template_columns": null,
            "grid_template_rows": null,
            "height": null,
            "justify_content": null,
            "justify_items": null,
            "left": null,
            "margin": null,
            "max_height": null,
            "max_width": null,
            "min_height": null,
            "min_width": null,
            "object_fit": null,
            "object_position": null,
            "order": null,
            "overflow": null,
            "overflow_x": null,
            "overflow_y": null,
            "padding": null,
            "right": null,
            "top": null,
            "visibility": null,
            "width": null
          }
        },
        "faaa577e470e4c26813012dd8f86d170": {
          "model_module": "@jupyter-widgets/controls",
          "model_name": "DescriptionStyleModel",
          "model_module_version": "1.5.0",
          "state": {
            "_model_module": "@jupyter-widgets/controls",
            "_model_module_version": "1.5.0",
            "_model_name": "DescriptionStyleModel",
            "_view_count": null,
            "_view_module": "@jupyter-widgets/base",
            "_view_module_version": "1.2.0",
            "_view_name": "StyleView",
            "description_width": ""
          }
        },
        "bbcadb394bf3491b9fa13f0d92e36a4d": {
          "model_module": "@jupyter-widgets/base",
          "model_name": "LayoutModel",
          "model_module_version": "1.2.0",
          "state": {
            "_model_module": "@jupyter-widgets/base",
            "_model_module_version": "1.2.0",
            "_model_name": "LayoutModel",
            "_view_count": null,
            "_view_module": "@jupyter-widgets/base",
            "_view_module_version": "1.2.0",
            "_view_name": "LayoutView",
            "align_content": null,
            "align_items": null,
            "align_self": null,
            "border": null,
            "bottom": null,
            "display": null,
            "flex": null,
            "flex_flow": null,
            "grid_area": null,
            "grid_auto_columns": null,
            "grid_auto_flow": null,
            "grid_auto_rows": null,
            "grid_column": null,
            "grid_gap": null,
            "grid_row": null,
            "grid_template_areas": null,
            "grid_template_columns": null,
            "grid_template_rows": null,
            "height": null,
            "justify_content": null,
            "justify_items": null,
            "left": null,
            "margin": null,
            "max_height": null,
            "max_width": null,
            "min_height": null,
            "min_width": null,
            "object_fit": null,
            "object_position": null,
            "order": null,
            "overflow": null,
            "overflow_x": null,
            "overflow_y": null,
            "padding": null,
            "right": null,
            "top": null,
            "visibility": null,
            "width": null
          }
        },
        "8ed908c26c9d4516a938f08f242d3edc": {
          "model_module": "@jupyter-widgets/controls",
          "model_name": "ProgressStyleModel",
          "model_module_version": "1.5.0",
          "state": {
            "_model_module": "@jupyter-widgets/controls",
            "_model_module_version": "1.5.0",
            "_model_name": "ProgressStyleModel",
            "_view_count": null,
            "_view_module": "@jupyter-widgets/base",
            "_view_module_version": "1.2.0",
            "_view_name": "StyleView",
            "bar_color": null,
            "description_width": ""
          }
        },
        "ce4e1b8f6c724d04bdcb2bbcad615bda": {
          "model_module": "@jupyter-widgets/base",
          "model_name": "LayoutModel",
          "model_module_version": "1.2.0",
          "state": {
            "_model_module": "@jupyter-widgets/base",
            "_model_module_version": "1.2.0",
            "_model_name": "LayoutModel",
            "_view_count": null,
            "_view_module": "@jupyter-widgets/base",
            "_view_module_version": "1.2.0",
            "_view_name": "LayoutView",
            "align_content": null,
            "align_items": null,
            "align_self": null,
            "border": null,
            "bottom": null,
            "display": null,
            "flex": null,
            "flex_flow": null,
            "grid_area": null,
            "grid_auto_columns": null,
            "grid_auto_flow": null,
            "grid_auto_rows": null,
            "grid_column": null,
            "grid_gap": null,
            "grid_row": null,
            "grid_template_areas": null,
            "grid_template_columns": null,
            "grid_template_rows": null,
            "height": null,
            "justify_content": null,
            "justify_items": null,
            "left": null,
            "margin": null,
            "max_height": null,
            "max_width": null,
            "min_height": null,
            "min_width": null,
            "object_fit": null,
            "object_position": null,
            "order": null,
            "overflow": null,
            "overflow_x": null,
            "overflow_y": null,
            "padding": null,
            "right": null,
            "top": null,
            "visibility": null,
            "width": null
          }
        },
        "a5bbc7ad9f134aec915fe9600132b248": {
          "model_module": "@jupyter-widgets/controls",
          "model_name": "DescriptionStyleModel",
          "model_module_version": "1.5.0",
          "state": {
            "_model_module": "@jupyter-widgets/controls",
            "_model_module_version": "1.5.0",
            "_model_name": "DescriptionStyleModel",
            "_view_count": null,
            "_view_module": "@jupyter-widgets/base",
            "_view_module_version": "1.2.0",
            "_view_name": "StyleView",
            "description_width": ""
          }
        },
        "8f7e3cf9b95c4fd0b31aa0ed0201c833": {
          "model_module": "@jupyter-widgets/controls",
          "model_name": "HBoxModel",
          "model_module_version": "1.5.0",
          "state": {
            "_dom_classes": [],
            "_model_module": "@jupyter-widgets/controls",
            "_model_module_version": "1.5.0",
            "_model_name": "HBoxModel",
            "_view_count": null,
            "_view_module": "@jupyter-widgets/controls",
            "_view_module_version": "1.5.0",
            "_view_name": "HBoxView",
            "box_style": "",
            "children": [
              "IPY_MODEL_0c95fb63341740bfbc9022c2952018b3",
              "IPY_MODEL_10f48ac2362c4bd2948a0ab92dbb4321",
              "IPY_MODEL_c4affc8480e04e9e949f8aadf6a13cb3"
            ],
            "layout": "IPY_MODEL_df4db7a0f7a343679cf50565476c2215"
          }
        },
        "0c95fb63341740bfbc9022c2952018b3": {
          "model_module": "@jupyter-widgets/controls",
          "model_name": "HTMLModel",
          "model_module_version": "1.5.0",
          "state": {
            "_dom_classes": [],
            "_model_module": "@jupyter-widgets/controls",
            "_model_module_version": "1.5.0",
            "_model_name": "HTMLModel",
            "_view_count": null,
            "_view_module": "@jupyter-widgets/controls",
            "_view_module_version": "1.5.0",
            "_view_name": "HTMLView",
            "description": "",
            "description_tooltip": null,
            "layout": "IPY_MODEL_f4675bb2dc6848c4a8a729b7cbb3925e",
            "placeholder": "​",
            "style": "IPY_MODEL_eefce0b328ac48d3b097fd1e476d288f",
            "value": "Downloading (…)solve/main/vocab.txt: 100%"
          }
        },
        "10f48ac2362c4bd2948a0ab92dbb4321": {
          "model_module": "@jupyter-widgets/controls",
          "model_name": "FloatProgressModel",
          "model_module_version": "1.5.0",
          "state": {
            "_dom_classes": [],
            "_model_module": "@jupyter-widgets/controls",
            "_model_module_version": "1.5.0",
            "_model_name": "FloatProgressModel",
            "_view_count": null,
            "_view_module": "@jupyter-widgets/controls",
            "_view_module_version": "1.5.0",
            "_view_name": "ProgressView",
            "bar_style": "success",
            "description": "",
            "description_tooltip": null,
            "layout": "IPY_MODEL_bf98198198954402bc6378159d15cf99",
            "max": 231508,
            "min": 0,
            "orientation": "horizontal",
            "style": "IPY_MODEL_59b0b439fa2648ad9c92326a384c4da3",
            "value": 231508
          }
        },
        "c4affc8480e04e9e949f8aadf6a13cb3": {
          "model_module": "@jupyter-widgets/controls",
          "model_name": "HTMLModel",
          "model_module_version": "1.5.0",
          "state": {
            "_dom_classes": [],
            "_model_module": "@jupyter-widgets/controls",
            "_model_module_version": "1.5.0",
            "_model_name": "HTMLModel",
            "_view_count": null,
            "_view_module": "@jupyter-widgets/controls",
            "_view_module_version": "1.5.0",
            "_view_name": "HTMLView",
            "description": "",
            "description_tooltip": null,
            "layout": "IPY_MODEL_ace0cd36e2ef476e9d32174bccf5e9f5",
            "placeholder": "​",
            "style": "IPY_MODEL_3d6d04cd78444f05a40abf88fc295534",
            "value": " 232k/232k [00:00&lt;00:00, 4.98MB/s]"
          }
        },
        "df4db7a0f7a343679cf50565476c2215": {
          "model_module": "@jupyter-widgets/base",
          "model_name": "LayoutModel",
          "model_module_version": "1.2.0",
          "state": {
            "_model_module": "@jupyter-widgets/base",
            "_model_module_version": "1.2.0",
            "_model_name": "LayoutModel",
            "_view_count": null,
            "_view_module": "@jupyter-widgets/base",
            "_view_module_version": "1.2.0",
            "_view_name": "LayoutView",
            "align_content": null,
            "align_items": null,
            "align_self": null,
            "border": null,
            "bottom": null,
            "display": null,
            "flex": null,
            "flex_flow": null,
            "grid_area": null,
            "grid_auto_columns": null,
            "grid_auto_flow": null,
            "grid_auto_rows": null,
            "grid_column": null,
            "grid_gap": null,
            "grid_row": null,
            "grid_template_areas": null,
            "grid_template_columns": null,
            "grid_template_rows": null,
            "height": null,
            "justify_content": null,
            "justify_items": null,
            "left": null,
            "margin": null,
            "max_height": null,
            "max_width": null,
            "min_height": null,
            "min_width": null,
            "object_fit": null,
            "object_position": null,
            "order": null,
            "overflow": null,
            "overflow_x": null,
            "overflow_y": null,
            "padding": null,
            "right": null,
            "top": null,
            "visibility": null,
            "width": null
          }
        },
        "f4675bb2dc6848c4a8a729b7cbb3925e": {
          "model_module": "@jupyter-widgets/base",
          "model_name": "LayoutModel",
          "model_module_version": "1.2.0",
          "state": {
            "_model_module": "@jupyter-widgets/base",
            "_model_module_version": "1.2.0",
            "_model_name": "LayoutModel",
            "_view_count": null,
            "_view_module": "@jupyter-widgets/base",
            "_view_module_version": "1.2.0",
            "_view_name": "LayoutView",
            "align_content": null,
            "align_items": null,
            "align_self": null,
            "border": null,
            "bottom": null,
            "display": null,
            "flex": null,
            "flex_flow": null,
            "grid_area": null,
            "grid_auto_columns": null,
            "grid_auto_flow": null,
            "grid_auto_rows": null,
            "grid_column": null,
            "grid_gap": null,
            "grid_row": null,
            "grid_template_areas": null,
            "grid_template_columns": null,
            "grid_template_rows": null,
            "height": null,
            "justify_content": null,
            "justify_items": null,
            "left": null,
            "margin": null,
            "max_height": null,
            "max_width": null,
            "min_height": null,
            "min_width": null,
            "object_fit": null,
            "object_position": null,
            "order": null,
            "overflow": null,
            "overflow_x": null,
            "overflow_y": null,
            "padding": null,
            "right": null,
            "top": null,
            "visibility": null,
            "width": null
          }
        },
        "eefce0b328ac48d3b097fd1e476d288f": {
          "model_module": "@jupyter-widgets/controls",
          "model_name": "DescriptionStyleModel",
          "model_module_version": "1.5.0",
          "state": {
            "_model_module": "@jupyter-widgets/controls",
            "_model_module_version": "1.5.0",
            "_model_name": "DescriptionStyleModel",
            "_view_count": null,
            "_view_module": "@jupyter-widgets/base",
            "_view_module_version": "1.2.0",
            "_view_name": "StyleView",
            "description_width": ""
          }
        },
        "bf98198198954402bc6378159d15cf99": {
          "model_module": "@jupyter-widgets/base",
          "model_name": "LayoutModel",
          "model_module_version": "1.2.0",
          "state": {
            "_model_module": "@jupyter-widgets/base",
            "_model_module_version": "1.2.0",
            "_model_name": "LayoutModel",
            "_view_count": null,
            "_view_module": "@jupyter-widgets/base",
            "_view_module_version": "1.2.0",
            "_view_name": "LayoutView",
            "align_content": null,
            "align_items": null,
            "align_self": null,
            "border": null,
            "bottom": null,
            "display": null,
            "flex": null,
            "flex_flow": null,
            "grid_area": null,
            "grid_auto_columns": null,
            "grid_auto_flow": null,
            "grid_auto_rows": null,
            "grid_column": null,
            "grid_gap": null,
            "grid_row": null,
            "grid_template_areas": null,
            "grid_template_columns": null,
            "grid_template_rows": null,
            "height": null,
            "justify_content": null,
            "justify_items": null,
            "left": null,
            "margin": null,
            "max_height": null,
            "max_width": null,
            "min_height": null,
            "min_width": null,
            "object_fit": null,
            "object_position": null,
            "order": null,
            "overflow": null,
            "overflow_x": null,
            "overflow_y": null,
            "padding": null,
            "right": null,
            "top": null,
            "visibility": null,
            "width": null
          }
        },
        "59b0b439fa2648ad9c92326a384c4da3": {
          "model_module": "@jupyter-widgets/controls",
          "model_name": "ProgressStyleModel",
          "model_module_version": "1.5.0",
          "state": {
            "_model_module": "@jupyter-widgets/controls",
            "_model_module_version": "1.5.0",
            "_model_name": "ProgressStyleModel",
            "_view_count": null,
            "_view_module": "@jupyter-widgets/base",
            "_view_module_version": "1.2.0",
            "_view_name": "StyleView",
            "bar_color": null,
            "description_width": ""
          }
        },
        "ace0cd36e2ef476e9d32174bccf5e9f5": {
          "model_module": "@jupyter-widgets/base",
          "model_name": "LayoutModel",
          "model_module_version": "1.2.0",
          "state": {
            "_model_module": "@jupyter-widgets/base",
            "_model_module_version": "1.2.0",
            "_model_name": "LayoutModel",
            "_view_count": null,
            "_view_module": "@jupyter-widgets/base",
            "_view_module_version": "1.2.0",
            "_view_name": "LayoutView",
            "align_content": null,
            "align_items": null,
            "align_self": null,
            "border": null,
            "bottom": null,
            "display": null,
            "flex": null,
            "flex_flow": null,
            "grid_area": null,
            "grid_auto_columns": null,
            "grid_auto_flow": null,
            "grid_auto_rows": null,
            "grid_column": null,
            "grid_gap": null,
            "grid_row": null,
            "grid_template_areas": null,
            "grid_template_columns": null,
            "grid_template_rows": null,
            "height": null,
            "justify_content": null,
            "justify_items": null,
            "left": null,
            "margin": null,
            "max_height": null,
            "max_width": null,
            "min_height": null,
            "min_width": null,
            "object_fit": null,
            "object_position": null,
            "order": null,
            "overflow": null,
            "overflow_x": null,
            "overflow_y": null,
            "padding": null,
            "right": null,
            "top": null,
            "visibility": null,
            "width": null
          }
        },
        "3d6d04cd78444f05a40abf88fc295534": {
          "model_module": "@jupyter-widgets/controls",
          "model_name": "DescriptionStyleModel",
          "model_module_version": "1.5.0",
          "state": {
            "_model_module": "@jupyter-widgets/controls",
            "_model_module_version": "1.5.0",
            "_model_name": "DescriptionStyleModel",
            "_view_count": null,
            "_view_module": "@jupyter-widgets/base",
            "_view_module_version": "1.2.0",
            "_view_name": "StyleView",
            "description_width": ""
          }
        },
        "904277d69e754b8bb9850bbb118f1984": {
          "model_module": "@jupyter-widgets/controls",
          "model_name": "HBoxModel",
          "model_module_version": "1.5.0",
          "state": {
            "_dom_classes": [],
            "_model_module": "@jupyter-widgets/controls",
            "_model_module_version": "1.5.0",
            "_model_name": "HBoxModel",
            "_view_count": null,
            "_view_module": "@jupyter-widgets/controls",
            "_view_module_version": "1.5.0",
            "_view_name": "HBoxView",
            "box_style": "",
            "children": [
              "IPY_MODEL_003ecd4f0c8f496da6b3b06e07c04d2d",
              "IPY_MODEL_a42d57b9029642f78332f06c66283a3e",
              "IPY_MODEL_fa749e631dc14877a171230aff211f35"
            ],
            "layout": "IPY_MODEL_e48c786d5ed84117bc8bc0d08120db5f"
          }
        },
        "003ecd4f0c8f496da6b3b06e07c04d2d": {
          "model_module": "@jupyter-widgets/controls",
          "model_name": "HTMLModel",
          "model_module_version": "1.5.0",
          "state": {
            "_dom_classes": [],
            "_model_module": "@jupyter-widgets/controls",
            "_model_module_version": "1.5.0",
            "_model_name": "HTMLModel",
            "_view_count": null,
            "_view_module": "@jupyter-widgets/controls",
            "_view_module_version": "1.5.0",
            "_view_name": "HTMLView",
            "description": "",
            "description_tooltip": null,
            "layout": "IPY_MODEL_2c5711f4694d47fa945bcaff6115697f",
            "placeholder": "​",
            "style": "IPY_MODEL_e19e2061aaf748cc9c792dc4c3b37ffe",
            "value": "Downloading (…)/main/tokenizer.json: 100%"
          }
        },
        "a42d57b9029642f78332f06c66283a3e": {
          "model_module": "@jupyter-widgets/controls",
          "model_name": "FloatProgressModel",
          "model_module_version": "1.5.0",
          "state": {
            "_dom_classes": [],
            "_model_module": "@jupyter-widgets/controls",
            "_model_module_version": "1.5.0",
            "_model_name": "FloatProgressModel",
            "_view_count": null,
            "_view_module": "@jupyter-widgets/controls",
            "_view_module_version": "1.5.0",
            "_view_name": "ProgressView",
            "bar_style": "success",
            "description": "",
            "description_tooltip": null,
            "layout": "IPY_MODEL_b9ffd0e504674fee9c632da442da4e6e",
            "max": 466062,
            "min": 0,
            "orientation": "horizontal",
            "style": "IPY_MODEL_ad86183210a849968a46b727865f4bf0",
            "value": 466062
          }
        },
        "fa749e631dc14877a171230aff211f35": {
          "model_module": "@jupyter-widgets/controls",
          "model_name": "HTMLModel",
          "model_module_version": "1.5.0",
          "state": {
            "_dom_classes": [],
            "_model_module": "@jupyter-widgets/controls",
            "_model_module_version": "1.5.0",
            "_model_name": "HTMLModel",
            "_view_count": null,
            "_view_module": "@jupyter-widgets/controls",
            "_view_module_version": "1.5.0",
            "_view_name": "HTMLView",
            "description": "",
            "description_tooltip": null,
            "layout": "IPY_MODEL_57c3208312a441b6b5e24433a01f6838",
            "placeholder": "​",
            "style": "IPY_MODEL_bacd730cad8c4cbfa500d41bb0aec6f2",
            "value": " 466k/466k [00:00&lt;00:00, 12.3MB/s]"
          }
        },
        "e48c786d5ed84117bc8bc0d08120db5f": {
          "model_module": "@jupyter-widgets/base",
          "model_name": "LayoutModel",
          "model_module_version": "1.2.0",
          "state": {
            "_model_module": "@jupyter-widgets/base",
            "_model_module_version": "1.2.0",
            "_model_name": "LayoutModel",
            "_view_count": null,
            "_view_module": "@jupyter-widgets/base",
            "_view_module_version": "1.2.0",
            "_view_name": "LayoutView",
            "align_content": null,
            "align_items": null,
            "align_self": null,
            "border": null,
            "bottom": null,
            "display": null,
            "flex": null,
            "flex_flow": null,
            "grid_area": null,
            "grid_auto_columns": null,
            "grid_auto_flow": null,
            "grid_auto_rows": null,
            "grid_column": null,
            "grid_gap": null,
            "grid_row": null,
            "grid_template_areas": null,
            "grid_template_columns": null,
            "grid_template_rows": null,
            "height": null,
            "justify_content": null,
            "justify_items": null,
            "left": null,
            "margin": null,
            "max_height": null,
            "max_width": null,
            "min_height": null,
            "min_width": null,
            "object_fit": null,
            "object_position": null,
            "order": null,
            "overflow": null,
            "overflow_x": null,
            "overflow_y": null,
            "padding": null,
            "right": null,
            "top": null,
            "visibility": null,
            "width": null
          }
        },
        "2c5711f4694d47fa945bcaff6115697f": {
          "model_module": "@jupyter-widgets/base",
          "model_name": "LayoutModel",
          "model_module_version": "1.2.0",
          "state": {
            "_model_module": "@jupyter-widgets/base",
            "_model_module_version": "1.2.0",
            "_model_name": "LayoutModel",
            "_view_count": null,
            "_view_module": "@jupyter-widgets/base",
            "_view_module_version": "1.2.0",
            "_view_name": "LayoutView",
            "align_content": null,
            "align_items": null,
            "align_self": null,
            "border": null,
            "bottom": null,
            "display": null,
            "flex": null,
            "flex_flow": null,
            "grid_area": null,
            "grid_auto_columns": null,
            "grid_auto_flow": null,
            "grid_auto_rows": null,
            "grid_column": null,
            "grid_gap": null,
            "grid_row": null,
            "grid_template_areas": null,
            "grid_template_columns": null,
            "grid_template_rows": null,
            "height": null,
            "justify_content": null,
            "justify_items": null,
            "left": null,
            "margin": null,
            "max_height": null,
            "max_width": null,
            "min_height": null,
            "min_width": null,
            "object_fit": null,
            "object_position": null,
            "order": null,
            "overflow": null,
            "overflow_x": null,
            "overflow_y": null,
            "padding": null,
            "right": null,
            "top": null,
            "visibility": null,
            "width": null
          }
        },
        "e19e2061aaf748cc9c792dc4c3b37ffe": {
          "model_module": "@jupyter-widgets/controls",
          "model_name": "DescriptionStyleModel",
          "model_module_version": "1.5.0",
          "state": {
            "_model_module": "@jupyter-widgets/controls",
            "_model_module_version": "1.5.0",
            "_model_name": "DescriptionStyleModel",
            "_view_count": null,
            "_view_module": "@jupyter-widgets/base",
            "_view_module_version": "1.2.0",
            "_view_name": "StyleView",
            "description_width": ""
          }
        },
        "b9ffd0e504674fee9c632da442da4e6e": {
          "model_module": "@jupyter-widgets/base",
          "model_name": "LayoutModel",
          "model_module_version": "1.2.0",
          "state": {
            "_model_module": "@jupyter-widgets/base",
            "_model_module_version": "1.2.0",
            "_model_name": "LayoutModel",
            "_view_count": null,
            "_view_module": "@jupyter-widgets/base",
            "_view_module_version": "1.2.0",
            "_view_name": "LayoutView",
            "align_content": null,
            "align_items": null,
            "align_self": null,
            "border": null,
            "bottom": null,
            "display": null,
            "flex": null,
            "flex_flow": null,
            "grid_area": null,
            "grid_auto_columns": null,
            "grid_auto_flow": null,
            "grid_auto_rows": null,
            "grid_column": null,
            "grid_gap": null,
            "grid_row": null,
            "grid_template_areas": null,
            "grid_template_columns": null,
            "grid_template_rows": null,
            "height": null,
            "justify_content": null,
            "justify_items": null,
            "left": null,
            "margin": null,
            "max_height": null,
            "max_width": null,
            "min_height": null,
            "min_width": null,
            "object_fit": null,
            "object_position": null,
            "order": null,
            "overflow": null,
            "overflow_x": null,
            "overflow_y": null,
            "padding": null,
            "right": null,
            "top": null,
            "visibility": null,
            "width": null
          }
        },
        "ad86183210a849968a46b727865f4bf0": {
          "model_module": "@jupyter-widgets/controls",
          "model_name": "ProgressStyleModel",
          "model_module_version": "1.5.0",
          "state": {
            "_model_module": "@jupyter-widgets/controls",
            "_model_module_version": "1.5.0",
            "_model_name": "ProgressStyleModel",
            "_view_count": null,
            "_view_module": "@jupyter-widgets/base",
            "_view_module_version": "1.2.0",
            "_view_name": "StyleView",
            "bar_color": null,
            "description_width": ""
          }
        },
        "57c3208312a441b6b5e24433a01f6838": {
          "model_module": "@jupyter-widgets/base",
          "model_name": "LayoutModel",
          "model_module_version": "1.2.0",
          "state": {
            "_model_module": "@jupyter-widgets/base",
            "_model_module_version": "1.2.0",
            "_model_name": "LayoutModel",
            "_view_count": null,
            "_view_module": "@jupyter-widgets/base",
            "_view_module_version": "1.2.0",
            "_view_name": "LayoutView",
            "align_content": null,
            "align_items": null,
            "align_self": null,
            "border": null,
            "bottom": null,
            "display": null,
            "flex": null,
            "flex_flow": null,
            "grid_area": null,
            "grid_auto_columns": null,
            "grid_auto_flow": null,
            "grid_auto_rows": null,
            "grid_column": null,
            "grid_gap": null,
            "grid_row": null,
            "grid_template_areas": null,
            "grid_template_columns": null,
            "grid_template_rows": null,
            "height": null,
            "justify_content": null,
            "justify_items": null,
            "left": null,
            "margin": null,
            "max_height": null,
            "max_width": null,
            "min_height": null,
            "min_width": null,
            "object_fit": null,
            "object_position": null,
            "order": null,
            "overflow": null,
            "overflow_x": null,
            "overflow_y": null,
            "padding": null,
            "right": null,
            "top": null,
            "visibility": null,
            "width": null
          }
        },
        "bacd730cad8c4cbfa500d41bb0aec6f2": {
          "model_module": "@jupyter-widgets/controls",
          "model_name": "DescriptionStyleModel",
          "model_module_version": "1.5.0",
          "state": {
            "_model_module": "@jupyter-widgets/controls",
            "_model_module_version": "1.5.0",
            "_model_name": "DescriptionStyleModel",
            "_view_count": null,
            "_view_module": "@jupyter-widgets/base",
            "_view_module_version": "1.2.0",
            "_view_name": "StyleView",
            "description_width": ""
          }
        },
        "047c6cdfb27747288872c728f2c0a797": {
          "model_module": "@jupyter-widgets/controls",
          "model_name": "HBoxModel",
          "model_module_version": "1.5.0",
          "state": {
            "_dom_classes": [],
            "_model_module": "@jupyter-widgets/controls",
            "_model_module_version": "1.5.0",
            "_model_name": "HBoxModel",
            "_view_count": null,
            "_view_module": "@jupyter-widgets/controls",
            "_view_module_version": "1.5.0",
            "_view_name": "HBoxView",
            "box_style": "",
            "children": [
              "IPY_MODEL_687e8a276a63466083a3750b8e915fd6",
              "IPY_MODEL_8fdca40b6ccc43879f1ec3a1bfb30065",
              "IPY_MODEL_f164f84b9a0a44cf8571f0b7343ed989"
            ],
            "layout": "IPY_MODEL_1d55db97e4724fb3a2675db93deec813"
          }
        },
        "687e8a276a63466083a3750b8e915fd6": {
          "model_module": "@jupyter-widgets/controls",
          "model_name": "HTMLModel",
          "model_module_version": "1.5.0",
          "state": {
            "_dom_classes": [],
            "_model_module": "@jupyter-widgets/controls",
            "_model_module_version": "1.5.0",
            "_model_name": "HTMLModel",
            "_view_count": null,
            "_view_module": "@jupyter-widgets/controls",
            "_view_module_version": "1.5.0",
            "_view_name": "HTMLView",
            "description": "",
            "description_tooltip": null,
            "layout": "IPY_MODEL_fcdb327f232141fab7da815cca3c264c",
            "placeholder": "​",
            "style": "IPY_MODEL_1abe2a40cb5d49cdabfc7cfe74286fc7",
            "value": "Downloading pytorch_model.bin: 100%"
          }
        },
        "8fdca40b6ccc43879f1ec3a1bfb30065": {
          "model_module": "@jupyter-widgets/controls",
          "model_name": "FloatProgressModel",
          "model_module_version": "1.5.0",
          "state": {
            "_dom_classes": [],
            "_model_module": "@jupyter-widgets/controls",
            "_model_module_version": "1.5.0",
            "_model_name": "FloatProgressModel",
            "_view_count": null,
            "_view_module": "@jupyter-widgets/controls",
            "_view_module_version": "1.5.0",
            "_view_name": "ProgressView",
            "bar_style": "success",
            "description": "",
            "description_tooltip": null,
            "layout": "IPY_MODEL_e8783ec6911f40e6ae87d80dc5f9e2af",
            "max": 437983985,
            "min": 0,
            "orientation": "horizontal",
            "style": "IPY_MODEL_f1ece12c2eb74166bbe74d0e114763b1",
            "value": 437983985
          }
        },
        "f164f84b9a0a44cf8571f0b7343ed989": {
          "model_module": "@jupyter-widgets/controls",
          "model_name": "HTMLModel",
          "model_module_version": "1.5.0",
          "state": {
            "_dom_classes": [],
            "_model_module": "@jupyter-widgets/controls",
            "_model_module_version": "1.5.0",
            "_model_name": "HTMLModel",
            "_view_count": null,
            "_view_module": "@jupyter-widgets/controls",
            "_view_module_version": "1.5.0",
            "_view_name": "HTMLView",
            "description": "",
            "description_tooltip": null,
            "layout": "IPY_MODEL_386988489eed4084b843389a59a25d32",
            "placeholder": "​",
            "style": "IPY_MODEL_d398fe4a0c7941e59c8f3da13233b162",
            "value": " 438M/438M [00:05&lt;00:00, 26.0MB/s]"
          }
        },
        "1d55db97e4724fb3a2675db93deec813": {
          "model_module": "@jupyter-widgets/base",
          "model_name": "LayoutModel",
          "model_module_version": "1.2.0",
          "state": {
            "_model_module": "@jupyter-widgets/base",
            "_model_module_version": "1.2.0",
            "_model_name": "LayoutModel",
            "_view_count": null,
            "_view_module": "@jupyter-widgets/base",
            "_view_module_version": "1.2.0",
            "_view_name": "LayoutView",
            "align_content": null,
            "align_items": null,
            "align_self": null,
            "border": null,
            "bottom": null,
            "display": null,
            "flex": null,
            "flex_flow": null,
            "grid_area": null,
            "grid_auto_columns": null,
            "grid_auto_flow": null,
            "grid_auto_rows": null,
            "grid_column": null,
            "grid_gap": null,
            "grid_row": null,
            "grid_template_areas": null,
            "grid_template_columns": null,
            "grid_template_rows": null,
            "height": null,
            "justify_content": null,
            "justify_items": null,
            "left": null,
            "margin": null,
            "max_height": null,
            "max_width": null,
            "min_height": null,
            "min_width": null,
            "object_fit": null,
            "object_position": null,
            "order": null,
            "overflow": null,
            "overflow_x": null,
            "overflow_y": null,
            "padding": null,
            "right": null,
            "top": null,
            "visibility": null,
            "width": null
          }
        },
        "fcdb327f232141fab7da815cca3c264c": {
          "model_module": "@jupyter-widgets/base",
          "model_name": "LayoutModel",
          "model_module_version": "1.2.0",
          "state": {
            "_model_module": "@jupyter-widgets/base",
            "_model_module_version": "1.2.0",
            "_model_name": "LayoutModel",
            "_view_count": null,
            "_view_module": "@jupyter-widgets/base",
            "_view_module_version": "1.2.0",
            "_view_name": "LayoutView",
            "align_content": null,
            "align_items": null,
            "align_self": null,
            "border": null,
            "bottom": null,
            "display": null,
            "flex": null,
            "flex_flow": null,
            "grid_area": null,
            "grid_auto_columns": null,
            "grid_auto_flow": null,
            "grid_auto_rows": null,
            "grid_column": null,
            "grid_gap": null,
            "grid_row": null,
            "grid_template_areas": null,
            "grid_template_columns": null,
            "grid_template_rows": null,
            "height": null,
            "justify_content": null,
            "justify_items": null,
            "left": null,
            "margin": null,
            "max_height": null,
            "max_width": null,
            "min_height": null,
            "min_width": null,
            "object_fit": null,
            "object_position": null,
            "order": null,
            "overflow": null,
            "overflow_x": null,
            "overflow_y": null,
            "padding": null,
            "right": null,
            "top": null,
            "visibility": null,
            "width": null
          }
        },
        "1abe2a40cb5d49cdabfc7cfe74286fc7": {
          "model_module": "@jupyter-widgets/controls",
          "model_name": "DescriptionStyleModel",
          "model_module_version": "1.5.0",
          "state": {
            "_model_module": "@jupyter-widgets/controls",
            "_model_module_version": "1.5.0",
            "_model_name": "DescriptionStyleModel",
            "_view_count": null,
            "_view_module": "@jupyter-widgets/base",
            "_view_module_version": "1.2.0",
            "_view_name": "StyleView",
            "description_width": ""
          }
        },
        "e8783ec6911f40e6ae87d80dc5f9e2af": {
          "model_module": "@jupyter-widgets/base",
          "model_name": "LayoutModel",
          "model_module_version": "1.2.0",
          "state": {
            "_model_module": "@jupyter-widgets/base",
            "_model_module_version": "1.2.0",
            "_model_name": "LayoutModel",
            "_view_count": null,
            "_view_module": "@jupyter-widgets/base",
            "_view_module_version": "1.2.0",
            "_view_name": "LayoutView",
            "align_content": null,
            "align_items": null,
            "align_self": null,
            "border": null,
            "bottom": null,
            "display": null,
            "flex": null,
            "flex_flow": null,
            "grid_area": null,
            "grid_auto_columns": null,
            "grid_auto_flow": null,
            "grid_auto_rows": null,
            "grid_column": null,
            "grid_gap": null,
            "grid_row": null,
            "grid_template_areas": null,
            "grid_template_columns": null,
            "grid_template_rows": null,
            "height": null,
            "justify_content": null,
            "justify_items": null,
            "left": null,
            "margin": null,
            "max_height": null,
            "max_width": null,
            "min_height": null,
            "min_width": null,
            "object_fit": null,
            "object_position": null,
            "order": null,
            "overflow": null,
            "overflow_x": null,
            "overflow_y": null,
            "padding": null,
            "right": null,
            "top": null,
            "visibility": null,
            "width": null
          }
        },
        "f1ece12c2eb74166bbe74d0e114763b1": {
          "model_module": "@jupyter-widgets/controls",
          "model_name": "ProgressStyleModel",
          "model_module_version": "1.5.0",
          "state": {
            "_model_module": "@jupyter-widgets/controls",
            "_model_module_version": "1.5.0",
            "_model_name": "ProgressStyleModel",
            "_view_count": null,
            "_view_module": "@jupyter-widgets/base",
            "_view_module_version": "1.2.0",
            "_view_name": "StyleView",
            "bar_color": null,
            "description_width": ""
          }
        },
        "386988489eed4084b843389a59a25d32": {
          "model_module": "@jupyter-widgets/base",
          "model_name": "LayoutModel",
          "model_module_version": "1.2.0",
          "state": {
            "_model_module": "@jupyter-widgets/base",
            "_model_module_version": "1.2.0",
            "_model_name": "LayoutModel",
            "_view_count": null,
            "_view_module": "@jupyter-widgets/base",
            "_view_module_version": "1.2.0",
            "_view_name": "LayoutView",
            "align_content": null,
            "align_items": null,
            "align_self": null,
            "border": null,
            "bottom": null,
            "display": null,
            "flex": null,
            "flex_flow": null,
            "grid_area": null,
            "grid_auto_columns": null,
            "grid_auto_flow": null,
            "grid_auto_rows": null,
            "grid_column": null,
            "grid_gap": null,
            "grid_row": null,
            "grid_template_areas": null,
            "grid_template_columns": null,
            "grid_template_rows": null,
            "height": null,
            "justify_content": null,
            "justify_items": null,
            "left": null,
            "margin": null,
            "max_height": null,
            "max_width": null,
            "min_height": null,
            "min_width": null,
            "object_fit": null,
            "object_position": null,
            "order": null,
            "overflow": null,
            "overflow_x": null,
            "overflow_y": null,
            "padding": null,
            "right": null,
            "top": null,
            "visibility": null,
            "width": null
          }
        },
        "d398fe4a0c7941e59c8f3da13233b162": {
          "model_module": "@jupyter-widgets/controls",
          "model_name": "DescriptionStyleModel",
          "model_module_version": "1.5.0",
          "state": {
            "_model_module": "@jupyter-widgets/controls",
            "_model_module_version": "1.5.0",
            "_model_name": "DescriptionStyleModel",
            "_view_count": null,
            "_view_module": "@jupyter-widgets/base",
            "_view_module_version": "1.2.0",
            "_view_name": "StyleView",
            "description_width": ""
          }
        }
      }
    }
  },
  "nbformat": 4,
  "nbformat_minor": 5
}