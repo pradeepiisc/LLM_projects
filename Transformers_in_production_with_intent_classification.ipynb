{
  "cells": [
    {
      "cell_type": "code",
      "execution_count": null,
      "metadata": {
        "id": "35GKDFN9abnC"
      },
      "outputs": [],
      "source": [
        "# import os, sys\n",
        "# from google.colab import drive\n",
        "# drive.mount('/content/drive')\n",
        "# nb_path = '/content/notebooks'\n",
        "# os.symlink('/content/drive/My Drive/Colab Notebooks', nb_path)\n",
        "# sys.path.insert(0,nb_path)"
      ]
    },
    {
      "cell_type": "code",
      "execution_count": null,
      "metadata": {
        "id": "4tIMUBC7eKfT"
      },
      "outputs": [],
      "source": [
        "# %%capture\n",
        "# !pip install --target=$nb_path huggingface-hub\n",
        "# !pip install --target=$nb_path transformers\n",
        "# !pip install --target=$nb_path datasets\n",
        "# !pip install sentence-transformers\n",
        "\n",
        "# some libraries are also installed in the middle of the notebook"
      ]
    },
    {
      "cell_type": "code",
      "execution_count": null,
      "metadata": {
        "id": "MN_9uOb9glso"
      },
      "outputs": [],
      "source": [
        "%%capture\n",
        "!pip install huggingface-hub\n",
        "!pip install transformers[torch]\n",
        "!pip install accelerate -U\n",
        "!pip install datasets"
      ]
    },
    {
      "cell_type": "markdown",
      "metadata": {
        "id": "AeFNE7pve1se"
      },
      "source": [
        "Download a fine-tuned model from Hface and use it in a pipeline\n",
        "\n",
        "a BERT-base model that achieves around 94% accuracy on the CLINC150 dataset which includes 22,500 in-scope queries across 150 intents and 10 domains like banking and travel, and also includes 1,200 out-of-scope queries that belong to an oos intent class."
      ]
    },
    {
      "cell_type": "code",
      "execution_count": null,
      "metadata": {
        "id": "nK6pkbiVeiQe"
      },
      "outputs": [],
      "source": [
        "from transformers import pipeline\n",
        "\n",
        "bert_ckpt = \"transformersbook/bert-base-uncased-finetuned-clinc\"\n",
        "pipe = pipeline(\"text-classification\", model=bert_ckpt)"
      ]
    },
    {
      "cell_type": "code",
      "execution_count": null,
      "metadata": {
        "colab": {
          "base_uri": "https://localhost:8080/"
        },
        "id": "aW6Rhz3-fBy7",
        "outputId": "20566e2d-931e-4dd4-8d24-9cca36b36937"
      },
      "outputs": [
        {
          "data": {
            "text/plain": [
              "[{'label': 'car_rental', 'score': 0.5490034818649292}]"
            ]
          },
          "execution_count": 6,
          "metadata": {},
          "output_type": "execute_result"
        }
      ],
      "source": [
        "query = \"\"\"Hey, I'd like to rent a vehicle from Nov 1st to Nov 15th in\n",
        "Paris and I need a 15 passenger van\"\"\"\n",
        "pipe(query)"
      ]
    },
    {
      "cell_type": "markdown",
      "metadata": {
        "id": "KE0yjfyFnZvV"
      },
      "source": [
        "Trade offs in production for any ML model\n",
        "\n",
        "1.   Model Performance\n",
        "2.   Latency\n",
        "3.   Memory\n",
        "\n"
      ]
    },
    {
      "cell_type": "code",
      "execution_count": null,
      "metadata": {
        "id": "suGDiaUHfMUn"
      },
      "outputs": [],
      "source": [
        "# Template or a skeleton to what will be done in this notebook\n",
        "\n",
        "class PerformanceBenchmark:\n",
        "    def __init__(self, pipeline, dataset, optim_type=\"BERT baseline\"):\n",
        "        self.pipeline = pipeline\n",
        "        self.dataset = dataset\n",
        "        self.optim_type = optim_type\n",
        "\n",
        "    def compute_accuracy(self):\n",
        "        # define this later\n",
        "        pass\n",
        "\n",
        "    def compute_size(self):\n",
        "        # define this later\n",
        "        pass\n",
        "\n",
        "    def time_pipeline(self):\n",
        "        # define this later\n",
        "        pass\n",
        "\n",
        "    def run_benchmark(self):\n",
        "        metrics = {}\n",
        "        metrics[self.optim_type] = self.compute_size()\n",
        "        metrics[self.optim_type].update(self.time_pipeline())\n",
        "        metrics[self.optim_type].update(self.compute_accuracy())\n",
        "        return metrics"
      ]
    },
    {
      "cell_type": "markdown",
      "metadata": {
        "id": "pehcPE-XoUpn"
      },
      "source": [
        "# Get the test dataset"
      ]
    },
    {
      "cell_type": "code",
      "execution_count": null,
      "metadata": {
        "id": "gTXHxscFn-v6"
      },
      "outputs": [],
      "source": [
        "from datasets import load_dataset\n",
        "\n",
        "clinc = load_dataset(\"clinc_oos\", \"plus\")"
      ]
    },
    {
      "cell_type": "markdown",
      "metadata": {
        "id": "cWDiL0mdo-jB"
      },
      "source": [
        "***plus*** configuration refers to the subset that contains the out-of-scope training examples."
      ]
    },
    {
      "cell_type": "code",
      "execution_count": null,
      "metadata": {
        "colab": {
          "base_uri": "https://localhost:8080/"
        },
        "id": "VFfo-3ZkofAW",
        "outputId": "f00dd8ad-a50d-4943-d9dd-aa793d269519"
      },
      "outputs": [
        {
          "data": {
            "text/plain": [
              "{'text': 'transfer $100 from my checking to saving account', 'intent': 133}"
            ]
          },
          "execution_count": 10,
          "metadata": {},
          "output_type": "execute_result"
        }
      ],
      "source": [
        "sample = clinc[\"test\"][42]\n",
        "sample"
      ]
    },
    {
      "cell_type": "code",
      "execution_count": null,
      "metadata": {
        "colab": {
          "base_uri": "https://localhost:8080/"
        },
        "id": "37VOYd2nqCVf",
        "outputId": "a7ab1c8c-1ffb-43b7-e594-cfe20a350798"
      },
      "outputs": [
        {
          "data": {
            "text/plain": [
              "5500"
            ]
          },
          "execution_count": 11,
          "metadata": {},
          "output_type": "execute_result"
        }
      ],
      "source": [
        "len(clinc[\"test\"])"
      ]
    },
    {
      "cell_type": "code",
      "execution_count": null,
      "metadata": {
        "id": "Mxbu4PbtpcFS"
      },
      "outputs": [],
      "source": [
        "intents = clinc[\"test\"].features[\"intent\"]"
      ]
    },
    {
      "cell_type": "code",
      "execution_count": null,
      "metadata": {
        "colab": {
          "base_uri": "https://localhost:8080/",
          "height": 35
        },
        "id": "bcRqulj4pkyY",
        "outputId": "2e7dbab5-dab3-4836-fa8c-eb87c4eb13db"
      },
      "outputs": [
        {
          "data": {
            "application/vnd.google.colaboratory.intrinsic+json": {
              "type": "string"
            },
            "text/plain": [
              "'transfer'"
            ]
          },
          "execution_count": 13,
          "metadata": {},
          "output_type": "execute_result"
        }
      ],
      "source": [
        "intents.int2str(sample[\"intent\"])"
      ]
    },
    {
      "cell_type": "code",
      "execution_count": null,
      "metadata": {
        "id": "5Ke7q2pPpsjN"
      },
      "outputs": [],
      "source": [
        "just_intents = [clinc[\"test\"][x]['intent'] for x in range(len(clinc[\"test\"]))]"
      ]
    },
    {
      "cell_type": "code",
      "execution_count": null,
      "metadata": {
        "colab": {
          "base_uri": "https://localhost:8080/"
        },
        "id": "qfUOFj57qHML",
        "outputId": "3609d52d-7b71-4101-d115-37041609da70"
      },
      "outputs": [
        {
          "data": {
            "text/plain": [
              "[61, 61, 61, 61, 61]"
            ]
          },
          "execution_count": 15,
          "metadata": {},
          "output_type": "execute_result"
        }
      ],
      "source": [
        "just_intents[:5]"
      ]
    },
    {
      "cell_type": "code",
      "execution_count": null,
      "metadata": {
        "id": "QRExnTiCqIfI"
      },
      "outputs": [],
      "source": [
        "import pandas as pd\n",
        "intent_id_df = pd.DataFrame(data=just_intents, columns=[\"intent_id\"])"
      ]
    },
    {
      "cell_type": "code",
      "execution_count": null,
      "metadata": {
        "colab": {
          "base_uri": "https://localhost:8080/"
        },
        "id": "zyhcCpO7qN4a",
        "outputId": "7c569759-b842-46a3-bdaa-2b618de41acc"
      },
      "outputs": [
        {
          "data": {
            "text/plain": [
              "intent_id\n",
              "42           0.181818\n",
              "0            0.005455\n",
              "104          0.005455\n",
              "97           0.005455\n",
              "98           0.005455\n",
              "               ...   \n",
              "51           0.005455\n",
              "52           0.005455\n",
              "53           0.005455\n",
              "54           0.005455\n",
              "150          0.005455\n",
              "Length: 151, dtype: float64"
            ]
          },
          "execution_count": 14,
          "metadata": {},
          "output_type": "execute_result"
        }
      ],
      "source": [
        "intent_id_df.value_counts(normalize=True)"
      ]
    },
    {
      "cell_type": "code",
      "execution_count": null,
      "metadata": {
        "colab": {
          "base_uri": "https://localhost:8080/",
          "height": 35
        },
        "id": "gcBTLp0bqb85",
        "outputId": "6c1343e1-14f1-450c-b268-1fb7485b213e"
      },
      "outputs": [
        {
          "data": {
            "application/vnd.google.colaboratory.intrinsic+json": {
              "type": "string"
            },
            "text/plain": [
              "'oos'"
            ]
          },
          "execution_count": 15,
          "metadata": {},
          "output_type": "execute_result"
        }
      ],
      "source": [
        "intents.int2str(42)"
      ]
    },
    {
      "cell_type": "code",
      "execution_count": null,
      "metadata": {
        "colab": {
          "base_uri": "https://localhost:8080/"
        },
        "id": "Z8Zfz8h56MsL",
        "outputId": "656251f7-444c-40e7-888e-02e4dd287c04"
      },
      "outputs": [
        {
          "data": {
            "text/plain": [
              "[{'label': 'transfer', 'score': 0.5653554797172546}]"
            ]
          },
          "execution_count": 16,
          "metadata": {},
          "output_type": "execute_result"
        }
      ],
      "source": [
        "pipe(clinc[\"test\"][42][\"text\"])"
      ]
    },
    {
      "cell_type": "markdown",
      "metadata": {
        "id": "auOzO2Czqm0B"
      },
      "source": [
        "Except the ***oos*** or Out-of-Scope intent, all intents are in the same proportion\n",
        "\n",
        "(the value_counts will give a sorted proportion list)\n",
        "\n",
        "Hence we can use **accuracy** as the metric"
      ]
    },
    {
      "cell_type": "code",
      "execution_count": null,
      "metadata": {
        "colab": {
          "base_uri": "https://localhost:8080/"
        },
        "id": "9iUKs2S8qhvT",
        "outputId": "3bc33d82-c711-465e-8505-0e84b680a527"
      },
      "outputs": [
        {
          "name": "stderr",
          "output_type": "stream",
          "text": [
            "<ipython-input-17-7176c65eea59>:3: FutureWarning: load_metric is deprecated and will be removed in the next major version of datasets. Use 'evaluate.load' instead, from the new library 🤗 Evaluate: https://huggingface.co/docs/evaluate\n",
            "  accuracy_score = load_metric(\"accuracy\")\n"
          ]
        }
      ],
      "source": [
        "from datasets import load_metric\n",
        "\n",
        "accuracy_score = load_metric(\"accuracy\")"
      ]
    },
    {
      "cell_type": "markdown",
      "metadata": {
        "id": "2Tei9gsn5rZm"
      },
      "source": [
        "Based on the above warning, load_metric is deprecated, instead use the Evaluate library"
      ]
    },
    {
      "cell_type": "code",
      "execution_count": null,
      "metadata": {
        "id": "IbOTsD3S5T2y"
      },
      "outputs": [],
      "source": [
        "# %%capture\n",
        "# !pip install evaluate"
      ]
    },
    {
      "cell_type": "code",
      "execution_count": null,
      "metadata": {
        "id": "1TkbZIaF5z4L"
      },
      "outputs": [],
      "source": [
        "# from evaluate import load\n",
        "\n",
        "# new_accuracy_score = load(\"accuracy\")"
      ]
    },
    {
      "cell_type": "markdown",
      "metadata": {
        "id": "0wMA9d2g6Bdp"
      },
      "source": [
        "## Fill the accuracy computation function in the above template class\n",
        "\n",
        "The pipeline will predict labels or intents in string format,\n",
        "\n",
        "but to compute accuracy, we need integers for comparison purposes"
      ]
    },
    {
      "cell_type": "code",
      "execution_count": null,
      "metadata": {
        "id": "jIihYvca5_ra"
      },
      "outputs": [],
      "source": [
        "def compute_accuracy(self):\n",
        "    \"\"\"This overrides the PerformanceBenchmark.compute_accuracy() method\"\"\"\n",
        "    preds, labels = [], []\n",
        "    for example in self.dataset:\n",
        "        # print(example)\n",
        "        pred = self.pipeline(example[\"text\"])[0][\"label\"]\n",
        "        label = example[\"intent\"]\n",
        "        preds.append(intents.str2int(pred))\n",
        "        labels.append(label)\n",
        "    accuracy = accuracy_score.compute(predictions=preds, references=labels)\n",
        "    # acc_new_library = new_accuracy_score.compute(predictions=preds, references=labels)\n",
        "    print(f\"Accuracy on test set - {accuracy['accuracy']:.3f}\")\n",
        "    # print(f\"Accuracy on test set using evaluate library - {acc_new_library['accuracy']:.3f}\")\n",
        "    return accuracy\n"
      ]
    },
    {
      "cell_type": "code",
      "execution_count": null,
      "metadata": {
        "id": "yI5uuW9Y67XS"
      },
      "outputs": [],
      "source": [
        "PerformanceBenchmark.compute_accuracy = compute_accuracy"
      ]
    },
    {
      "cell_type": "markdown",
      "metadata": {
        "id": "g46LIv7i-cQT"
      },
      "source": [
        "## Model size using torch.save()"
      ]
    },
    {
      "cell_type": "code",
      "execution_count": null,
      "metadata": {
        "colab": {
          "base_uri": "https://localhost:8080/"
        },
        "id": "PD_ZSVev7TRR",
        "outputId": "24035faa-c9ff-4ca7-d255-5db36a77c5cc"
      },
      "outputs": [
        {
          "data": {
            "text/plain": [
              "('bert.encoder.layer.2.attention.self.value.bias',\n",
              " tensor([-2.7834e-02,  4.9434e-02,  8.3551e-02,  4.1092e-02,  6.0157e-01,\n",
              "          1.1774e-01, -5.2112e-02, -6.5143e-02, -2.9358e-02, -4.2250e-02,\n",
              "          7.9177e-02,  8.0409e-02,  2.9921e-03,  1.7816e-01, -5.0480e-02,\n",
              "         -1.5634e-01, -2.1707e-02,  1.4381e-02,  2.5132e-02, -2.4110e-02,\n",
              "         -1.9183e-01, -7.8657e-02,  5.0709e-02,  3.3632e-02, -3.1946e-02,\n",
              "          1.1616e-01,  9.2720e-02, -1.1787e-01,  2.3233e-01, -1.2678e-02,\n",
              "         -1.3138e-01, -4.0024e-02,  7.4823e-02, -5.4148e-02, -1.5184e-01,\n",
              "         -7.4407e-02,  1.1559e-01,  8.2729e-02, -1.3787e-01,  8.3528e-02,\n",
              "          1.2154e-01,  1.6880e-02, -5.6629e-02, -3.9295e-02,  5.3725e-02,\n",
              "          6.8602e-02, -1.1294e-01,  4.4001e-02, -2.5884e-01,  1.6767e-01,\n",
              "          1.8316e-01,  5.6272e-02, -3.6874e-02, -2.7938e-02, -9.3204e-02,\n",
              "         -7.5239e-03,  4.1141e-02, -1.1542e-02, -9.9749e-02, -3.0910e-02,\n",
              "          4.1398e-02, -4.4389e-02, -2.6279e-02,  7.2100e-02,  7.5179e-03,\n",
              "         -7.4382e-03,  2.9311e-02, -1.3391e-02,  6.9966e-03, -9.3249e-03,\n",
              "          9.4272e-03, -1.1783e-02,  1.3849e-02,  1.8157e-03, -1.1522e-02,\n",
              "          1.3364e-02, -2.6307e-02,  2.3725e-03, -4.8451e-03,  6.2261e-03,\n",
              "          1.2653e-02,  1.7601e-02, -1.7971e-02, -2.9247e-03, -3.3447e-03,\n",
              "          1.4263e-02, -3.5629e-03, -9.2794e-03, -2.1326e-02,  1.9390e-02,\n",
              "          1.3287e-02, -8.7034e-03,  1.2936e-02, -2.0574e-02,  3.2204e-03,\n",
              "          5.9970e-03, -5.6524e-02,  3.0851e-02, -2.3233e-02,  4.6271e-02,\n",
              "         -1.4485e-03,  4.4248e-04, -3.1102e-02,  1.9762e-02,  2.0866e-02,\n",
              "          1.7914e-02, -2.0622e-02, -1.6030e-02,  6.2167e-03,  1.6809e-02,\n",
              "          4.6357e-03,  4.7169e-02, -2.1151e-02, -1.8898e-02,  3.5921e-02,\n",
              "          4.8621e-03, -5.9841e-02, -1.3029e-02,  5.6702e-03,  1.6820e-02,\n",
              "          2.1735e-02, -2.8285e-03, -1.5519e-02,  7.1974e-03,  3.5492e-02,\n",
              "         -2.3190e-02, -9.7930e-03,  2.3223e-02,  2.0529e-02,  2.7412e-02,\n",
              "          1.3887e-02,  1.7976e-03, -3.8905e-02,  1.8540e-02,  8.0013e-03,\n",
              "         -8.3682e-03, -8.6805e-03,  2.6464e-02,  1.8968e-03, -1.8028e-03,\n",
              "         -2.4427e-02, -3.5514e-02, -1.8748e-02, -3.0541e-02, -7.9520e-03,\n",
              "         -1.5989e-02,  9.3060e-03,  2.9318e-02,  1.6679e-02, -2.4060e-03,\n",
              "         -7.2656e-03, -2.7699e-03,  1.4280e-02, -6.7352e-02, -1.2329e-02,\n",
              "         -1.1516e-02, -8.0379e-03,  2.5604e-02, -2.9178e-02,  2.6076e-02,\n",
              "         -1.1561e-02, -4.0904e-03, -1.7735e-02, -2.8245e-03,  2.3919e-02,\n",
              "         -3.6326e-03, -1.6407e-03,  9.5295e-03,  2.4161e-02, -5.8965e-02,\n",
              "          4.7633e-02,  1.4403e-03, -4.4763e-02, -3.5462e-03,  3.0613e-02,\n",
              "          2.5047e-02,  1.3757e-02, -2.2238e-02,  8.0453e-03, -2.6188e-03,\n",
              "         -2.2013e-03, -6.0179e-03, -8.5149e-03, -2.8150e-02,  1.9282e-02,\n",
              "         -7.5657e-02,  6.1354e-03,  5.2562e-03, -2.2223e-03,  1.0437e-02,\n",
              "         -1.8630e-02, -7.7628e-02,  1.4377e-02,  1.4977e-02,  1.6090e-02,\n",
              "          2.9399e-02, -2.8604e-02, -3.2916e-02,  2.7902e-03,  1.4113e-02,\n",
              "          8.3836e-03, -6.5914e-03, -4.9576e-03, -1.5955e-02,  4.2381e-03,\n",
              "          3.0032e-02,  8.8986e-03, -1.5336e-02,  4.6771e-03, -1.2364e-02,\n",
              "         -3.7724e-02, -3.9060e-03,  1.4607e-02, -2.1286e-02,  9.7086e-03,\n",
              "         -1.5826e-02, -1.4847e-02,  1.0796e-03, -9.5035e-03, -1.8624e-02,\n",
              "         -3.1673e-02,  8.8388e-03, -1.4921e-02, -1.7855e-03,  3.8781e-02,\n",
              "          2.4269e-02, -1.6465e-03, -7.9774e-03, -1.3907e-02,  1.9653e-03,\n",
              "         -2.6717e-03,  3.0146e-02, -4.3986e-03,  6.0588e-03,  2.1959e-02,\n",
              "          2.0354e-02,  9.3631e-03, -8.4828e-03, -2.3994e-02,  1.8316e-02,\n",
              "         -2.2401e-02, -2.6273e-03,  3.2069e-03, -3.2386e-03,  1.1388e-02,\n",
              "          3.0835e-02,  2.6043e-02, -7.2103e-03, -5.0038e-04, -1.4860e-02,\n",
              "          2.3886e-02,  1.1530e-02, -1.0549e-03,  3.5677e-02,  6.0299e-03,\n",
              "          1.5875e-02,  5.3877e-02,  6.6331e-02,  1.5165e-02, -6.0870e-03,\n",
              "          1.6159e-03, -1.1137e-02,  1.3665e-02,  1.7698e-02,  4.5647e-03,\n",
              "         -4.5349e-02,  2.6634e-02,  4.7289e-03, -1.1664e-02,  8.7302e-03,\n",
              "          1.2051e-02,  2.3455e-02, -2.7151e-03, -1.3474e-02, -4.5949e-02,\n",
              "         -1.3496e-02,  8.1680e-02, -2.9737e-02, -2.8525e-02, -1.4888e-02,\n",
              "          5.4320e-03,  3.9142e-02,  1.4227e-02,  1.1140e-02, -1.0980e-02,\n",
              "          2.1982e-02, -1.1148e-02, -1.0226e-02, -5.8499e-03, -1.9739e-02,\n",
              "         -3.4634e-03, -1.0565e-02,  1.0449e-02,  8.2791e-03,  2.3053e-03,\n",
              "          9.7032e-03, -9.0916e-03,  5.4747e-04, -4.1901e-02,  9.6154e-03,\n",
              "          2.9424e-02,  1.1897e-03,  1.1825e-02,  2.7524e-02,  1.0225e-02,\n",
              "          2.1439e-02,  2.3448e-03, -3.7239e-02,  5.8888e-02, -3.1999e-02,\n",
              "         -7.9128e-03,  3.5337e-02,  2.7251e-02,  1.3948e-02,  1.0896e-02,\n",
              "          1.4326e-05, -2.6835e-03,  4.0720e-03,  1.6469e-02,  3.5876e-02,\n",
              "         -1.6803e-02,  2.8083e-02,  2.2789e-03,  3.1635e-02,  5.7104e-03,\n",
              "          3.0284e-03,  1.2528e-02, -1.7956e-02, -1.4686e-02,  4.4091e-03,\n",
              "         -1.4846e-02, -4.1044e-02, -3.4005e-02, -6.5876e-02,  3.0926e-02,\n",
              "          5.9820e-02, -1.0069e-04, -6.6089e-03,  2.1271e-03,  3.6137e-03,\n",
              "          9.0073e-03,  9.6992e-03,  2.1992e-02,  6.2104e-02,  1.4786e-02,\n",
              "         -2.6120e-02, -1.4990e-02,  1.5148e-02,  3.0313e-02,  2.0834e-02,\n",
              "          1.7836e-02, -5.4321e-03, -5.9164e-03,  1.7840e-02, -4.3020e-03,\n",
              "          8.7374e-03, -2.4993e-02,  3.4310e-02,  2.2652e-02, -5.3760e-03,\n",
              "          1.7668e-02, -8.9518e-04,  1.3691e-03, -2.1373e-02, -6.1878e-03,\n",
              "         -1.2396e-02, -1.7816e-02, -1.8014e-02,  9.5274e-03,  1.1643e-02,\n",
              "         -2.0683e-02, -2.8707e-03,  1.1669e-02,  1.5618e-02,  3.5348e-02,\n",
              "         -1.1234e-02, -4.5453e-03, -3.4890e-02, -3.0010e-02,  1.6433e-02,\n",
              "         -1.2068e-02,  8.2583e-03,  1.4090e-02,  1.8771e-02, -4.9337e-02,\n",
              "         -1.7775e-03,  5.6333e-02,  6.8979e-02,  2.3123e-02, -1.0754e-02,\n",
              "         -4.9530e-02,  4.2980e-02,  2.8846e-02, -3.9176e-02,  8.1903e-02,\n",
              "         -2.9344e-02,  3.0343e-02,  8.4269e-02, -2.4376e-02, -8.4680e-02,\n",
              "          6.7452e-03,  1.2407e-01,  1.5680e-02, -1.6643e-02,  9.0987e-03,\n",
              "         -2.7984e-03,  7.5874e-02, -1.4630e-02,  2.9823e-02, -1.0423e-02,\n",
              "         -6.0341e-02, -3.6580e-02, -5.4615e-02, -1.3628e-01, -5.8373e-02,\n",
              "          4.3453e-02,  3.0439e-02,  1.7298e-02, -1.1724e-01,  1.0805e-01,\n",
              "         -4.6345e-02, -1.1533e-01,  7.4684e-02, -5.9752e-03,  4.3189e-02,\n",
              "          4.4795e-02, -3.7566e-03, -7.5097e-02,  3.5959e-02,  1.3906e-01,\n",
              "          4.6041e-02,  1.1786e-02,  1.1243e-01,  8.4072e-02, -7.7309e-02,\n",
              "          1.3586e-02,  9.5244e-02, -1.2002e-01,  7.0882e-02,  1.0043e-01,\n",
              "          2.5874e-02,  2.3354e-02, -3.5469e-02,  3.0738e-02,  1.0479e-01,\n",
              "         -9.2843e-02,  5.9718e-02, -1.9409e-02, -3.4414e-02, -8.4060e-03,\n",
              "         -9.3654e-03, -2.8030e-02,  7.2026e-03, -5.9461e-03, -1.2284e-02,\n",
              "         -1.7473e-02, -4.9678e-02,  1.0224e-02, -1.4688e-02, -1.7345e-02,\n",
              "          2.6771e-02, -2.6582e-02, -2.9768e-02,  6.2005e-03, -3.3405e-04,\n",
              "          9.1245e-03, -3.7149e-02, -6.7714e-03, -1.8193e-02,  3.4191e-02,\n",
              "         -5.5732e-03, -2.6161e-02, -1.4078e-02,  1.0288e-02, -2.2850e-02,\n",
              "         -2.2642e-02,  1.0270e-02,  6.9930e-03,  1.3614e-03, -2.9319e-04,\n",
              "          9.9593e-03, -6.0532e-03,  1.8669e-03, -5.3395e-03, -2.2013e-02,\n",
              "          8.4485e-03, -1.9142e-02,  1.0449e-02, -1.6700e-02,  1.3038e-02,\n",
              "          7.7479e-03, -1.3329e-02,  1.3052e-02, -2.5305e-03,  1.6191e-02,\n",
              "          1.3152e-02,  2.9897e-02,  8.5553e-03, -6.4898e-04,  1.2359e-02,\n",
              "         -4.2144e-03,  2.1785e-02,  2.1401e-02, -1.3295e-02,  7.4764e-03,\n",
              "          6.3580e-03, -6.2467e-03,  1.8235e-02,  3.0643e-02, -4.9091e-03,\n",
              "         -1.3889e-02,  2.6181e-03,  4.9702e-03, -6.1664e-03, -2.8528e-03,\n",
              "         -4.0556e-04,  5.4844e-03,  9.7783e-03,  1.2326e-02, -1.6844e-02,\n",
              "         -1.6294e-02,  4.9879e-03,  3.7789e-03,  8.0305e-04,  2.0482e-02,\n",
              "         -1.6369e-02,  1.6436e-03, -9.0401e-03, -3.2635e-02, -2.3990e-03,\n",
              "          5.7569e-03, -2.0392e-02,  6.6946e-03, -1.8541e-02,  9.3559e-03,\n",
              "          2.7165e-02,  1.2492e-02,  1.2748e-03, -1.3846e-03,  4.0312e-03,\n",
              "         -8.5552e-03,  3.1621e-03, -3.9514e-02, -3.7938e-03, -1.3551e-02,\n",
              "          2.2692e-02, -1.0217e-02, -1.2839e-02, -4.8771e-03, -4.2620e-03,\n",
              "         -3.0481e-02,  4.6085e-02, -2.8627e-03,  6.6756e-03, -2.6765e-03,\n",
              "         -4.1443e-02,  1.3336e-02, -1.0526e-02, -3.8494e-02,  1.2780e-02,\n",
              "         -3.5214e-02, -2.4758e-02,  7.5220e-03,  1.7225e-02, -1.6440e-02,\n",
              "         -3.6639e-03, -4.7462e-02,  5.3796e-04, -2.8419e-03,  4.5923e-03,\n",
              "         -3.0517e-02, -3.6832e-03,  1.8710e-02, -3.0486e-02, -2.4076e-02,\n",
              "         -2.7601e-02,  1.1921e-01,  1.2020e-01,  5.9805e-02, -6.9238e-03,\n",
              "         -1.3529e-01,  1.1234e-01,  8.3534e-02,  1.9974e-01,  5.3834e-02,\n",
              "         -6.6691e-02,  1.2676e-01,  2.4947e-01,  4.9879e-01, -1.6342e-01,\n",
              "          6.1663e-02, -4.8022e-02, -5.4069e-02,  4.7277e-02, -1.4724e-01,\n",
              "          8.4666e-02,  9.8618e-02,  7.9988e-02, -5.7652e-02,  6.3551e-03,\n",
              "          2.6916e-03,  9.2017e-02,  1.2511e-01,  2.5168e-01, -8.6152e-02,\n",
              "         -2.7570e-02, -6.1548e-02,  9.1371e-02,  8.0129e-02, -1.1662e-01,\n",
              "          1.5206e-01, -1.0687e-01, -1.0758e-01,  9.4138e-02,  1.0322e-01,\n",
              "         -1.5152e-01,  2.5472e-01,  7.0699e-02, -4.1571e-02,  2.7933e-02,\n",
              "         -1.9523e-01, -2.8319e-01,  5.9689e-02, -1.4707e-01, -3.5683e-02,\n",
              "         -5.4465e-02,  1.2570e-01, -1.2280e-01,  2.0263e-01, -1.0653e-02,\n",
              "          1.1058e-01, -9.1731e-04,  8.6605e-02, -1.7707e-02,  1.2616e-02,\n",
              "          1.8871e-01, -1.0594e-01, -3.7989e-03, -6.6359e-02, -5.9799e-02,\n",
              "          4.3201e-03, -2.3140e-02,  4.8008e-03,  1.4294e-02, -9.5453e-03,\n",
              "          5.8454e-03,  8.6512e-03,  2.1151e-02,  1.7098e-02, -1.4637e-03,\n",
              "          1.3778e-02, -1.2843e-02,  2.3742e-02, -1.3895e-02,  1.1327e-03,\n",
              "         -7.0846e-03, -7.6255e-03, -8.2264e-03, -1.5513e-02,  4.2724e-03,\n",
              "         -1.7624e-02, -3.0984e-03, -1.4400e-02,  2.3883e-02,  1.1556e-01,\n",
              "          4.4036e-02,  3.2821e-02,  8.6612e-04,  1.2383e-02, -6.6263e-03,\n",
              "         -2.7201e-03,  4.8125e-03, -2.8362e-03,  3.9830e-02,  5.2414e-02,\n",
              "         -4.6269e-03, -1.5858e-02,  2.1845e-02, -1.3767e-02, -1.0629e-02,\n",
              "          1.0347e-02, -3.4209e-02,  1.6939e-02,  1.8120e-02,  3.0650e-03,\n",
              "         -2.5109e-03,  1.3500e-02, -3.6440e-02, -9.2135e-03,  9.2194e-03,\n",
              "         -3.6276e-02, -1.1555e-02, -1.9569e-02, -1.5417e-02, -2.0485e-02,\n",
              "          2.9770e-03, -6.8246e-03, -6.5039e-03, -1.2597e-02, -1.1409e-02,\n",
              "          1.7139e-02,  4.6424e-03, -5.1774e-02, -1.1679e-02,  5.2761e-03,\n",
              "         -1.3664e-02, -1.4001e-02,  2.0379e-03,  1.2753e-02, -8.1607e-03,\n",
              "         -1.0849e-02, -1.0683e-03, -2.4489e-03,  2.0192e-02,  1.5756e-02,\n",
              "         -6.4964e-03, -4.5603e-02, -2.5999e-02, -1.4307e-02, -7.4639e-03,\n",
              "          9.9480e-03,  1.6763e-02,  2.1737e-02,  4.8181e-02,  1.7739e-02,\n",
              "          1.1469e-02, -4.2359e-03, -1.6419e-02, -1.7318e-02,  1.1498e-03,\n",
              "          2.4485e-02, -3.0614e-03,  1.9017e-02, -1.6453e-02, -1.3444e-02,\n",
              "          2.6748e-02, -6.4994e-03,  5.1485e-03,  1.4132e-02, -1.1573e-02,\n",
              "          1.2583e-02, -1.1401e-02, -2.0003e-02, -3.8115e-03,  7.3728e-03,\n",
              "          1.5500e-02,  2.0623e-02,  3.1582e-03, -1.2794e-02,  4.5499e-03,\n",
              "         -3.3994e-04, -2.3003e-02,  1.2225e-02, -2.7949e-02, -9.6121e-03,\n",
              "         -3.5844e-02, -4.2373e-03,  5.3473e-03,  1.4432e-02, -1.2745e-02,\n",
              "          7.1483e-03,  2.9170e-03,  6.2454e-03,  6.8991e-03,  1.5852e-02,\n",
              "          2.1877e-02, -1.7211e-02, -2.6093e-02]))"
            ]
          },
          "execution_count": 46,
          "metadata": {},
          "output_type": "execute_result"
        }
      ],
      "source": [
        "list(pipe.model.state_dict().items())[42]\n"
      ]
    },
    {
      "cell_type": "markdown",
      "metadata": {
        "id": "jmmpwUbLjHEx"
      },
      "source": [
        "## Compute size"
      ]
    },
    {
      "cell_type": "code",
      "execution_count": null,
      "metadata": {
        "id": "YIifTHI1-hTe"
      },
      "outputs": [],
      "source": [
        "import torch\n",
        "from pathlib import Path\n",
        "\n",
        "def compute_size(self):\n",
        "    \"\"\"This overrides the PerformanceBenchmark.compute_size() method\"\"\"\n",
        "    state_dict = self.pipeline.model.state_dict()\n",
        "    tmp_path = Path(\"model.pt\")\n",
        "    torch.save(state_dict, tmp_path)\n",
        "    # Calculate size in megabytes\n",
        "    size_mb = Path(tmp_path).stat().st_size / (1024 * 1024)\n",
        "    # Delete temporary file\n",
        "    tmp_path.unlink()\n",
        "    print(f\"Model size (MB) - {size_mb:.2f}\")\n",
        "    return {\"size_mb\": size_mb}\n",
        "\n",
        "PerformanceBenchmark.compute_size = compute_size"
      ]
    },
    {
      "cell_type": "code",
      "execution_count": null,
      "metadata": {
        "id": "9fh0x9Gqjq0Y"
      },
      "outputs": [],
      "source": []
    },
    {
      "cell_type": "markdown",
      "metadata": {
        "id": "cqgIdPzcjuCz"
      },
      "source": [
        "## Average latency per query"
      ]
    },
    {
      "cell_type": "code",
      "execution_count": null,
      "metadata": {
        "colab": {
          "base_uri": "https://localhost:8080/"
        },
        "id": "PHqyOC_Xjz_y",
        "outputId": "5c2defe5-c66a-40eb-a621-2f94a5d23e31"
      },
      "outputs": [
        {
          "name": "stdout",
          "output_type": "stream",
          "text": [
            "Latency (ms) - 198.025\n",
            "Latency (ms) - 293.959\n",
            "Latency (ms) - 174.670\n"
          ]
        }
      ],
      "source": [
        "from time import perf_counter\n",
        "\n",
        "for _ in range(3):\n",
        "    start_time = perf_counter()\n",
        "    _ = pipe(query)\n",
        "    latency = perf_counter() - start_time\n",
        "    print(f\"Latency (ms) - {1000 * latency:.3f}\")"
      ]
    },
    {
      "cell_type": "markdown",
      "metadata": {
        "id": "x3NWdBwskMTK"
      },
      "source": [
        "#### Timing a single pass through the pipeline can give wildly different results each time we run the code"
      ]
    },
    {
      "cell_type": "code",
      "execution_count": null,
      "metadata": {
        "id": "9zMDtgdAkMkf"
      },
      "outputs": [],
      "source": [
        "import numpy as np\n",
        "\n",
        "def time_pipeline(self, query=\"What is the pin number for my account?\"):\n",
        "    \"\"\"This overrides the PerformanceBenchmark.time_pipeline() method\"\"\"\n",
        "    latencies = []\n",
        "    # Warmup\n",
        "    for _ in range(10):\n",
        "        _ = self.pipeline(query)\n",
        "    # Timed run\n",
        "    for _ in range(100):\n",
        "        start_time = perf_counter()\n",
        "        _ = self.pipeline(query)\n",
        "        latency = perf_counter() - start_time\n",
        "        latencies.append(latency)\n",
        "    # Compute run statistics\n",
        "    time_avg_ms = 1000 * np.mean(latencies)\n",
        "    time_std_ms = 1000 * np.std(latencies)\n",
        "    print(f\"Average latency (ms) - {time_avg_ms:.2f} +\\- {time_std_ms:.2f}\")\n",
        "    return {\"time_avg_ms\": time_avg_ms, \"time_std_ms\": time_std_ms}\n",
        "\n",
        "PerformanceBenchmark.time_pipeline = time_pipeline"
      ]
    },
    {
      "cell_type": "code",
      "execution_count": null,
      "metadata": {
        "id": "rGftZH2bQXR3"
      },
      "outputs": [],
      "source": [
        "benchmark = PerformanceBenchmark(pipeline=pipe, dataset=clinc[\"test\"])\n"
      ]
    },
    {
      "cell_type": "code",
      "execution_count": null,
      "metadata": {
        "id": "t8QFqjSSkoDW"
      },
      "outputs": [],
      "source": [
        "# benchmark.compute_accuracy()\n",
        "# benchmark.compute_size()\n",
        "# benchmark.time_pipeline()"
      ]
    },
    {
      "cell_type": "code",
      "execution_count": null,
      "metadata": {
        "colab": {
          "base_uri": "https://localhost:8080/"
        },
        "id": "osob3j_dkvHD",
        "outputId": "02eaa000-af94-4c08-a24f-c38faa256644"
      },
      "outputs": [
        {
          "name": "stdout",
          "output_type": "stream",
          "text": [
            "Model size (MB) - 418.15\n",
            "Average latency (ms) - 166.24 +\\- 65.66\n",
            "Accuracy on test set - 0.867\n"
          ]
        }
      ],
      "source": [
        "perf_metrics = benchmark.run_benchmark()"
      ]
    },
    {
      "cell_type": "markdown",
      "metadata": {
        "id": "-2uKeSB_lvyS"
      },
      "source": [
        "In absolute terms, these numbers for latency or model size or accuracy wont make sense unless we compare against an optimised model.\n",
        "\n",
        "Now we will test different strategies to reduce each of these parameters."
      ]
    },
    {
      "cell_type": "markdown",
      "metadata": {
        "id": "XYaWzueAlvoz"
      },
      "source": [
        "# Knowledge Distilation - make the models smaller\n",
        "\n",
        "Details are in the notes/text/blog where it is shown how the scaling is done with Temperature and how the new loss function is weighted average of the cross entropy loss and the KLDivergence loss."
      ]
    },
    {
      "cell_type": "markdown",
      "metadata": {
        "id": "M-Z2nzqcE8xw"
      },
      "source": [
        "### Training arguments with Temperature and alpha"
      ]
    },
    {
      "cell_type": "code",
      "execution_count": null,
      "metadata": {
        "id": "Oe9cULHWmCZG"
      },
      "outputs": [],
      "source": [
        "from transformers import TrainingArguments\n",
        "\n",
        "class DistillationTrainingArguments(TrainingArguments):\n",
        "    def __init__(self, *args, alpha=0.5, temperature=2.0, **kwargs):\n",
        "        super().__init__(*args, **kwargs)\n",
        "        self.alpha = alpha\n",
        "        self.temperature = temperature"
      ]
    },
    {
      "cell_type": "markdown",
      "metadata": {
        "id": "wyunnOFiFFv6"
      },
      "source": [
        "## New Distillation Trainer\n",
        "Include the new loss function by overriding the compute_loss function"
      ]
    },
    {
      "cell_type": "code",
      "execution_count": null,
      "metadata": {
        "id": "OF0wSGMnFB-y"
      },
      "outputs": [],
      "source": [
        "import torch.nn as nn\n",
        "import torch.nn.functional as F\n",
        "from transformers import Trainer\n",
        "\n",
        "class DistillationTrainer(Trainer):\n",
        "    def __init__(self, *args, teacher_model=None, **kwargs):\n",
        "        super().__init__(*args, **kwargs)\n",
        "        self.teacher_model = teacher_model\n",
        "\n",
        "    def compute_loss(self, model, inputs, return_outputs=False):\n",
        "        outputs_stu = model(**inputs)\n",
        "        # Extract cross-entropy loss and logits from student\n",
        "        loss_ce = outputs_stu.loss\n",
        "        logits_stu = outputs_stu.logits\n",
        "        # Extract logits from teacher\n",
        "        with torch.no_grad():\n",
        "            outputs_tea = self.teacher_model(**inputs)\n",
        "            logits_tea = outputs_tea.logits\n",
        "        # Soften probabilities and compute distillation loss\n",
        "        loss_fct = nn.KLDivLoss(reduction=\"batchmean\")\n",
        "        loss_kd = self.args.temperature ** 2 * loss_fct(\n",
        "            F.log_softmax(logits_stu / self.args.temperature, dim=-1),\n",
        "            F.softmax(logits_tea / self.args.temperature, dim=-1))\n",
        "        # Return weighted student loss\n",
        "        loss = self.args.alpha * loss_ce + (1. - self.args.alpha) * loss_kd\n",
        "        return (loss, outputs_stu) if return_outputs else loss"
      ]
    },
    {
      "cell_type": "markdown",
      "metadata": {
        "id": "YO8SlSToLs89"
      },
      "source": [
        "### Taking DistilBert for student initialisation"
      ]
    },
    {
      "cell_type": "code",
      "execution_count": null,
      "metadata": {
        "colab": {
          "base_uri": "https://localhost:8080/",
          "height": 49,
          "referenced_widgets": [
            "d1eb4723132044c1a81f8b9d05ecd2d8",
            "237b961f776a4aeab036c1dbb568fbea",
            "623fd5fc8b3442c9ac796191a1ec7e71",
            "29ed36450a644c439c1b7dad3dcfbd1c",
            "dff4aec873f348c29728b87d2b9a91bc",
            "5c14b94535304e1aba6657a2032348fe",
            "3d33d687437e40e59027269d14a1e284",
            "9bb84be7deeb487c818171bad7e4b551",
            "94af7974a3414dcb877262c5bacec002",
            "8672e1076fae446e881dac734cf41f3d",
            "cc14e260a3384f47875e853ad97f77af"
          ]
        },
        "id": "nmW3CZdDLvYP",
        "outputId": "dbfaa93c-eef7-455f-b0f0-a54d1f6f4207"
      },
      "outputs": [
        {
          "data": {
            "application/vnd.jupyter.widget-view+json": {
              "model_id": "d1eb4723132044c1a81f8b9d05ecd2d8",
              "version_major": 2,
              "version_minor": 0
            },
            "text/plain": [
              "Map:   0%|          | 0/3100 [00:00<?, ? examples/s]"
            ]
          },
          "metadata": {},
          "output_type": "display_data"
        }
      ],
      "source": [
        "from transformers import AutoTokenizer\n",
        "\n",
        "student_ckpt = \"distilbert-base-uncased\"\n",
        "student_tokenizer = AutoTokenizer.from_pretrained(student_ckpt)\n",
        "\n",
        "def tokenize_text(batch):\n",
        "    return student_tokenizer(batch[\"text\"], truncation=True)\n",
        "\n",
        "clinc_enc = clinc.map(tokenize_text, batched=True, remove_columns=[\"text\"])\n",
        "clinc_enc = clinc_enc.rename_column(\"intent\", \"labels\")"
      ]
    },
    {
      "cell_type": "code",
      "execution_count": null,
      "metadata": {
        "id": "HbVjBUThN9Be"
      },
      "outputs": [],
      "source": []
    },
    {
      "cell_type": "markdown",
      "metadata": {
        "id": "fQ1b7ktyN8w8"
      },
      "source": []
    },
    {
      "cell_type": "code",
      "execution_count": null,
      "metadata": {
        "colab": {
          "base_uri": "https://localhost:8080/",
          "height": 145,
          "referenced_widgets": [
            "826626af01494966bc5cb905924b08c7",
            "593e043ce5e840e7a90ab8ffe2366689",
            "35885f3851fb455aaabcee3f3cc2d7d5",
            "d3f68d1efc9d4824bafb58a12d011e79",
            "009b9218bde84be5855d67c287fb37c4",
            "924b9e9ee8bc4acaad84cd1570dd26fa",
            "b004b6ab975c4df99ac07d546eeb9edd",
            "4c899492e1d84b0595af98248d37b0cd",
            "ee208f13c0f246dc8af7671dd141a1d8",
            "71dc1dd135864673859243770fd3f673",
            "56f4b9286f14451197c1e9c3b6a7c6e5",
            "fe793e3775e24db7bc1c8793ffee60a1",
            "9973ca1f6de84dafb40b01b495236a51",
            "8433ec106d88497b98f3f8a972c1e94f"
          ]
        },
        "id": "4ABX3o6NN9sw",
        "outputId": "4979a0f2-cbf4-4186-965e-4da118aedf90"
      },
      "outputs": [
        {
          "data": {
            "application/vnd.jupyter.widget-view+json": {
              "model_id": "826626af01494966bc5cb905924b08c7",
              "version_major": 2,
              "version_minor": 0
            },
            "text/plain": [
              "VBox(children=(HTML(value='<center> <img\\nsrc=https://huggingface.co/front/assets/huggingface_logo-noborder.sv…"
            ]
          },
          "metadata": {},
          "output_type": "display_data"
        }
      ],
      "source": [
        "from huggingface_hub import notebook_login\n",
        "\n",
        "notebook_login()"
      ]
    },
    {
      "cell_type": "markdown",
      "metadata": {
        "id": "fu8c9fUrOQ-1"
      },
      "source": []
    },
    {
      "cell_type": "code",
      "execution_count": null,
      "metadata": {
        "id": "3kcFlnG1ORVL"
      },
      "outputs": [],
      "source": [
        "def compute_metrics(pred):\n",
        "    predictions, labels = pred\n",
        "    predictions = np.argmax(predictions, axis=1)\n",
        "    return accuracy_score.compute(predictions=predictions, references=labels)"
      ]
    },
    {
      "cell_type": "code",
      "execution_count": null,
      "metadata": {
        "id": "ms0CKVqslbFS"
      },
      "outputs": [],
      "source": [
        "# !pip install accelerate -U"
      ]
    },
    {
      "cell_type": "code",
      "execution_count": null,
      "metadata": {
        "id": "a2kWGXWkkCrK"
      },
      "outputs": [],
      "source": [
        "batch_size = 48\n",
        "\n",
        "finetuned_ckpt = \"distilbert-base-uncased-finetuned-clinc\"\n",
        "\n",
        "student_training_args = DistillationTrainingArguments(\n",
        "    output_dir=finetuned_ckpt, evaluation_strategy = \"epoch\",\n",
        "    num_train_epochs=5, learning_rate=2e-5,\n",
        "    per_device_train_batch_size=batch_size,\n",
        "    per_device_eval_batch_size=batch_size, alpha=1, weight_decay=0.01,\n",
        "    push_to_hub=True)"
      ]
    },
    {
      "cell_type": "code",
      "execution_count": null,
      "metadata": {
        "id": "gclJfmxDlMg1"
      },
      "outputs": [],
      "source": [
        "id2label = pipe.model.config.id2label\n",
        "label2id = pipe.model.config.label2id"
      ]
    },
    {
      "cell_type": "code",
      "execution_count": null,
      "metadata": {
        "id": "YOD0OHF4mACP"
      },
      "outputs": [],
      "source": [
        "from transformers import AutoConfig\n",
        "\n",
        "num_labels = intents.num_classes\n",
        "student_config = (AutoConfig\n",
        "                  .from_pretrained(student_ckpt, num_labels=num_labels,\n",
        "                                   id2label=id2label, label2id=label2id))"
      ]
    },
    {
      "cell_type": "code",
      "execution_count": null,
      "metadata": {
        "id": "jbw7ljJymHfE"
      },
      "outputs": [],
      "source": [
        "import torch\n",
        "from transformers import AutoModelForSequenceClassification\n",
        "\n",
        "device = torch.device(\"cuda\" if torch.cuda.is_available() else \"cpu\")\n",
        "\n",
        "def student_init():\n",
        "    return (AutoModelForSequenceClassification\n",
        "            .from_pretrained(student_ckpt, config=student_config).to(device))"
      ]
    },
    {
      "cell_type": "code",
      "execution_count": null,
      "metadata": {
        "id": "NO-ZdRGMnFEr"
      },
      "outputs": [],
      "source": [
        "teacher_ckpt = \"transformersbook/bert-base-uncased-finetuned-clinc\"\n",
        "teacher_model = (AutoModelForSequenceClassification\n",
        "                 .from_pretrained(teacher_ckpt, num_labels=num_labels)\n",
        "                 .to(device))"
      ]
    },
    {
      "cell_type": "code",
      "execution_count": null,
      "metadata": {
        "colab": {
          "base_uri": "https://localhost:8080/"
        },
        "id": "egvGSsj8oNfg",
        "outputId": "6c8bc949-ff5a-43f9-df06-806d789df4d9"
      },
      "outputs": [
        {
          "name": "stderr",
          "output_type": "stream",
          "text": [
            "Some weights of DistilBertForSequenceClassification were not initialized from the model checkpoint at distilbert-base-uncased and are newly initialized: ['pre_classifier.bias', 'pre_classifier.weight', 'classifier.weight', 'classifier.bias']\n",
            "You should probably TRAIN this model on a down-stream task to be able to use it for predictions and inference.\n"
          ]
        }
      ],
      "source": [
        "distilbert_trainer = DistillationTrainer(model_init=student_init,\n",
        "    teacher_model=teacher_model, args=student_training_args,\n",
        "    train_dataset=clinc_enc['train'], eval_dataset=clinc_enc['validation'],\n",
        "    compute_metrics=compute_metrics, tokenizer=student_tokenizer)\n"
      ]
    },
    {
      "cell_type": "code",
      "execution_count": null,
      "metadata": {
        "colab": {
          "base_uri": "https://localhost:8080/",
          "height": 341
        },
        "id": "9TeieHbyoOXY",
        "outputId": "95540a24-1e7e-4496-f311-c528f39ac5bb"
      },
      "outputs": [
        {
          "name": "stderr",
          "output_type": "stream",
          "text": [
            "Some weights of DistilBertForSequenceClassification were not initialized from the model checkpoint at distilbert-base-uncased and are newly initialized: ['pre_classifier.weight', 'pre_classifier.bias', 'classifier.bias', 'classifier.weight']\n",
            "You should probably TRAIN this model on a down-stream task to be able to use it for predictions and inference.\n",
            "You're using a DistilBertTokenizerFast tokenizer. Please note that with a fast tokenizer, using the `__call__` method is faster than using a method to encode the text followed by a call to the `pad` method to get a padded encoding.\n"
          ]
        },
        {
          "data": {
            "text/html": [
              "\n",
              "    <div>\n",
              "      \n",
              "      <progress value='1590' max='1590' style='width:300px; height:20px; vertical-align: middle;'></progress>\n",
              "      [1590/1590 05:21, Epoch 5/5]\n",
              "    </div>\n",
              "    <table border=\"1\" class=\"dataframe\">\n",
              "  <thead>\n",
              " <tr style=\"text-align: left;\">\n",
              "      <th>Epoch</th>\n",
              "      <th>Training Loss</th>\n",
              "      <th>Validation Loss</th>\n",
              "      <th>Accuracy</th>\n",
              "    </tr>\n",
              "  </thead>\n",
              "  <tbody>\n",
              "    <tr>\n",
              "      <td>1</td>\n",
              "      <td>No log</td>\n",
              "      <td>3.276164</td>\n",
              "      <td>0.728387</td>\n",
              "    </tr>\n",
              "    <tr>\n",
              "      <td>2</td>\n",
              "      <td>3.782400</td>\n",
              "      <td>1.862351</td>\n",
              "      <td>0.835806</td>\n",
              "    </tr>\n",
              "    <tr>\n",
              "      <td>3</td>\n",
              "      <td>3.782400</td>\n",
              "      <td>1.151239</td>\n",
              "      <td>0.898387</td>\n",
              "    </tr>\n",
              "    <tr>\n",
              "      <td>4</td>\n",
              "      <td>1.685800</td>\n",
              "      <td>0.853978</td>\n",
              "      <td>0.913226</td>\n",
              "    </tr>\n",
              "    <tr>\n",
              "      <td>5</td>\n",
              "      <td>0.898300</td>\n",
              "      <td>0.772440</td>\n",
              "      <td>0.915806</td>\n",
              "    </tr>\n",
              "  </tbody>\n",
              "</table><p>"
            ],
            "text/plain": [
              "<IPython.core.display.HTML object>"
            ]
          },
          "metadata": {},
          "output_type": "display_data"
        },
        {
          "data": {
            "text/plain": [
              "TrainOutput(global_step=1590, training_loss=2.0452332166755722, metrics={'train_runtime': 325.0042, 'train_samples_per_second': 234.612, 'train_steps_per_second': 4.892, 'total_flos': 413013830824140.0, 'train_loss': 2.0452332166755722, 'epoch': 5.0})"
            ]
          },
          "execution_count": 31,
          "metadata": {},
          "output_type": "execute_result"
        }
      ],
      "source": [
        "distilbert_trainer.train()"
      ]
    },
    {
      "cell_type": "code",
      "execution_count": null,
      "metadata": {
        "colab": {
          "base_uri": "https://localhost:8080/",
          "height": 67,
          "referenced_widgets": [
            "2b89ab79f8d8466fadc97f3b848a6bb2",
            "07c69a15cb14478398b86eca7d2bab01",
            "77f0582e9f5945b8bc016c635d5c8991",
            "87def8ba894841e790c1692c86ff42fa",
            "f1ecef716ef54dfbbbafad6890e69a38",
            "81599d11bba54c7a94c0c8f6a0813d4b",
            "4d989500499145d381a286f2403decd1",
            "b92ba5ab0c0842d3b2ca74336522e19b",
            "1ee56aedfaab4332abc89cfde7cf75a1",
            "cdff4d2a7a2b48eda3ef7443bba3675c",
            "5f26a1bc71524f09a15c33f5fc3170f4"
          ]
        },
        "id": "6TkUsUx5oOrL",
        "outputId": "f5210c1d-b987-40ab-dda1-5dcdd4028aad"
      },
      "outputs": [
        {
          "data": {
            "application/vnd.jupyter.widget-view+json": {
              "model_id": "2b89ab79f8d8466fadc97f3b848a6bb2",
              "version_major": 2,
              "version_minor": 0
            },
            "text/plain": [
              "pytorch_model.bin:   0%|          | 0.00/268M [00:00<?, ?B/s]"
            ]
          },
          "metadata": {},
          "output_type": "display_data"
        },
        {
          "data": {
            "application/vnd.google.colaboratory.intrinsic+json": {
              "type": "string"
            },
            "text/plain": [
              "'https://huggingface.co/pradeepiisc/distilbert-base-uncased-finetuned-clinc/tree/main/'"
            ]
          },
          "execution_count": 32,
          "metadata": {},
          "output_type": "execute_result"
        }
      ],
      "source": [
        "distilbert_trainer.push_to_hub(\"Training completed!\")"
      ]
    },
    {
      "cell_type": "code",
      "execution_count": null,
      "metadata": {
        "id": "tUtluYCzoVR0"
      },
      "outputs": [],
      "source": []
    },
    {
      "cell_type": "code",
      "execution_count": null,
      "metadata": {
        "id": "mrbBdPICdi-0"
      },
      "outputs": [],
      "source": [
        "finetuned_ckpt = \"pradeepiisc/distilbert-base-uncased-finetuned-clinc\"\n",
        "pipe = pipeline(\"text-classification\", model=finetuned_ckpt)"
      ]
    },
    {
      "cell_type": "code",
      "execution_count": null,
      "metadata": {
        "colab": {
          "base_uri": "https://localhost:8080/"
        },
        "id": "qu7QHJLJhtUy",
        "outputId": "012f9e3d-68e0-43ed-f95c-b7516ac7a822"
      },
      "outputs": [
        {
          "name": "stdout",
          "output_type": "stream",
          "text": [
            "Model size (MB) - 255.88\n",
            "Average latency (ms) - 38.96 +\\- 2.58\n",
            "Accuracy on test set - 0.855\n"
          ]
        }
      ],
      "source": [
        "optim_type = \"DistilBERT\"\n",
        "pb = PerformanceBenchmark(pipe, clinc[\"test\"], optim_type=optim_type)\n",
        "perf_metrics.update(pb.run_benchmark())"
      ]
    },
    {
      "cell_type": "code",
      "execution_count": null,
      "metadata": {
        "id": "3uI6d8UPvdLx"
      },
      "outputs": [],
      "source": [
        "perf_metrics = {'BERT baseline': {'size_mb': 418.14669132232666,\n",
        "  'time_avg_ms': 166.23851966000018,\n",
        "  'time_std_ms': 65.6637835799195,\n",
        "  'accuracy': 0.8672727272727273},\n",
        " 'DistilBERT': {'size_mb': 255.88143634796143,\n",
        "  'time_avg_ms': 38.95798757000307,\n",
        "  'time_std_ms': 2.578577762061873,\n",
        "  'accuracy': 0.8552727272727273}}"
      ]
    },
    {
      "cell_type": "code",
      "execution_count": null,
      "metadata": {
        "colab": {
          "base_uri": "https://localhost:8080/"
        },
        "id": "oOxDedcPqRvk",
        "outputId": "3460aa16-c1c2-4709-fbd5-6936ba41ff7c"
      },
      "outputs": [
        {
          "data": {
            "text/plain": [
              "{'BERT baseline': {'size_mb': 418.14669132232666,\n",
              "  'time_avg_ms': 166.23851966000018,\n",
              "  'time_std_ms': 65.6637835799195,\n",
              "  'accuracy': 0.8672727272727273},\n",
              " 'DistilBERT': {'size_mb': 255.88143634796143,\n",
              "  'time_avg_ms': 38.95798757000307,\n",
              "  'time_std_ms': 2.578577762061873,\n",
              "  'accuracy': 0.8552727272727273}}"
            ]
          },
          "execution_count": 32,
          "metadata": {},
          "output_type": "execute_result"
        }
      ],
      "source": [
        "perf_metrics"
      ]
    },
    {
      "cell_type": "markdown",
      "metadata": {
        "id": "LDQVrknrxtRs"
      },
      "source": [
        "Plot the metrics"
      ]
    },
    {
      "cell_type": "code",
      "execution_count": null,
      "metadata": {
        "id": "uWXwd2MgxdvG"
      },
      "outputs": [],
      "source": [
        "import matplotlib.pyplot as plt\n",
        "def plot_metrics(perf_metrics, current_optim_type):\n",
        "    df = pd.DataFrame.from_dict(perf_metrics, orient='index')\n",
        "\n",
        "    for idx in df.index:\n",
        "        df_opt = df.loc[idx]\n",
        "        # Add a dashed circle around the current optimization type\n",
        "        if idx == current_optim_type:\n",
        "            plt.scatter(df_opt[\"time_avg_ms\"], df_opt[\"accuracy\"] * 100,\n",
        "                        alpha=0.5, s=df_opt[\"size_mb\"], label=idx,\n",
        "                        marker='$\\u25CC$')\n",
        "        else:\n",
        "            plt.scatter(df_opt[\"time_avg_ms\"], df_opt[\"accuracy\"] * 100,\n",
        "                        s=df_opt[\"size_mb\"], label=idx, alpha=0.5)\n",
        "\n",
        "    legend = plt.legend(bbox_to_anchor=(1,1))\n",
        "    for handle in legend.legendHandles:\n",
        "        handle.set_sizes([20])\n",
        "\n",
        "    plt.ylim(80,90)\n",
        "    # Use the slowest model to define the x-axis range\n",
        "    xlim = int(perf_metrics[\"BERT baseline\"][\"time_avg_ms\"] + 3)\n",
        "    plt.xlim(1, xlim)\n",
        "    plt.ylabel(\"Accuracy (%)\")\n",
        "    plt.xlabel(\"Average latency (ms)\")\n",
        "    plt.show()"
      ]
    },
    {
      "cell_type": "code",
      "execution_count": null,
      "metadata": {
        "colab": {
          "base_uri": "https://localhost:8080/",
          "height": 511
        },
        "id": "Mt9L9xXzxuu6",
        "outputId": "8533f131-c895-494a-d706-9d45a2841a95"
      },
      "outputs": [
        {
          "name": "stderr",
          "output_type": "stream",
          "text": [
            "<ipython-input-35-f9515d53f9e1>:17: MatplotlibDeprecationWarning: The legendHandles attribute was deprecated in Matplotlib 3.7 and will be removed two minor releases later. Use legend_handles instead.\n",
            "  for handle in legend.legendHandles:\n"
          ]
        },
        {
          "data": {
            "image/png": "[encoded data removed]",
            "text/plain": [
              "<Figure size 640x480 with 1 Axes>"
            ]
          },
          "metadata": {},
          "output_type": "display_data"
        }
      ],
      "source": [
        "plot_metrics(perf_metrics, optim_type)"
      ]
    },
    {
      "cell_type": "markdown",
      "metadata": {
        "id": "IByJn0wvNYs7"
      },
      "source": [
        "### Hyperparameter search through Optuna\n",
        "\n",
        "First define the hyperparameter space that we wish to optimize over, for alpha and T\n",
        "\n",
        "we then need to specify the number of trials to run and,  \n",
        "\n",
        "a direction to optimize for, eg. direction=\"maximize\""
      ]
    },
    {
      "cell_type": "code",
      "execution_count": null,
      "metadata": {
        "id": "2pc6JhJVNYY4"
      },
      "outputs": [],
      "source": [
        "def hp_space(trial):\n",
        "    return {\"num_train_epochs\": trial.suggest_int(\"num_train_epochs\", 5, 10),\n",
        "          \"alpha\": trial.suggest_float(\"alpha\", 0, 1),\n",
        "          \"temperature\": trial.suggest_int(\"temperature\", 2, 20)}"
      ]
    },
    {
      "cell_type": "code",
      "execution_count": null,
      "metadata": {
        "id": "HXCNopv_Vyzm"
      },
      "outputs": [],
      "source": [
        "%%capture\n",
        "\n",
        "!pip install optuna\n",
        "!pip install ray[tune]\n",
        "!pip install sigopt\n",
        "!pip install wandb"
      ]
    },
    {
      "cell_type": "code",
      "execution_count": null,
      "metadata": {
        "colab": {
          "background_save": true,
          "base_uri": "https://localhost:8080/",
          "height": 181
        },
        "id": "ARKbKd8BNYR6",
        "outputId": "ccc5bdf6-e765-48f6-805a-f217989bd5bc"
      },
      "outputs": [
        {
          "name": "stderr",
          "output_type": "stream",
          "text": [
            "[I 2023-09-13 11:12:09,939] A new study created in memory with name: no-name-4516a7e5-3e2b-48b9-b985-6bd8ddc175ff\n",
            "Some weights of DistilBertForSequenceClassification were not initialized from the model checkpoint at distilbert-base-uncased and are newly initialized: ['pre_classifier.bias', 'pre_classifier.weight', 'classifier.weight', 'classifier.bias']\n",
            "You should probably TRAIN this model on a down-stream task to be able to use it for predictions and inference.\n"
          ]
        },
        {
          "data": {
            "application/javascript": [
              "\n",
              "        window._wandbApiKey = new Promise((resolve, reject) => {\n",
              "            function loadScript(url) {\n",
              "            return new Promise(function(resolve, reject) {\n",
              "                let newScript = document.createElement(\"script\");\n",
              "                newScript.onerror = reject;\n",
              "                newScript.onload = resolve;\n",
              "                document.body.appendChild(newScript);\n",
              "                newScript.src = url;\n",
              "            });\n",
              "            }\n",
              "            loadScript(\"https://cdn.jsdelivr.net/npm/postmate/build/postmate.min.js\").then(() => {\n",
              "            const iframe = document.createElement('iframe')\n",
              "            iframe.style.cssText = \"width:0;height:0;border:none\"\n",
              "            document.body.appendChild(iframe)\n",
              "            const handshake = new Postmate({\n",
              "                container: iframe,\n",
              "                url: 'https://wandb.ai/authorize'\n",
              "            });\n",
              "            const timeout = setTimeout(() => reject(\"Couldn't auto authenticate\"), 5000)\n",
              "            handshake.then(function(child) {\n",
              "                child.on('authorize', data => {\n",
              "                    clearTimeout(timeout)\n",
              "                    resolve(data)\n",
              "                });\n",
              "            });\n",
              "            })\n",
              "        });\n",
              "    "
            ],
            "text/plain": [
              "<IPython.core.display.Javascript object>"
            ]
          },
          "metadata": {},
          "output_type": "display_data"
        },
        {
          "name": "stderr",
          "output_type": "stream",
          "text": [
            "\u001b[34m\u001b[1mwandb\u001b[0m: Logging into wandb.ai. (Learn how to deploy a W&B server locally: https://wandb.me/wandb-server)\n",
            "\u001b[34m\u001b[1mwandb\u001b[0m: You can find your API key in your browser here: https://wandb.ai/authorize\n",
            "wandb: Paste an API key from your profile and hit enter, or press ctrl+c to quit:"
          ]
        }
      ],
      "source": [
        "#Kept n_trials as 5 instead of 20 to reduce the time to optimize\n",
        "best_run = distilbert_trainer.hyperparameter_search(\n",
        "      n_trials=4, direction=\"maximize\", hp_space=hp_space)"
      ]
    },
    {
      "cell_type": "code",
      "execution_count": null,
      "metadata": {
        "id": "LuL2RvuVxxL2"
      },
      "outputs": [],
      "source": [
        "print(best_run)"
      ]
    },
    {
      "cell_type": "markdown",
      "metadata": {
        "id": "RQlR7eBvR4MF"
      },
      "source": [
        "The value of alpha suggest most of the training signal is coming from the knowledge distillation term\n",
        "\n",
        "we will update our training arguments with these values and run the final training run"
      ]
    },
    {
      "cell_type": "code",
      "execution_count": null,
      "metadata": {
        "id": "OxBHByFESvKO"
      },
      "outputs": [],
      "source": [
        "for k,v in best_run.hyperparameters.items():\n",
        "    setattr(student_training_args, k, v)\n",
        "\n",
        "# Define a new repository to store our distilled model\n",
        "distilled_ckpt = \"distilbert-base-uncased-distilled-clinc\"\n",
        "student_training_args.output_dir = distilled_ckpt\n",
        "\n",
        "# Create a new Trainer with optimal parameters\n",
        "distil_trainer = DistillationTrainer(model_init=student_init,\n",
        "    teacher_model=teacher_model, args=student_training_args,\n",
        "    train_dataset=clinc_enc['train'], eval_dataset=clinc_enc['validation'],\n",
        "    compute_metrics=compute_metrics, tokenizer=student_tokenizer)\n",
        "\n"
      ]
    },
    {
      "cell_type": "code",
      "execution_count": null,
      "metadata": {
        "id": "lxwuCZwbWMto"
      },
      "outputs": [],
      "source": [
        "distil_trainer.train()"
      ]
    },
    {
      "cell_type": "code",
      "execution_count": null,
      "metadata": {
        "id": "Q-N-8GlsWK_n"
      },
      "outputs": [],
      "source": [
        "distil_trainer.push_to_hub(\"Training complete\")"
      ]
    },
    {
      "cell_type": "markdown",
      "metadata": {
        "id": "dH6duppfXL8u"
      },
      "source": [
        "## Benchmark the distillation"
      ]
    },
    {
      "cell_type": "code",
      "execution_count": null,
      "metadata": {
        "colab": {
          "base_uri": "https://localhost:8080/",
          "height": 263,
          "referenced_widgets": [
            "5e22a2d0b785475c9d75a455301e135e",
            "62e11f871b804f6e9cc8c6e121c62a24",
            "9ccfa1118eb54f3cb6d9dcac7e32067e",
            "99f21a754a574a97aedf86e8177eb50d",
            "455b6d0d587d4880aa24762b6b73e2d0",
            "a330dfc41b2a4a3587baf77d65d24a4b",
            "402deb4a145e48008656345b1d6aad6e",
            "f08cf6243d084f54814db9679288246a",
            "a9ea870fd336471e930bc341887d006e",
            "7a38594ce6e64416b5d2ebcac1289996",
            "4d229cffa3844ccaa66f83243a5542ad",
            "949ad1d92e04412f9d030cff4ba86fb6",
            "c3c669e4bda54e63867287edcbd64756",
            "3040a6f785e545e9919f825296662d9e",
            "037f97a8e3bb4fd3a1fa9185e2c90412",
            "2e6fea7358174341bc8059be8ada4840",
            "3a1754e274d54ad99029de1174f77395",
            "a3e274b3abf04db4b2481e577b13b4f6",
            "3f87ca0b2429437191d4628361394ec1",
            "3dfc176965d84a9c9c3a62d55f3b908c",
            "a17a5f25c3014eb68c90f22dccfd8b04",
            "1d6d9f7a331a40bd81842ee2640bbf04",
            "11c5d4cfef3246ed9b8ae7502214d6a6",
            "e224b16125994a5fb0f2b123abcf9233",
            "f6650f803cca4a2eb5b546fbfa5d3d3c",
            "ecab734d8f474775bb11c1923ecf707a",
            "bd2dbc75940244d1b04fc9aa54ce755e",
            "4c66231034a54bf4a57d2417dc4825c4",
            "f9a1586107544f6189020b5db189b030",
            "696b111055024535b37c1b3ef945d145",
            "7a570d93253c4d7baf165c423e3e737a",
            "2d927a44a72949f491e20e9d83f8fb92",
            "d8ca085daace4d448f7483284b86f28b",
            "c0ef3a8309054a6480eeb6f984d37106",
            "7879753fe2b140058d8ca076b46fe6dd",
            "519669fe7a0540b29655bad46956b099",
            "d68a5483a03f4977b0b820e1e43f2a36",
            "761e8b3d0043453394b0e17acc755e9c",
            "a34b6cd46f0b4b5e87fc40885bbe0333",
            "d13b8169397949379b776dcf72100388",
            "64a97b7f8a4d4b789607e1e41e06b44a",
            "683225eaa58c44b19888ecc0f422018a",
            "fdb64bc2c95e41bebf75f52e69ebe461",
            "f09ca565334a4f5cb01a4158cac62f33",
            "301e9b98fe1b4aa59936f8cab1b49c6f",
            "403b8b628d4c4e7f8abfbcc192f01823",
            "cda4808344174d53a222be625d995466",
            "75aeea295c5946a5ac4b098deeb32243",
            "28bc73e93bd744508e9f233e9ce03e5e",
            "ff9f38ff056342048fdfe1072f872fb7",
            "859be4ca073c44cba9bf74feb7f658c5",
            "0ed1548497334d9195f1c9cb6f4dac0c",
            "4cc9b761b6ef42c5986f0724a8efd299",
            "d07d482345924b2ea24c6f059c3682c4",
            "4b9265c1f99e45dbbabd108b5feb23ba",
            "0e0631c606944379bae3d7e43b5d582a",
            "95b8aa0608d54e16a675703109b5a8e0",
            "7cbacc572476422cbf573457bdc064fc",
            "931191b18df94007aea6cf5e02603770",
            "adf0d2040c514f13b31a1126af52d648",
            "bae770846c984454af7dbcc96aa435fc",
            "5d44c622117f478e82106afbf0dcdf29",
            "2749ad7716e54250b6bac11168a271ad",
            "ef6aaa9b9a3b47f79469ce9a0de7a212",
            "57c64567a39b4c929837ac3c03263c35",
            "4cbb6640e5a7419fb20f500cbe788ff5"
          ]
        },
        "id": "oJfDDqfrWRXz",
        "outputId": "1a2cf69f-6449-4d3c-a3e9-f018bec10f96"
      },
      "outputs": [
        {
          "data": {
            "application/vnd.jupyter.widget-view+json": {
              "model_id": "5e22a2d0b785475c9d75a455301e135e",
              "version_major": 2,
              "version_minor": 0
            },
            "text/plain": [
              "Downloading (…)lve/main/config.json:   0%|          | 0.00/8.21k [00:00<?, ?B/s]"
            ]
          },
          "metadata": {},
          "output_type": "display_data"
        },
        {
          "data": {
            "application/vnd.jupyter.widget-view+json": {
              "model_id": "949ad1d92e04412f9d030cff4ba86fb6",
              "version_major": 2,
              "version_minor": 0
            },
            "text/plain": [
              "Downloading pytorch_model.bin:   0%|          | 0.00/268M [00:00<?, ?B/s]"
            ]
          },
          "metadata": {},
          "output_type": "display_data"
        },
        {
          "data": {
            "application/vnd.jupyter.widget-view+json": {
              "model_id": "11c5d4cfef3246ed9b8ae7502214d6a6",
              "version_major": 2,
              "version_minor": 0
            },
            "text/plain": [
              "Downloading (…)okenizer_config.json:   0%|          | 0.00/333 [00:00<?, ?B/s]"
            ]
          },
          "metadata": {},
          "output_type": "display_data"
        },
        {
          "data": {
            "application/vnd.jupyter.widget-view+json": {
              "model_id": "c0ef3a8309054a6480eeb6f984d37106",
              "version_major": 2,
              "version_minor": 0
            },
            "text/plain": [
              "Downloading (…)solve/main/vocab.txt:   0%|          | 0.00/232k [00:00<?, ?B/s]"
            ]
          },
          "metadata": {},
          "output_type": "display_data"
        },
        {
          "data": {
            "application/vnd.jupyter.widget-view+json": {
              "model_id": "301e9b98fe1b4aa59936f8cab1b49c6f",
              "version_major": 2,
              "version_minor": 0
            },
            "text/plain": [
              "Downloading (…)/main/tokenizer.json:   0%|          | 0.00/466k [00:00<?, ?B/s]"
            ]
          },
          "metadata": {},
          "output_type": "display_data"
        },
        {
          "data": {
            "application/vnd.jupyter.widget-view+json": {
              "model_id": "0e0631c606944379bae3d7e43b5d582a",
              "version_major": 2,
              "version_minor": 0
            },
            "text/plain": [
              "Downloading (…)cial_tokens_map.json:   0%|          | 0.00/112 [00:00<?, ?B/s]"
            ]
          },
          "metadata": {},
          "output_type": "display_data"
        },
        {
          "name": "stdout",
          "output_type": "stream",
          "text": [
            "Model size (MB) - 255.88\n",
            "Average latency (ms) - 109.44 +\\- 45.68\n",
            "Accuracy on test set - 0.868\n"
          ]
        }
      ],
      "source": [
        "distilled_ckpt = \"transformersbook/distilbert-base-uncased-distilled-clinc\"\n",
        "# If the above model is trained and pushed to personal huggingface accouont, remove transformersbook/ from above line\n",
        "pipe = pipeline(\"text-classification\", model=distilled_ckpt)\n",
        "optim_type = \"Distillation\"\n",
        "pb = PerformanceBenchmark(pipe, clinc[\"test\"], optim_type=optim_type)\n",
        "perf_metrics.update(pb.run_benchmark())"
      ]
    },
    {
      "cell_type": "code",
      "execution_count": null,
      "metadata": {
        "id": "Uzx85Dvj9-kf"
      },
      "outputs": [],
      "source": [
        "perf_metrics = {'BERT baseline': {'size_mb': 418.14669132232666,\n",
        "  'time_avg_ms': 166.23851966000018,\n",
        "  'time_std_ms': 65.6637835799195,\n",
        "  'accuracy': 0.8672727272727273},\n",
        " 'DistilBERT': {'size_mb': 255.88143634796143,\n",
        "  'time_avg_ms': 38.95798757000307,\n",
        "  'time_std_ms': 2.578577762061873,\n",
        "  'accuracy': 0.8552727272727273},\n",
        " 'Distillation': {'size_mb': 255.88143634796143,\n",
        "  'time_avg_ms': 109.43876887999636,\n",
        "  'time_std_ms': 45.67907648048472,\n",
        "  'accuracy': 0.8683636363636363}}"
      ]
    },
    {
      "cell_type": "code",
      "execution_count": null,
      "metadata": {
        "colab": {
          "base_uri": "https://localhost:8080/"
        },
        "id": "0jLg0oYiXYT8",
        "outputId": "4a58ca69-2917-4169-85e8-ea5e7d21a18d"
      },
      "outputs": [
        {
          "data": {
            "text/plain": [
              "{'BERT baseline': {'size_mb': 418.14669132232666,\n",
              "  'time_avg_ms': 166.23851966000018,\n",
              "  'time_std_ms': 65.6637835799195,\n",
              "  'accuracy': 0.8672727272727273},\n",
              " 'DistilBERT': {'size_mb': 255.88143634796143,\n",
              "  'time_avg_ms': 38.95798757000307,\n",
              "  'time_std_ms': 2.578577762061873,\n",
              "  'accuracy': 0.8552727272727273},\n",
              " 'Distillation': {'size_mb': 255.88143634796143,\n",
              "  'time_avg_ms': 109.43876887999636,\n",
              "  'time_std_ms': 45.67907648048472,\n",
              "  'accuracy': 0.8683636363636363}}"
            ]
          },
          "execution_count": 40,
          "metadata": {},
          "output_type": "execute_result"
        }
      ],
      "source": [
        "perf_metrics"
      ]
    },
    {
      "cell_type": "code",
      "execution_count": null,
      "metadata": {
        "colab": {
          "base_uri": "https://localhost:8080/",
          "height": 511
        },
        "id": "bKhithHOXUUw",
        "outputId": "a2566c33-be66-4b70-bf19-6cd0316327bc"
      },
      "outputs": [
        {
          "name": "stderr",
          "output_type": "stream",
          "text": [
            "<ipython-input-36-f9515d53f9e1>:17: MatplotlibDeprecationWarning: The legendHandles attribute was deprecated in Matplotlib 3.7 and will be removed two minor releases later. Use legend_handles instead.\n",
            "  for handle in legend.legendHandles:\n"
          ]
        },
        {
          "data": {
            "image/png": "[encoded data removed]",
            "text/plain": [
              "<Figure size 640x480 with 1 Axes>"
            ]
          },
          "metadata": {},
          "output_type": "display_data"
        }
      ],
      "source": [
        "plot_metrics(perf_metrics, optim_type)"
      ]
    },
    {
      "cell_type": "markdown",
      "metadata": {
        "id": "-78_u2RXXkG7"
      },
      "source": [
        "Accuracy has improved to the extent that it beats the original BERT method but it is possible due to the fact that BERT was not fine tuned as we did it for DistilBert using Optuna."
      ]
    },
    {
      "cell_type": "markdown",
      "metadata": {
        "id": "gsXuu1swXlaT"
      },
      "source": [
        "# Quantization"
      ]
    },
    {
      "cell_type": "markdown",
      "metadata": {
        "id": "5qTl_wwtuRG8"
      },
      "source": [
        "Why Transformers are ideal for quantization ?\n",
        "\n",
        "pick out one of the attention weight matrices from our distilled model and plot the frequency distribution of the values\n",
        "\n",
        "Plot to show that weights and activations tend to take values between a smaller range"
      ]
    },
    {
      "cell_type": "code",
      "execution_count": null,
      "metadata": {
        "colab": {
          "base_uri": "https://localhost:8080/",
          "height": 430
        },
        "id": "Dq9SJRl8Xkbe",
        "outputId": "6a22ff4c-4485-482a-bd89-83136896597a"
      },
      "outputs": [
        {
          "data": {
            "image/png": "[encoded data removed]",
            "text/plain": [
              "<Figure size 640x480 with 1 Axes>"
            ]
          },
          "metadata": {},
          "output_type": "display_data"
        }
      ],
      "source": [
        "import matplotlib.pyplot as plt\n",
        "state_dict = pipe.model.state_dict()\n",
        "weights = state_dict[\"distilbert.transformer.layer.0.attention.out_lin.weight\"]\n",
        "plt.hist(weights.flatten().numpy(), bins=250, range=(-0.3,0.3), edgecolor=\"C0\")\n",
        "plt.show()"
      ]
    },
    {
      "cell_type": "markdown",
      "metadata": {
        "id": "iKLl3gdmx7tB"
      },
      "source": [
        "Quantization of the above tensor is done as follows"
      ]
    },
    {
      "cell_type": "code",
      "execution_count": null,
      "metadata": {
        "id": "a5UJjrgkx-fO"
      },
      "outputs": [],
      "source": [
        "zero_point = 0\n",
        "scale = (weights.max() - weights.min()) / (127 - (-128))"
      ]
    },
    {
      "cell_type": "code",
      "execution_count": null,
      "metadata": {
        "colab": {
          "base_uri": "https://localhost:8080/"
        },
        "id": "bhRSdt-YzoXG",
        "outputId": "7e4932a3-d241-4aad-cb2c-584a1d2ddfe1"
      },
      "outputs": [
        {
          "data": {
            "text/plain": [
              "tensor([[ -5,  -8,   0,  ...,  -6,  -4,   8],\n",
              "        [  9,   3,   1,  ...,  -4,   7,   0],\n",
              "        [ -9,  -5,   5,  ...,   0,   5,  -3],\n",
              "        ...,\n",
              "        [  5,   0,  12,  ...,   0,   6,  -1],\n",
              "        [  0,  -2, -12,  ...,  11,  -7, -13],\n",
              "        [-13,  -1, -10,  ...,   8,   2,  -1]], dtype=torch.int8)"
            ]
          },
          "execution_count": 46,
          "metadata": {},
          "output_type": "execute_result"
        }
      ],
      "source": [
        "(weights / scale + zero_point).clamp(-128, 127).round().char()"
      ]
    },
    {
      "cell_type": "code",
      "execution_count": null,
      "metadata": {
        "colab": {
          "base_uri": "https://localhost:8080/"
        },
        "id": "aZnpu0PEFfPj",
        "outputId": "4e479cff-5433-422a-b365-fa1d9781007a"
      },
      "outputs": [
        {
          "data": {
            "text/plain": [
              "tensor([[ -5,  -8,   0,  ...,  -6,  -4,   8],\n",
              "        [  9,   3,   1,  ...,  -4,   7,   0],\n",
              "        [ -9,  -5,   5,  ...,   0,   5,  -3],\n",
              "        ...,\n",
              "        [  5,   0,  12,  ...,   0,   6,  -1],\n",
              "        [  0,  -2, -12,  ...,  11,  -7, -13],\n",
              "        [-13,  -1, -10,  ...,   8,   2,  -1]], dtype=torch.int8)"
            ]
          },
          "execution_count": 47,
          "metadata": {},
          "output_type": "execute_result"
        }
      ],
      "source": [
        "from torch import quantize_per_tensor\n",
        "\n",
        "dtype = torch.qint8\n",
        "quantized_weights = quantize_per_tensor(weights, scale, zero_point, dtype)\n",
        "quantized_weights.int_repr()"
      ]
    },
    {
      "cell_type": "markdown",
      "metadata": {
        "id": "GG-OgWr3FrnH"
      },
      "source": [
        "Time taken to multiple two tensors - FP32 and INT8"
      ]
    },
    {
      "cell_type": "code",
      "execution_count": null,
      "metadata": {
        "colab": {
          "base_uri": "https://localhost:8080/"
        },
        "id": "97a2Ss2OFtwT",
        "outputId": "c2eea1cb-54c0-4375-a9fb-67469d5245c0"
      },
      "outputs": [
        {
          "name": "stdout",
          "output_type": "stream",
          "text": [
            "7.86 ms ± 1.42 ms per loop (mean ± std. dev. of 7 runs, 100 loops each)\n"
          ]
        }
      ],
      "source": [
        "%%timeit\n",
        "weights @ weights"
      ]
    },
    {
      "cell_type": "code",
      "execution_count": null,
      "metadata": {
        "id": "sB0rZvPIF-Vt"
      },
      "outputs": [],
      "source": [
        "from torch.nn.quantized import QFunctional\n",
        "\n",
        "q_fn = QFunctional()"
      ]
    },
    {
      "cell_type": "code",
      "execution_count": null,
      "metadata": {
        "colab": {
          "base_uri": "https://localhost:8080/"
        },
        "id": "K5Bei7LILyoW",
        "outputId": "a956b8d4-4e8e-41ca-bddc-726881cad931"
      },
      "outputs": [
        {
          "name": "stdout",
          "output_type": "stream",
          "text": [
            "233 µs ± 5.43 µs per loop (mean ± std. dev. of 7 runs, 1000 loops each)\n"
          ]
        }
      ],
      "source": [
        "%%timeit\n",
        "q_fn.mul(quantized_weights, quantized_weights)"
      ]
    },
    {
      "cell_type": "markdown",
      "metadata": {
        "id": "7kFlrbLVMw1L"
      },
      "source": [
        "INT8 tensor multiplication is at least 100times faster than the FP32 tensor multiplication"
      ]
    },
    {
      "cell_type": "markdown",
      "metadata": {
        "id": "RYsGKshZODVP"
      },
      "source": [
        "Also, INT8 is 4 times space efficient compared to FP32"
      ]
    },
    {
      "cell_type": "code",
      "execution_count": null,
      "metadata": {
        "colab": {
          "base_uri": "https://localhost:8080/"
        },
        "id": "j9AoFmqzLzKP",
        "outputId": "63f25efc-32ca-4818-d73f-74e1081bc518"
      },
      "outputs": [
        {
          "name": "stderr",
          "output_type": "stream",
          "text": [
            "<ipython-input-51-600687c2638a>:3: UserWarning: TypedStorage is deprecated. It will be removed in the future and UntypedStorage will be the only storage class. This should only matter to you if you are using storages directly.  To access UntypedStorage directly, use tensor.untyped_storage() instead of tensor.storage()\n",
            "  sys.getsizeof(weights.storage()) / sys.getsizeof(quantized_weights.storage())\n"
          ]
        },
        {
          "data": {
            "text/plain": [
              "3.999755879241598"
            ]
          },
          "execution_count": 51,
          "metadata": {},
          "output_type": "execute_result"
        }
      ],
      "source": [
        "import sys\n",
        "\n",
        "sys.getsizeof(weights.storage()) / sys.getsizeof(quantized_weights.storage())"
      ]
    },
    {
      "cell_type": "markdown",
      "metadata": {
        "id": "kzMpv2Q7WIVY"
      },
      "source": [
        "Dynamic Quantization"
      ]
    },
    {
      "cell_type": "code",
      "execution_count": null,
      "metadata": {
        "id": "cQ8mnhlBOBXq"
      },
      "outputs": [],
      "source": [
        "from torch.quantization import quantize_dynamic\n",
        "\n",
        "model_ckpt = \"transformersbook/distilbert-base-uncased-distilled-clinc\"\n",
        "tokenizer = AutoTokenizer.from_pretrained(model_ckpt)\n",
        "model = (AutoModelForSequenceClassification\n",
        "         .from_pretrained(model_ckpt).to(\"cpu\"))\n",
        "\n",
        "model_quantized = quantize_dynamic(model, {nn.Linear}, dtype=torch.qint8)"
      ]
    },
    {
      "cell_type": "markdown",
      "metadata": {
        "id": "GEWaqCIjWeWv"
      },
      "source": [
        "## Benchmarkign the Quantized model"
      ]
    },
    {
      "cell_type": "code",
      "execution_count": null,
      "metadata": {
        "colab": {
          "base_uri": "https://localhost:8080/"
        },
        "id": "9nLvwDbCWf9P",
        "outputId": "eea33a37-fb7e-4efa-ab91-43a5828c10c9"
      },
      "outputs": [
        {
          "name": "stdout",
          "output_type": "stream",
          "text": [
            "Model size (MB) - 132.39\n",
            "Average latency (ms) - 34.19 +\\- 33.20\n",
            "Accuracy on test set - 0.876\n"
          ]
        }
      ],
      "source": [
        "pipe = pipeline(\"text-classification\", model=model_quantized,\n",
        "                tokenizer=tokenizer)\n",
        "optim_type = \"Distillation + quantization\"\n",
        "pb = PerformanceBenchmark(pipe, clinc[\"test\"], optim_type=optim_type)\n",
        "perf_metrics.update(pb.run_benchmark())"
      ]
    },
    {
      "cell_type": "code",
      "execution_count": null,
      "metadata": {
        "colab": {
          "base_uri": "https://localhost:8080/"
        },
        "id": "9CqYjGfu-UeN",
        "outputId": "45abbef5-7946-4d65-b791-b80906b89596"
      },
      "outputs": [
        {
          "data": {
            "text/plain": [
              "{'BERT baseline': {'size_mb': 418.14669132232666,\n",
              "  'time_avg_ms': 166.23851966000018,\n",
              "  'time_std_ms': 65.6637835799195,\n",
              "  'accuracy': 0.8672727272727273},\n",
              " 'DistilBERT': {'size_mb': 255.88143634796143,\n",
              "  'time_avg_ms': 38.95798757000307,\n",
              "  'time_std_ms': 2.578577762061873,\n",
              "  'accuracy': 0.8552727272727273},\n",
              " 'Distillation': {'size_mb': 255.88143634796143,\n",
              "  'time_avg_ms': 109.43876887999636,\n",
              "  'time_std_ms': 45.67907648048472,\n",
              "  'accuracy': 0.8683636363636363},\n",
              " 'Distillation + quantization': {'size_mb': 132.3907289505005,\n",
              "  'time_avg_ms': 34.190072500005044,\n",
              "  'time_std_ms': 33.1990029983173,\n",
              "  'accuracy': 0.8758181818181818}}"
            ]
          },
          "execution_count": 54,
          "metadata": {},
          "output_type": "execute_result"
        }
      ],
      "source": [
        "perf_metrics"
      ]
    },
    {
      "cell_type": "code",
      "execution_count": null,
      "metadata": {
        "colab": {
          "base_uri": "https://localhost:8080/",
          "height": 511
        },
        "id": "pMpPd8BSYagZ",
        "outputId": "ccaef65d-73d0-4713-ecda-821fd4dc0379"
      },
      "outputs": [
        {
          "name": "stderr",
          "output_type": "stream",
          "text": [
            "<ipython-input-36-f9515d53f9e1>:17: MatplotlibDeprecationWarning: The legendHandles attribute was deprecated in Matplotlib 3.7 and will be removed two minor releases later. Use legend_handles instead.\n",
            "  for handle in legend.legendHandles:\n"
          ]
        },
        {
          "data": {
            "image/png": "[encoded data removed]",
            "text/plain": [
              "<Figure size 640x480 with 1 Axes>"
            ]
          },
          "metadata": {},
          "output_type": "display_data"
        }
      ],
      "source": [
        "plot_metrics(perf_metrics, optim_type)"
      ]
    },
    {
      "cell_type": "markdown",
      "metadata": {
        "id": "yMXiKbNTbmez"
      },
      "source": [
        "the quantized model is almost half the size of our distilled one and has even gained a slight accuracy boost!"
      ]
    },
    {
      "cell_type": "markdown",
      "metadata": {
        "id": "LrKpS6fkyOiC"
      },
      "source": [
        "## Optimizing Inference using ONNX and the ONNX Runtime"
      ]
    },
    {
      "cell_type": "code",
      "execution_count": null,
      "metadata": {
        "id": "cv4AiPUZYtn4"
      },
      "outputs": [],
      "source": [
        "import os\n",
        "from psutil import cpu_count\n",
        "\n",
        "os.environ[\"OMP_NUM_THREADS\"] = f\"{cpu_count()}\"\n",
        "os.environ[\"OMP_WAIT_POLICY\"] = \"ACTIVE\""
      ]
    },
    {
      "cell_type": "code",
      "execution_count": null,
      "metadata": {
        "colab": {
          "base_uri": "https://localhost:8080/",
          "height": 258
        },
        "id": "I4yWeGZ48nbQ",
        "outputId": "2ccba4d0-d487-4257-abb0-a4c7801f55e3"
      },
      "outputs": [
        {
          "name": "stdout",
          "output_type": "stream",
          "text": [
            "Collecting onnx\n",
            "  Downloading onnx-1.14.1-cp310-cp310-manylinux_2_17_x86_64.manylinux2014_x86_64.whl (14.6 MB)\n",
            "\u001b[2K     \u001b[90m━━━━━━━━━━━━━━━━━━━━━━━━━━━━━━━━━━━━━━━━\u001b[0m \u001b[32m14.6/14.6 MB\u001b[0m \u001b[31m26.7 MB/s\u001b[0m eta \u001b[36m0:00:00\u001b[0m\n",
            "\u001b[?25hRequirement already satisfied: numpy in /usr/local/lib/python3.10/dist-packages (from onnx) (1.23.5)\n",
            "Requirement already satisfied: protobuf>=3.20.2 in /usr/local/lib/python3.10/dist-packages (from onnx) (3.20.3)\n",
            "Requirement already satisfied: typing-extensions>=3.6.2.1 in /usr/local/lib/python3.10/dist-packages (from onnx) (4.5.0)\n",
            "Installing collected packages: onnx\n",
            "Successfully installed onnx-1.14.1\n"
          ]
        },
        {
          "data": {
            "application/vnd.colab-display-data+json": {
              "pip_warning": {
                "packages": [
                  "onnx"
                ]
              }
            }
          },
          "metadata": {},
          "output_type": "display_data"
        }
      ],
      "source": [
        "# !pip install --upgrade onnx"
      ]
    },
    {
      "cell_type": "code",
      "execution_count": null,
      "metadata": {
        "id": "Xd-kvvne873j"
      },
      "outputs": [],
      "source": [
        "import onnx"
      ]
    },
    {
      "cell_type": "code",
      "execution_count": null,
      "metadata": {
        "id": "5B6Z7x6B89AJ"
      },
      "outputs": [],
      "source": []
    },
    {
      "cell_type": "code",
      "execution_count": null,
      "metadata": {
        "colab": {
          "base_uri": "https://localhost:8080/"
        },
        "id": "jc9kiUU7Evow",
        "outputId": "4815a8fb-16ce-47ce-ef08-600456072687"
      },
      "outputs": [
        {
          "name": "stdout",
          "output_type": "stream",
          "text": [
            "ONNX opset version set to: 12\n",
            "Loading pipeline (model: transformersbook/distilbert-base-uncased-distilled-clinc, tokenizer: DistilBertTokenizerFast(name_or_path='transformersbook/distilbert-base-uncased-distilled-clinc', vocab_size=30522, model_max_length=512, is_fast=True, padding_side='right', truncation_side='right', special_tokens={'unk_token': '[UNK]', 'sep_token': '[SEP]', 'pad_token': '[PAD]', 'cls_token': '[CLS]', 'mask_token': '[MASK]'}, clean_up_tokenization_spaces=True))\n",
            "Creating folder onnx\n",
            "Using framework PyTorch: 2.0.1+cu118\n",
            "Found input input_ids with shape: {0: 'batch', 1: 'sequence'}\n",
            "Found input attention_mask with shape: {0: 'batch', 1: 'sequence'}\n",
            "Found output output_0 with shape: {0: 'batch'}\n",
            "Ensuring inputs are in correct order\n",
            "head_mask is not present in the generated input list.\n",
            "Generated inputs order: ['input_ids', 'attention_mask']\n",
            "============= Diagnostic Run torch.onnx.export version 2.0.1+cu118 =============\n",
            "verbose: False, log level: Level.ERROR\n",
            "======================= 0 NONE 0 NOTE 0 WARNING 0 ERROR ========================\n",
            "\n"
          ]
        }
      ],
      "source": [
        "from transformers.convert_graph_to_onnx import convert\n",
        "\n",
        "model_ckpt = \"transformersbook/distilbert-base-uncased-distilled-clinc\"\n",
        "onnx_model_path = Path(\"onnx/model.onnx\")\n",
        "convert(framework=\"pt\", model=model_ckpt, tokenizer=tokenizer,\n",
        "        output=onnx_model_path, opset=12, pipeline_name=\"text-classification\")"
      ]
    },
    {
      "cell_type": "markdown",
      "metadata": {
        "id": "XmkY3mW53HQs"
      },
      "source": [
        "### create an InferenceSession instance to feed inputs to the model"
      ]
    },
    {
      "cell_type": "code",
      "execution_count": null,
      "metadata": {
        "colab": {
          "base_uri": "https://localhost:8080/"
        },
        "id": "e1TN0WEy_d4f",
        "outputId": "9b436ef8-bd6d-47dc-f83c-39956776ec93"
      },
      "outputs": [
        {
          "name": "stdout",
          "output_type": "stream",
          "text": [
            "Collecting onnxruntime\n",
            "  Downloading onnxruntime-1.15.1-cp310-cp310-manylinux_2_17_x86_64.manylinux2014_x86_64.whl (5.9 MB)\n",
            "\u001b[2K     \u001b[90m━━━━━━━━━━━━━━━━━━━━━━━━━━━━━━━━━━━━━━━━\u001b[0m \u001b[32m5.9/5.9 MB\u001b[0m \u001b[31m13.0 MB/s\u001b[0m eta \u001b[36m0:00:00\u001b[0m\n",
            "\u001b[?25hCollecting coloredlogs (from onnxruntime)\n",
            "  Downloading coloredlogs-15.0.1-py2.py3-none-any.whl (46 kB)\n",
            "\u001b[2K     \u001b[90m━━━━━━━━━━━━━━━━━━━━━━━━━━━━━━━━━━━━━━━━\u001b[0m \u001b[32m46.0/46.0 kB\u001b[0m \u001b[31m2.9 MB/s\u001b[0m eta \u001b[36m0:00:00\u001b[0m\n",
            "\u001b[?25hRequirement already satisfied: flatbuffers in /usr/local/lib/python3.10/dist-packages (from onnxruntime) (23.5.26)\n",
            "Requirement already satisfied: numpy>=1.21.6 in /usr/local/lib/python3.10/dist-packages (from onnxruntime) (1.23.5)\n",
            "Requirement already satisfied: packaging in /usr/local/lib/python3.10/dist-packages (from onnxruntime) (23.1)\n",
            "Requirement already satisfied: protobuf in /usr/local/lib/python3.10/dist-packages (from onnxruntime) (3.20.3)\n",
            "Requirement already satisfied: sympy in /usr/local/lib/python3.10/dist-packages (from onnxruntime) (1.12)\n",
            "Collecting humanfriendly>=9.1 (from coloredlogs->onnxruntime)\n",
            "  Downloading humanfriendly-10.0-py2.py3-none-any.whl (86 kB)\n",
            "\u001b[2K     \u001b[90m━━━━━━━━━━━━━━━━━━━━━━━━━━━━━━━━━━━━━━━━\u001b[0m \u001b[32m86.8/86.8 kB\u001b[0m \u001b[31m10.7 MB/s\u001b[0m eta \u001b[36m0:00:00\u001b[0m\n",
            "\u001b[?25hRequirement already satisfied: mpmath>=0.19 in /usr/local/lib/python3.10/dist-packages (from sympy->onnxruntime) (1.3.0)\n",
            "Installing collected packages: humanfriendly, coloredlogs, onnxruntime\n",
            "Successfully installed coloredlogs-15.0.1 humanfriendly-10.0 onnxruntime-1.15.1\n"
          ]
        }
      ],
      "source": [
        "!pip install onnxruntime"
      ]
    },
    {
      "cell_type": "code",
      "execution_count": null,
      "metadata": {
        "id": "kIa5VQo23Ggn"
      },
      "outputs": [],
      "source": [
        "from onnxruntime import (GraphOptimizationLevel, InferenceSession,\n",
        "                         SessionOptions)\n",
        "\n",
        "def create_model_for_provider(model_path, provider=\"CPUExecutionProvider\"):\n",
        "    options = SessionOptions()\n",
        "    options.intra_op_num_threads = 1\n",
        "    options.graph_optimization_level = GraphOptimizationLevel.ORT_ENABLE_ALL\n",
        "    session = InferenceSession(str(model_path), options, providers=[provider])\n",
        "    session.disable_fallback()\n",
        "    return session"
      ]
    },
    {
      "cell_type": "code",
      "execution_count": null,
      "metadata": {
        "id": "VEMJQXNH3dYR"
      },
      "outputs": [],
      "source": [
        "onnx_model = create_model_for_provider(onnx_model_path)"
      ]
    },
    {
      "cell_type": "markdown",
      "metadata": {
        "id": "0RP6DHOr6BiV"
      },
      "source": [
        "Test on a sample"
      ]
    },
    {
      "cell_type": "code",
      "execution_count": null,
      "metadata": {
        "colab": {
          "base_uri": "https://localhost:8080/"
        },
        "id": "dRwHKGcs6ARI",
        "outputId": "a2f61f5a-b19e-4fef-a486-5da75894bfe7"
      },
      "outputs": [
        {
          "data": {
            "text/plain": [
              "(1, 151)"
            ]
          },
          "execution_count": 64,
          "metadata": {},
          "output_type": "execute_result"
        }
      ],
      "source": [
        "inputs = clinc_enc[\"test\"][:1]\n",
        "del inputs[\"labels\"]\n",
        "logits_onnx = onnx_model.run(None, inputs)[0]\n",
        "logits_onnx.shape"
      ]
    },
    {
      "cell_type": "markdown",
      "metadata": {
        "id": "RPHrE_EB6H9f"
      },
      "source": [
        "Get the label using argmax on the logits"
      ]
    },
    {
      "cell_type": "code",
      "execution_count": null,
      "metadata": {
        "colab": {
          "base_uri": "https://localhost:8080/"
        },
        "id": "RfccwmJI6KML",
        "outputId": "372c4c3c-ac80-4514-8506-7904a005da73"
      },
      "outputs": [
        {
          "data": {
            "text/plain": [
              "True"
            ]
          },
          "execution_count": 65,
          "metadata": {},
          "output_type": "execute_result"
        }
      ],
      "source": [
        "np.argmax(logits_onnx) == clinc_enc[\"test\"][0][\"labels\"]"
      ]
    },
    {
      "cell_type": "markdown",
      "metadata": {
        "id": "sxuhvJpR6SzQ"
      },
      "source": [
        "ONNX pipeline is not compatible with the text-classification pipeline -> create a custome ONNXPipeline"
      ]
    },
    {
      "cell_type": "code",
      "execution_count": null,
      "metadata": {
        "id": "f7EIAaOh6YQK"
      },
      "outputs": [],
      "source": [
        "from scipy.special import softmax\n",
        "\n",
        "class OnnxPipeline:\n",
        "    def __init__(self, model, tokenizer):\n",
        "        self.model = model\n",
        "        self.tokenizer = tokenizer\n",
        "\n",
        "    def __call__(self, query):\n",
        "        model_inputs = self.tokenizer(query, return_tensors=\"pt\")\n",
        "        inputs_onnx = {k: v.cpu().detach().numpy()\n",
        "                       for k, v in model_inputs.items()}\n",
        "        logits = self.model.run(None, inputs_onnx)[0][0, :]\n",
        "        probs = softmax(logits)\n",
        "        pred_idx = np.argmax(probs).item()\n",
        "        return [{\"label\": intents.int2str(pred_idx), \"score\": probs[pred_idx]}]"
      ]
    },
    {
      "cell_type": "code",
      "execution_count": null,
      "metadata": {
        "colab": {
          "base_uri": "https://localhost:8080/"
        },
        "id": "gCOcuA4m6iHC",
        "outputId": "11a01e64-e55d-4c31-b9da-d253a99b40a2"
      },
      "outputs": [
        {
          "data": {
            "text/plain": [
              "[{'label': 'car_rental', 'score': 0.7848335}]"
            ]
          },
          "execution_count": 67,
          "metadata": {},
          "output_type": "execute_result"
        }
      ],
      "source": [
        "pipe = OnnxPipeline(onnx_model, tokenizer)\n",
        "pipe(query)"
      ]
    },
    {
      "cell_type": "markdown",
      "metadata": {
        "id": "SQ86FJaw6wga"
      },
      "source": [
        "### Benchmarking the ONNX model\n",
        "\n",
        "Override the compute_size method as the Pytorch's nn.Module are available for pytorch model and not for ONNX InferenceSession object."
      ]
    },
    {
      "cell_type": "code",
      "execution_count": null,
      "metadata": {
        "id": "PxwFfuL46v0x"
      },
      "outputs": [],
      "source": [
        "class OnnxPerformanceBenchmark(PerformanceBenchmark):\n",
        "    def __init__(self, *args, model_path, **kwargs):\n",
        "        super().__init__(*args, **kwargs)\n",
        "        self.model_path = model_path\n",
        "\n",
        "    def compute_size(self):\n",
        "        size_mb = Path(self.model_path).stat().st_size / (1024 * 1024)\n",
        "        print(f\"Model size (MB) - {size_mb:.2f}\")\n",
        "        return {\"size_mb\": size_mb}"
      ]
    },
    {
      "cell_type": "code",
      "execution_count": null,
      "metadata": {
        "colab": {
          "base_uri": "https://localhost:8080/"
        },
        "id": "qCzZ27dr7LWU",
        "outputId": "60101b45-5582-4ae6-edf8-b4fef0aa96f9"
      },
      "outputs": [
        {
          "name": "stdout",
          "output_type": "stream",
          "text": [
            "Model size (MB) - 255.98\n",
            "Average latency (ms) - 36.49 +\\- 13.16\n",
            "Accuracy on test set - 0.868\n"
          ]
        }
      ],
      "source": [
        "optim_type = \"Distillation + ORT\"\n",
        "pb = OnnxPerformanceBenchmark(pipe, clinc[\"test\"], optim_type,\n",
        "                              model_path=\"onnx/model.onnx\")\n",
        "perf_metrics.update(pb.run_benchmark())"
      ]
    },
    {
      "cell_type": "code",
      "execution_count": null,
      "metadata": {
        "colab": {
          "base_uri": "https://localhost:8080/"
        },
        "id": "xQTwcLvS_rbW",
        "outputId": "a6147542-5b07-4f30-85dd-74730af3cd9a"
      },
      "outputs": [
        {
          "data": {
            "text/plain": [
              "{'BERT baseline': {'size_mb': 418.14669132232666,\n",
              "  'time_avg_ms': 166.23851966000018,\n",
              "  'time_std_ms': 65.6637835799195,\n",
              "  'accuracy': 0.8672727272727273},\n",
              " 'DistilBERT': {'size_mb': 255.88143634796143,\n",
              "  'time_avg_ms': 38.95798757000307,\n",
              "  'time_std_ms': 2.578577762061873,\n",
              "  'accuracy': 0.8552727272727273},\n",
              " 'Distillation': {'size_mb': 255.88143634796143,\n",
              "  'time_avg_ms': 109.43876887999636,\n",
              "  'time_std_ms': 45.67907648048472,\n",
              "  'accuracy': 0.8683636363636363},\n",
              " 'Distillation + quantization': {'size_mb': 132.3907289505005,\n",
              "  'time_avg_ms': 34.190072500005044,\n",
              "  'time_std_ms': 33.1990029983173,\n",
              "  'accuracy': 0.8758181818181818},\n",
              " 'Distillation + ORT': {'size_mb': 255.97955417633057,\n",
              "  'time_avg_ms': 36.48752942000556,\n",
              "  'time_std_ms': 13.160957400693967,\n",
              "  'accuracy': 0.8683636363636363}}"
            ]
          },
          "execution_count": 70,
          "metadata": {},
          "output_type": "execute_result"
        }
      ],
      "source": [
        "perf_metrics"
      ]
    },
    {
      "cell_type": "code",
      "execution_count": null,
      "metadata": {
        "colab": {
          "base_uri": "https://localhost:8080/",
          "height": 511
        },
        "id": "Gskafx9d7Olm",
        "outputId": "efa7febc-3d78-43bb-86b5-b86cc1b8ba09"
      },
      "outputs": [
        {
          "name": "stderr",
          "output_type": "stream",
          "text": [
            "<ipython-input-38-f9515d53f9e1>:17: MatplotlibDeprecationWarning: The legendHandles attribute was deprecated in Matplotlib 3.7 and will be removed two minor releases later. Use legend_handles instead.\n",
            "  for handle in legend.legendHandles:\n"
          ]
        },
        {
          "data": {
            "image/png": "[encoded data removed]",
            "text/plain": [
              "<Figure size 640x480 with 1 Axes>"
            ]
          },
          "metadata": {},
          "output_type": "display_data"
        }
      ],
      "source": [
        "plot_metrics(perf_metrics, optim_type)"
      ]
    },
    {
      "cell_type": "markdown",
      "metadata": {
        "id": "c8EvcUpA7YiE"
      },
      "source": []
    },
    {
      "cell_type": "markdown",
      "metadata": {
        "id": "ewrG3_YG7ZT6"
      },
      "source": [
        "### Add quantization and distillation both to the ONNX model"
      ]
    },
    {
      "cell_type": "code",
      "execution_count": null,
      "metadata": {
        "colab": {
          "base_uri": "https://localhost:8080/"
        },
        "id": "sXeFMzuV7cNj",
        "outputId": "93e3bd52-64fe-4cbb-da4d-e4f7e52dccd4"
      },
      "outputs": [
        {
          "name": "stdout",
          "output_type": "stream",
          "text": [
            "Ignore MatMul due to non constant B: /[/distilbert/transformer/layer.0/attention/MatMul]\n",
            "Ignore MatMul due to non constant B: /[/distilbert/transformer/layer.0/attention/MatMul_1]\n",
            "Ignore MatMul due to non constant B: /[/distilbert/transformer/layer.1/attention/MatMul]\n",
            "Ignore MatMul due to non constant B: /[/distilbert/transformer/layer.1/attention/MatMul_1]\n",
            "Ignore MatMul due to non constant B: /[/distilbert/transformer/layer.2/attention/MatMul]\n",
            "Ignore MatMul due to non constant B: /[/distilbert/transformer/layer.2/attention/MatMul_1]\n",
            "Ignore MatMul due to non constant B: /[/distilbert/transformer/layer.3/attention/MatMul]\n",
            "Ignore MatMul due to non constant B: /[/distilbert/transformer/layer.3/attention/MatMul_1]\n",
            "Ignore MatMul due to non constant B: /[/distilbert/transformer/layer.4/attention/MatMul]\n",
            "Ignore MatMul due to non constant B: /[/distilbert/transformer/layer.4/attention/MatMul_1]\n",
            "Ignore MatMul due to non constant B: /[/distilbert/transformer/layer.5/attention/MatMul]\n",
            "Ignore MatMul due to non constant B: /[/distilbert/transformer/layer.5/attention/MatMul_1]\n"
          ]
        }
      ],
      "source": [
        "from onnxruntime.quantization import quantize_dynamic, QuantType\n",
        "\n",
        "model_input = \"onnx/model.onnx\"\n",
        "model_output = \"onnx/model.quant.onnx\"\n",
        "quantize_dynamic(model_input, model_output, weight_type=QuantType.QInt8)\n"
      ]
    },
    {
      "cell_type": "code",
      "execution_count": null,
      "metadata": {
        "colab": {
          "base_uri": "https://localhost:8080/"
        },
        "id": "oVbYTo6376_G",
        "outputId": "3d1298b6-0c0c-4dd8-b1e3-54d2794f92ef"
      },
      "outputs": [
        {
          "name": "stdout",
          "output_type": "stream",
          "text": [
            "Model size (MB) - 64.33\n"
          ]
        }
      ],
      "source": [
        "onnx_quantized_model = create_model_for_provider(model_output)\n",
        "pipe = OnnxPipeline(onnx_quantized_model, tokenizer)\n",
        "optim_type = \"Distillation + ORT (quantized)\"\n",
        "pb = OnnxPerformanceBenchmark(pipe, clinc[\"test\"], optim_type,\n",
        "                              model_path=model_output)\n",
        "perf_metrics.update(pb.run_benchmark())"
      ]
    },
    {
      "cell_type": "code",
      "execution_count": null,
      "metadata": {
        "colab": {
          "base_uri": "https://localhost:8080/"
        },
        "id": "Y50X48BZ_u6F",
        "outputId": "aa0bbacc-5c10-46e3-fa5d-91a4e9c27462"
      },
      "outputs": [
        {
          "data": {
            "text/plain": [
              "{'BERT baseline': {'size_mb': 418.14669132232666,\n",
              "  'time_avg_ms': 166.23851966000018,\n",
              "  'time_std_ms': 65.6637835799195,\n",
              "  'accuracy': 0.8672727272727273},\n",
              " 'DistilBERT': {'size_mb': 255.88143634796143,\n",
              "  'time_avg_ms': 38.95798757000307,\n",
              "  'time_std_ms': 2.578577762061873,\n",
              "  'accuracy': 0.8552727272727273},\n",
              " 'Distillation': {'size_mb': 255.88143634796143,\n",
              "  'time_avg_ms': 109.43876887999636,\n",
              "  'time_std_ms': 45.67907648048472,\n",
              "  'accuracy': 0.8683636363636363},\n",
              " 'Distillation + quantization': {'size_mb': 132.3907289505005,\n",
              "  'time_avg_ms': 34.190072500005044,\n",
              "  'time_std_ms': 33.1990029983173,\n",
              "  'accuracy': 0.8758181818181818},\n",
              " 'Distillation + ORT': {'size_mb': 255.97955417633057,\n",
              "  'time_avg_ms': 36.48752942000556,\n",
              "  'time_std_ms': 13.160957400693967,\n",
              "  'accuracy': 0.8683636363636363},\n",
              " 'Distillation + ORT (quantized)': {'size_mb': 64.32713317871094,\n",
              "  'time_avg_ms': 9.877807020006912,\n",
              "  'time_std_ms': 0.8944657958632478,\n",
              "  'accuracy': 0.8756363636363637}}"
            ]
          },
          "execution_count": 75,
          "metadata": {},
          "output_type": "execute_result"
        }
      ],
      "source": [
        "perf_metrics"
      ]
    },
    {
      "cell_type": "code",
      "execution_count": null,
      "metadata": {
        "colab": {
          "base_uri": "https://localhost:8080/",
          "height": 511
        },
        "id": "QuIXZJGd_wMu",
        "outputId": "ae1be5a2-88eb-41fc-d120-d215b1e63da2"
      },
      "outputs": [
        {
          "name": "stderr",
          "output_type": "stream",
          "text": [
            "<ipython-input-38-f9515d53f9e1>:17: MatplotlibDeprecationWarning: The legendHandles attribute was deprecated in Matplotlib 3.7 and will be removed two minor releases later. Use legend_handles instead.\n",
            "  for handle in legend.legendHandles:\n"
          ]
        },
        {
          "data": {
            "image/png": "[encoded data removed]",
            "text/plain": [
              "<Figure size 640x480 with 1 Axes>"
            ]
          },
          "metadata": {},
          "output_type": "display_data"
        }
      ],
      "source": [
        "plot_metrics(perf_metrics, optim_type)"
      ]
    },
    {
      "cell_type": "markdown",
      "metadata": {
        "id": "ksrazKWlCUAC"
      },
      "source": [
        "ORT quantization has reduced the model size and latency by around 30% compared to the model obtained from PyTorch quantization (the distillation + quantization blob). One reason for this is that PyTorch only optimizes the nn.Linear modules, while ONNX quantizes the embedding layer as well."
      ]
    }
  ],
  "metadata": {
    "accelerator": "GPU",
    "colab": {
      "provenance": []
    },
    "kernelspec": {
      "display_name": "Python 3",
      "name": "python3"
    },
    "language_info": {
      "name": "python"
    },
    "widgets": {
      "application/vnd.jupyter.widget-state+json": {
        "009b9218bde84be5855d67c287fb37c4": {
          "model_module": "@jupyter-widgets/controls",
          "model_module_version": "1.5.0",
          "model_name": "LabelModel",
          "state": {
            "_dom_classes": [],
            "_model_module": "@jupyter-widgets/controls",
            "_model_module_version": "1.5.0",
            "_model_name": "LabelModel",
            "_view_count": null,
            "_view_module": "@jupyter-widgets/controls",
            "_view_module_version": "1.5.0",
            "_view_name": "LabelView",
            "description": "",
            "description_tooltip": null,
            "layout": "IPY_MODEL_9973ca1f6de84dafb40b01b495236a51",
            "placeholder": "​",
            "style": "IPY_MODEL_8433ec106d88497b98f3f8a972c1e94f",
            "value": "Login successful"
          }
        },
        "037f97a8e3bb4fd3a1fa9185e2c90412": {
          "model_module": "@jupyter-widgets/controls",
          "model_module_version": "1.5.0",
          "model_name": "HTMLModel",
          "state": {
            "_dom_classes": [],
            "_model_module": "@jupyter-widgets/controls",
            "_model_module_version": "1.5.0",
            "_model_name": "HTMLModel",
            "_view_count": null,
            "_view_module": "@jupyter-widgets/controls",
            "_view_module_version": "1.5.0",
            "_view_name": "HTMLView",
            "description": "",
            "description_tooltip": null,
            "layout": "IPY_MODEL_a17a5f25c3014eb68c90f22dccfd8b04",
            "placeholder": "​",
            "style": "IPY_MODEL_1d6d9f7a331a40bd81842ee2640bbf04",
            "value": " 268M/268M [00:06&lt;00:00, 34.9MB/s]"
          }
        },
        "07c69a15cb14478398b86eca7d2bab01": {
          "model_module": "@jupyter-widgets/controls",
          "model_module_version": "1.5.0",
          "model_name": "HTMLModel",
          "state": {
            "_dom_classes": [],
            "_model_module": "@jupyter-widgets/controls",
            "_model_module_version": "1.5.0",
            "_model_name": "HTMLModel",
            "_view_count": null,
            "_view_module": "@jupyter-widgets/controls",
            "_view_module_version": "1.5.0",
            "_view_name": "HTMLView",
            "description": "",
            "description_tooltip": null,
            "layout": "IPY_MODEL_81599d11bba54c7a94c0c8f6a0813d4b",
            "placeholder": "​",
            "style": "IPY_MODEL_4d989500499145d381a286f2403decd1",
            "value": "pytorch_model.bin: 100%"
          }
        },
        "0e0631c606944379bae3d7e43b5d582a": {
          "model_module": "@jupyter-widgets/controls",
          "model_module_version": "1.5.0",
          "model_name": "HBoxModel",
          "state": {
            "_dom_classes": [],
            "_model_module": "@jupyter-widgets/controls",
            "_model_module_version": "1.5.0",
            "_model_name": "HBoxModel",
            "_view_count": null,
            "_view_module": "@jupyter-widgets/controls",
            "_view_module_version": "1.5.0",
            "_view_name": "HBoxView",
            "box_style": "",
            "children": [
              "IPY_MODEL_95b8aa0608d54e16a675703109b5a8e0",
              "IPY_MODEL_7cbacc572476422cbf573457bdc064fc",
              "IPY_MODEL_931191b18df94007aea6cf5e02603770"
            ],
            "layout": "IPY_MODEL_adf0d2040c514f13b31a1126af52d648"
          }
        },
        "0ed1548497334d9195f1c9cb6f4dac0c": {
          "model_module": "@jupyter-widgets/base",
          "model_module_version": "1.2.0",
          "model_name": "LayoutModel",
          "state": {
            "_model_module": "@jupyter-widgets/base",
            "_model_module_version": "1.2.0",
            "_model_name": "LayoutModel",
            "_view_count": null,
            "_view_module": "@jupyter-widgets/base",
            "_view_module_version": "1.2.0",
            "_view_name": "LayoutView",
            "align_content": null,
            "align_items": null,
            "align_self": null,
            "border": null,
            "bottom": null,
            "display": null,
            "flex": null,
            "flex_flow": null,
            "grid_area": null,
            "grid_auto_columns": null,
            "grid_auto_flow": null,
            "grid_auto_rows": null,
            "grid_column": null,
            "grid_gap": null,
            "grid_row": null,
            "grid_template_areas": null,
            "grid_template_columns": null,
            "grid_template_rows": null,
            "height": null,
            "justify_content": null,
            "justify_items": null,
            "left": null,
            "margin": null,
            "max_height": null,
            "max_width": null,
            "min_height": null,
            "min_width": null,
            "object_fit": null,
            "object_position": null,
            "order": null,
            "overflow": null,
            "overflow_x": null,
            "overflow_y": null,
            "padding": null,
            "right": null,
            "top": null,
            "visibility": null,
            "width": null
          }
        },
        "11c5d4cfef3246ed9b8ae7502214d6a6": {
          "model_module": "@jupyter-widgets/controls",
          "model_module_version": "1.5.0",
          "model_name": "HBoxModel",
          "state": {
            "_dom_classes": [],
            "_model_module": "@jupyter-widgets/controls",
            "_model_module_version": "1.5.0",
            "_model_name": "HBoxModel",
            "_view_count": null,
            "_view_module": "@jupyter-widgets/controls",
            "_view_module_version": "1.5.0",
            "_view_name": "HBoxView",
            "box_style": "",
            "children": [
              "IPY_MODEL_e224b16125994a5fb0f2b123abcf9233",
              "IPY_MODEL_f6650f803cca4a2eb5b546fbfa5d3d3c",
              "IPY_MODEL_ecab734d8f474775bb11c1923ecf707a"
            ],
            "layout": "IPY_MODEL_bd2dbc75940244d1b04fc9aa54ce755e"
          }
        },
        "1d6d9f7a331a40bd81842ee2640bbf04": {
          "model_module": "@jupyter-widgets/controls",
          "model_module_version": "1.5.0",
          "model_name": "DescriptionStyleModel",
          "state": {
            "_model_module": "@jupyter-widgets/controls",
            "_model_module_version": "1.5.0",
            "_model_name": "DescriptionStyleModel",
            "_view_count": null,
            "_view_module": "@jupyter-widgets/base",
            "_view_module_version": "1.2.0",
            "_view_name": "StyleView",
            "description_width": ""
          }
        },
        "1ee56aedfaab4332abc89cfde7cf75a1": {
          "model_module": "@jupyter-widgets/controls",
          "model_module_version": "1.5.0",
          "model_name": "ProgressStyleModel",
          "state": {
            "_model_module": "@jupyter-widgets/controls",
            "_model_module_version": "1.5.0",
            "_model_name": "ProgressStyleModel",
            "_view_count": null,
            "_view_module": "@jupyter-widgets/base",
            "_view_module_version": "1.2.0",
            "_view_name": "StyleView",
            "bar_color": null,
            "description_width": ""
          }
        },
        "237b961f776a4aeab036c1dbb568fbea": {
          "model_module": "@jupyter-widgets/controls",
          "model_module_version": "1.5.0",
          "model_name": "HTMLModel",
          "state": {
            "_dom_classes": [],
            "_model_module": "@jupyter-widgets/controls",
            "_model_module_version": "1.5.0",
            "_model_name": "HTMLModel",
            "_view_count": null,
            "_view_module": "@jupyter-widgets/controls",
            "_view_module_version": "1.5.0",
            "_view_name": "HTMLView",
            "description": "",
            "description_tooltip": null,
            "layout": "IPY_MODEL_5c14b94535304e1aba6657a2032348fe",
            "placeholder": "​",
            "style": "IPY_MODEL_3d33d687437e40e59027269d14a1e284",
            "value": "Map: 100%"
          }
        },
        "2749ad7716e54250b6bac11168a271ad": {
          "model_module": "@jupyter-widgets/base",
          "model_module_version": "1.2.0",
          "model_name": "LayoutModel",
          "state": {
            "_model_module": "@jupyter-widgets/base",
            "_model_module_version": "1.2.0",
            "_model_name": "LayoutModel",
            "_view_count": null,
            "_view_module": "@jupyter-widgets/base",
            "_view_module_version": "1.2.0",
            "_view_name": "LayoutView",
            "align_content": null,
            "align_items": null,
            "align_self": null,
            "border": null,
            "bottom": null,
            "display": null,
            "flex": null,
            "flex_flow": null,
            "grid_area": null,
            "grid_auto_columns": null,
            "grid_auto_flow": null,
            "grid_auto_rows": null,
            "grid_column": null,
            "grid_gap": null,
            "grid_row": null,
            "grid_template_areas": null,
            "grid_template_columns": null,
            "grid_template_rows": null,
            "height": null,
            "justify_content": null,
            "justify_items": null,
            "left": null,
            "margin": null,
            "max_height": null,
            "max_width": null,
            "min_height": null,
            "min_width": null,
            "object_fit": null,
            "object_position": null,
            "order": null,
            "overflow": null,
            "overflow_x": null,
            "overflow_y": null,
            "padding": null,
            "right": null,
            "top": null,
            "visibility": null,
            "width": null
          }
        },
        "28bc73e93bd744508e9f233e9ce03e5e": {
          "model_module": "@jupyter-widgets/base",
          "model_module_version": "1.2.0",
          "model_name": "LayoutModel",
          "state": {
            "_model_module": "@jupyter-widgets/base",
            "_model_module_version": "1.2.0",
            "_model_name": "LayoutModel",
            "_view_count": null,
            "_view_module": "@jupyter-widgets/base",
            "_view_module_version": "1.2.0",
            "_view_name": "LayoutView",
            "align_content": null,
            "align_items": null,
            "align_self": null,
            "border": null,
            "bottom": null,
            "display": null,
            "flex": null,
            "flex_flow": null,
            "grid_area": null,
            "grid_auto_columns": null,
            "grid_auto_flow": null,
            "grid_auto_rows": null,
            "grid_column": null,
            "grid_gap": null,
            "grid_row": null,
            "grid_template_areas": null,
            "grid_template_columns": null,
            "grid_template_rows": null,
            "height": null,
            "justify_content": null,
            "justify_items": null,
            "left": null,
            "margin": null,
            "max_height": null,
            "max_width": null,
            "min_height": null,
            "min_width": null,
            "object_fit": null,
            "object_position": null,
            "order": null,
            "overflow": null,
            "overflow_x": null,
            "overflow_y": null,
            "padding": null,
            "right": null,
            "top": null,
            "visibility": null,
            "width": null
          }
        },
        "29ed36450a644c439c1b7dad3dcfbd1c": {
          "model_module": "@jupyter-widgets/controls",
          "model_module_version": "1.5.0",
          "model_name": "HTMLModel",
          "state": {
            "_dom_classes": [],
            "_model_module": "@jupyter-widgets/controls",
            "_model_module_version": "1.5.0",
            "_model_name": "HTMLModel",
            "_view_count": null,
            "_view_module": "@jupyter-widgets/controls",
            "_view_module_version": "1.5.0",
            "_view_name": "HTMLView",
            "description": "",
            "description_tooltip": null,
            "layout": "IPY_MODEL_8672e1076fae446e881dac734cf41f3d",
            "placeholder": "​",
            "style": "IPY_MODEL_cc14e260a3384f47875e853ad97f77af",
            "value": " 3100/3100 [00:00&lt;00:00, 18243.38 examples/s]"
          }
        },
        "2b89ab79f8d8466fadc97f3b848a6bb2": {
          "model_module": "@jupyter-widgets/controls",
          "model_module_version": "1.5.0",
          "model_name": "HBoxModel",
          "state": {
            "_dom_classes": [],
            "_model_module": "@jupyter-widgets/controls",
            "_model_module_version": "1.5.0",
            "_model_name": "HBoxModel",
            "_view_count": null,
            "_view_module": "@jupyter-widgets/controls",
            "_view_module_version": "1.5.0",
            "_view_name": "HBoxView",
            "box_style": "",
            "children": [
              "IPY_MODEL_07c69a15cb14478398b86eca7d2bab01",
              "IPY_MODEL_77f0582e9f5945b8bc016c635d5c8991",
              "IPY_MODEL_87def8ba894841e790c1692c86ff42fa"
            ],
            "layout": "IPY_MODEL_f1ecef716ef54dfbbbafad6890e69a38"
          }
        },
        "2d927a44a72949f491e20e9d83f8fb92": {
          "model_module": "@jupyter-widgets/base",
          "model_module_version": "1.2.0",
          "model_name": "LayoutModel",
          "state": {
            "_model_module": "@jupyter-widgets/base",
            "_model_module_version": "1.2.0",
            "_model_name": "LayoutModel",
            "_view_count": null,
            "_view_module": "@jupyter-widgets/base",
            "_view_module_version": "1.2.0",
            "_view_name": "LayoutView",
            "align_content": null,
            "align_items": null,
            "align_self": null,
            "border": null,
            "bottom": null,
            "display": null,
            "flex": null,
            "flex_flow": null,
            "grid_area": null,
            "grid_auto_columns": null,
            "grid_auto_flow": null,
            "grid_auto_rows": null,
            "grid_column": null,
            "grid_gap": null,
            "grid_row": null,
            "grid_template_areas": null,
            "grid_template_columns": null,
            "grid_template_rows": null,
            "height": null,
            "justify_content": null,
            "justify_items": null,
            "left": null,
            "margin": null,
            "max_height": null,
            "max_width": null,
            "min_height": null,
            "min_width": null,
            "object_fit": null,
            "object_position": null,
            "order": null,
            "overflow": null,
            "overflow_x": null,
            "overflow_y": null,
            "padding": null,
            "right": null,
            "top": null,
            "visibility": null,
            "width": null
          }
        },
        "2e6fea7358174341bc8059be8ada4840": {
          "model_module": "@jupyter-widgets/base",
          "model_module_version": "1.2.0",
          "model_name": "LayoutModel",
          "state": {
            "_model_module": "@jupyter-widgets/base",
            "_model_module_version": "1.2.0",
            "_model_name": "LayoutModel",
            "_view_count": null,
            "_view_module": "@jupyter-widgets/base",
            "_view_module_version": "1.2.0",
            "_view_name": "LayoutView",
            "align_content": null,
            "align_items": null,
            "align_self": null,
            "border": null,
            "bottom": null,
            "display": null,
            "flex": null,
            "flex_flow": null,
            "grid_area": null,
            "grid_auto_columns": null,
            "grid_auto_flow": null,
            "grid_auto_rows": null,
            "grid_column": null,
            "grid_gap": null,
            "grid_row": null,
            "grid_template_areas": null,
            "grid_template_columns": null,
            "grid_template_rows": null,
            "height": null,
            "justify_content": null,
            "justify_items": null,
            "left": null,
            "margin": null,
            "max_height": null,
            "max_width": null,
            "min_height": null,
            "min_width": null,
            "object_fit": null,
            "object_position": null,
            "order": null,
            "overflow": null,
            "overflow_x": null,
            "overflow_y": null,
            "padding": null,
            "right": null,
            "top": null,
            "visibility": null,
            "width": null
          }
        },
        "301e9b98fe1b4aa59936f8cab1b49c6f": {
          "model_module": "@jupyter-widgets/controls",
          "model_module_version": "1.5.0",
          "model_name": "HBoxModel",
          "state": {
            "_dom_classes": [],
            "_model_module": "@jupyter-widgets/controls",
            "_model_module_version": "1.5.0",
            "_model_name": "HBoxModel",
            "_view_count": null,
            "_view_module": "@jupyter-widgets/controls",
            "_view_module_version": "1.5.0",
            "_view_name": "HBoxView",
            "box_style": "",
            "children": [
              "IPY_MODEL_403b8b628d4c4e7f8abfbcc192f01823",
              "IPY_MODEL_cda4808344174d53a222be625d995466",
              "IPY_MODEL_75aeea295c5946a5ac4b098deeb32243"
            ],
            "layout": "IPY_MODEL_28bc73e93bd744508e9f233e9ce03e5e"
          }
        },
        "3040a6f785e545e9919f825296662d9e": {
          "model_module": "@jupyter-widgets/controls",
          "model_module_version": "1.5.0",
          "model_name": "FloatProgressModel",
          "state": {
            "_dom_classes": [],
            "_model_module": "@jupyter-widgets/controls",
            "_model_module_version": "1.5.0",
            "_model_name": "FloatProgressModel",
            "_view_count": null,
            "_view_module": "@jupyter-widgets/controls",
            "_view_module_version": "1.5.0",
            "_view_name": "ProgressView",
            "bar_style": "success",
            "description": "",
            "description_tooltip": null,
            "layout": "IPY_MODEL_3f87ca0b2429437191d4628361394ec1",
            "max": 268318385,
            "min": 0,
            "orientation": "horizontal",
            "style": "IPY_MODEL_3dfc176965d84a9c9c3a62d55f3b908c",
            "value": 268318385
          }
        },
        "35885f3851fb455aaabcee3f3cc2d7d5": {
          "model_module": "@jupyter-widgets/controls",
          "model_module_version": "1.5.0",
          "model_name": "LabelModel",
          "state": {
            "_dom_classes": [],
            "_model_module": "@jupyter-widgets/controls",
            "_model_module_version": "1.5.0",
            "_model_name": "LabelModel",
            "_view_count": null,
            "_view_module": "@jupyter-widgets/controls",
            "_view_module_version": "1.5.0",
            "_view_name": "LabelView",
            "description": "",
            "description_tooltip": null,
            "layout": "IPY_MODEL_ee208f13c0f246dc8af7671dd141a1d8",
            "placeholder": "​",
            "style": "IPY_MODEL_71dc1dd135864673859243770fd3f673",
            "value": "Your token has been saved in your configured git credential helpers (store)."
          }
        },
        "3a1754e274d54ad99029de1174f77395": {
          "model_module": "@jupyter-widgets/base",
          "model_module_version": "1.2.0",
          "model_name": "LayoutModel",
          "state": {
            "_model_module": "@jupyter-widgets/base",
            "_model_module_version": "1.2.0",
            "_model_name": "LayoutModel",
            "_view_count": null,
            "_view_module": "@jupyter-widgets/base",
            "_view_module_version": "1.2.0",
            "_view_name": "LayoutView",
            "align_content": null,
            "align_items": null,
            "align_self": null,
            "border": null,
            "bottom": null,
            "display": null,
            "flex": null,
            "flex_flow": null,
            "grid_area": null,
            "grid_auto_columns": null,
            "grid_auto_flow": null,
            "grid_auto_rows": null,
            "grid_column": null,
            "grid_gap": null,
            "grid_row": null,
            "grid_template_areas": null,
            "grid_template_columns": null,
            "grid_template_rows": null,
            "height": null,
            "justify_content": null,
            "justify_items": null,
            "left": null,
            "margin": null,
            "max_height": null,
            "max_width": null,
            "min_height": null,
            "min_width": null,
            "object_fit": null,
            "object_position": null,
            "order": null,
            "overflow": null,
            "overflow_x": null,
            "overflow_y": null,
            "padding": null,
            "right": null,
            "top": null,
            "visibility": null,
            "width": null
          }
        },
        "3d33d687437e40e59027269d14a1e284": {
          "model_module": "@jupyter-widgets/controls",
          "model_module_version": "1.5.0",
          "model_name": "DescriptionStyleModel",
          "state": {
            "_model_module": "@jupyter-widgets/controls",
            "_model_module_version": "1.5.0",
            "_model_name": "DescriptionStyleModel",
            "_view_count": null,
            "_view_module": "@jupyter-widgets/base",
            "_view_module_version": "1.2.0",
            "_view_name": "StyleView",
            "description_width": ""
          }
        },
        "3dfc176965d84a9c9c3a62d55f3b908c": {
          "model_module": "@jupyter-widgets/controls",
          "model_module_version": "1.5.0",
          "model_name": "ProgressStyleModel",
          "state": {
            "_model_module": "@jupyter-widgets/controls",
            "_model_module_version": "1.5.0",
            "_model_name": "ProgressStyleModel",
            "_view_count": null,
            "_view_module": "@jupyter-widgets/base",
            "_view_module_version": "1.2.0",
            "_view_name": "StyleView",
            "bar_color": null,
            "description_width": ""
          }
        },
        "3f87ca0b2429437191d4628361394ec1": {
          "model_module": "@jupyter-widgets/base",
          "model_module_version": "1.2.0",
          "model_name": "LayoutModel",
          "state": {
            "_model_module": "@jupyter-widgets/base",
            "_model_module_version": "1.2.0",
            "_model_name": "LayoutModel",
            "_view_count": null,
            "_view_module": "@jupyter-widgets/base",
            "_view_module_version": "1.2.0",
            "_view_name": "LayoutView",
            "align_content": null,
            "align_items": null,
            "align_self": null,
            "border": null,
            "bottom": null,
            "display": null,
            "flex": null,
            "flex_flow": null,
            "grid_area": null,
            "grid_auto_columns": null,
            "grid_auto_flow": null,
            "grid_auto_rows": null,
            "grid_column": null,
            "grid_gap": null,
            "grid_row": null,
            "grid_template_areas": null,
            "grid_template_columns": null,
            "grid_template_rows": null,
            "height": null,
            "justify_content": null,
            "justify_items": null,
            "left": null,
            "margin": null,
            "max_height": null,
            "max_width": null,
            "min_height": null,
            "min_width": null,
            "object_fit": null,
            "object_position": null,
            "order": null,
            "overflow": null,
            "overflow_x": null,
            "overflow_y": null,
            "padding": null,
            "right": null,
            "top": null,
            "visibility": null,
            "width": null
          }
        },
        "402deb4a145e48008656345b1d6aad6e": {
          "model_module": "@jupyter-widgets/controls",
          "model_module_version": "1.5.0",
          "model_name": "DescriptionStyleModel",
          "state": {
            "_model_module": "@jupyter-widgets/controls",
            "_model_module_version": "1.5.0",
            "_model_name": "DescriptionStyleModel",
            "_view_count": null,
            "_view_module": "@jupyter-widgets/base",
            "_view_module_version": "1.2.0",
            "_view_name": "StyleView",
            "description_width": ""
          }
        },
        "403b8b628d4c4e7f8abfbcc192f01823": {
          "model_module": "@jupyter-widgets/controls",
          "model_module_version": "1.5.0",
          "model_name": "HTMLModel",
          "state": {
            "_dom_classes": [],
            "_model_module": "@jupyter-widgets/controls",
            "_model_module_version": "1.5.0",
            "_model_name": "HTMLModel",
            "_view_count": null,
            "_view_module": "@jupyter-widgets/controls",
            "_view_module_version": "1.5.0",
            "_view_name": "HTMLView",
            "description": "",
            "description_tooltip": null,
            "layout": "IPY_MODEL_ff9f38ff056342048fdfe1072f872fb7",
            "placeholder": "​",
            "style": "IPY_MODEL_859be4ca073c44cba9bf74feb7f658c5",
            "value": "Downloading (…)/main/tokenizer.json: 100%"
          }
        },
        "455b6d0d587d4880aa24762b6b73e2d0": {
          "model_module": "@jupyter-widgets/base",
          "model_module_version": "1.2.0",
          "model_name": "LayoutModel",
          "state": {
            "_model_module": "@jupyter-widgets/base",
            "_model_module_version": "1.2.0",
            "_model_name": "LayoutModel",
            "_view_count": null,
            "_view_module": "@jupyter-widgets/base",
            "_view_module_version": "1.2.0",
            "_view_name": "LayoutView",
            "align_content": null,
            "align_items": null,
            "align_self": null,
            "border": null,
            "bottom": null,
            "display": null,
            "flex": null,
            "flex_flow": null,
            "grid_area": null,
            "grid_auto_columns": null,
            "grid_auto_flow": null,
            "grid_auto_rows": null,
            "grid_column": null,
            "grid_gap": null,
            "grid_row": null,
            "grid_template_areas": null,
            "grid_template_columns": null,
            "grid_template_rows": null,
            "height": null,
            "justify_content": null,
            "justify_items": null,
            "left": null,
            "margin": null,
            "max_height": null,
            "max_width": null,
            "min_height": null,
            "min_width": null,
            "object_fit": null,
            "object_position": null,
            "order": null,
            "overflow": null,
            "overflow_x": null,
            "overflow_y": null,
            "padding": null,
            "right": null,
            "top": null,
            "visibility": null,
            "width": null
          }
        },
        "4b9265c1f99e45dbbabd108b5feb23ba": {
          "model_module": "@jupyter-widgets/controls",
          "model_module_version": "1.5.0",
          "model_name": "DescriptionStyleModel",
          "state": {
            "_model_module": "@jupyter-widgets/controls",
            "_model_module_version": "1.5.0",
            "_model_name": "DescriptionStyleModel",
            "_view_count": null,
            "_view_module": "@jupyter-widgets/base",
            "_view_module_version": "1.2.0",
            "_view_name": "StyleView",
            "description_width": ""
          }
        },
        "4c66231034a54bf4a57d2417dc4825c4": {
          "model_module": "@jupyter-widgets/base",
          "model_module_version": "1.2.0",
          "model_name": "LayoutModel",
          "state": {
            "_model_module": "@jupyter-widgets/base",
            "_model_module_version": "1.2.0",
            "_model_name": "LayoutModel",
            "_view_count": null,
            "_view_module": "@jupyter-widgets/base",
            "_view_module_version": "1.2.0",
            "_view_name": "LayoutView",
            "align_content": null,
            "align_items": null,
            "align_self": null,
            "border": null,
            "bottom": null,
            "display": null,
            "flex": null,
            "flex_flow": null,
            "grid_area": null,
            "grid_auto_columns": null,
            "grid_auto_flow": null,
            "grid_auto_rows": null,
            "grid_column": null,
            "grid_gap": null,
            "grid_row": null,
            "grid_template_areas": null,
            "grid_template_columns": null,
            "grid_template_rows": null,
            "height": null,
            "justify_content": null,
            "justify_items": null,
            "left": null,
            "margin": null,
            "max_height": null,
            "max_width": null,
            "min_height": null,
            "min_width": null,
            "object_fit": null,
            "object_position": null,
            "order": null,
            "overflow": null,
            "overflow_x": null,
            "overflow_y": null,
            "padding": null,
            "right": null,
            "top": null,
            "visibility": null,
            "width": null
          }
        },
        "4c899492e1d84b0595af98248d37b0cd": {
          "model_module": "@jupyter-widgets/controls",
          "model_module_version": "1.5.0",
          "model_name": "DescriptionStyleModel",
          "state": {
            "_model_module": "@jupyter-widgets/controls",
            "_model_module_version": "1.5.0",
            "_model_name": "DescriptionStyleModel",
            "_view_count": null,
            "_view_module": "@jupyter-widgets/base",
            "_view_module_version": "1.2.0",
            "_view_name": "StyleView",
            "description_width": ""
          }
        },
        "4cbb6640e5a7419fb20f500cbe788ff5": {
          "model_module": "@jupyter-widgets/controls",
          "model_module_version": "1.5.0",
          "model_name": "DescriptionStyleModel",
          "state": {
            "_model_module": "@jupyter-widgets/controls",
            "_model_module_version": "1.5.0",
            "_model_name": "DescriptionStyleModel",
            "_view_count": null,
            "_view_module": "@jupyter-widgets/base",
            "_view_module_version": "1.2.0",
            "_view_name": "StyleView",
            "description_width": ""
          }
        },
        "4cc9b761b6ef42c5986f0724a8efd299": {
          "model_module": "@jupyter-widgets/controls",
          "model_module_version": "1.5.0",
          "model_name": "ProgressStyleModel",
          "state": {
            "_model_module": "@jupyter-widgets/controls",
            "_model_module_version": "1.5.0",
            "_model_name": "ProgressStyleModel",
            "_view_count": null,
            "_view_module": "@jupyter-widgets/base",
            "_view_module_version": "1.2.0",
            "_view_name": "StyleView",
            "bar_color": null,
            "description_width": ""
          }
        },
        "4d229cffa3844ccaa66f83243a5542ad": {
          "model_module": "@jupyter-widgets/controls",
          "model_module_version": "1.5.0",
          "model_name": "DescriptionStyleModel",
          "state": {
            "_model_module": "@jupyter-widgets/controls",
            "_model_module_version": "1.5.0",
            "_model_name": "DescriptionStyleModel",
            "_view_count": null,
            "_view_module": "@jupyter-widgets/base",
            "_view_module_version": "1.2.0",
            "_view_name": "StyleView",
            "description_width": ""
          }
        },
        "4d989500499145d381a286f2403decd1": {
          "model_module": "@jupyter-widgets/controls",
          "model_module_version": "1.5.0",
          "model_name": "DescriptionStyleModel",
          "state": {
            "_model_module": "@jupyter-widgets/controls",
            "_model_module_version": "1.5.0",
            "_model_name": "DescriptionStyleModel",
            "_view_count": null,
            "_view_module": "@jupyter-widgets/base",
            "_view_module_version": "1.2.0",
            "_view_name": "StyleView",
            "description_width": ""
          }
        },
        "519669fe7a0540b29655bad46956b099": {
          "model_module": "@jupyter-widgets/controls",
          "model_module_version": "1.5.0",
          "model_name": "FloatProgressModel",
          "state": {
            "_dom_classes": [],
            "_model_module": "@jupyter-widgets/controls",
            "_model_module_version": "1.5.0",
            "_model_name": "FloatProgressModel",
            "_view_count": null,
            "_view_module": "@jupyter-widgets/controls",
            "_view_module_version": "1.5.0",
            "_view_name": "ProgressView",
            "bar_style": "success",
            "description": "",
            "description_tooltip": null,
            "layout": "IPY_MODEL_64a97b7f8a4d4b789607e1e41e06b44a",
            "max": 231508,
            "min": 0,
            "orientation": "horizontal",
            "style": "IPY_MODEL_683225eaa58c44b19888ecc0f422018a",
            "value": 231508
          }
        },
        "56f4b9286f14451197c1e9c3b6a7c6e5": {
          "model_module": "@jupyter-widgets/base",
          "model_module_version": "1.2.0",
          "model_name": "LayoutModel",
          "state": {
            "_model_module": "@jupyter-widgets/base",
            "_model_module_version": "1.2.0",
            "_model_name": "LayoutModel",
            "_view_count": null,
            "_view_module": "@jupyter-widgets/base",
            "_view_module_version": "1.2.0",
            "_view_name": "LayoutView",
            "align_content": null,
            "align_items": null,
            "align_self": null,
            "border": null,
            "bottom": null,
            "display": null,
            "flex": null,
            "flex_flow": null,
            "grid_area": null,
            "grid_auto_columns": null,
            "grid_auto_flow": null,
            "grid_auto_rows": null,
            "grid_column": null,
            "grid_gap": null,
            "grid_row": null,
            "grid_template_areas": null,
            "grid_template_columns": null,
            "grid_template_rows": null,
            "height": null,
            "justify_content": null,
            "justify_items": null,
            "left": null,
            "margin": null,
            "max_height": null,
            "max_width": null,
            "min_height": null,
            "min_width": null,
            "object_fit": null,
            "object_position": null,
            "order": null,
            "overflow": null,
            "overflow_x": null,
            "overflow_y": null,
            "padding": null,
            "right": null,
            "top": null,
            "visibility": null,
            "width": null
          }
        },
        "57c64567a39b4c929837ac3c03263c35": {
          "model_module": "@jupyter-widgets/base",
          "model_module_version": "1.2.0",
          "model_name": "LayoutModel",
          "state": {
            "_model_module": "@jupyter-widgets/base",
            "_model_module_version": "1.2.0",
            "_model_name": "LayoutModel",
            "_view_count": null,
            "_view_module": "@jupyter-widgets/base",
            "_view_module_version": "1.2.0",
            "_view_name": "LayoutView",
            "align_content": null,
            "align_items": null,
            "align_self": null,
            "border": null,
            "bottom": null,
            "display": null,
            "flex": null,
            "flex_flow": null,
            "grid_area": null,
            "grid_auto_columns": null,
            "grid_auto_flow": null,
            "grid_auto_rows": null,
            "grid_column": null,
            "grid_gap": null,
            "grid_row": null,
            "grid_template_areas": null,
            "grid_template_columns": null,
            "grid_template_rows": null,
            "height": null,
            "justify_content": null,
            "justify_items": null,
            "left": null,
            "margin": null,
            "max_height": null,
            "max_width": null,
            "min_height": null,
            "min_width": null,
            "object_fit": null,
            "object_position": null,
            "order": null,
            "overflow": null,
            "overflow_x": null,
            "overflow_y": null,
            "padding": null,
            "right": null,
            "top": null,
            "visibility": null,
            "width": null
          }
        },
        "593e043ce5e840e7a90ab8ffe2366689": {
          "model_module": "@jupyter-widgets/controls",
          "model_module_version": "1.5.0",
          "model_name": "LabelModel",
          "state": {
            "_dom_classes": [],
            "_model_module": "@jupyter-widgets/controls",
            "_model_module_version": "1.5.0",
            "_model_name": "LabelModel",
            "_view_count": null,
            "_view_module": "@jupyter-widgets/controls",
            "_view_module_version": "1.5.0",
            "_view_name": "LabelView",
            "description": "",
            "description_tooltip": null,
            "layout": "IPY_MODEL_b004b6ab975c4df99ac07d546eeb9edd",
            "placeholder": "​",
            "style": "IPY_MODEL_4c899492e1d84b0595af98248d37b0cd",
            "value": "Token is valid (permission: write)."
          }
        },
        "5c14b94535304e1aba6657a2032348fe": {
          "model_module": "@jupyter-widgets/base",
          "model_module_version": "1.2.0",
          "model_name": "LayoutModel",
          "state": {
            "_model_module": "@jupyter-widgets/base",
            "_model_module_version": "1.2.0",
            "_model_name": "LayoutModel",
            "_view_count": null,
            "_view_module": "@jupyter-widgets/base",
            "_view_module_version": "1.2.0",
            "_view_name": "LayoutView",
            "align_content": null,
            "align_items": null,
            "align_self": null,
            "border": null,
            "bottom": null,
            "display": null,
            "flex": null,
            "flex_flow": null,
            "grid_area": null,
            "grid_auto_columns": null,
            "grid_auto_flow": null,
            "grid_auto_rows": null,
            "grid_column": null,
            "grid_gap": null,
            "grid_row": null,
            "grid_template_areas": null,
            "grid_template_columns": null,
            "grid_template_rows": null,
            "height": null,
            "justify_content": null,
            "justify_items": null,
            "left": null,
            "margin": null,
            "max_height": null,
            "max_width": null,
            "min_height": null,
            "min_width": null,
            "object_fit": null,
            "object_position": null,
            "order": null,
            "overflow": null,
            "overflow_x": null,
            "overflow_y": null,
            "padding": null,
            "right": null,
            "top": null,
            "visibility": null,
            "width": null
          }
        },
        "5d44c622117f478e82106afbf0dcdf29": {
          "model_module": "@jupyter-widgets/controls",
          "model_module_version": "1.5.0",
          "model_name": "DescriptionStyleModel",
          "state": {
            "_model_module": "@jupyter-widgets/controls",
            "_model_module_version": "1.5.0",
            "_model_name": "DescriptionStyleModel",
            "_view_count": null,
            "_view_module": "@jupyter-widgets/base",
            "_view_module_version": "1.2.0",
            "_view_name": "StyleView",
            "description_width": ""
          }
        },
        "5e22a2d0b785475c9d75a455301e135e": {
          "model_module": "@jupyter-widgets/controls",
          "model_module_version": "1.5.0",
          "model_name": "HBoxModel",
          "state": {
            "_dom_classes": [],
            "_model_module": "@jupyter-widgets/controls",
            "_model_module_version": "1.5.0",
            "_model_name": "HBoxModel",
            "_view_count": null,
            "_view_module": "@jupyter-widgets/controls",
            "_view_module_version": "1.5.0",
            "_view_name": "HBoxView",
            "box_style": "",
            "children": [
              "IPY_MODEL_62e11f871b804f6e9cc8c6e121c62a24",
              "IPY_MODEL_9ccfa1118eb54f3cb6d9dcac7e32067e",
              "IPY_MODEL_99f21a754a574a97aedf86e8177eb50d"
            ],
            "layout": "IPY_MODEL_455b6d0d587d4880aa24762b6b73e2d0"
          }
        },
        "5f26a1bc71524f09a15c33f5fc3170f4": {
          "model_module": "@jupyter-widgets/controls",
          "model_module_version": "1.5.0",
          "model_name": "DescriptionStyleModel",
          "state": {
            "_model_module": "@jupyter-widgets/controls",
            "_model_module_version": "1.5.0",
            "_model_name": "DescriptionStyleModel",
            "_view_count": null,
            "_view_module": "@jupyter-widgets/base",
            "_view_module_version": "1.2.0",
            "_view_name": "StyleView",
            "description_width": ""
          }
        },
        "623fd5fc8b3442c9ac796191a1ec7e71": {
          "model_module": "@jupyter-widgets/controls",
          "model_module_version": "1.5.0",
          "model_name": "FloatProgressModel",
          "state": {
            "_dom_classes": [],
            "_model_module": "@jupyter-widgets/controls",
            "_model_module_version": "1.5.0",
            "_model_name": "FloatProgressModel",
            "_view_count": null,
            "_view_module": "@jupyter-widgets/controls",
            "_view_module_version": "1.5.0",
            "_view_name": "ProgressView",
            "bar_style": "success",
            "description": "",
            "description_tooltip": null,
            "layout": "IPY_MODEL_9bb84be7deeb487c818171bad7e4b551",
            "max": 3100,
            "min": 0,
            "orientation": "horizontal",
            "style": "IPY_MODEL_94af7974a3414dcb877262c5bacec002",
            "value": 3100
          }
        },
        "62e11f871b804f6e9cc8c6e121c62a24": {
          "model_module": "@jupyter-widgets/controls",
          "model_module_version": "1.5.0",
          "model_name": "HTMLModel",
          "state": {
            "_dom_classes": [],
            "_model_module": "@jupyter-widgets/controls",
            "_model_module_version": "1.5.0",
            "_model_name": "HTMLModel",
            "_view_count": null,
            "_view_module": "@jupyter-widgets/controls",
            "_view_module_version": "1.5.0",
            "_view_name": "HTMLView",
            "description": "",
            "description_tooltip": null,
            "layout": "IPY_MODEL_a330dfc41b2a4a3587baf77d65d24a4b",
            "placeholder": "​",
            "style": "IPY_MODEL_402deb4a145e48008656345b1d6aad6e",
            "value": "Downloading (…)lve/main/config.json: 100%"
          }
        },
        "64a97b7f8a4d4b789607e1e41e06b44a": {
          "model_module": "@jupyter-widgets/base",
          "model_module_version": "1.2.0",
          "model_name": "LayoutModel",
          "state": {
            "_model_module": "@jupyter-widgets/base",
            "_model_module_version": "1.2.0",
            "_model_name": "LayoutModel",
            "_view_count": null,
            "_view_module": "@jupyter-widgets/base",
            "_view_module_version": "1.2.0",
            "_view_name": "LayoutView",
            "align_content": null,
            "align_items": null,
            "align_self": null,
            "border": null,
            "bottom": null,
            "display": null,
            "flex": null,
            "flex_flow": null,
            "grid_area": null,
            "grid_auto_columns": null,
            "grid_auto_flow": null,
            "grid_auto_rows": null,
            "grid_column": null,
            "grid_gap": null,
            "grid_row": null,
            "grid_template_areas": null,
            "grid_template_columns": null,
            "grid_template_rows": null,
            "height": null,
            "justify_content": null,
            "justify_items": null,
            "left": null,
            "margin": null,
            "max_height": null,
            "max_width": null,
            "min_height": null,
            "min_width": null,
            "object_fit": null,
            "object_position": null,
            "order": null,
            "overflow": null,
            "overflow_x": null,
            "overflow_y": null,
            "padding": null,
            "right": null,
            "top": null,
            "visibility": null,
            "width": null
          }
        },
        "683225eaa58c44b19888ecc0f422018a": {
          "model_module": "@jupyter-widgets/controls",
          "model_module_version": "1.5.0",
          "model_name": "ProgressStyleModel",
          "state": {
            "_model_module": "@jupyter-widgets/controls",
            "_model_module_version": "1.5.0",
            "_model_name": "ProgressStyleModel",
            "_view_count": null,
            "_view_module": "@jupyter-widgets/base",
            "_view_module_version": "1.2.0",
            "_view_name": "StyleView",
            "bar_color": null,
            "description_width": ""
          }
        },
        "696b111055024535b37c1b3ef945d145": {
          "model_module": "@jupyter-widgets/base",
          "model_module_version": "1.2.0",
          "model_name": "LayoutModel",
          "state": {
            "_model_module": "@jupyter-widgets/base",
            "_model_module_version": "1.2.0",
            "_model_name": "LayoutModel",
            "_view_count": null,
            "_view_module": "@jupyter-widgets/base",
            "_view_module_version": "1.2.0",
            "_view_name": "LayoutView",
            "align_content": null,
            "align_items": null,
            "align_self": null,
            "border": null,
            "bottom": null,
            "display": null,
            "flex": null,
            "flex_flow": null,
            "grid_area": null,
            "grid_auto_columns": null,
            "grid_auto_flow": null,
            "grid_auto_rows": null,
            "grid_column": null,
            "grid_gap": null,
            "grid_row": null,
            "grid_template_areas": null,
            "grid_template_columns": null,
            "grid_template_rows": null,
            "height": null,
            "justify_content": null,
            "justify_items": null,
            "left": null,
            "margin": null,
            "max_height": null,
            "max_width": null,
            "min_height": null,
            "min_width": null,
            "object_fit": null,
            "object_position": null,
            "order": null,
            "overflow": null,
            "overflow_x": null,
            "overflow_y": null,
            "padding": null,
            "right": null,
            "top": null,
            "visibility": null,
            "width": null
          }
        },
        "71dc1dd135864673859243770fd3f673": {
          "model_module": "@jupyter-widgets/controls",
          "model_module_version": "1.5.0",
          "model_name": "DescriptionStyleModel",
          "state": {
            "_model_module": "@jupyter-widgets/controls",
            "_model_module_version": "1.5.0",
            "_model_name": "DescriptionStyleModel",
            "_view_count": null,
            "_view_module": "@jupyter-widgets/base",
            "_view_module_version": "1.2.0",
            "_view_name": "StyleView",
            "description_width": ""
          }
        },
        "75aeea295c5946a5ac4b098deeb32243": {
          "model_module": "@jupyter-widgets/controls",
          "model_module_version": "1.5.0",
          "model_name": "HTMLModel",
          "state": {
            "_dom_classes": [],
            "_model_module": "@jupyter-widgets/controls",
            "_model_module_version": "1.5.0",
            "_model_name": "HTMLModel",
            "_view_count": null,
            "_view_module": "@jupyter-widgets/controls",
            "_view_module_version": "1.5.0",
            "_view_name": "HTMLView",
            "description": "",
            "description_tooltip": null,
            "layout": "IPY_MODEL_d07d482345924b2ea24c6f059c3682c4",
            "placeholder": "​",
            "style": "IPY_MODEL_4b9265c1f99e45dbbabd108b5feb23ba",
            "value": " 466k/466k [00:00&lt;00:00, 10.1MB/s]"
          }
        },
        "761e8b3d0043453394b0e17acc755e9c": {
          "model_module": "@jupyter-widgets/base",
          "model_module_version": "1.2.0",
          "model_name": "LayoutModel",
          "state": {
            "_model_module": "@jupyter-widgets/base",
            "_model_module_version": "1.2.0",
            "_model_name": "LayoutModel",
            "_view_count": null,
            "_view_module": "@jupyter-widgets/base",
            "_view_module_version": "1.2.0",
            "_view_name": "LayoutView",
            "align_content": null,
            "align_items": null,
            "align_self": null,
            "border": null,
            "bottom": null,
            "display": null,
            "flex": null,
            "flex_flow": null,
            "grid_area": null,
            "grid_auto_columns": null,
            "grid_auto_flow": null,
            "grid_auto_rows": null,
            "grid_column": null,
            "grid_gap": null,
            "grid_row": null,
            "grid_template_areas": null,
            "grid_template_columns": null,
            "grid_template_rows": null,
            "height": null,
            "justify_content": null,
            "justify_items": null,
            "left": null,
            "margin": null,
            "max_height": null,
            "max_width": null,
            "min_height": null,
            "min_width": null,
            "object_fit": null,
            "object_position": null,
            "order": null,
            "overflow": null,
            "overflow_x": null,
            "overflow_y": null,
            "padding": null,
            "right": null,
            "top": null,
            "visibility": null,
            "width": null
          }
        },
        "77f0582e9f5945b8bc016c635d5c8991": {
          "model_module": "@jupyter-widgets/controls",
          "model_module_version": "1.5.0",
          "model_name": "FloatProgressModel",
          "state": {
            "_dom_classes": [],
            "_model_module": "@jupyter-widgets/controls",
            "_model_module_version": "1.5.0",
            "_model_name": "FloatProgressModel",
            "_view_count": null,
            "_view_module": "@jupyter-widgets/controls",
            "_view_module_version": "1.5.0",
            "_view_name": "ProgressView",
            "bar_style": "success",
            "description": "",
            "description_tooltip": null,
            "layout": "IPY_MODEL_b92ba5ab0c0842d3b2ca74336522e19b",
            "max": 268313837,
            "min": 0,
            "orientation": "horizontal",
            "style": "IPY_MODEL_1ee56aedfaab4332abc89cfde7cf75a1",
            "value": 268313837
          }
        },
        "7879753fe2b140058d8ca076b46fe6dd": {
          "model_module": "@jupyter-widgets/controls",
          "model_module_version": "1.5.0",
          "model_name": "HTMLModel",
          "state": {
            "_dom_classes": [],
            "_model_module": "@jupyter-widgets/controls",
            "_model_module_version": "1.5.0",
            "_model_name": "HTMLModel",
            "_view_count": null,
            "_view_module": "@jupyter-widgets/controls",
            "_view_module_version": "1.5.0",
            "_view_name": "HTMLView",
            "description": "",
            "description_tooltip": null,
            "layout": "IPY_MODEL_a34b6cd46f0b4b5e87fc40885bbe0333",
            "placeholder": "​",
            "style": "IPY_MODEL_d13b8169397949379b776dcf72100388",
            "value": "Downloading (…)solve/main/vocab.txt: 100%"
          }
        },
        "7a38594ce6e64416b5d2ebcac1289996": {
          "model_module": "@jupyter-widgets/base",
          "model_module_version": "1.2.0",
          "model_name": "LayoutModel",
          "state": {
            "_model_module": "@jupyter-widgets/base",
            "_model_module_version": "1.2.0",
            "_model_name": "LayoutModel",
            "_view_count": null,
            "_view_module": "@jupyter-widgets/base",
            "_view_module_version": "1.2.0",
            "_view_name": "LayoutView",
            "align_content": null,
            "align_items": null,
            "align_self": null,
            "border": null,
            "bottom": null,
            "display": null,
            "flex": null,
            "flex_flow": null,
            "grid_area": null,
            "grid_auto_columns": null,
            "grid_auto_flow": null,
            "grid_auto_rows": null,
            "grid_column": null,
            "grid_gap": null,
            "grid_row": null,
            "grid_template_areas": null,
            "grid_template_columns": null,
            "grid_template_rows": null,
            "height": null,
            "justify_content": null,
            "justify_items": null,
            "left": null,
            "margin": null,
            "max_height": null,
            "max_width": null,
            "min_height": null,
            "min_width": null,
            "object_fit": null,
            "object_position": null,
            "order": null,
            "overflow": null,
            "overflow_x": null,
            "overflow_y": null,
            "padding": null,
            "right": null,
            "top": null,
            "visibility": null,
            "width": null
          }
        },
        "7a570d93253c4d7baf165c423e3e737a": {
          "model_module": "@jupyter-widgets/controls",
          "model_module_version": "1.5.0",
          "model_name": "ProgressStyleModel",
          "state": {
            "_model_module": "@jupyter-widgets/controls",
            "_model_module_version": "1.5.0",
            "_model_name": "ProgressStyleModel",
            "_view_count": null,
            "_view_module": "@jupyter-widgets/base",
            "_view_module_version": "1.2.0",
            "_view_name": "StyleView",
            "bar_color": null,
            "description_width": ""
          }
        },
        "7cbacc572476422cbf573457bdc064fc": {
          "model_module": "@jupyter-widgets/controls",
          "model_module_version": "1.5.0",
          "model_name": "FloatProgressModel",
          "state": {
            "_dom_classes": [],
            "_model_module": "@jupyter-widgets/controls",
            "_model_module_version": "1.5.0",
            "_model_name": "FloatProgressModel",
            "_view_count": null,
            "_view_module": "@jupyter-widgets/controls",
            "_view_module_version": "1.5.0",
            "_view_name": "ProgressView",
            "bar_style": "success",
            "description": "",
            "description_tooltip": null,
            "layout": "IPY_MODEL_2749ad7716e54250b6bac11168a271ad",
            "max": 112,
            "min": 0,
            "orientation": "horizontal",
            "style": "IPY_MODEL_ef6aaa9b9a3b47f79469ce9a0de7a212",
            "value": 112
          }
        },
        "81599d11bba54c7a94c0c8f6a0813d4b": {
          "model_module": "@jupyter-widgets/base",
          "model_module_version": "1.2.0",
          "model_name": "LayoutModel",
          "state": {
            "_model_module": "@jupyter-widgets/base",
            "_model_module_version": "1.2.0",
            "_model_name": "LayoutModel",
            "_view_count": null,
            "_view_module": "@jupyter-widgets/base",
            "_view_module_version": "1.2.0",
            "_view_name": "LayoutView",
            "align_content": null,
            "align_items": null,
            "align_self": null,
            "border": null,
            "bottom": null,
            "display": null,
            "flex": null,
            "flex_flow": null,
            "grid_area": null,
            "grid_auto_columns": null,
            "grid_auto_flow": null,
            "grid_auto_rows": null,
            "grid_column": null,
            "grid_gap": null,
            "grid_row": null,
            "grid_template_areas": null,
            "grid_template_columns": null,
            "grid_template_rows": null,
            "height": null,
            "justify_content": null,
            "justify_items": null,
            "left": null,
            "margin": null,
            "max_height": null,
            "max_width": null,
            "min_height": null,
            "min_width": null,
            "object_fit": null,
            "object_position": null,
            "order": null,
            "overflow": null,
            "overflow_x": null,
            "overflow_y": null,
            "padding": null,
            "right": null,
            "top": null,
            "visibility": null,
            "width": null
          }
        },
        "826626af01494966bc5cb905924b08c7": {
          "model_module": "@jupyter-widgets/controls",
          "model_module_version": "1.5.0",
          "model_name": "VBoxModel",
          "state": {
            "_dom_classes": [],
            "_model_module": "@jupyter-widgets/controls",
            "_model_module_version": "1.5.0",
            "_model_name": "VBoxModel",
            "_view_count": null,
            "_view_module": "@jupyter-widgets/controls",
            "_view_module_version": "1.5.0",
            "_view_name": "VBoxView",
            "box_style": "",
            "children": [
              "IPY_MODEL_593e043ce5e840e7a90ab8ffe2366689",
              "IPY_MODEL_35885f3851fb455aaabcee3f3cc2d7d5",
              "IPY_MODEL_d3f68d1efc9d4824bafb58a12d011e79",
              "IPY_MODEL_009b9218bde84be5855d67c287fb37c4"
            ],
            "layout": "IPY_MODEL_924b9e9ee8bc4acaad84cd1570dd26fa"
          }
        },
        "8433ec106d88497b98f3f8a972c1e94f": {
          "model_module": "@jupyter-widgets/controls",
          "model_module_version": "1.5.0",
          "model_name": "DescriptionStyleModel",
          "state": {
            "_model_module": "@jupyter-widgets/controls",
            "_model_module_version": "1.5.0",
            "_model_name": "DescriptionStyleModel",
            "_view_count": null,
            "_view_module": "@jupyter-widgets/base",
            "_view_module_version": "1.2.0",
            "_view_name": "StyleView",
            "description_width": ""
          }
        },
        "859be4ca073c44cba9bf74feb7f658c5": {
          "model_module": "@jupyter-widgets/controls",
          "model_module_version": "1.5.0",
          "model_name": "DescriptionStyleModel",
          "state": {
            "_model_module": "@jupyter-widgets/controls",
            "_model_module_version": "1.5.0",
            "_model_name": "DescriptionStyleModel",
            "_view_count": null,
            "_view_module": "@jupyter-widgets/base",
            "_view_module_version": "1.2.0",
            "_view_name": "StyleView",
            "description_width": ""
          }
        },
        "8672e1076fae446e881dac734cf41f3d": {
          "model_module": "@jupyter-widgets/base",
          "model_module_version": "1.2.0",
          "model_name": "LayoutModel",
          "state": {
            "_model_module": "@jupyter-widgets/base",
            "_model_module_version": "1.2.0",
            "_model_name": "LayoutModel",
            "_view_count": null,
            "_view_module": "@jupyter-widgets/base",
            "_view_module_version": "1.2.0",
            "_view_name": "LayoutView",
            "align_content": null,
            "align_items": null,
            "align_self": null,
            "border": null,
            "bottom": null,
            "display": null,
            "flex": null,
            "flex_flow": null,
            "grid_area": null,
            "grid_auto_columns": null,
            "grid_auto_flow": null,
            "grid_auto_rows": null,
            "grid_column": null,
            "grid_gap": null,
            "grid_row": null,
            "grid_template_areas": null,
            "grid_template_columns": null,
            "grid_template_rows": null,
            "height": null,
            "justify_content": null,
            "justify_items": null,
            "left": null,
            "margin": null,
            "max_height": null,
            "max_width": null,
            "min_height": null,
            "min_width": null,
            "object_fit": null,
            "object_position": null,
            "order": null,
            "overflow": null,
            "overflow_x": null,
            "overflow_y": null,
            "padding": null,
            "right": null,
            "top": null,
            "visibility": null,
            "width": null
          }
        },
        "87def8ba894841e790c1692c86ff42fa": {
          "model_module": "@jupyter-widgets/controls",
          "model_module_version": "1.5.0",
          "model_name": "HTMLModel",
          "state": {
            "_dom_classes": [],
            "_model_module": "@jupyter-widgets/controls",
            "_model_module_version": "1.5.0",
            "_model_name": "HTMLModel",
            "_view_count": null,
            "_view_module": "@jupyter-widgets/controls",
            "_view_module_version": "1.5.0",
            "_view_name": "HTMLView",
            "description": "",
            "description_tooltip": null,
            "layout": "IPY_MODEL_cdff4d2a7a2b48eda3ef7443bba3675c",
            "placeholder": "​",
            "style": "IPY_MODEL_5f26a1bc71524f09a15c33f5fc3170f4",
            "value": " 268M/268M [00:11&lt;00:00, 24.1MB/s]"
          }
        },
        "924b9e9ee8bc4acaad84cd1570dd26fa": {
          "model_module": "@jupyter-widgets/base",
          "model_module_version": "1.2.0",
          "model_name": "LayoutModel",
          "state": {
            "_model_module": "@jupyter-widgets/base",
            "_model_module_version": "1.2.0",
            "_model_name": "LayoutModel",
            "_view_count": null,
            "_view_module": "@jupyter-widgets/base",
            "_view_module_version": "1.2.0",
            "_view_name": "LayoutView",
            "align_content": null,
            "align_items": "center",
            "align_self": null,
            "border": null,
            "bottom": null,
            "display": "flex",
            "flex": null,
            "flex_flow": "column",
            "grid_area": null,
            "grid_auto_columns": null,
            "grid_auto_flow": null,
            "grid_auto_rows": null,
            "grid_column": null,
            "grid_gap": null,
            "grid_row": null,
            "grid_template_areas": null,
            "grid_template_columns": null,
            "grid_template_rows": null,
            "height": null,
            "justify_content": null,
            "justify_items": null,
            "left": null,
            "margin": null,
            "max_height": null,
            "max_width": null,
            "min_height": null,
            "min_width": null,
            "object_fit": null,
            "object_position": null,
            "order": null,
            "overflow": null,
            "overflow_x": null,
            "overflow_y": null,
            "padding": null,
            "right": null,
            "top": null,
            "visibility": null,
            "width": "50%"
          }
        },
        "931191b18df94007aea6cf5e02603770": {
          "model_module": "@jupyter-widgets/controls",
          "model_module_version": "1.5.0",
          "model_name": "HTMLModel",
          "state": {
            "_dom_classes": [],
            "_model_module": "@jupyter-widgets/controls",
            "_model_module_version": "1.5.0",
            "_model_name": "HTMLModel",
            "_view_count": null,
            "_view_module": "@jupyter-widgets/controls",
            "_view_module_version": "1.5.0",
            "_view_name": "HTMLView",
            "description": "",
            "description_tooltip": null,
            "layout": "IPY_MODEL_57c64567a39b4c929837ac3c03263c35",
            "placeholder": "​",
            "style": "IPY_MODEL_4cbb6640e5a7419fb20f500cbe788ff5",
            "value": " 112/112 [00:00&lt;00:00, 2.72kB/s]"
          }
        },
        "949ad1d92e04412f9d030cff4ba86fb6": {
          "model_module": "@jupyter-widgets/controls",
          "model_module_version": "1.5.0",
          "model_name": "HBoxModel",
          "state": {
            "_dom_classes": [],
            "_model_module": "@jupyter-widgets/controls",
            "_model_module_version": "1.5.0",
            "_model_name": "HBoxModel",
            "_view_count": null,
            "_view_module": "@jupyter-widgets/controls",
            "_view_module_version": "1.5.0",
            "_view_name": "HBoxView",
            "box_style": "",
            "children": [
              "IPY_MODEL_c3c669e4bda54e63867287edcbd64756",
              "IPY_MODEL_3040a6f785e545e9919f825296662d9e",
              "IPY_MODEL_037f97a8e3bb4fd3a1fa9185e2c90412"
            ],
            "layout": "IPY_MODEL_2e6fea7358174341bc8059be8ada4840"
          }
        },
        "94af7974a3414dcb877262c5bacec002": {
          "model_module": "@jupyter-widgets/controls",
          "model_module_version": "1.5.0",
          "model_name": "ProgressStyleModel",
          "state": {
            "_model_module": "@jupyter-widgets/controls",
            "_model_module_version": "1.5.0",
            "_model_name": "ProgressStyleModel",
            "_view_count": null,
            "_view_module": "@jupyter-widgets/base",
            "_view_module_version": "1.2.0",
            "_view_name": "StyleView",
            "bar_color": null,
            "description_width": ""
          }
        },
        "95b8aa0608d54e16a675703109b5a8e0": {
          "model_module": "@jupyter-widgets/controls",
          "model_module_version": "1.5.0",
          "model_name": "HTMLModel",
          "state": {
            "_dom_classes": [],
            "_model_module": "@jupyter-widgets/controls",
            "_model_module_version": "1.5.0",
            "_model_name": "HTMLModel",
            "_view_count": null,
            "_view_module": "@jupyter-widgets/controls",
            "_view_module_version": "1.5.0",
            "_view_name": "HTMLView",
            "description": "",
            "description_tooltip": null,
            "layout": "IPY_MODEL_bae770846c984454af7dbcc96aa435fc",
            "placeholder": "​",
            "style": "IPY_MODEL_5d44c622117f478e82106afbf0dcdf29",
            "value": "Downloading (…)cial_tokens_map.json: 100%"
          }
        },
        "9973ca1f6de84dafb40b01b495236a51": {
          "model_module": "@jupyter-widgets/base",
          "model_module_version": "1.2.0",
          "model_name": "LayoutModel",
          "state": {
            "_model_module": "@jupyter-widgets/base",
            "_model_module_version": "1.2.0",
            "_model_name": "LayoutModel",
            "_view_count": null,
            "_view_module": "@jupyter-widgets/base",
            "_view_module_version": "1.2.0",
            "_view_name": "LayoutView",
            "align_content": null,
            "align_items": null,
            "align_self": null,
            "border": null,
            "bottom": null,
            "display": null,
            "flex": null,
            "flex_flow": null,
            "grid_area": null,
            "grid_auto_columns": null,
            "grid_auto_flow": null,
            "grid_auto_rows": null,
            "grid_column": null,
            "grid_gap": null,
            "grid_row": null,
            "grid_template_areas": null,
            "grid_template_columns": null,
            "grid_template_rows": null,
            "height": null,
            "justify_content": null,
            "justify_items": null,
            "left": null,
            "margin": null,
            "max_height": null,
            "max_width": null,
            "min_height": null,
            "min_width": null,
            "object_fit": null,
            "object_position": null,
            "order": null,
            "overflow": null,
            "overflow_x": null,
            "overflow_y": null,
            "padding": null,
            "right": null,
            "top": null,
            "visibility": null,
            "width": null
          }
        },
        "99f21a754a574a97aedf86e8177eb50d": {
          "model_module": "@jupyter-widgets/controls",
          "model_module_version": "1.5.0",
          "model_name": "HTMLModel",
          "state": {
            "_dom_classes": [],
            "_model_module": "@jupyter-widgets/controls",
            "_model_module_version": "1.5.0",
            "_model_name": "HTMLModel",
            "_view_count": null,
            "_view_module": "@jupyter-widgets/controls",
            "_view_module_version": "1.5.0",
            "_view_name": "HTMLView",
            "description": "",
            "description_tooltip": null,
            "layout": "IPY_MODEL_7a38594ce6e64416b5d2ebcac1289996",
            "placeholder": "​",
            "style": "IPY_MODEL_4d229cffa3844ccaa66f83243a5542ad",
            "value": " 8.21k/8.21k [00:00&lt;00:00, 556kB/s]"
          }
        },
        "9bb84be7deeb487c818171bad7e4b551": {
          "model_module": "@jupyter-widgets/base",
          "model_module_version": "1.2.0",
          "model_name": "LayoutModel",
          "state": {
            "_model_module": "@jupyter-widgets/base",
            "_model_module_version": "1.2.0",
            "_model_name": "LayoutModel",
            "_view_count": null,
            "_view_module": "@jupyter-widgets/base",
            "_view_module_version": "1.2.0",
            "_view_name": "LayoutView",
            "align_content": null,
            "align_items": null,
            "align_self": null,
            "border": null,
            "bottom": null,
            "display": null,
            "flex": null,
            "flex_flow": null,
            "grid_area": null,
            "grid_auto_columns": null,
            "grid_auto_flow": null,
            "grid_auto_rows": null,
            "grid_column": null,
            "grid_gap": null,
            "grid_row": null,
            "grid_template_areas": null,
            "grid_template_columns": null,
            "grid_template_rows": null,
            "height": null,
            "justify_content": null,
            "justify_items": null,
            "left": null,
            "margin": null,
            "max_height": null,
            "max_width": null,
            "min_height": null,
            "min_width": null,
            "object_fit": null,
            "object_position": null,
            "order": null,
            "overflow": null,
            "overflow_x": null,
            "overflow_y": null,
            "padding": null,
            "right": null,
            "top": null,
            "visibility": null,
            "width": null
          }
        },
        "9ccfa1118eb54f3cb6d9dcac7e32067e": {
          "model_module": "@jupyter-widgets/controls",
          "model_module_version": "1.5.0",
          "model_name": "FloatProgressModel",
          "state": {
            "_dom_classes": [],
            "_model_module": "@jupyter-widgets/controls",
            "_model_module_version": "1.5.0",
            "_model_name": "FloatProgressModel",
            "_view_count": null,
            "_view_module": "@jupyter-widgets/controls",
            "_view_module_version": "1.5.0",
            "_view_name": "ProgressView",
            "bar_style": "success",
            "description": "",
            "description_tooltip": null,
            "layout": "IPY_MODEL_f08cf6243d084f54814db9679288246a",
            "max": 8205,
            "min": 0,
            "orientation": "horizontal",
            "style": "IPY_MODEL_a9ea870fd336471e930bc341887d006e",
            "value": 8205
          }
        },
        "a17a5f25c3014eb68c90f22dccfd8b04": {
          "model_module": "@jupyter-widgets/base",
          "model_module_version": "1.2.0",
          "model_name": "LayoutModel",
          "state": {
            "_model_module": "@jupyter-widgets/base",
            "_model_module_version": "1.2.0",
            "_model_name": "LayoutModel",
            "_view_count": null,
            "_view_module": "@jupyter-widgets/base",
            "_view_module_version": "1.2.0",
            "_view_name": "LayoutView",
            "align_content": null,
            "align_items": null,
            "align_self": null,
            "border": null,
            "bottom": null,
            "display": null,
            "flex": null,
            "flex_flow": null,
            "grid_area": null,
            "grid_auto_columns": null,
            "grid_auto_flow": null,
            "grid_auto_rows": null,
            "grid_column": null,
            "grid_gap": null,
            "grid_row": null,
            "grid_template_areas": null,
            "grid_template_columns": null,
            "grid_template_rows": null,
            "height": null,
            "justify_content": null,
            "justify_items": null,
            "left": null,
            "margin": null,
            "max_height": null,
            "max_width": null,
            "min_height": null,
            "min_width": null,
            "object_fit": null,
            "object_position": null,
            "order": null,
            "overflow": null,
            "overflow_x": null,
            "overflow_y": null,
            "padding": null,
            "right": null,
            "top": null,
            "visibility": null,
            "width": null
          }
        },
        "a330dfc41b2a4a3587baf77d65d24a4b": {
          "model_module": "@jupyter-widgets/base",
          "model_module_version": "1.2.0",
          "model_name": "LayoutModel",
          "state": {
            "_model_module": "@jupyter-widgets/base",
            "_model_module_version": "1.2.0",
            "_model_name": "LayoutModel",
            "_view_count": null,
            "_view_module": "@jupyter-widgets/base",
            "_view_module_version": "1.2.0",
            "_view_name": "LayoutView",
            "align_content": null,
            "align_items": null,
            "align_self": null,
            "border": null,
            "bottom": null,
            "display": null,
            "flex": null,
            "flex_flow": null,
            "grid_area": null,
            "grid_auto_columns": null,
            "grid_auto_flow": null,
            "grid_auto_rows": null,
            "grid_column": null,
            "grid_gap": null,
            "grid_row": null,
            "grid_template_areas": null,
            "grid_template_columns": null,
            "grid_template_rows": null,
            "height": null,
            "justify_content": null,
            "justify_items": null,
            "left": null,
            "margin": null,
            "max_height": null,
            "max_width": null,
            "min_height": null,
            "min_width": null,
            "object_fit": null,
            "object_position": null,
            "order": null,
            "overflow": null,
            "overflow_x": null,
            "overflow_y": null,
            "padding": null,
            "right": null,
            "top": null,
            "visibility": null,
            "width": null
          }
        },
        "a34b6cd46f0b4b5e87fc40885bbe0333": {
          "model_module": "@jupyter-widgets/base",
          "model_module_version": "1.2.0",
          "model_name": "LayoutModel",
          "state": {
            "_model_module": "@jupyter-widgets/base",
            "_model_module_version": "1.2.0",
            "_model_name": "LayoutModel",
            "_view_count": null,
            "_view_module": "@jupyter-widgets/base",
            "_view_module_version": "1.2.0",
            "_view_name": "LayoutView",
            "align_content": null,
            "align_items": null,
            "align_self": null,
            "border": null,
            "bottom": null,
            "display": null,
            "flex": null,
            "flex_flow": null,
            "grid_area": null,
            "grid_auto_columns": null,
            "grid_auto_flow": null,
            "grid_auto_rows": null,
            "grid_column": null,
            "grid_gap": null,
            "grid_row": null,
            "grid_template_areas": null,
            "grid_template_columns": null,
            "grid_template_rows": null,
            "height": null,
            "justify_content": null,
            "justify_items": null,
            "left": null,
            "margin": null,
            "max_height": null,
            "max_width": null,
            "min_height": null,
            "min_width": null,
            "object_fit": null,
            "object_position": null,
            "order": null,
            "overflow": null,
            "overflow_x": null,
            "overflow_y": null,
            "padding": null,
            "right": null,
            "top": null,
            "visibility": null,
            "width": null
          }
        },
        "a3e274b3abf04db4b2481e577b13b4f6": {
          "model_module": "@jupyter-widgets/controls",
          "model_module_version": "1.5.0",
          "model_name": "DescriptionStyleModel",
          "state": {
            "_model_module": "@jupyter-widgets/controls",
            "_model_module_version": "1.5.0",
            "_model_name": "DescriptionStyleModel",
            "_view_count": null,
            "_view_module": "@jupyter-widgets/base",
            "_view_module_version": "1.2.0",
            "_view_name": "StyleView",
            "description_width": ""
          }
        },
        "a9ea870fd336471e930bc341887d006e": {
          "model_module": "@jupyter-widgets/controls",
          "model_module_version": "1.5.0",
          "model_name": "ProgressStyleModel",
          "state": {
            "_model_module": "@jupyter-widgets/controls",
            "_model_module_version": "1.5.0",
            "_model_name": "ProgressStyleModel",
            "_view_count": null,
            "_view_module": "@jupyter-widgets/base",
            "_view_module_version": "1.2.0",
            "_view_name": "StyleView",
            "bar_color": null,
            "description_width": ""
          }
        },
        "adf0d2040c514f13b31a1126af52d648": {
          "model_module": "@jupyter-widgets/base",
          "model_module_version": "1.2.0",
          "model_name": "LayoutModel",
          "state": {
            "_model_module": "@jupyter-widgets/base",
            "_model_module_version": "1.2.0",
            "_model_name": "LayoutModel",
            "_view_count": null,
            "_view_module": "@jupyter-widgets/base",
            "_view_module_version": "1.2.0",
            "_view_name": "LayoutView",
            "align_content": null,
            "align_items": null,
            "align_self": null,
            "border": null,
            "bottom": null,
            "display": null,
            "flex": null,
            "flex_flow": null,
            "grid_area": null,
            "grid_auto_columns": null,
            "grid_auto_flow": null,
            "grid_auto_rows": null,
            "grid_column": null,
            "grid_gap": null,
            "grid_row": null,
            "grid_template_areas": null,
            "grid_template_columns": null,
            "grid_template_rows": null,
            "height": null,
            "justify_content": null,
            "justify_items": null,
            "left": null,
            "margin": null,
            "max_height": null,
            "max_width": null,
            "min_height": null,
            "min_width": null,
            "object_fit": null,
            "object_position": null,
            "order": null,
            "overflow": null,
            "overflow_x": null,
            "overflow_y": null,
            "padding": null,
            "right": null,
            "top": null,
            "visibility": null,
            "width": null
          }
        },
        "b004b6ab975c4df99ac07d546eeb9edd": {
          "model_module": "@jupyter-widgets/base",
          "model_module_version": "1.2.0",
          "model_name": "LayoutModel",
          "state": {
            "_model_module": "@jupyter-widgets/base",
            "_model_module_version": "1.2.0",
            "_model_name": "LayoutModel",
            "_view_count": null,
            "_view_module": "@jupyter-widgets/base",
            "_view_module_version": "1.2.0",
            "_view_name": "LayoutView",
            "align_content": null,
            "align_items": null,
            "align_self": null,
            "border": null,
            "bottom": null,
            "display": null,
            "flex": null,
            "flex_flow": null,
            "grid_area": null,
            "grid_auto_columns": null,
            "grid_auto_flow": null,
            "grid_auto_rows": null,
            "grid_column": null,
            "grid_gap": null,
            "grid_row": null,
            "grid_template_areas": null,
            "grid_template_columns": null,
            "grid_template_rows": null,
            "height": null,
            "justify_content": null,
            "justify_items": null,
            "left": null,
            "margin": null,
            "max_height": null,
            "max_width": null,
            "min_height": null,
            "min_width": null,
            "object_fit": null,
            "object_position": null,
            "order": null,
            "overflow": null,
            "overflow_x": null,
            "overflow_y": null,
            "padding": null,
            "right": null,
            "top": null,
            "visibility": null,
            "width": null
          }
        },
        "b92ba5ab0c0842d3b2ca74336522e19b": {
          "model_module": "@jupyter-widgets/base",
          "model_module_version": "1.2.0",
          "model_name": "LayoutModel",
          "state": {
            "_model_module": "@jupyter-widgets/base",
            "_model_module_version": "1.2.0",
            "_model_name": "LayoutModel",
            "_view_count": null,
            "_view_module": "@jupyter-widgets/base",
            "_view_module_version": "1.2.0",
            "_view_name": "LayoutView",
            "align_content": null,
            "align_items": null,
            "align_self": null,
            "border": null,
            "bottom": null,
            "display": null,
            "flex": null,
            "flex_flow": null,
            "grid_area": null,
            "grid_auto_columns": null,
            "grid_auto_flow": null,
            "grid_auto_rows": null,
            "grid_column": null,
            "grid_gap": null,
            "grid_row": null,
            "grid_template_areas": null,
            "grid_template_columns": null,
            "grid_template_rows": null,
            "height": null,
            "justify_content": null,
            "justify_items": null,
            "left": null,
            "margin": null,
            "max_height": null,
            "max_width": null,
            "min_height": null,
            "min_width": null,
            "object_fit": null,
            "object_position": null,
            "order": null,
            "overflow": null,
            "overflow_x": null,
            "overflow_y": null,
            "padding": null,
            "right": null,
            "top": null,
            "visibility": null,
            "width": null
          }
        },
        "bae770846c984454af7dbcc96aa435fc": {
          "model_module": "@jupyter-widgets/base",
          "model_module_version": "1.2.0",
          "model_name": "LayoutModel",
          "state": {
            "_model_module": "@jupyter-widgets/base",
            "_model_module_version": "1.2.0",
            "_model_name": "LayoutModel",
            "_view_count": null,
            "_view_module": "@jupyter-widgets/base",
            "_view_module_version": "1.2.0",
            "_view_name": "LayoutView",
            "align_content": null,
            "align_items": null,
            "align_self": null,
            "border": null,
            "bottom": null,
            "display": null,
            "flex": null,
            "flex_flow": null,
            "grid_area": null,
            "grid_auto_columns": null,
            "grid_auto_flow": null,
            "grid_auto_rows": null,
            "grid_column": null,
            "grid_gap": null,
            "grid_row": null,
            "grid_template_areas": null,
            "grid_template_columns": null,
            "grid_template_rows": null,
            "height": null,
            "justify_content": null,
            "justify_items": null,
            "left": null,
            "margin": null,
            "max_height": null,
            "max_width": null,
            "min_height": null,
            "min_width": null,
            "object_fit": null,
            "object_position": null,
            "order": null,
            "overflow": null,
            "overflow_x": null,
            "overflow_y": null,
            "padding": null,
            "right": null,
            "top": null,
            "visibility": null,
            "width": null
          }
        },
        "bd2dbc75940244d1b04fc9aa54ce755e": {
          "model_module": "@jupyter-widgets/base",
          "model_module_version": "1.2.0",
          "model_name": "LayoutModel",
          "state": {
            "_model_module": "@jupyter-widgets/base",
            "_model_module_version": "1.2.0",
            "_model_name": "LayoutModel",
            "_view_count": null,
            "_view_module": "@jupyter-widgets/base",
            "_view_module_version": "1.2.0",
            "_view_name": "LayoutView",
            "align_content": null,
            "align_items": null,
            "align_self": null,
            "border": null,
            "bottom": null,
            "display": null,
            "flex": null,
            "flex_flow": null,
            "grid_area": null,
            "grid_auto_columns": null,
            "grid_auto_flow": null,
            "grid_auto_rows": null,
            "grid_column": null,
            "grid_gap": null,
            "grid_row": null,
            "grid_template_areas": null,
            "grid_template_columns": null,
            "grid_template_rows": null,
            "height": null,
            "justify_content": null,
            "justify_items": null,
            "left": null,
            "margin": null,
            "max_height": null,
            "max_width": null,
            "min_height": null,
            "min_width": null,
            "object_fit": null,
            "object_position": null,
            "order": null,
            "overflow": null,
            "overflow_x": null,
            "overflow_y": null,
            "padding": null,
            "right": null,
            "top": null,
            "visibility": null,
            "width": null
          }
        },
        "c0ef3a8309054a6480eeb6f984d37106": {
          "model_module": "@jupyter-widgets/controls",
          "model_module_version": "1.5.0",
          "model_name": "HBoxModel",
          "state": {
            "_dom_classes": [],
            "_model_module": "@jupyter-widgets/controls",
            "_model_module_version": "1.5.0",
            "_model_name": "HBoxModel",
            "_view_count": null,
            "_view_module": "@jupyter-widgets/controls",
            "_view_module_version": "1.5.0",
            "_view_name": "HBoxView",
            "box_style": "",
            "children": [
              "IPY_MODEL_7879753fe2b140058d8ca076b46fe6dd",
              "IPY_MODEL_519669fe7a0540b29655bad46956b099",
              "IPY_MODEL_d68a5483a03f4977b0b820e1e43f2a36"
            ],
            "layout": "IPY_MODEL_761e8b3d0043453394b0e17acc755e9c"
          }
        },
        "c3c669e4bda54e63867287edcbd64756": {
          "model_module": "@jupyter-widgets/controls",
          "model_module_version": "1.5.0",
          "model_name": "HTMLModel",
          "state": {
            "_dom_classes": [],
            "_model_module": "@jupyter-widgets/controls",
            "_model_module_version": "1.5.0",
            "_model_name": "HTMLModel",
            "_view_count": null,
            "_view_module": "@jupyter-widgets/controls",
            "_view_module_version": "1.5.0",
            "_view_name": "HTMLView",
            "description": "",
            "description_tooltip": null,
            "layout": "IPY_MODEL_3a1754e274d54ad99029de1174f77395",
            "placeholder": "​",
            "style": "IPY_MODEL_a3e274b3abf04db4b2481e577b13b4f6",
            "value": "Downloading pytorch_model.bin: 100%"
          }
        },
        "cc14e260a3384f47875e853ad97f77af": {
          "model_module": "@jupyter-widgets/controls",
          "model_module_version": "1.5.0",
          "model_name": "DescriptionStyleModel",
          "state": {
            "_model_module": "@jupyter-widgets/controls",
            "_model_module_version": "1.5.0",
            "_model_name": "DescriptionStyleModel",
            "_view_count": null,
            "_view_module": "@jupyter-widgets/base",
            "_view_module_version": "1.2.0",
            "_view_name": "StyleView",
            "description_width": ""
          }
        },
        "cda4808344174d53a222be625d995466": {
          "model_module": "@jupyter-widgets/controls",
          "model_module_version": "1.5.0",
          "model_name": "FloatProgressModel",
          "state": {
            "_dom_classes": [],
            "_model_module": "@jupyter-widgets/controls",
            "_model_module_version": "1.5.0",
            "_model_name": "FloatProgressModel",
            "_view_count": null,
            "_view_module": "@jupyter-widgets/controls",
            "_view_module_version": "1.5.0",
            "_view_name": "ProgressView",
            "bar_style": "success",
            "description": "",
            "description_tooltip": null,
            "layout": "IPY_MODEL_0ed1548497334d9195f1c9cb6f4dac0c",
            "max": 466132,
            "min": 0,
            "orientation": "horizontal",
            "style": "IPY_MODEL_4cc9b761b6ef42c5986f0724a8efd299",
            "value": 466132
          }
        },
        "cdff4d2a7a2b48eda3ef7443bba3675c": {
          "model_module": "@jupyter-widgets/base",
          "model_module_version": "1.2.0",
          "model_name": "LayoutModel",
          "state": {
            "_model_module": "@jupyter-widgets/base",
            "_model_module_version": "1.2.0",
            "_model_name": "LayoutModel",
            "_view_count": null,
            "_view_module": "@jupyter-widgets/base",
            "_view_module_version": "1.2.0",
            "_view_name": "LayoutView",
            "align_content": null,
            "align_items": null,
            "align_self": null,
            "border": null,
            "bottom": null,
            "display": null,
            "flex": null,
            "flex_flow": null,
            "grid_area": null,
            "grid_auto_columns": null,
            "grid_auto_flow": null,
            "grid_auto_rows": null,
            "grid_column": null,
            "grid_gap": null,
            "grid_row": null,
            "grid_template_areas": null,
            "grid_template_columns": null,
            "grid_template_rows": null,
            "height": null,
            "justify_content": null,
            "justify_items": null,
            "left": null,
            "margin": null,
            "max_height": null,
            "max_width": null,
            "min_height": null,
            "min_width": null,
            "object_fit": null,
            "object_position": null,
            "order": null,
            "overflow": null,
            "overflow_x": null,
            "overflow_y": null,
            "padding": null,
            "right": null,
            "top": null,
            "visibility": null,
            "width": null
          }
        },
        "d07d482345924b2ea24c6f059c3682c4": {
          "model_module": "@jupyter-widgets/base",
          "model_module_version": "1.2.0",
          "model_name": "LayoutModel",
          "state": {
            "_model_module": "@jupyter-widgets/base",
            "_model_module_version": "1.2.0",
            "_model_name": "LayoutModel",
            "_view_count": null,
            "_view_module": "@jupyter-widgets/base",
            "_view_module_version": "1.2.0",
            "_view_name": "LayoutView",
            "align_content": null,
            "align_items": null,
            "align_self": null,
            "border": null,
            "bottom": null,
            "display": null,
            "flex": null,
            "flex_flow": null,
            "grid_area": null,
            "grid_auto_columns": null,
            "grid_auto_flow": null,
            "grid_auto_rows": null,
            "grid_column": null,
            "grid_gap": null,
            "grid_row": null,
            "grid_template_areas": null,
            "grid_template_columns": null,
            "grid_template_rows": null,
            "height": null,
            "justify_content": null,
            "justify_items": null,
            "left": null,
            "margin": null,
            "max_height": null,
            "max_width": null,
            "min_height": null,
            "min_width": null,
            "object_fit": null,
            "object_position": null,
            "order": null,
            "overflow": null,
            "overflow_x": null,
            "overflow_y": null,
            "padding": null,
            "right": null,
            "top": null,
            "visibility": null,
            "width": null
          }
        },
        "d13b8169397949379b776dcf72100388": {
          "model_module": "@jupyter-widgets/controls",
          "model_module_version": "1.5.0",
          "model_name": "DescriptionStyleModel",
          "state": {
            "_model_module": "@jupyter-widgets/controls",
            "_model_module_version": "1.5.0",
            "_model_name": "DescriptionStyleModel",
            "_view_count": null,
            "_view_module": "@jupyter-widgets/base",
            "_view_module_version": "1.2.0",
            "_view_name": "StyleView",
            "description_width": ""
          }
        },
        "d1eb4723132044c1a81f8b9d05ecd2d8": {
          "model_module": "@jupyter-widgets/controls",
          "model_module_version": "1.5.0",
          "model_name": "HBoxModel",
          "state": {
            "_dom_classes": [],
            "_model_module": "@jupyter-widgets/controls",
            "_model_module_version": "1.5.0",
            "_model_name": "HBoxModel",
            "_view_count": null,
            "_view_module": "@jupyter-widgets/controls",
            "_view_module_version": "1.5.0",
            "_view_name": "HBoxView",
            "box_style": "",
            "children": [
              "IPY_MODEL_237b961f776a4aeab036c1dbb568fbea",
              "IPY_MODEL_623fd5fc8b3442c9ac796191a1ec7e71",
              "IPY_MODEL_29ed36450a644c439c1b7dad3dcfbd1c"
            ],
            "layout": "IPY_MODEL_dff4aec873f348c29728b87d2b9a91bc"
          }
        },
        "d3f68d1efc9d4824bafb58a12d011e79": {
          "model_module": "@jupyter-widgets/controls",
          "model_module_version": "1.5.0",
          "model_name": "LabelModel",
          "state": {
            "_dom_classes": [],
            "_model_module": "@jupyter-widgets/controls",
            "_model_module_version": "1.5.0",
            "_model_name": "LabelModel",
            "_view_count": null,
            "_view_module": "@jupyter-widgets/controls",
            "_view_module_version": "1.5.0",
            "_view_name": "LabelView",
            "description": "",
            "description_tooltip": null,
            "layout": "IPY_MODEL_56f4b9286f14451197c1e9c3b6a7c6e5",
            "placeholder": "​",
            "style": "IPY_MODEL_fe793e3775e24db7bc1c8793ffee60a1",
            "value": "Your token has been saved to /root/.cache/huggingface/token"
          }
        },
        "d68a5483a03f4977b0b820e1e43f2a36": {
          "model_module": "@jupyter-widgets/controls",
          "model_module_version": "1.5.0",
          "model_name": "HTMLModel",
          "state": {
            "_dom_classes": [],
            "_model_module": "@jupyter-widgets/controls",
            "_model_module_version": "1.5.0",
            "_model_name": "HTMLModel",
            "_view_count": null,
            "_view_module": "@jupyter-widgets/controls",
            "_view_module_version": "1.5.0",
            "_view_name": "HTMLView",
            "description": "",
            "description_tooltip": null,
            "layout": "IPY_MODEL_fdb64bc2c95e41bebf75f52e69ebe461",
            "placeholder": "​",
            "style": "IPY_MODEL_f09ca565334a4f5cb01a4158cac62f33",
            "value": " 232k/232k [00:00&lt;00:00, 3.58MB/s]"
          }
        },
        "d8ca085daace4d448f7483284b86f28b": {
          "model_module": "@jupyter-widgets/controls",
          "model_module_version": "1.5.0",
          "model_name": "DescriptionStyleModel",
          "state": {
            "_model_module": "@jupyter-widgets/controls",
            "_model_module_version": "1.5.0",
            "_model_name": "DescriptionStyleModel",
            "_view_count": null,
            "_view_module": "@jupyter-widgets/base",
            "_view_module_version": "1.2.0",
            "_view_name": "StyleView",
            "description_width": ""
          }
        },
        "dff4aec873f348c29728b87d2b9a91bc": {
          "model_module": "@jupyter-widgets/base",
          "model_module_version": "1.2.0",
          "model_name": "LayoutModel",
          "state": {
            "_model_module": "@jupyter-widgets/base",
            "_model_module_version": "1.2.0",
            "_model_name": "LayoutModel",
            "_view_count": null,
            "_view_module": "@jupyter-widgets/base",
            "_view_module_version": "1.2.0",
            "_view_name": "LayoutView",
            "align_content": null,
            "align_items": null,
            "align_self": null,
            "border": null,
            "bottom": null,
            "display": null,
            "flex": null,
            "flex_flow": null,
            "grid_area": null,
            "grid_auto_columns": null,
            "grid_auto_flow": null,
            "grid_auto_rows": null,
            "grid_column": null,
            "grid_gap": null,
            "grid_row": null,
            "grid_template_areas": null,
            "grid_template_columns": null,
            "grid_template_rows": null,
            "height": null,
            "justify_content": null,
            "justify_items": null,
            "left": null,
            "margin": null,
            "max_height": null,
            "max_width": null,
            "min_height": null,
            "min_width": null,
            "object_fit": null,
            "object_position": null,
            "order": null,
            "overflow": null,
            "overflow_x": null,
            "overflow_y": null,
            "padding": null,
            "right": null,
            "top": null,
            "visibility": null,
            "width": null
          }
        },
        "e224b16125994a5fb0f2b123abcf9233": {
          "model_module": "@jupyter-widgets/controls",
          "model_module_version": "1.5.0",
          "model_name": "HTMLModel",
          "state": {
            "_dom_classes": [],
            "_model_module": "@jupyter-widgets/controls",
            "_model_module_version": "1.5.0",
            "_model_name": "HTMLModel",
            "_view_count": null,
            "_view_module": "@jupyter-widgets/controls",
            "_view_module_version": "1.5.0",
            "_view_name": "HTMLView",
            "description": "",
            "description_tooltip": null,
            "layout": "IPY_MODEL_4c66231034a54bf4a57d2417dc4825c4",
            "placeholder": "​",
            "style": "IPY_MODEL_f9a1586107544f6189020b5db189b030",
            "value": "Downloading (…)okenizer_config.json: 100%"
          }
        },
        "ecab734d8f474775bb11c1923ecf707a": {
          "model_module": "@jupyter-widgets/controls",
          "model_module_version": "1.5.0",
          "model_name": "HTMLModel",
          "state": {
            "_dom_classes": [],
            "_model_module": "@jupyter-widgets/controls",
            "_model_module_version": "1.5.0",
            "_model_name": "HTMLModel",
            "_view_count": null,
            "_view_module": "@jupyter-widgets/controls",
            "_view_module_version": "1.5.0",
            "_view_name": "HTMLView",
            "description": "",
            "description_tooltip": null,
            "layout": "IPY_MODEL_2d927a44a72949f491e20e9d83f8fb92",
            "placeholder": "​",
            "style": "IPY_MODEL_d8ca085daace4d448f7483284b86f28b",
            "value": " 333/333 [00:00&lt;00:00, 13.7kB/s]"
          }
        },
        "ee208f13c0f246dc8af7671dd141a1d8": {
          "model_module": "@jupyter-widgets/base",
          "model_module_version": "1.2.0",
          "model_name": "LayoutModel",
          "state": {
            "_model_module": "@jupyter-widgets/base",
            "_model_module_version": "1.2.0",
            "_model_name": "LayoutModel",
            "_view_count": null,
            "_view_module": "@jupyter-widgets/base",
            "_view_module_version": "1.2.0",
            "_view_name": "LayoutView",
            "align_content": null,
            "align_items": null,
            "align_self": null,
            "border": null,
            "bottom": null,
            "display": null,
            "flex": null,
            "flex_flow": null,
            "grid_area": null,
            "grid_auto_columns": null,
            "grid_auto_flow": null,
            "grid_auto_rows": null,
            "grid_column": null,
            "grid_gap": null,
            "grid_row": null,
            "grid_template_areas": null,
            "grid_template_columns": null,
            "grid_template_rows": null,
            "height": null,
            "justify_content": null,
            "justify_items": null,
            "left": null,
            "margin": null,
            "max_height": null,
            "max_width": null,
            "min_height": null,
            "min_width": null,
            "object_fit": null,
            "object_position": null,
            "order": null,
            "overflow": null,
            "overflow_x": null,
            "overflow_y": null,
            "padding": null,
            "right": null,
            "top": null,
            "visibility": null,
            "width": null
          }
        },
        "ef6aaa9b9a3b47f79469ce9a0de7a212": {
          "model_module": "@jupyter-widgets/controls",
          "model_module_version": "1.5.0",
          "model_name": "ProgressStyleModel",
          "state": {
            "_model_module": "@jupyter-widgets/controls",
            "_model_module_version": "1.5.0",
            "_model_name": "ProgressStyleModel",
            "_view_count": null,
            "_view_module": "@jupyter-widgets/base",
            "_view_module_version": "1.2.0",
            "_view_name": "StyleView",
            "bar_color": null,
            "description_width": ""
          }
        },
        "f08cf6243d084f54814db9679288246a": {
          "model_module": "@jupyter-widgets/base",
          "model_module_version": "1.2.0",
          "model_name": "LayoutModel",
          "state": {
            "_model_module": "@jupyter-widgets/base",
            "_model_module_version": "1.2.0",
            "_model_name": "LayoutModel",
            "_view_count": null,
            "_view_module": "@jupyter-widgets/base",
            "_view_module_version": "1.2.0",
            "_view_name": "LayoutView",
            "align_content": null,
            "align_items": null,
            "align_self": null,
            "border": null,
            "bottom": null,
            "display": null,
            "flex": null,
            "flex_flow": null,
            "grid_area": null,
            "grid_auto_columns": null,
            "grid_auto_flow": null,
            "grid_auto_rows": null,
            "grid_column": null,
            "grid_gap": null,
            "grid_row": null,
            "grid_template_areas": null,
            "grid_template_columns": null,
            "grid_template_rows": null,
            "height": null,
            "justify_content": null,
            "justify_items": null,
            "left": null,
            "margin": null,
            "max_height": null,
            "max_width": null,
            "min_height": null,
            "min_width": null,
            "object_fit": null,
            "object_position": null,
            "order": null,
            "overflow": null,
            "overflow_x": null,
            "overflow_y": null,
            "padding": null,
            "right": null,
            "top": null,
            "visibility": null,
            "width": null
          }
        },
        "f09ca565334a4f5cb01a4158cac62f33": {
          "model_module": "@jupyter-widgets/controls",
          "model_module_version": "1.5.0",
          "model_name": "DescriptionStyleModel",
          "state": {
            "_model_module": "@jupyter-widgets/controls",
            "_model_module_version": "1.5.0",
            "_model_name": "DescriptionStyleModel",
            "_view_count": null,
            "_view_module": "@jupyter-widgets/base",
            "_view_module_version": "1.2.0",
            "_view_name": "StyleView",
            "description_width": ""
          }
        },
        "f1ecef716ef54dfbbbafad6890e69a38": {
          "model_module": "@jupyter-widgets/base",
          "model_module_version": "1.2.0",
          "model_name": "LayoutModel",
          "state": {
            "_model_module": "@jupyter-widgets/base",
            "_model_module_version": "1.2.0",
            "_model_name": "LayoutModel",
            "_view_count": null,
            "_view_module": "@jupyter-widgets/base",
            "_view_module_version": "1.2.0",
            "_view_name": "LayoutView",
            "align_content": null,
            "align_items": null,
            "align_self": null,
            "border": null,
            "bottom": null,
            "display": null,
            "flex": null,
            "flex_flow": null,
            "grid_area": null,
            "grid_auto_columns": null,
            "grid_auto_flow": null,
            "grid_auto_rows": null,
            "grid_column": null,
            "grid_gap": null,
            "grid_row": null,
            "grid_template_areas": null,
            "grid_template_columns": null,
            "grid_template_rows": null,
            "height": null,
            "justify_content": null,
            "justify_items": null,
            "left": null,
            "margin": null,
            "max_height": null,
            "max_width": null,
            "min_height": null,
            "min_width": null,
            "object_fit": null,
            "object_position": null,
            "order": null,
            "overflow": null,
            "overflow_x": null,
            "overflow_y": null,
            "padding": null,
            "right": null,
            "top": null,
            "visibility": null,
            "width": null
          }
        },
        "f6650f803cca4a2eb5b546fbfa5d3d3c": {
          "model_module": "@jupyter-widgets/controls",
          "model_module_version": "1.5.0",
          "model_name": "FloatProgressModel",
          "state": {
            "_dom_classes": [],
            "_model_module": "@jupyter-widgets/controls",
            "_model_module_version": "1.5.0",
            "_model_name": "FloatProgressModel",
            "_view_count": null,
            "_view_module": "@jupyter-widgets/controls",
            "_view_module_version": "1.5.0",
            "_view_name": "ProgressView",
            "bar_style": "success",
            "description": "",
            "description_tooltip": null,
            "layout": "IPY_MODEL_696b111055024535b37c1b3ef945d145",
            "max": 333,
            "min": 0,
            "orientation": "horizontal",
            "style": "IPY_MODEL_7a570d93253c4d7baf165c423e3e737a",
            "value": 333
          }
        },
        "f9a1586107544f6189020b5db189b030": {
          "model_module": "@jupyter-widgets/controls",
          "model_module_version": "1.5.0",
          "model_name": "DescriptionStyleModel",
          "state": {
            "_model_module": "@jupyter-widgets/controls",
            "_model_module_version": "1.5.0",
            "_model_name": "DescriptionStyleModel",
            "_view_count": null,
            "_view_module": "@jupyter-widgets/base",
            "_view_module_version": "1.2.0",
            "_view_name": "StyleView",
            "description_width": ""
          }
        },
        "fdb64bc2c95e41bebf75f52e69ebe461": {
          "model_module": "@jupyter-widgets/base",
          "model_module_version": "1.2.0",
          "model_name": "LayoutModel",
          "state": {
            "_model_module": "@jupyter-widgets/base",
            "_model_module_version": "1.2.0",
            "_model_name": "LayoutModel",
            "_view_count": null,
            "_view_module": "@jupyter-widgets/base",
            "_view_module_version": "1.2.0",
            "_view_name": "LayoutView",
            "align_content": null,
            "align_items": null,
            "align_self": null,
            "border": null,
            "bottom": null,
            "display": null,
            "flex": null,
            "flex_flow": null,
            "grid_area": null,
            "grid_auto_columns": null,
            "grid_auto_flow": null,
            "grid_auto_rows": null,
            "grid_column": null,
            "grid_gap": null,
            "grid_row": null,
            "grid_template_areas": null,
            "grid_template_columns": null,
            "grid_template_rows": null,
            "height": null,
            "justify_content": null,
            "justify_items": null,
            "left": null,
            "margin": null,
            "max_height": null,
            "max_width": null,
            "min_height": null,
            "min_width": null,
            "object_fit": null,
            "object_position": null,
            "order": null,
            "overflow": null,
            "overflow_x": null,
            "overflow_y": null,
            "padding": null,
            "right": null,
            "top": null,
            "visibility": null,
            "width": null
          }
        },
        "fe793e3775e24db7bc1c8793ffee60a1": {
          "model_module": "@jupyter-widgets/controls",
          "model_module_version": "1.5.0",
          "model_name": "DescriptionStyleModel",
          "state": {
            "_model_module": "@jupyter-widgets/controls",
            "_model_module_version": "1.5.0",
            "_model_name": "DescriptionStyleModel",
            "_view_count": null,
            "_view_module": "@jupyter-widgets/base",
            "_view_module_version": "1.2.0",
            "_view_name": "StyleView",
            "description_width": ""
          }
        },
        "ff9f38ff056342048fdfe1072f872fb7": {
          "model_module": "@jupyter-widgets/base",
          "model_module_version": "1.2.0",
          "model_name": "LayoutModel",
          "state": {
            "_model_module": "@jupyter-widgets/base",
            "_model_module_version": "1.2.0",
            "_model_name": "LayoutModel",
            "_view_count": null,
            "_view_module": "@jupyter-widgets/base",
            "_view_module_version": "1.2.0",
            "_view_name": "LayoutView",
            "align_content": null,
            "align_items": null,
            "align_self": null,
            "border": null,
            "bottom": null,
            "display": null,
            "flex": null,
            "flex_flow": null,
            "grid_area": null,
            "grid_auto_columns": null,
            "grid_auto_flow": null,
            "grid_auto_rows": null,
            "grid_column": null,
            "grid_gap": null,
            "grid_row": null,
            "grid_template_areas": null,
            "grid_template_columns": null,
            "grid_template_rows": null,
            "height": null,
            "justify_content": null,
            "justify_items": null,
            "left": null,
            "margin": null,
            "max_height": null,
            "max_width": null,
            "min_height": null,
            "min_width": null,
            "object_fit": null,
            "object_position": null,
            "order": null,
            "overflow": null,
            "overflow_x": null,
            "overflow_y": null,
            "padding": null,
            "right": null,
            "top": null,
            "visibility": null,
            "width": null
          }
        }
      }
    }
  },
  "nbformat": 4,
  "nbformat_minor": 0
}